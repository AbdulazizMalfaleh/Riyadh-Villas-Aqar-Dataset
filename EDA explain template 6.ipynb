{
 "cells": [
  {
   "cell_type": "code",
   "execution_count": 1,
   "id": "e69c4ba1-85f3-4a02-ae37-c64347a01803",
   "metadata": {},
   "outputs": [],
   "source": [
    "#Import all relevant libraries\n",
    "import numpy as np\n",
    "import pandas as pd\n",
    "import matplotlib.pyplot as plt\n",
    "import seaborn as sns\n",
    "from scipy.stats import zscore\n",
    "from ydata_profiling import ProfileReport\n",
    "import sweetviz as sv\n",
    "import dtale as dt\n",
    "## This statement allows the visuals to render within your Jupyter Notebook.\n",
    "%matplotlib inline"
   ]
  },
  {
   "cell_type": "markdown",
   "id": "e395e8bf-b530-4720-8d0f-26811e927d6e",
   "metadata": {},
   "source": [
    "## Loading the data\n",
    "We can now load the dataset into pandas using the read_csv() function. This converts the CSV file into a Pandas dataframe."
   ]
  },
  {
   "cell_type": "code",
   "execution_count": 2,
   "id": "bf07e826",
   "metadata": {},
   "outputs": [],
   "source": [
    "df = pd.read_csv(\"Data/realEstate.csv\")"
   ]
  },
  {
   "cell_type": "code",
   "execution_count": 33,
   "id": "cf4030b0-aa7f-4bd7-8e9c-c1b7f4d202d0",
   "metadata": {},
   "outputs": [],
   "source": [
    "#excel_file = pd.ExcelFile(\"Data/Riyadh_Aqqar.xlsx\")\n",
    "\n",
    "\n",
    "# Read multiple sheets into a dictionary of DataFrames\n",
    "#dfs = {\n",
    "   # \"dfl\": pd.read_excel(excel_file, sheet_name='Land (الاراضي)'),\n",
    "   # \"dfv\": pd.read_excel(excel_file, sheet_name='Apartments (الشقق)'),\n",
    "   # \"dfa\": pd.read_excel(excel_file, sheet_name='Villas (الفلل)')\n",
    "#}"
   ]
  },
  {
   "cell_type": "markdown",
   "id": "ca5ed983-0f72-43eb-8168-6fafd48c562e",
   "metadata": {},
   "source": [
    "### Viewing the dataframe\n",
    "We can get a quick sense of the size of our dataset by using the shape method. This returns a tuple with the number of rows and columns in the dataset."
   ]
  },
  {
   "cell_type": "code",
   "execution_count": 3,
   "id": "bfde0b69-613c-4dd1-8ebf-e4d2e570e653",
   "metadata": {},
   "outputs": [
    {
     "data": {
      "text/plain": [
       "user_id               0\n",
       "id                    0\n",
       "title                 0\n",
       "price                 0\n",
       "content              94\n",
       "imgs                643\n",
       "refresh               0\n",
       "beds                  0\n",
       "livings               2\n",
       "wc                    0\n",
       "area                175\n",
       "street_width        210\n",
       "age                 705\n",
       "last_update           0\n",
       "ketchen              17\n",
       "ac                   19\n",
       "furnished            45\n",
       "location              0\n",
       "path                  0\n",
       "district              0\n",
       "width              2100\n",
       "length             2100\n",
       "advertiser_type     240\n",
       "create_time           0\n",
       "review              399\n",
       "profileImg         2746\n",
       "UserName             93\n",
       "iam_verified        146\n",
       "onMarket              0\n",
       "IsRent                0\n",
       "dtype: int64"
      ]
     },
     "execution_count": 3,
     "metadata": {},
     "output_type": "execute_result"
    }
   ],
   "source": [
    "df.isna().sum()"
   ]
  },
  {
   "cell_type": "code",
   "execution_count": 4,
   "id": "34e55757",
   "metadata": {},
   "outputs": [
    {
     "data": {
      "text/plain": [
       "<bound method NDFrame.describe of       user_id       id                                              title  \\\n",
       "0     1495817  4596035  شقة للإيجار في شارع التغلبي ، حي النظيم ، الري...   \n",
       "1      496663  4599813  شقة للإيجار في شارع الاقتصاد ، حي الفيحاء ، ال...   \n",
       "2     2412431  4554519  شقة للإيجار في شارع أبي الحسن الأسفرائيني ، حي...   \n",
       "3     1906500  4120004  شقة للإيجار في شارع أسيد بن ثعلبة ، حي العقيق ...   \n",
       "4     1741562  4498954  شقة للإيجار في شارع العباس بن عبدالمطلب ، حي ا...   \n",
       "...       ...      ...                                                ...   \n",
       "6757  1958104  4538503  شقة للإيجار في شارع مطلق بن عجيبان ، حي النرجس...   \n",
       "6758   395654  3130523  شقة للإيجار في شارع الحويرة ، حي غبيرة ، الريا...   \n",
       "6759   292698  4453217  شقة للإيجار في شارع جليل ، حي اليرموك ، الرياض...   \n",
       "6760   120924  4586116  شقة للإيجار في شارع محمد بن رزين ، حي النرجس ،...   \n",
       "6761  2110604  4025771  شقة للإيجار في شارع السلامه ، حي النرجس ، الري...   \n",
       "\n",
       "      price                                            content  \\\n",
       "0     20000                                        1666 كل شهر   \n",
       "1     25000  شقة ارضية للإيجار بحي الفيحاء شارع الاقتصاد \\r...   \n",
       "2     22000  شقه للايجار حي الرمال \\r\\nمكون\\r\\nالدور ثالث\\r...   \n",
       "3     38000  شقه عوائل نظيفه جدا \\r\\nغرفه كبيره وصاله كبيره...   \n",
       "4     25000  غرفه وصاله وحمام راكب مطبخ\\r\\nراكب مكيفات مؤثث...   \n",
       "...     ...                                                ...   \n",
       "6757  60000  شقق فاخره للايجار بحي النرجس بفيله سكنيه \\r\\n•...   \n",
       "6758   9800  للايجار شقة عزاب نظيفة في غبيراء ٩٨٠٠ريال سنوي...   \n",
       "6759  50000  شقة مؤثثة بالكامل دور اول مجلس وصالة وغرفتين ن...   \n",
       "6760  40000  عرض رقم 1320\\r\\n\\r\\nبسم الله الرحمن الرحيم\\r\\n...   \n",
       "6761  17000        غرفة وحمام \\r\\nمكيفات اسبيلت \\r\\nبحي النرجس   \n",
       "\n",
       "                                                   imgs  \\\n",
       "0     ['014958174_1659666836308.jpg', '014958178_165...   \n",
       "1     ['004966630_1659781493595.jpg', '004966636_165...   \n",
       "2     ['023243548_1658701693777.jpg', '023243549_165...   \n",
       "3     ['019065004_1659758037501.jpg', '019065000_165...   \n",
       "4     ['017415629_1657025837185.jpg', '017415620_165...   \n",
       "...                                                 ...   \n",
       "6757                                                NaN   \n",
       "6758                                                NaN   \n",
       "6759                                                NaN   \n",
       "6760                                                NaN   \n",
       "6761                                                NaN   \n",
       "\n",
       "                         refresh  beds  livings  wc  ...  width  length  \\\n",
       "0     ['2022-08-06', '12:22:15']     3      0.0   2  ...   15.0    15.0   \n",
       "1     ['2022-08-06', '10:27:57']     3      1.0   2  ...    NaN     NaN   \n",
       "2     ['2022-08-06', '06:59:03']     3      1.0   2  ...   10.0    20.0   \n",
       "3     ['2022-08-06', '03:52:58']     1      1.0   1  ...    NaN     NaN   \n",
       "4     ['2022-08-03', '10:53:47']     1      1.0   1  ...    7.0     9.0   \n",
       "...                          ...   ...      ...  ..  ...    ...     ...   \n",
       "6757  ['2022-08-05', '10:34:28']     3      1.0   2  ...    NaN     NaN   \n",
       "6758  ['2022-07-30', '10:22:11']     2      1.0   1  ...    NaN     NaN   \n",
       "6759  ['2022-08-02', '15:42:17']     3      1.0   2  ...   11.0    11.0   \n",
       "6760  ['2022-08-05', '06:00:43']     2      2.0   2  ...   20.0    10.0   \n",
       "6761  ['2022-08-03', '23:50:08']     1      0.0   1  ...    6.0    12.0   \n",
       "\n",
       "         advertiser_type                 create_time  review  profileImg  \\\n",
       "0                  owner  ['2022-08-05', '02:44:23']    5.00         NaN   \n",
       "1     exclusive_marketer  ['2022-08-06', '10:27:56']    4.33         yes   \n",
       "2        normal_marketer  ['2022-07-24', '22:27:27']    4.67         NaN   \n",
       "3                  owner  ['2022-03-10', '09:17:01']    4.17         NaN   \n",
       "4        normal_marketer  ['2022-07-05', '13:03:54']    4.42         NaN   \n",
       "...                  ...                         ...     ...         ...   \n",
       "6757  exclusive_marketer  ['2022-07-20', '12:31:13']    4.31         yes   \n",
       "6758  exclusive_marketer  ['2021-04-16', '00:55:25']    4.82         yes   \n",
       "6759               owner  ['2022-06-21', '23:35:16']    5.00         NaN   \n",
       "6760  exclusive_marketer  ['2022-08-02', '14:48:55']    4.54         yes   \n",
       "6761               owner  ['2022-02-11', '16:47:18']    4.54         NaN   \n",
       "\n",
       "                         UserName iam_verified onMarket IsRent  \n",
       "0                         Thamer          True       17  False  \n",
       "1        الاركان الثابته للعقارات         True        5   True  \n",
       "2              مكتب منزلك الفاخر          True       15   True  \n",
       "3                       ابو مصطفى         True      165  False  \n",
       "4                   عقار المستقبل         True       48  False  \n",
       "...                           ...          ...      ...    ...  \n",
       "6757                  مكتب عقاري          True       33  False  \n",
       "6758             بصمة نجدالعقارية         True      493  False  \n",
       "6759             المشاريع الناجحة         True       62  False  \n",
       "6760  مؤسسة عثمان العبرة العقارية         True       20  False  \n",
       "6761                         Badr         True      192  False  \n",
       "\n",
       "[6762 rows x 30 columns]>"
      ]
     },
     "execution_count": 4,
     "metadata": {},
     "output_type": "execute_result"
    }
   ],
   "source": [
    "df.describe"
   ]
  },
  {
   "cell_type": "code",
   "execution_count": 4,
   "id": "097e16eb",
   "metadata": {},
   "outputs": [
    {
     "data": {
      "text/html": [
       "\n",
       "        <iframe\n",
       "            width=\"100%\"\n",
       "            height=\"475\"\n",
       "            src=\"http://DESKTOP-0TNGO03:40000/dtale/iframe/1\"\n",
       "            frameborder=\"0\"\n",
       "            allowfullscreen\n",
       "            \n",
       "        ></iframe>\n",
       "        "
      ],
      "text/plain": [
       "<IPython.lib.display.IFrame at 0x216e8359490>"
      ]
     },
     "metadata": {},
     "output_type": "display_data"
    },
    {
     "data": {
      "text/plain": []
     },
     "execution_count": 4,
     "metadata": {},
     "output_type": "execute_result"
    }
   ],
   "source": [
    "dt.show(df)"
   ]
  },
  {
   "cell_type": "code",
   "execution_count": 8,
   "id": "937646bf",
   "metadata": {},
   "outputs": [
    {
     "data": {
      "text/html": [
       "<div>\n",
       "<style scoped>\n",
       "    .dataframe tbody tr th:only-of-type {\n",
       "        vertical-align: middle;\n",
       "    }\n",
       "\n",
       "    .dataframe tbody tr th {\n",
       "        vertical-align: top;\n",
       "    }\n",
       "\n",
       "    .dataframe thead th {\n",
       "        text-align: right;\n",
       "    }\n",
       "</style>\n",
       "<table border=\"1\" class=\"dataframe\">\n",
       "  <thead>\n",
       "    <tr style=\"text-align: right;\">\n",
       "      <th></th>\n",
       "      <th>title</th>\n",
       "      <th>price</th>\n",
       "      <th>content</th>\n",
       "      <th>refresh</th>\n",
       "      <th>beds</th>\n",
       "      <th>wc</th>\n",
       "      <th>area</th>\n",
       "      <th>street_width</th>\n",
       "      <th>age</th>\n",
       "      <th>last_update</th>\n",
       "      <th>...</th>\n",
       "      <th>district</th>\n",
       "      <th>width</th>\n",
       "      <th>length</th>\n",
       "      <th>advertiser_type</th>\n",
       "      <th>create_time</th>\n",
       "      <th>review</th>\n",
       "      <th>UserName</th>\n",
       "      <th>iam_verified</th>\n",
       "      <th>onMarket</th>\n",
       "      <th>IsRent</th>\n",
       "    </tr>\n",
       "  </thead>\n",
       "  <tbody>\n",
       "    <tr>\n",
       "      <th>0</th>\n",
       "      <td>شقة للإيجار في شارع التغلبي ، حي النظيم ، الري...</td>\n",
       "      <td>20000</td>\n",
       "      <td>1666 كل شهر</td>\n",
       "      <td>['2022-08-06', '12:22:15']</td>\n",
       "      <td>3</td>\n",
       "      <td>2</td>\n",
       "      <td>225.0</td>\n",
       "      <td>15.0</td>\n",
       "      <td>9.0</td>\n",
       "      <td>['2022-08-06', '12:22:15']</td>\n",
       "      <td>...</td>\n",
       "      <td>حي النظيم</td>\n",
       "      <td>15.0</td>\n",
       "      <td>15.0</td>\n",
       "      <td>owner</td>\n",
       "      <td>['2022-08-05', '02:44:23']</td>\n",
       "      <td>5.0</td>\n",
       "      <td>Thamer</td>\n",
       "      <td>True</td>\n",
       "      <td>17</td>\n",
       "      <td>False</td>\n",
       "    </tr>\n",
       "  </tbody>\n",
       "</table>\n",
       "<p>1 rows × 25 columns</p>\n",
       "</div>"
      ],
      "text/plain": [
       "                                               title  price      content  \\\n",
       "0  شقة للإيجار في شارع التغلبي ، حي النظيم ، الري...  20000  1666 كل شهر   \n",
       "\n",
       "                      refresh  beds  wc   area  street_width  age  \\\n",
       "0  ['2022-08-06', '12:22:15']     3   2  225.0          15.0  9.0   \n",
       "\n",
       "                  last_update  ...   district  width  length advertiser_type  \\\n",
       "0  ['2022-08-06', '12:22:15']  ...  حي النظيم   15.0    15.0           owner   \n",
       "\n",
       "                  create_time review  UserName  iam_verified onMarket IsRent  \n",
       "0  ['2022-08-05', '02:44:23']    5.0   Thamer           True       17  False  \n",
       "\n",
       "[1 rows x 25 columns]"
      ]
     },
     "execution_count": 8,
     "metadata": {},
     "output_type": "execute_result"
    }
   ],
   "source": [
    "df.head(1)"
   ]
  },
  {
   "cell_type": "markdown",
   "id": "bd2b5bc4-db37-4432-b666-0714afd0c4ca",
   "metadata": {},
   "source": [
    "## 1. Data Profiling:\n",
    "Data profiling is a comprehensive process of examining the data available in an existing dataset and collecting statistics and information about that data. "
   ]
  },
  {
   "cell_type": "code",
   "execution_count": 5,
   "id": "672f2081-5a2c-4908-8cbd-29519fb3cac5",
   "metadata": {},
   "outputs": [
    {
     "data": {
      "text/html": [
       "<div>\n",
       "<style scoped>\n",
       "    .dataframe tbody tr th:only-of-type {\n",
       "        vertical-align: middle;\n",
       "    }\n",
       "\n",
       "    .dataframe tbody tr th {\n",
       "        vertical-align: top;\n",
       "    }\n",
       "\n",
       "    .dataframe thead th {\n",
       "        text-align: right;\n",
       "    }\n",
       "</style>\n",
       "<table border=\"1\" class=\"dataframe\">\n",
       "  <thead>\n",
       "    <tr style=\"text-align: right;\">\n",
       "      <th></th>\n",
       "      <th>user_id</th>\n",
       "      <th>id</th>\n",
       "      <th>title</th>\n",
       "      <th>price</th>\n",
       "      <th>content</th>\n",
       "      <th>imgs</th>\n",
       "      <th>refresh</th>\n",
       "      <th>beds</th>\n",
       "      <th>livings</th>\n",
       "      <th>wc</th>\n",
       "      <th>...</th>\n",
       "      <th>width</th>\n",
       "      <th>length</th>\n",
       "      <th>advertiser_type</th>\n",
       "      <th>create_time</th>\n",
       "      <th>review</th>\n",
       "      <th>profileImg</th>\n",
       "      <th>UserName</th>\n",
       "      <th>iam_verified</th>\n",
       "      <th>onMarket</th>\n",
       "      <th>IsRent</th>\n",
       "    </tr>\n",
       "  </thead>\n",
       "  <tbody>\n",
       "    <tr>\n",
       "      <th>0</th>\n",
       "      <td>1495817</td>\n",
       "      <td>4596035</td>\n",
       "      <td>شقة للإيجار في شارع التغلبي ، حي النظيم ، الري...</td>\n",
       "      <td>20000</td>\n",
       "      <td>1666 كل شهر</td>\n",
       "      <td>['014958174_1659666836308.jpg', '014958178_165...</td>\n",
       "      <td>['2022-08-06', '12:22:15']</td>\n",
       "      <td>3</td>\n",
       "      <td>0.0</td>\n",
       "      <td>2</td>\n",
       "      <td>...</td>\n",
       "      <td>15.0</td>\n",
       "      <td>15.0</td>\n",
       "      <td>owner</td>\n",
       "      <td>['2022-08-05', '02:44:23']</td>\n",
       "      <td>5.00</td>\n",
       "      <td>NaN</td>\n",
       "      <td>Thamer</td>\n",
       "      <td>True</td>\n",
       "      <td>17</td>\n",
       "      <td>False</td>\n",
       "    </tr>\n",
       "    <tr>\n",
       "      <th>1</th>\n",
       "      <td>496663</td>\n",
       "      <td>4599813</td>\n",
       "      <td>شقة للإيجار في شارع الاقتصاد ، حي الفيحاء ، ال...</td>\n",
       "      <td>25000</td>\n",
       "      <td>شقة ارضية للإيجار بحي الفيحاء شارع الاقتصاد \\r...</td>\n",
       "      <td>['004966630_1659781493595.jpg', '004966636_165...</td>\n",
       "      <td>['2022-08-06', '10:27:57']</td>\n",
       "      <td>3</td>\n",
       "      <td>1.0</td>\n",
       "      <td>2</td>\n",
       "      <td>...</td>\n",
       "      <td>NaN</td>\n",
       "      <td>NaN</td>\n",
       "      <td>exclusive_marketer</td>\n",
       "      <td>['2022-08-06', '10:27:56']</td>\n",
       "      <td>4.33</td>\n",
       "      <td>yes</td>\n",
       "      <td>الاركان الثابته للعقارات</td>\n",
       "      <td>True</td>\n",
       "      <td>5</td>\n",
       "      <td>True</td>\n",
       "    </tr>\n",
       "    <tr>\n",
       "      <th>2</th>\n",
       "      <td>2412431</td>\n",
       "      <td>4554519</td>\n",
       "      <td>شقة للإيجار في شارع أبي الحسن الأسفرائيني ، حي...</td>\n",
       "      <td>22000</td>\n",
       "      <td>شقه للايجار حي الرمال \\r\\nمكون\\r\\nالدور ثالث\\r...</td>\n",
       "      <td>['023243548_1658701693777.jpg', '023243549_165...</td>\n",
       "      <td>['2022-08-06', '06:59:03']</td>\n",
       "      <td>3</td>\n",
       "      <td>1.0</td>\n",
       "      <td>2</td>\n",
       "      <td>...</td>\n",
       "      <td>10.0</td>\n",
       "      <td>20.0</td>\n",
       "      <td>normal_marketer</td>\n",
       "      <td>['2022-07-24', '22:27:27']</td>\n",
       "      <td>4.67</td>\n",
       "      <td>NaN</td>\n",
       "      <td>مكتب منزلك الفاخر</td>\n",
       "      <td>True</td>\n",
       "      <td>15</td>\n",
       "      <td>True</td>\n",
       "    </tr>\n",
       "    <tr>\n",
       "      <th>3</th>\n",
       "      <td>1906500</td>\n",
       "      <td>4120004</td>\n",
       "      <td>شقة للإيجار في شارع أسيد بن ثعلبة ، حي العقيق ...</td>\n",
       "      <td>38000</td>\n",
       "      <td>شقه عوائل نظيفه جدا \\r\\nغرفه كبيره وصاله كبيره...</td>\n",
       "      <td>['019065004_1659758037501.jpg', '019065000_165...</td>\n",
       "      <td>['2022-08-06', '03:52:58']</td>\n",
       "      <td>1</td>\n",
       "      <td>1.0</td>\n",
       "      <td>1</td>\n",
       "      <td>...</td>\n",
       "      <td>NaN</td>\n",
       "      <td>NaN</td>\n",
       "      <td>owner</td>\n",
       "      <td>['2022-03-10', '09:17:01']</td>\n",
       "      <td>4.17</td>\n",
       "      <td>NaN</td>\n",
       "      <td>ابو مصطفى</td>\n",
       "      <td>True</td>\n",
       "      <td>165</td>\n",
       "      <td>False</td>\n",
       "    </tr>\n",
       "    <tr>\n",
       "      <th>4</th>\n",
       "      <td>1741562</td>\n",
       "      <td>4498954</td>\n",
       "      <td>شقة للإيجار في شارع العباس بن عبدالمطلب ، حي ا...</td>\n",
       "      <td>25000</td>\n",
       "      <td>غرفه وصاله وحمام راكب مطبخ\\r\\nراكب مكيفات مؤثث...</td>\n",
       "      <td>['017415629_1657025837185.jpg', '017415620_165...</td>\n",
       "      <td>['2022-08-03', '10:53:47']</td>\n",
       "      <td>1</td>\n",
       "      <td>1.0</td>\n",
       "      <td>1</td>\n",
       "      <td>...</td>\n",
       "      <td>7.0</td>\n",
       "      <td>9.0</td>\n",
       "      <td>normal_marketer</td>\n",
       "      <td>['2022-07-05', '13:03:54']</td>\n",
       "      <td>4.42</td>\n",
       "      <td>NaN</td>\n",
       "      <td>عقار المستقبل</td>\n",
       "      <td>True</td>\n",
       "      <td>48</td>\n",
       "      <td>False</td>\n",
       "    </tr>\n",
       "  </tbody>\n",
       "</table>\n",
       "<p>5 rows × 30 columns</p>\n",
       "</div>"
      ],
      "text/plain": [
       "   user_id       id                                              title  price  \\\n",
       "0  1495817  4596035  شقة للإيجار في شارع التغلبي ، حي النظيم ، الري...  20000   \n",
       "1   496663  4599813  شقة للإيجار في شارع الاقتصاد ، حي الفيحاء ، ال...  25000   \n",
       "2  2412431  4554519  شقة للإيجار في شارع أبي الحسن الأسفرائيني ، حي...  22000   \n",
       "3  1906500  4120004  شقة للإيجار في شارع أسيد بن ثعلبة ، حي العقيق ...  38000   \n",
       "4  1741562  4498954  شقة للإيجار في شارع العباس بن عبدالمطلب ، حي ا...  25000   \n",
       "\n",
       "                                             content  \\\n",
       "0                                        1666 كل شهر   \n",
       "1  شقة ارضية للإيجار بحي الفيحاء شارع الاقتصاد \\r...   \n",
       "2  شقه للايجار حي الرمال \\r\\nمكون\\r\\nالدور ثالث\\r...   \n",
       "3  شقه عوائل نظيفه جدا \\r\\nغرفه كبيره وصاله كبيره...   \n",
       "4  غرفه وصاله وحمام راكب مطبخ\\r\\nراكب مكيفات مؤثث...   \n",
       "\n",
       "                                                imgs  \\\n",
       "0  ['014958174_1659666836308.jpg', '014958178_165...   \n",
       "1  ['004966630_1659781493595.jpg', '004966636_165...   \n",
       "2  ['023243548_1658701693777.jpg', '023243549_165...   \n",
       "3  ['019065004_1659758037501.jpg', '019065000_165...   \n",
       "4  ['017415629_1657025837185.jpg', '017415620_165...   \n",
       "\n",
       "                      refresh  beds  livings  wc  ...  width  length  \\\n",
       "0  ['2022-08-06', '12:22:15']     3      0.0   2  ...   15.0    15.0   \n",
       "1  ['2022-08-06', '10:27:57']     3      1.0   2  ...    NaN     NaN   \n",
       "2  ['2022-08-06', '06:59:03']     3      1.0   2  ...   10.0    20.0   \n",
       "3  ['2022-08-06', '03:52:58']     1      1.0   1  ...    NaN     NaN   \n",
       "4  ['2022-08-03', '10:53:47']     1      1.0   1  ...    7.0     9.0   \n",
       "\n",
       "      advertiser_type                 create_time  review  profileImg  \\\n",
       "0               owner  ['2022-08-05', '02:44:23']    5.00         NaN   \n",
       "1  exclusive_marketer  ['2022-08-06', '10:27:56']    4.33         yes   \n",
       "2     normal_marketer  ['2022-07-24', '22:27:27']    4.67         NaN   \n",
       "3               owner  ['2022-03-10', '09:17:01']    4.17         NaN   \n",
       "4     normal_marketer  ['2022-07-05', '13:03:54']    4.42         NaN   \n",
       "\n",
       "                    UserName iam_verified onMarket IsRent  \n",
       "0                    Thamer          True       17  False  \n",
       "1   الاركان الثابته للعقارات         True        5   True  \n",
       "2         مكتب منزلك الفاخر          True       15   True  \n",
       "3                  ابو مصطفى         True      165  False  \n",
       "4              عقار المستقبل         True       48  False  \n",
       "\n",
       "[5 rows x 30 columns]"
      ]
     },
     "execution_count": 5,
     "metadata": {},
     "output_type": "execute_result"
    }
   ],
   "source": [
    "df.head()"
   ]
  },
  {
   "cell_type": "code",
   "execution_count": 3,
   "id": "728e73f0",
   "metadata": {},
   "outputs": [
    {
     "data": {
      "text/plain": [
       "user_id              int64\n",
       "id                   int64\n",
       "title               object\n",
       "price                int64\n",
       "content             object\n",
       "imgs                object\n",
       "refresh             object\n",
       "beds                 int64\n",
       "livings            float64\n",
       "wc                   int64\n",
       "area               float64\n",
       "street_width       float64\n",
       "age                float64\n",
       "last_update         object\n",
       "ketchen            float64\n",
       "ac                 float64\n",
       "furnished          float64\n",
       "location            object\n",
       "path                object\n",
       "district            object\n",
       "width              float64\n",
       "length             float64\n",
       "advertiser_type     object\n",
       "create_time         object\n",
       "review             float64\n",
       "profileImg          object\n",
       "UserName            object\n",
       "iam_verified        object\n",
       "onMarket             int64\n",
       "IsRent                bool\n",
       "dtype: object"
      ]
     },
     "execution_count": 3,
     "metadata": {},
     "output_type": "execute_result"
    }
   ],
   "source": []
  },
  {
   "cell_type": "code",
   "execution_count": 7,
   "id": "44fc1ab8",
   "metadata": {},
   "outputs": [
    {
     "data": {
      "text/plain": [
       "(6762, 30)"
      ]
     },
     "execution_count": 7,
     "metadata": {},
     "output_type": "execute_result"
    }
   ],
   "source": [
    "df.shape"
   ]
  },
  {
   "cell_type": "markdown",
   "id": "834929aa-fd6a-4ec5-84d4-77c4b3c1a506",
   "metadata": {},
   "source": [
    "The process of profiling differs slightly for categorical and numerical variables due to their inherent differences.\n",
    "\n",
    "**The two main types of data are:**\n",
    "- Quantitative (numerical) data\n",
    "- Qualitative (categorical) data"
   ]
  },
  {
   "cell_type": "markdown",
   "id": "3a9954f5-6fbc-45b4-ad86-3e21b6e0ca2d",
   "metadata": {},
   "source": [
    "### Data Quality Checks\n",
    "Data quality checks involve the process of ensuring that the data is accurate, complete, consistent, relevant, and reliable. \n",
    "\n",
    "\n",
    "**Here are typical steps involved in checking data quality:**"
   ]
  },
  {
   "cell_type": "markdown",
   "id": "4818c876-173d-4e56-9e7d-b4334d2def25",
   "metadata": {},
   "source": [
    "#### 1. Reliability:\n",
    "Evaluate the data's source and collection process to determine its trustworthiness."
   ]
  },
  {
   "cell_type": "markdown",
   "id": "66f3c58b",
   "metadata": {},
   "source": [
    "<p style=\"color:blue\">Unknown\n",
    " from kaggle \n"
   ]
  },
  {
   "cell_type": "markdown",
   "id": "2ce0cc59-8c92-4acc-8d07-c40764e1a86b",
   "metadata": {},
   "source": [
    "#### 2. Timeliness: \n",
    "Ensure the data is up-to-date and reflective of the current situation or the period of interest for the analysis."
   ]
  },
  {
   "cell_type": "markdown",
   "id": "0c853162",
   "metadata": {},
   "source": [
    "**<p style=\"color:blue\">date 2022</p>**\n"
   ]
  },
  {
   "cell_type": "markdown",
   "id": "7fab0fe2-6624-4615-b9d8-3c3669056bf8",
   "metadata": {},
   "source": [
    "#### 3. Consistency: \n",
    "\n",
    "Confirm that the data is consistent within the dataset and across multiple data sources. For example, the same data point should not have different values in different places.\n"
   ]
  },
  {
   "cell_type": "code",
   "execution_count": 8,
   "id": "7fecc573-959f-4800-8ddd-a67985c68b18",
   "metadata": {},
   "outputs": [],
   "source": [
    "#all god now "
   ]
  },
  {
   "cell_type": "markdown",
   "id": "bec3d183-bba0-4b12-b963-487daab1e876",
   "metadata": {},
   "source": [
    "#### 4. Relevance: \n",
    "Assess whether the data is appropriate and applicable for the intended analysis. Data that is not relevant can skew results and lead to incorrect conclusions.\n",
    "\n",
    "**Key considerations for relevance include:**\n",
    "\n",
    "> 1. Sample Appropriateness: Confirm that your data sample aligns with your analysis objectives. For instance, utilizing data from the Northern region will not yield accurate insights for the Western region of the Kingdom.\n",
    ">\n",
    "> 2. Variable Selection: Any column will not be relevant for our analysis, we can get rid of these using the drop() method. We will set the “axis” argument to 1 since we’re dealing with columns, and set the “inplace” argument to True to make the change permanent.\n"
   ]
  },
  {
   "cell_type": "code",
   "execution_count": 27,
   "id": "a4e26a57",
   "metadata": {},
   "outputs": [],
   "source": [
    "##Removed columns `user_id` and `id` 'content' 'imgs'from the data table as they are not related.\n",
    "\n"
   ]
  },
  {
   "cell_type": "markdown",
   "id": "0f5e3a2a-bbb7-4d06-8220-c93277b70146",
   "metadata": {},
   "source": [
    "#### 5. Uniqueness: \n",
    "Check for and remove duplicate records to prevent skewed analysis results.\n"
   ]
  },
  {
   "cell_type": "code",
   "execution_count": 22,
   "id": "a509a7aa-58f4-4d39-8eb8-e8298a21f2a7",
   "metadata": {},
   "outputs": [
    {
     "data": {
      "text/plain": [
       "0"
      ]
     },
     "execution_count": 22,
     "metadata": {},
     "output_type": "execute_result"
    }
   ],
   "source": [
    "df.duplicated().sum() "
   ]
  },
  {
   "cell_type": "markdown",
   "id": "c7724ac2-4ea2-4cf4-a9e0-e64368f87b92",
   "metadata": {},
   "source": [
    "#### 6. Completeness: \n",
    "Ensure that no critical data is missing. This might mean checking for null values or required fields that are empty.\n",
    "\n",
    "We will start by checking the dataset for missing or null values. For this, we can use the isna() method which returns a dataframe of boolean values indicating if a field is null or not. To group all missing values by column, we can include the sum() method."
   ]
  },
  {
   "cell_type": "code",
   "execution_count": 23,
   "id": "d7b99e9d",
   "metadata": {},
   "outputs": [
    {
     "data": {
      "text/plain": [
       "profileImg         2746\n",
       "width              2100\n",
       "length             2100\n",
       "age                 705\n",
       "imgs                643\n",
       "review              399\n",
       "advertiser_type     240\n",
       "street_width        210\n",
       "area                175\n",
       "iam_verified        146\n",
       "content              94\n",
       "UserName             93\n",
       "furnished            45\n",
       "ac                   19\n",
       "ketchen              17\n",
       "livings               2\n",
       "district              0\n",
       "create_time           0\n",
       "onMarket              0\n",
       "user_id               0\n",
       "path                  0\n",
       "location              0\n",
       "id                    0\n",
       "last_update           0\n",
       "wc                    0\n",
       "beds                  0\n",
       "refresh               0\n",
       "price                 0\n",
       "title                 0\n",
       "IsRent                0\n",
       "dtype: int64"
      ]
     },
     "execution_count": 23,
     "metadata": {},
     "output_type": "execute_result"
    }
   ],
   "source": [
    "df.isnull().sum().sort_values(ascending = False)"
   ]
  },
  {
   "cell_type": "code",
   "execution_count": 6,
   "id": "076e0172",
   "metadata": {},
   "outputs": [],
   "source": [
    "#yes we have null value imgs and area                \n",
    "#we can find area=lenth * width "
   ]
  },
  {
   "cell_type": "code",
   "execution_count": 68,
   "id": "abec31c4-0904-4b73-8cee-b7bc14ab1e67",
   "metadata": {},
   "outputs": [],
   "source": [
    "# go to clean them "
   ]
  },
  {
   "cell_type": "markdown",
   "id": "b40de63c-5a1d-49ed-a87e-c5229ee08bbe",
   "metadata": {},
   "source": [
    "#### 7. Check Accuracy:\n",
    "\n",
    "Verify that the data is correct and precise. This could involve comparing data samples with known sources or using validation rules.\n",
    "\n",
    "**The process includes:**\n",
    "1. Validating the appropriateness of data types for the dataset.\n",
    "2. Identifying outliers  using established validation  rule"
   ]
  },
  {
   "cell_type": "code",
   "execution_count": 24,
   "id": "68be5334-ae10-4abd-8097-3259fe5e72c8",
   "metadata": {},
   "outputs": [
    {
     "data": {
      "text/plain": [
       "dtype('O')"
      ]
     },
     "execution_count": 24,
     "metadata": {},
     "output_type": "execute_result"
    }
   ],
   "source": [
    "# check columns types \n",
    "df.dtypes"
   ]
  },
  {
   "cell_type": "code",
   "execution_count": 7,
   "id": "2ee790ba-dcc0-45f1-b6f8-0133e913e149",
   "metadata": {},
   "outputs": [],
   "source": [
    "#until now is good"
   ]
  },
  {
   "cell_type": "code",
   "execution_count": 3,
   "id": "c69b303a-5459-45f9-a28e-fcee45c21c05",
   "metadata": {},
   "outputs": [],
   "source": [
    "# check outliers "
   ]
  },
  {
   "cell_type": "markdown",
   "id": "4aca9d42-add6-45db-92cf-1f6dae5f277b",
   "metadata": {},
   "source": [
    "**What is an Outlier?** \n",
    "Outlier is an row/observation that appears far away and diverges from an overall pattern in a sample.\n",
    "\n",
    "**What are the types of Outliers?**\n",
    "1. Univariate: These outliers can be found when we look at distribution of a single variable\n",
    "2. Multivariate: are outliers in an n-dimensional space. In order to find them, you have to look at distributions in multi-dimensions. example (hight=100, weight=100) for a person\n",
    "\n",
    "**What causes Outliers?**\n",
    "Whenever we come across outliers, the ideal way to tackle them is to find out the reason of having these outliers. The method to deal with them would then depend on the reason of their occurrence.\n",
    "\n",
    "Let’s understand various types of outliers:\n",
    "\n",
    "1. Data Entry Errors:- Human errors such as errors caused during data collection, recording, or entry can cause outliers in data.\n",
    "2. Measurement Error: It is the most common source of outliers. This is caused when the measurement instrument used turns out to be faulty.\n",
    "3. Data Processing Error: Whenever we perform data mining, we extract data from multiple sources. It is possible that some manipulation or extraction errors may lead to outliers in the dataset.\n",
    "4. Sampling error: For instance, we have to measure the height of athletes. By mistake, we include a few basketball players in the sample. This inclusion is likely to cause outliers in the dataset.\n",
    "5. Natural Outlier: When an outlier is not artificial (due to error), it is a natural outlier. For instance: In my last assignment with one of the renowned insurance company, I noticed that the performance of top 50 financial advisors was far higher than rest of the population. Surprisingly, it was not due to any error. Hence, whenever we perform any data mining activity with advisors, we used to treat this segment separately.\n",
    "\n",
    "\n",
    "**What is the impact of Outliers on a dataset?**\n",
    "\n",
    "\n",
    "![image.png](https://www.analyticsvidhya.com/wp-content/uploads/2015/02/Outlier_31.png)\n",
    "\n",
    "\n",
    "\n",
    "**How to detect Outliers?**\n",
    "\n",
    "1. Most commonly used method to detect outliers is visualization (Univariate Graphical Analysis).\n",
    "\n",
    "We use 3 common visualization methods:\n",
    ">- Box-plot: A box plot is a method for graphically depicting groups of numerical data through their quartiles. The box extends from the Q1 to Q3 quartile values of the data, with a line at the median (Q2). The whiskers extend from the edges of the box to show the range of the data. Outlier points are those past the end of the whiskers. Box plots show robust measures of location and spread as well as providing information about symmetry and outliers.\n",
    ">\n",
    ">  \n",
    ">![image.png](https://miro.medium.com/v2/resize:fit:698/format:webp/1*VK5iHA2AB28HSZwWwUbNYg.png)\n",
    ">\n",
    ">\n",
    ">- Histogram\n",
    ">- Scatter Plot: A scatter plot is a mathematical diagram using Cartesian coordinates to display values for two variables for a set of data. The data are displayed as a collection of points, each having the value of one variable determining the position on the horizontal axis and the value of the other variable determining the position on the vertical axis. The points that are far from the population can be termed as an outlier.\n",
    ">\n",
    ">  \n",
    ">![image.png](https://miro.medium.com/v2/resize:fit:4800/format:webp/1*Ov6aH-8yIwNoUxtMFwgx4g.png)\n",
    ">\n",
    ">\n",
    "\n",
    "2. Using statistical method (Univariate Non-Graphical analysis):\n",
    ">- Any value, which is beyond the range of -1.5 x IQR to 1.5 x IQR\n",
    " \n",
    "![image.png](https://www.whatissixsigma.net/wp-content/uploads/2015/07/Box-Plot-Diagram-to-identify-Outliers-figure-1.png)\n",
    "\n",
    ">- Use capping methods. Any value which out of range of 5th and 95th percentile can be considered as outlier\n",
    ">- Data points, three or more standard deviation away from mean are considered outlier: The Z-score is the signed number of standard deviations by which the value of an observation or data point is above the mean value of what is being observed or measured. While calculating the Z-score we re-scale and center the data and look for data points that are too far from zero. These data points which are way too far from zero will be treated as the outliers. In most of the cases, a threshold of 3 or -3 is used i.e if the Z-score value is greater than or less than 3 or -3 respectively, that data point will be identified as outliers.\n",
    "> - Outlier detection is merely a special case of the examination of data for influential data points and it also depends on the business understanding\n"
   ]
  },
  {
   "attachments": {},
   "cell_type": "markdown",
   "id": "4e886ec7-388c-414b-ada7-803c2fb1f2cb",
   "metadata": {},
   "source": [
    "## 2. Data Cleaning: \n",
    "\n",
    "Preliminary findings from data profiling can lead to cleaning the data by:\n",
    "- Handling missing values\n",
    "- Correcting errors.\n",
    "- Dealing with outliers.\n",
    "\n",
    "-------------------\n",
    "\n"
   ]
  },
  {
   "cell_type": "code",
   "execution_count": 5,
   "id": "ba0fb1c8",
   "metadata": {},
   "outputs": [],
   "source": [
    "df=df.drop(\"user_id\",axis=1)\n",
    "df=df.drop(\"imgs\",axis=1)\n",
    "df=df.drop(\"livings\",axis=1)\n",
    "df=df.drop(\"id\",axis=1)\n",
    "df=df.drop(\"profileImg\",axis=1)"
   ]
  },
  {
   "cell_type": "code",
   "execution_count": 6,
   "id": "ce03bd5e",
   "metadata": {},
   "outputs": [
    {
     "data": {
      "text/html": [
       "<div>\n",
       "<style scoped>\n",
       "    .dataframe tbody tr th:only-of-type {\n",
       "        vertical-align: middle;\n",
       "    }\n",
       "\n",
       "    .dataframe tbody tr th {\n",
       "        vertical-align: top;\n",
       "    }\n",
       "\n",
       "    .dataframe thead th {\n",
       "        text-align: right;\n",
       "    }\n",
       "</style>\n",
       "<table border=\"1\" class=\"dataframe\">\n",
       "  <thead>\n",
       "    <tr style=\"text-align: right;\">\n",
       "      <th></th>\n",
       "      <th>title</th>\n",
       "      <th>price</th>\n",
       "      <th>content</th>\n",
       "      <th>refresh</th>\n",
       "      <th>beds</th>\n",
       "      <th>wc</th>\n",
       "      <th>area</th>\n",
       "      <th>street_width</th>\n",
       "      <th>age</th>\n",
       "      <th>last_update</th>\n",
       "      <th>...</th>\n",
       "      <th>district</th>\n",
       "      <th>width</th>\n",
       "      <th>length</th>\n",
       "      <th>advertiser_type</th>\n",
       "      <th>create_time</th>\n",
       "      <th>review</th>\n",
       "      <th>UserName</th>\n",
       "      <th>iam_verified</th>\n",
       "      <th>onMarket</th>\n",
       "      <th>IsRent</th>\n",
       "    </tr>\n",
       "  </thead>\n",
       "  <tbody>\n",
       "    <tr>\n",
       "      <th>0</th>\n",
       "      <td>شقة للإيجار في شارع التغلبي ، حي النظيم ، الري...</td>\n",
       "      <td>20000</td>\n",
       "      <td>1666 كل شهر</td>\n",
       "      <td>['2022-08-06', '12:22:15']</td>\n",
       "      <td>3</td>\n",
       "      <td>2</td>\n",
       "      <td>225.0</td>\n",
       "      <td>15.0</td>\n",
       "      <td>9.0</td>\n",
       "      <td>['2022-08-06', '12:22:15']</td>\n",
       "      <td>...</td>\n",
       "      <td>حي النظيم</td>\n",
       "      <td>15.0</td>\n",
       "      <td>15.0</td>\n",
       "      <td>owner</td>\n",
       "      <td>['2022-08-05', '02:44:23']</td>\n",
       "      <td>5.0</td>\n",
       "      <td>Thamer</td>\n",
       "      <td>True</td>\n",
       "      <td>17</td>\n",
       "      <td>False</td>\n",
       "    </tr>\n",
       "  </tbody>\n",
       "</table>\n",
       "<p>1 rows × 25 columns</p>\n",
       "</div>"
      ],
      "text/plain": [
       "                                               title  price      content  \\\n",
       "0  شقة للإيجار في شارع التغلبي ، حي النظيم ، الري...  20000  1666 كل شهر   \n",
       "\n",
       "                      refresh  beds  wc   area  street_width  age  \\\n",
       "0  ['2022-08-06', '12:22:15']     3   2  225.0          15.0  9.0   \n",
       "\n",
       "                  last_update  ...   district  width  length advertiser_type  \\\n",
       "0  ['2022-08-06', '12:22:15']  ...  حي النظيم   15.0    15.0           owner   \n",
       "\n",
       "                  create_time review  UserName  iam_verified onMarket IsRent  \n",
       "0  ['2022-08-05', '02:44:23']    5.0   Thamer           True       17  False  \n",
       "\n",
       "[1 rows x 25 columns]"
      ]
     },
     "execution_count": 6,
     "metadata": {},
     "output_type": "execute_result"
    }
   ],
   "source": [
    "df.head(1)"
   ]
  },
  {
   "cell_type": "code",
   "execution_count": null,
   "id": "6cde877e",
   "metadata": {},
   "outputs": [],
   "source": []
  },
  {
   "cell_type": "code",
   "execution_count": 21,
   "id": "f5f12659",
   "metadata": {},
   "outputs": [
    {
     "data": {
      "text/plain": [
       "user_id              int64\n",
       "id                   int64\n",
       "title               object\n",
       "price                int64\n",
       "content             object\n",
       "imgs                object\n",
       "refresh             object\n",
       "beds                 int64\n",
       "livings            float64\n",
       "wc                   int64\n",
       "area               float64\n",
       "street_width       float64\n",
       "age                float64\n",
       "last_update         object\n",
       "ketchen            float64\n",
       "ac                 float64\n",
       "furnished          float64\n",
       "location            object\n",
       "path                object\n",
       "district            object\n",
       "width              float64\n",
       "length             float64\n",
       "advertiser_type     object\n",
       "create_time         object\n",
       "review             float64\n",
       "profileImg          object\n",
       "UserName            object\n",
       "iam_verified        object\n",
       "onMarket             int64\n",
       "IsRent                bool\n",
       "dtype: object"
      ]
     },
     "execution_count": 21,
     "metadata": {},
     "output_type": "execute_result"
    }
   ],
   "source": [
    "df.dtypes"
   ]
  },
  {
   "cell_type": "markdown",
   "id": "21876b48-f5ec-4970-85a9-0520d45d8841",
   "metadata": {},
   "source": [
    "### Handling missing values:"
   ]
  },
  {
   "cell_type": "code",
   "execution_count": 7,
   "id": "48a5a8f6",
   "metadata": {},
   "outputs": [],
   "source": [
    "df['area'] = df.apply(lambda row: row['width'] * row['length'] if pd.isnull(row['area']) else row['area'], axis=1)\n",
    "\n",
    "# Fill other missing values\n",
    "df.fillna(df.mean(numeric_only=True), inplace=True)  # For numerical columns\n",
    "df.fillna('Unknown', inplace=True)"
   ]
  },
  {
   "cell_type": "markdown",
   "id": "e9a5c929",
   "metadata": {},
   "source": [
    "Outlier"
   ]
  },
  {
   "cell_type": "code",
   "execution_count": 9,
   "id": "65ce2ba6",
   "metadata": {},
   "outputs": [
    {
     "data": {
      "image/png": "[encoded data removed]",
      "text/plain": [
       "<Figure size 1200x600 with 1 Axes>"
      ]
     },
     "metadata": {},
     "output_type": "display_data"
    }
   ],
   "source": [
    "Q1 = df['price'].quantile(0.25)\n",
    "Q3 = df['price'].quantile(0.75)\n",
    "IQR = Q3 - Q1\n",
    "\n",
    "# Define bounds for outliers\n",
    "lower_bound = Q1 - 1.5 * IQR\n",
    "upper_bound = Q3 + 1.5 * IQR\n",
    "\n",
    "# Filter out outliers\n",
    "filtered_data = df[(df['price'] >= lower_bound) & (df['price'] <= upper_bound)]\n",
    "\n",
    "# Plotting\n",
    "plt.figure(figsize=(12, 6))\n",
    "sns.boxplot(x=filtered_data['price'])\n",
    "plt.title('Boxplot of Real Estate Prices (Outliers Removed)')\n",
    "plt.xlabel('Price')\n",
    "plt.show()"
   ]
  },
  {
   "cell_type": "code",
   "execution_count": 10,
   "id": "c0ad4ccc",
   "metadata": {},
   "outputs": [
    {
     "data": {
      "text/html": [
       "<div>\n",
       "<style scoped>\n",
       "    .dataframe tbody tr th:only-of-type {\n",
       "        vertical-align: middle;\n",
       "    }\n",
       "\n",
       "    .dataframe tbody tr th {\n",
       "        vertical-align: top;\n",
       "    }\n",
       "\n",
       "    .dataframe thead th {\n",
       "        text-align: right;\n",
       "    }\n",
       "</style>\n",
       "<table border=\"1\" class=\"dataframe\">\n",
       "  <thead>\n",
       "    <tr style=\"text-align: right;\">\n",
       "      <th></th>\n",
       "      <th>title</th>\n",
       "      <th>price</th>\n",
       "      <th>content</th>\n",
       "      <th>refresh</th>\n",
       "      <th>beds</th>\n",
       "      <th>wc</th>\n",
       "      <th>area</th>\n",
       "      <th>street_width</th>\n",
       "      <th>age</th>\n",
       "      <th>last_update</th>\n",
       "      <th>...</th>\n",
       "      <th>district</th>\n",
       "      <th>width</th>\n",
       "      <th>length</th>\n",
       "      <th>advertiser_type</th>\n",
       "      <th>create_time</th>\n",
       "      <th>review</th>\n",
       "      <th>UserName</th>\n",
       "      <th>iam_verified</th>\n",
       "      <th>onMarket</th>\n",
       "      <th>IsRent</th>\n",
       "    </tr>\n",
       "  </thead>\n",
       "  <tbody>\n",
       "    <tr>\n",
       "      <th>0</th>\n",
       "      <td>شقة للإيجار في شارع التغلبي ، حي النظيم ، الري...</td>\n",
       "      <td>20000</td>\n",
       "      <td>1666 كل شهر</td>\n",
       "      <td>['2022-08-06', '12:22:15']</td>\n",
       "      <td>3</td>\n",
       "      <td>2</td>\n",
       "      <td>225.0</td>\n",
       "      <td>15.0</td>\n",
       "      <td>9.0</td>\n",
       "      <td>['2022-08-06', '12:22:15']</td>\n",
       "      <td>...</td>\n",
       "      <td>حي النظيم</td>\n",
       "      <td>15.000000</td>\n",
       "      <td>15.000000</td>\n",
       "      <td>owner</td>\n",
       "      <td>['2022-08-05', '02:44:23']</td>\n",
       "      <td>5.00</td>\n",
       "      <td>Thamer</td>\n",
       "      <td>True</td>\n",
       "      <td>17</td>\n",
       "      <td>False</td>\n",
       "    </tr>\n",
       "    <tr>\n",
       "      <th>1</th>\n",
       "      <td>شقة للإيجار في شارع الاقتصاد ، حي الفيحاء ، ال...</td>\n",
       "      <td>25000</td>\n",
       "      <td>شقة ارضية للإيجار بحي الفيحاء شارع الاقتصاد \\r...</td>\n",
       "      <td>['2022-08-06', '10:27:57']</td>\n",
       "      <td>3</td>\n",
       "      <td>2</td>\n",
       "      <td>130.0</td>\n",
       "      <td>30.0</td>\n",
       "      <td>12.0</td>\n",
       "      <td>['2022-08-06', '10:27:56']</td>\n",
       "      <td>...</td>\n",
       "      <td>حي الفيحاء</td>\n",
       "      <td>17.850322</td>\n",
       "      <td>47.169254</td>\n",
       "      <td>exclusive_marketer</td>\n",
       "      <td>['2022-08-06', '10:27:56']</td>\n",
       "      <td>4.33</td>\n",
       "      <td>الاركان الثابته للعقارات</td>\n",
       "      <td>True</td>\n",
       "      <td>5</td>\n",
       "      <td>True</td>\n",
       "    </tr>\n",
       "  </tbody>\n",
       "</table>\n",
       "<p>2 rows × 25 columns</p>\n",
       "</div>"
      ],
      "text/plain": [
       "                                               title  price  \\\n",
       "0  شقة للإيجار في شارع التغلبي ، حي النظيم ، الري...  20000   \n",
       "1  شقة للإيجار في شارع الاقتصاد ، حي الفيحاء ، ال...  25000   \n",
       "\n",
       "                                             content  \\\n",
       "0                                        1666 كل شهر   \n",
       "1  شقة ارضية للإيجار بحي الفيحاء شارع الاقتصاد \\r...   \n",
       "\n",
       "                      refresh  beds  wc   area  street_width   age  \\\n",
       "0  ['2022-08-06', '12:22:15']     3   2  225.0          15.0   9.0   \n",
       "1  ['2022-08-06', '10:27:57']     3   2  130.0          30.0  12.0   \n",
       "\n",
       "                  last_update  ...    district      width     length  \\\n",
       "0  ['2022-08-06', '12:22:15']  ...   حي النظيم  15.000000  15.000000   \n",
       "1  ['2022-08-06', '10:27:56']  ...  حي الفيحاء  17.850322  47.169254   \n",
       "\n",
       "      advertiser_type                 create_time review  \\\n",
       "0               owner  ['2022-08-05', '02:44:23']   5.00   \n",
       "1  exclusive_marketer  ['2022-08-06', '10:27:56']   4.33   \n",
       "\n",
       "                    UserName  iam_verified onMarket IsRent  \n",
       "0                    Thamer           True       17  False  \n",
       "1   الاركان الثابته للعقارات          True        5   True  \n",
       "\n",
       "[2 rows x 25 columns]"
      ]
     },
     "execution_count": 10,
     "metadata": {},
     "output_type": "execute_result"
    }
   ],
   "source": [
    "df.head(2)"
   ]
  },
  {
   "cell_type": "markdown",
   "id": "2a78a1c4",
   "metadata": {},
   "source": [
    "use scater plot to show relationship between area, district, and price. "
   ]
  },
  {
   "cell_type": "code",
   "execution_count": 13,
   "id": "99a62b43",
   "metadata": {},
   "outputs": [
    {
     "name": "stdout",
     "output_type": "stream",
     "text": [
      "Filtered data size: (6749, 25)\n",
      "Top districts data size: (3792, 25)\n",
      "Districts after mapping: [nan]\n"
     ]
    },
    {
     "name": "stderr",
     "output_type": "stream",
     "text": [
      "C:\\Users\\user\\AppData\\Local\\Temp\\ipykernel_2500\\4165042114.py:27: SettingWithCopyWarning:\n",
      "\n",
      "\n",
      "A value is trying to be set on a copy of a slice from a DataFrame.\n",
      "Try using .loc[row_indexer,col_indexer] = value instead\n",
      "\n",
      "See the caveats in the documentation: https://pandas.pydata.org/pandas-docs/stable/user_guide/indexing.html#returning-a-view-versus-a-copy\n",
      "\n"
     ]
    },
    {
     "data": {
      "image/png": "[encoded data removed]",
      "text/plain": [
       "<Figure size 1600x1200 with 1 Axes>"
      ]
     },
     "metadata": {},
     "output_type": "display_data"
    }
   ],
   "source": [
    "# Assume 'district' is extracted from 'title' and 'area' is calculated from 'width' and 'length'\n",
    "df['area'] = df['width'] * df['length']\n",
    "df['district'] = df['title'].str.extract(r'، (.*?) ،')\n",
    "\n",
    "# Filtering the data for non-null and realistic values\n",
    "data = df[(df['width'] > 0) & (df['length'] > 0) & (df['district'].notna())]\n",
    "print('Filtered data size:', data.shape)  # Debug: check how many rows are left after filtering\n",
    "\n",
    "# Select the top 10 districts based on the frequency\n",
    "top_districts = data['district'].value_counts().nlargest(10).index\n",
    "top_districts_data = data[data['district'].isin(top_districts)]\n",
    "print('Top districts data size:', top_districts_data.shape)  # Debug: check the size of top districts data\n",
    "\n",
    "# Map district names to English (example mapping, adjust according to your data)\n",
    "district_translations = {\n",
    "    'النظيم': 'Al Nazim',\n",
    "    'الفيحاء': 'Al Fayha',\n",
    "    'الرمال': 'Al Rimal',\n",
    "    'العقيق': 'Al Aqiq',\n",
    "    'المعيزيلة': 'Al Maizilah',\n",
    "    'المروة': 'Al Marwah',\n",
    "    'النسيم': 'Al Naseem',\n",
    "    'السلي': 'Al Suly',\n",
    "    'الروضة': 'Al Rawdah',\n",
    "    'الجزيرة': 'Al Jazirah'\n",
    "}\n",
    "top_districts_data['district'] = top_districts_data['district'].map(district_translations)\n",
    "print('Districts after mapping:', top_districts_data['district'].unique())  # Debug: check mapped district names\n",
    "\n",
    "# Create a color palette\n",
    "palette = sns.color_palette(\"tab10\", n_colors=len(district_translations))\n",
    "\n",
    "# Plotting\n",
    "plt.figure(figsize=(16, 12))\n",
    "for district, color in zip(district_translations.values(), palette):\n",
    "    # Filter data for the current district\n",
    "    district_data = top_districts_data[top_districts_data['district'] == district]\n",
    "    plt.scatter(district_data['area'], district_data['price'], color=color, label=district, s=100, alpha=0.8)\n",
    "\n",
    "plt.title('Top 10 Districts: Price vs. Area', fontsize=16)\n",
    "plt.xlabel('Area (width x length)', fontsize=14)\n",
    "plt.ylabel('Price', fontsize=14)\n",
    "plt.legend(title='District', bbox_to_anchor=(1.05, 1), loc=2, fontsize=12)\n",
    "plt.grid(True)\n",
    "plt.xlim(left=0, right=top_districts_data['area'].quantile(0.95))  # Limit x-axis to 95th percentile for better focus\n",
    "plt.ylim(bottom=0, top=top_districts_data['price'].quantile(0.95))  # Limit y-axis to 95th percentile\n",
    "plt.show()"
   ]
  },
  {
   "cell_type": "markdown",
   "id": "c890d5a2-2a65-4090-9427-f89c0f011d3f",
   "metadata": {},
   "source": [
    "**Why my data has missing values?**\n",
    "They may occur at two stages:\n",
    "1. Data Extraction: It is possible that there are problems with extraction process. Errors at data extraction stage are typically easy to find and can be corrected easily as well.\n",
    "2. Data collection: These errors occur at time of data collection and are harder to correct.\n",
    "\n",
    "**Why do we need to handle the missing data?**\n",
    "To avoid:\n",
    "- Bias the conclusions.\n",
    "- Leading the business to make wrong decisions.\n",
    "\n",
    "**Which are the methods to treat missing values ?**\n",
    "1. Deletion: we delete rows where any of the variable is missing. Simplicity is one of the major advantage of this method, but this method reduces the power of model because it reduces the sample size.\n",
    "\n",
    "2. Imputation: is a method to fill in the missing values with estimated ones. This imputation is one of the most frequently used methods.\n",
    "\n",
    "    2.1. Mean/ Mode/ Median Imputation: It consists of replacing the missing data for a given attribute by the mean or median (quantitative attribute) or mode (qualitative attribute) of all known values of that variable.\n",
    "    > It can be of two types:\n",
    "    > - Generalized Imputation: In this case, we calculate the mean or median for all non missing values of that variable then replace missing value with mean or median.\n",
    "    > - Similar case Imputation: In this case, we calculate average for each group individually of non missing values then replace the missing value based on the group.\n",
    "\n",
    "    2.2. Constant Value\n",
    "   \n",
    "    2.3. Forward Filling\n",
    "   \n",
    "    2.4. Backward Filling\n",
    "\n",
    "6. Prediction Model:  Prediction model is one of the sophisticated method for handling missing data. Here, we create a predictive model to estimate values that will substitute the missing data.  In this case, we divide our data set into two sets: One set with no missing values for the variable and another one with missing values. First data set become training data set of the model while second data set with missing values is test data set and variable with missing values is treated as target variable. Next, we create a model to predict target variable based on other attributes of the training data set and populate missing values of test data set.\n",
    "\n",
    "> There are 2 drawbacks for this approach:\n",
    "> - The model estimated values are usually more well-behaved than the true values\n",
    "> - If there are no relationships with attributes in the data set and the attribute with missing values, then the model will not be precise for estimating missing values.\n",
    "\n",
    "9. KNN Imputation: In this method of imputation, the missing values of an attribute are imputed using the given number of attributes that are most similar to the attribute whose values are missing. The similarity of two attributes is determined using a distance function. It is also known to have certain advantage & disadvantages.\n",
    "\n",
    "   > **Advantages:**\n",
    "   > - k-nearest neighbour can predict both qualitative & quantitative attributes\n",
    "   > - Creation of predictive model for each attribute with missing data is not required\n",
    "   > - Attributes with multiple missing values can be easily treated\n",
    "   > - Correlation structure of the data is taken into consideration\n",
    "\n",
    "   > **Disadvantage:**\n",
    "   > - KNN algorithm is very time-consuming in analyzing large database. It searches through all the dataset looking for the most similar instances.\n",
    "   > - Choice of k-value is very critical. Higher value of k would include attributes which are significantly different from what we need whereas lower value of k implies missing out of significant attributes.\n",
    "\n",
    "--------------------\n"
   ]
  },
  {
   "cell_type": "code",
   "execution_count": null,
   "id": "57e741fb-71c1-46ad-a526-d8f0b1564dc3",
   "metadata": {},
   "outputs": [],
   "source": []
  },
  {
   "cell_type": "code",
   "execution_count": 80,
   "id": "01287962-8077-4c01-8d1d-5f8aed6cb37a",
   "metadata": {},
   "outputs": [],
   "source": [
    "# go back to 6th dimention --> Completeness"
   ]
  },
  {
   "cell_type": "markdown",
   "id": "f7cee10f-0af8-44e5-b595-8e965294daad",
   "metadata": {},
   "source": [
    "### Correcting errors\n",
    "\n",
    "-------------------"
   ]
  },
  {
   "cell_type": "code",
   "execution_count": null,
   "id": "f1d95da5-a3ba-473a-8243-aa177cadae20",
   "metadata": {},
   "outputs": [],
   "source": [
    "# go back to 7th dimension Accuracy "
   ]
  },
  {
   "cell_type": "markdown",
   "id": "5ecc7dbb-6867-44cf-8f99-1b969a80be40",
   "metadata": {},
   "source": [
    "### Dealing with outliers:"
   ]
  },
  {
   "attachments": {},
   "cell_type": "markdown",
   "id": "88347887-4bdf-48af-9486-cb8fe80c97af",
   "metadata": {},
   "source": [
    "**How to remove Outliers?**\n",
    "Most of the ways to deal with outliers are similar to the methods of missing values like deleting rows, transforming them, binning them, treat them as a separate group, imputing values and other statistical methods. Here, we will discuss the common techniques used to deal with outliers:\n",
    "\n",
    "1. Deleting rows: We delete outlier values if it is due to data entry error, data processing error or outlier rows are very small in numbers. We can also use trimming at both ends to remove outliers.\n",
    "\n",
    "2. Imputing: Like imputation of missing values, we can also impute outliers. We can use mean, median, mode imputation methods. Before imputing values, we should analyse if it is natural outlier or artificial. If it is artificial, we can go with imputing values. We can also use statistical model to predict values of outlier rows and after that we can impute it with predicted values.\n",
    "\n",
    "3. Treat separately: If there are significant number of outliers, we should treat them separately in the statistical model. One of the approach is to treat both groups as two different groups and build individual model for both groups and then combine the output.\n"
   ]
  },
  {
   "cell_type": "code",
   "execution_count": null,
   "id": "25a585f0-2b9c-42fa-bf21-cacc6aa3be3f",
   "metadata": {},
   "outputs": [],
   "source": []
  },
  {
   "cell_type": "markdown",
   "id": "98548b66-e309-4eb8-a5dc-65fe0abbf1e8",
   "metadata": {},
   "source": [
    "## 3. Univariate Analysis: \n",
    "\n",
    "This involves examining single variables to understand their characteristics (distribution, central tendency, dispersion, and shape).\n",
    "\n",
    "We calculate **numerical values** about the data that tells us about the distribution of the data. We also **draw graphs** showing visually how the data is distributed. **To answer the following questions about Features/characteristics of Data:**\n",
    "- Where is the center of the data? (location)\n",
    "- How much does the data vary? (scale)\n",
    "- What is the shape of the data? (shape)\n",
    "\n",
    "**The benefits of this analysis:**\n",
    "Statistics summary gives a high-level idea to identify whether the data has any outliers, data entry error, distribution of data such as the data is normally distributed or left/right skewed\n",
    "\n",
    "**In this step, we will explore variables one by one using following approaches:**"
   ]
  },
  {
   "cell_type": "markdown",
   "id": "d6718111-7ac2-4fff-9851-654655b62e0b",
   "metadata": {},
   "source": [
    "### 1. Univariate Graphical Analysis:\n",
    "Method to perform uni-variate analysis will depend on whether the variable type is categorical or numerical."
   ]
  },
  {
   "cell_type": "code",
   "execution_count": 13,
   "id": "db79d803-b75c-4686-a623-e8420321a90f",
   "metadata": {},
   "outputs": [
    {
     "data": {
      "application/vnd.jupyter.widget-view+json": {
       "model_id": "d0730451f418417cad4e23bd7ac2e4b2",
       "version_major": 2,
       "version_minor": 0
      },
      "text/plain": [
       "                                             |          | [  0%]   00:00 -> (? left)"
      ]
     },
     "metadata": {},
     "output_type": "display_data"
    },
    {
     "name": "stdout",
     "output_type": "stream",
     "text": [
      "Report Sweetviz_Report.html was generated! NOTEBOOK/COLAB USERS: the web browser MAY not pop up, regardless, the report IS saved in your notebook/colab files.\n"
     ]
    }
   ],
   "source": [
    "df = df[['area', 'district', 'price']]\n",
    "\n",
    "# Generate a report using Sweetviz\n",
    "report = sv.analyze(df)\n",
    "\n",
    "# You can also compare two subsets of your data if needed, for example:\n",
    "# report = sv.compare([df[df['district'] == 'District A'], \"District A\"], \n",
    "#                     [df[df['district'] != 'District A'], \"Not District A\"])\n",
    "\n",
    "# Show the HTML report in your browser\n",
    "report.show_html('Sweetviz_Report.html')"
   ]
  },
  {
   "cell_type": "markdown",
   "id": "0d57c4b9-9bb3-494d-85dd-b8d39afda139",
   "metadata": {},
   "source": [
    "#### I. Categorical Variables:\n",
    "\n",
    "we’ll use frequency table to understand distribution of each category\n",
    "- Bar Chart (Ordinal) - Orderd\n",
    "- Pie Chart (Nominal) - non Orderd"
   ]
  },
  {
   "cell_type": "code",
   "execution_count": 1,
   "id": "27e97d66",
   "metadata": {},
   "outputs": [
    {
     "ename": "NameError",
     "evalue": "name 'unique_districts' is not defined",
     "output_type": "error",
     "traceback": [
      "\u001b[1;31m---------------------------------------------------------------------------\u001b[0m",
      "\u001b[1;31mNameError\u001b[0m                                 Traceback (most recent call last)",
      "Cell \u001b[1;32mIn[1], line 2\u001b[0m\n\u001b[0;32m      1\u001b[0m \u001b[38;5;66;03m# Create a mapping from Arabic district names to generic English names\u001b[39;00m\n\u001b[1;32m----> 2\u001b[0m district_map \u001b[38;5;241m=\u001b[39m {name: \u001b[38;5;124mf\u001b[39m\u001b[38;5;124m\"\u001b[39m\u001b[38;5;124mdistrict \u001b[39m\u001b[38;5;132;01m{\u001b[39;00mi\u001b[38;5;241m+\u001b[39m\u001b[38;5;241m1\u001b[39m\u001b[38;5;132;01m}\u001b[39;00m\u001b[38;5;124m\"\u001b[39m \u001b[38;5;28;01mfor\u001b[39;00m i, name \u001b[38;5;129;01min\u001b[39;00m \u001b[38;5;28menumerate\u001b[39m(\u001b[43munique_districts\u001b[49m)}\n\u001b[0;32m      4\u001b[0m \u001b[38;5;66;03m# Apply the translation\u001b[39;00m\n\u001b[0;32m      5\u001b[0m df[\u001b[38;5;124m'\u001b[39m\u001b[38;5;124mdistrict\u001b[39m\u001b[38;5;124m'\u001b[39m] \u001b[38;5;241m=\u001b[39m df[\u001b[38;5;124m'\u001b[39m\u001b[38;5;124mdistrict\u001b[39m\u001b[38;5;124m'\u001b[39m]\u001b[38;5;241m.\u001b[39mmap(district_map)\n",
      "\u001b[1;31mNameError\u001b[0m: name 'unique_districts' is not defined"
     ]
    }
   ],
   "source": [
    "# Create a mapping from Arabic district names to generic English names\n",
    "district_map = {name: f\"district {i+1}\" for i, name in enumerate(unique_districts)}\n",
    "\n",
    "# Apply the translation\n",
    "df['district'] = df['district'].map(district_map)\n",
    "\n",
    "# Filter data to top 10 districts based on frequency, now with translated names\n",
    "top_districts = df['district'].value_counts().nlargest(10).index\n",
    "filtered_data = df[df['district'].isin(top_districts)]\n",
    "\n",
    "# Generate bar chart\n",
    "plt.figure(figsize=(12, 6))\n",
    "chart = sns.barplot(x='district', y='price', data=filtered_data, ci=None)\n",
    "chart.set_xticklabels(chart.get_xticklabels(), rotation=45)\n",
    "plt.title('Average Price by District')\n",
    "plt.xlabel('District')\n",
    "plt.ylabel('Average Price')\n",
    "plt.show()\n"
   ]
  },
  {
   "cell_type": "code",
   "execution_count": 11,
   "id": "72ece4b7-5508-403a-8fb0-f519fc74272a",
   "metadata": {},
   "outputs": [
    {
     "name": "stdout",
     "output_type": "stream",
     "text": [
      "Correlation between area and price:\n",
      "           area     price\n",
      "area   1.000000  0.015344\n",
      "price  0.015344  1.000000\n"
     ]
    },
    {
     "data": {
      "image/png": "[encoded data removed]",
      "text/plain": [
       "<Figure size 640x480 with 2 Axes>"
      ]
     },
     "metadata": {},
     "output_type": "display_data"
    },
    {
     "name": "stderr",
     "output_type": "stream",
     "text": [
      "C:\\Users\\user\\AppData\\Roaming\\Python\\Python311\\site-packages\\IPython\\core\\pylabtools.py:170: UserWarning:\n",
      "\n",
      "Glyph 1581 (\\N{ARABIC LETTER HAH}) missing from current font.\n",
      "\n",
      "C:\\Users\\user\\AppData\\Roaming\\Python\\Python311\\site-packages\\IPython\\core\\pylabtools.py:170: UserWarning:\n",
      "\n",
      "Matplotlib currently does not support Arabic natively.\n",
      "\n",
      "C:\\Users\\user\\AppData\\Roaming\\Python\\Python311\\site-packages\\IPython\\core\\pylabtools.py:170: UserWarning:\n",
      "\n",
      "Glyph 1610 (\\N{ARABIC LETTER YEH}) missing from current font.\n",
      "\n",
      "C:\\Users\\user\\AppData\\Roaming\\Python\\Python311\\site-packages\\IPython\\core\\pylabtools.py:170: UserWarning:\n",
      "\n",
      "Glyph 1575 (\\N{ARABIC LETTER ALEF}) missing from current font.\n",
      "\n",
      "C:\\Users\\user\\AppData\\Roaming\\Python\\Python311\\site-packages\\IPython\\core\\pylabtools.py:170: UserWarning:\n",
      "\n",
      "Glyph 1604 (\\N{ARABIC LETTER LAM}) missing from current font.\n",
      "\n",
      "C:\\Users\\user\\AppData\\Roaming\\Python\\Python311\\site-packages\\IPython\\core\\pylabtools.py:170: UserWarning:\n",
      "\n",
      "Glyph 1593 (\\N{ARABIC LETTER AIN}) missing from current font.\n",
      "\n",
      "C:\\Users\\user\\AppData\\Roaming\\Python\\Python311\\site-packages\\IPython\\core\\pylabtools.py:170: UserWarning:\n",
      "\n",
      "Glyph 1605 (\\N{ARABIC LETTER MEEM}) missing from current font.\n",
      "\n",
      "C:\\Users\\user\\AppData\\Roaming\\Python\\Python311\\site-packages\\IPython\\core\\pylabtools.py:170: UserWarning:\n",
      "\n",
      "Glyph 1583 (\\N{ARABIC LETTER DAL}) missing from current font.\n",
      "\n",
      "C:\\Users\\user\\AppData\\Roaming\\Python\\Python311\\site-packages\\IPython\\core\\pylabtools.py:170: UserWarning:\n",
      "\n",
      "Glyph 1577 (\\N{ARABIC LETTER TEH MARBUTA}) missing from current font.\n",
      "\n",
      "C:\\Users\\user\\AppData\\Roaming\\Python\\Python311\\site-packages\\IPython\\core\\pylabtools.py:170: UserWarning:\n",
      "\n",
      "Glyph 1585 (\\N{ARABIC LETTER REH}) missing from current font.\n",
      "\n",
      "C:\\Users\\user\\AppData\\Roaming\\Python\\Python311\\site-packages\\IPython\\core\\pylabtools.py:170: UserWarning:\n",
      "\n",
      "Glyph 1606 (\\N{ARABIC LETTER NOON}) missing from current font.\n",
      "\n",
      "C:\\Users\\user\\AppData\\Roaming\\Python\\Python311\\site-packages\\IPython\\core\\pylabtools.py:170: UserWarning:\n",
      "\n",
      "Glyph 1594 (\\N{ARABIC LETTER GHAIN}) missing from current font.\n",
      "\n",
      "C:\\Users\\user\\AppData\\Roaming\\Python\\Python311\\site-packages\\IPython\\core\\pylabtools.py:170: UserWarning:\n",
      "\n",
      "Glyph 1586 (\\N{ARABIC LETTER ZAIN}) missing from current font.\n",
      "\n",
      "C:\\Users\\user\\AppData\\Roaming\\Python\\Python311\\site-packages\\IPython\\core\\pylabtools.py:170: UserWarning:\n",
      "\n",
      "Glyph 1578 (\\N{ARABIC LETTER TEH}) missing from current font.\n",
      "\n",
      "C:\\Users\\user\\AppData\\Roaming\\Python\\Python311\\site-packages\\IPython\\core\\pylabtools.py:170: UserWarning:\n",
      "\n",
      "Glyph 1603 (\\N{ARABIC LETTER KAF}) missing from current font.\n",
      "\n",
      "C:\\Users\\user\\AppData\\Roaming\\Python\\Python311\\site-packages\\IPython\\core\\pylabtools.py:170: UserWarning:\n",
      "\n",
      "Glyph 1576 (\\N{ARABIC LETTER BEH}) missing from current font.\n",
      "\n",
      "C:\\Users\\user\\AppData\\Roaming\\Python\\Python311\\site-packages\\IPython\\core\\pylabtools.py:170: UserWarning:\n",
      "\n",
      "Glyph 1574 (\\N{ARABIC LETTER YEH WITH HAMZA ABOVE}) missing from current font.\n",
      "\n",
      "C:\\Users\\user\\AppData\\Roaming\\Python\\Python311\\site-packages\\IPython\\core\\pylabtools.py:170: UserWarning:\n",
      "\n",
      "Glyph 1609 (\\N{ARABIC LETTER ALEF MAKSURA}) missing from current font.\n",
      "\n",
      "C:\\Users\\user\\AppData\\Roaming\\Python\\Python311\\site-packages\\IPython\\core\\pylabtools.py:170: UserWarning:\n",
      "\n",
      "Glyph 1591 (\\N{ARABIC LETTER TAH}) missing from current font.\n",
      "\n",
      "C:\\Users\\user\\AppData\\Roaming\\Python\\Python311\\site-packages\\IPython\\core\\pylabtools.py:170: UserWarning:\n",
      "\n",
      "Glyph 1602 (\\N{ARABIC LETTER QAF}) missing from current font.\n",
      "\n",
      "C:\\Users\\user\\AppData\\Roaming\\Python\\Python311\\site-packages\\IPython\\core\\pylabtools.py:170: UserWarning:\n",
      "\n",
      "Glyph 1608 (\\N{ARABIC LETTER WAW}) missing from current font.\n",
      "\n",
      "C:\\Users\\user\\AppData\\Roaming\\Python\\Python311\\site-packages\\IPython\\core\\pylabtools.py:170: UserWarning:\n",
      "\n",
      "Glyph 1582 (\\N{ARABIC LETTER KHAH}) missing from current font.\n",
      "\n",
      "C:\\Users\\user\\AppData\\Roaming\\Python\\Python311\\site-packages\\IPython\\core\\pylabtools.py:170: UserWarning:\n",
      "\n",
      "Glyph 1607 (\\N{ARABIC LETTER HEH}) missing from current font.\n",
      "\n",
      "C:\\Users\\user\\AppData\\Roaming\\Python\\Python311\\site-packages\\IPython\\core\\pylabtools.py:170: UserWarning:\n",
      "\n",
      "Glyph 1572 (\\N{ARABIC LETTER WAW WITH HAMZA ABOVE}) missing from current font.\n",
      "\n",
      "C:\\Users\\user\\AppData\\Roaming\\Python\\Python311\\site-packages\\IPython\\core\\pylabtools.py:170: UserWarning:\n",
      "\n",
      "Glyph 1589 (\\N{ARABIC LETTER SAD}) missing from current font.\n",
      "\n",
      "C:\\Users\\user\\AppData\\Roaming\\Python\\Python311\\site-packages\\IPython\\core\\pylabtools.py:170: UserWarning:\n",
      "\n",
      "Glyph 1601 (\\N{ARABIC LETTER FEH}) missing from current font.\n",
      "\n",
      "C:\\Users\\user\\AppData\\Roaming\\Python\\Python311\\site-packages\\IPython\\core\\pylabtools.py:170: UserWarning:\n",
      "\n",
      "Glyph 1587 (\\N{ARABIC LETTER SEEN}) missing from current font.\n",
      "\n",
      "C:\\Users\\user\\AppData\\Roaming\\Python\\Python311\\site-packages\\IPython\\core\\pylabtools.py:170: UserWarning:\n",
      "\n",
      "Glyph 1580 (\\N{ARABIC LETTER JEEM}) missing from current font.\n",
      "\n",
      "C:\\Users\\user\\AppData\\Roaming\\Python\\Python311\\site-packages\\IPython\\core\\pylabtools.py:170: UserWarning:\n",
      "\n",
      "Glyph 1571 (\\N{ARABIC LETTER ALEF WITH HAMZA ABOVE}) missing from current font.\n",
      "\n",
      "C:\\Users\\user\\AppData\\Roaming\\Python\\Python311\\site-packages\\IPython\\core\\pylabtools.py:170: UserWarning:\n",
      "\n",
      "Glyph 1590 (\\N{ARABIC LETTER DAD}) missing from current font.\n",
      "\n",
      "C:\\Users\\user\\AppData\\Roaming\\Python\\Python311\\site-packages\\IPython\\core\\pylabtools.py:170: UserWarning:\n",
      "\n",
      "Glyph 1569 (\\N{ARABIC LETTER HAMZA}) missing from current font.\n",
      "\n",
      "C:\\Users\\user\\AppData\\Roaming\\Python\\Python311\\site-packages\\IPython\\core\\pylabtools.py:170: UserWarning:\n",
      "\n",
      "Glyph 1584 (\\N{ARABIC LETTER THAL}) missing from current font.\n",
      "\n",
      "C:\\Users\\user\\AppData\\Roaming\\Python\\Python311\\site-packages\\IPython\\core\\pylabtools.py:170: UserWarning:\n",
      "\n",
      "Glyph 1588 (\\N{ARABIC LETTER SHEEN}) missing from current font.\n",
      "\n",
      "C:\\Users\\user\\AppData\\Roaming\\Python\\Python311\\site-packages\\IPython\\core\\pylabtools.py:170: UserWarning:\n",
      "\n",
      "Glyph 1592 (\\N{ARABIC LETTER ZAH}) missing from current font.\n",
      "\n",
      "C:\\Users\\user\\AppData\\Roaming\\Python\\Python311\\site-packages\\IPython\\core\\pylabtools.py:170: UserWarning:\n",
      "\n",
      "Glyph 1579 (\\N{ARABIC LETTER THEH}) missing from current font.\n",
      "\n"
     ]
    },
    {
     "data": {
      "image/png": "[encoded data removed]",
      "text/plain": [
       "<Figure size 1200x600 with 1 Axes>"
      ]
     },
     "metadata": {},
     "output_type": "display_data"
    },
    {
     "name": "stderr",
     "output_type": "stream",
     "text": [
      "C:\\Users\\user\\AppData\\Roaming\\Python\\Python311\\site-packages\\IPython\\core\\pylabtools.py:170: UserWarning:\n",
      "\n",
      "Glyph 1581 (\\N{ARABIC LETTER HAH}) missing from current font.\n",
      "\n",
      "C:\\Users\\user\\AppData\\Roaming\\Python\\Python311\\site-packages\\IPython\\core\\pylabtools.py:170: UserWarning:\n",
      "\n",
      "Matplotlib currently does not support Arabic natively.\n",
      "\n",
      "C:\\Users\\user\\AppData\\Roaming\\Python\\Python311\\site-packages\\IPython\\core\\pylabtools.py:170: UserWarning:\n",
      "\n",
      "Glyph 1610 (\\N{ARABIC LETTER YEH}) missing from current font.\n",
      "\n",
      "C:\\Users\\user\\AppData\\Roaming\\Python\\Python311\\site-packages\\IPython\\core\\pylabtools.py:170: UserWarning:\n",
      "\n",
      "Glyph 1575 (\\N{ARABIC LETTER ALEF}) missing from current font.\n",
      "\n",
      "C:\\Users\\user\\AppData\\Roaming\\Python\\Python311\\site-packages\\IPython\\core\\pylabtools.py:170: UserWarning:\n",
      "\n",
      "Glyph 1604 (\\N{ARABIC LETTER LAM}) missing from current font.\n",
      "\n",
      "C:\\Users\\user\\AppData\\Roaming\\Python\\Python311\\site-packages\\IPython\\core\\pylabtools.py:170: UserWarning:\n",
      "\n",
      "Glyph 1606 (\\N{ARABIC LETTER NOON}) missing from current font.\n",
      "\n",
      "C:\\Users\\user\\AppData\\Roaming\\Python\\Python311\\site-packages\\IPython\\core\\pylabtools.py:170: UserWarning:\n",
      "\n",
      "Glyph 1601 (\\N{ARABIC LETTER FEH}) missing from current font.\n",
      "\n",
      "C:\\Users\\user\\AppData\\Roaming\\Python\\Python311\\site-packages\\IPython\\core\\pylabtools.py:170: UserWarning:\n",
      "\n",
      "Glyph 1571 (\\N{ARABIC LETTER ALEF WITH HAMZA ABOVE}) missing from current font.\n",
      "\n",
      "C:\\Users\\user\\AppData\\Roaming\\Python\\Python311\\site-packages\\IPython\\core\\pylabtools.py:170: UserWarning:\n",
      "\n",
      "Glyph 1583 (\\N{ARABIC LETTER DAL}) missing from current font.\n",
      "\n",
      "C:\\Users\\user\\AppData\\Roaming\\Python\\Python311\\site-packages\\IPython\\core\\pylabtools.py:170: UserWarning:\n",
      "\n",
      "Glyph 1589 (\\N{ARABIC LETTER SAD}) missing from current font.\n",
      "\n",
      "C:\\Users\\user\\AppData\\Roaming\\Python\\Python311\\site-packages\\IPython\\core\\pylabtools.py:170: UserWarning:\n",
      "\n",
      "Glyph 1577 (\\N{ARABIC LETTER TEH MARBUTA}) missing from current font.\n",
      "\n",
      "C:\\Users\\user\\AppData\\Roaming\\Python\\Python311\\site-packages\\IPython\\core\\pylabtools.py:170: UserWarning:\n",
      "\n",
      "Glyph 1605 (\\N{ARABIC LETTER MEEM}) missing from current font.\n",
      "\n",
      "C:\\Users\\user\\AppData\\Roaming\\Python\\Python311\\site-packages\\IPython\\core\\pylabtools.py:170: UserWarning:\n",
      "\n",
      "Glyph 1593 (\\N{ARABIC LETTER AIN}) missing from current font.\n",
      "\n",
      "C:\\Users\\user\\AppData\\Roaming\\Python\\Python311\\site-packages\\IPython\\core\\pylabtools.py:170: UserWarning:\n",
      "\n",
      "Glyph 1584 (\\N{ARABIC LETTER THAL}) missing from current font.\n",
      "\n",
      "C:\\Users\\user\\AppData\\Roaming\\Python\\Python311\\site-packages\\IPython\\core\\pylabtools.py:170: UserWarning:\n",
      "\n",
      "Glyph 1585 (\\N{ARABIC LETTER REH}) missing from current font.\n",
      "\n",
      "C:\\Users\\user\\AppData\\Roaming\\Python\\Python311\\site-packages\\IPython\\core\\pylabtools.py:170: UserWarning:\n",
      "\n",
      "Glyph 1588 (\\N{ARABIC LETTER SHEEN}) missing from current font.\n",
      "\n",
      "C:\\Users\\user\\AppData\\Roaming\\Python\\Python311\\site-packages\\IPython\\core\\pylabtools.py:170: UserWarning:\n",
      "\n",
      "Glyph 1582 (\\N{ARABIC LETTER KHAH}) missing from current font.\n",
      "\n",
      "C:\\Users\\user\\AppData\\Roaming\\Python\\Python311\\site-packages\\IPython\\core\\pylabtools.py:170: UserWarning:\n",
      "\n",
      "Glyph 1579 (\\N{ARABIC LETTER THEH}) missing from current font.\n",
      "\n",
      "C:\\Users\\user\\AppData\\Roaming\\Python\\Python311\\site-packages\\IPython\\core\\pylabtools.py:170: UserWarning:\n",
      "\n",
      "Glyph 1587 (\\N{ARABIC LETTER SEEN}) missing from current font.\n",
      "\n",
      "C:\\Users\\user\\AppData\\Roaming\\Python\\Python311\\site-packages\\IPython\\core\\pylabtools.py:170: UserWarning:\n",
      "\n",
      "Glyph 1602 (\\N{ARABIC LETTER QAF}) missing from current font.\n",
      "\n",
      "C:\\Users\\user\\AppData\\Roaming\\Python\\Python311\\site-packages\\IPython\\core\\pylabtools.py:170: UserWarning:\n",
      "\n",
      "Glyph 1608 (\\N{ARABIC LETTER WAW}) missing from current font.\n",
      "\n",
      "C:\\Users\\user\\AppData\\Roaming\\Python\\Python311\\site-packages\\IPython\\core\\pylabtools.py:170: UserWarning:\n",
      "\n",
      "Glyph 1594 (\\N{ARABIC LETTER GHAIN}) missing from current font.\n",
      "\n",
      "C:\\Users\\user\\AppData\\Roaming\\Python\\Python311\\site-packages\\IPython\\core\\pylabtools.py:170: UserWarning:\n",
      "\n",
      "Glyph 1576 (\\N{ARABIC LETTER BEH}) missing from current font.\n",
      "\n",
      "C:\\Users\\user\\AppData\\Roaming\\Python\\Python311\\site-packages\\IPython\\core\\pylabtools.py:170: UserWarning:\n",
      "\n",
      "Glyph 1580 (\\N{ARABIC LETTER JEEM}) missing from current font.\n",
      "\n",
      "C:\\Users\\user\\AppData\\Roaming\\Python\\Python311\\site-packages\\IPython\\core\\pylabtools.py:170: UserWarning:\n",
      "\n",
      "Glyph 1590 (\\N{ARABIC LETTER DAD}) missing from current font.\n",
      "\n",
      "C:\\Users\\user\\AppData\\Roaming\\Python\\Python311\\site-packages\\IPython\\core\\pylabtools.py:170: UserWarning:\n",
      "\n",
      "Glyph 1591 (\\N{ARABIC LETTER TAH}) missing from current font.\n",
      "\n",
      "C:\\Users\\user\\AppData\\Roaming\\Python\\Python311\\site-packages\\IPython\\core\\pylabtools.py:170: UserWarning:\n",
      "\n",
      "Glyph 1578 (\\N{ARABIC LETTER TEH}) missing from current font.\n",
      "\n",
      "C:\\Users\\user\\AppData\\Roaming\\Python\\Python311\\site-packages\\IPython\\core\\pylabtools.py:170: UserWarning:\n",
      "\n",
      "Glyph 1586 (\\N{ARABIC LETTER ZAIN}) missing from current font.\n",
      "\n",
      "C:\\Users\\user\\AppData\\Roaming\\Python\\Python311\\site-packages\\IPython\\core\\pylabtools.py:170: UserWarning:\n",
      "\n",
      "Glyph 1609 (\\N{ARABIC LETTER ALEF MAKSURA}) missing from current font.\n",
      "\n",
      "C:\\Users\\user\\AppData\\Roaming\\Python\\Python311\\site-packages\\IPython\\core\\pylabtools.py:170: UserWarning:\n",
      "\n",
      "Glyph 1607 (\\N{ARABIC LETTER HEH}) missing from current font.\n",
      "\n",
      "C:\\Users\\user\\AppData\\Roaming\\Python\\Python311\\site-packages\\IPython\\core\\pylabtools.py:170: UserWarning:\n",
      "\n",
      "Glyph 1569 (\\N{ARABIC LETTER HAMZA}) missing from current font.\n",
      "\n",
      "C:\\Users\\user\\AppData\\Roaming\\Python\\Python311\\site-packages\\IPython\\core\\pylabtools.py:170: UserWarning:\n",
      "\n",
      "Glyph 1592 (\\N{ARABIC LETTER ZAH}) missing from current font.\n",
      "\n",
      "C:\\Users\\user\\AppData\\Roaming\\Python\\Python311\\site-packages\\IPython\\core\\pylabtools.py:170: UserWarning:\n",
      "\n",
      "Glyph 1574 (\\N{ARABIC LETTER YEH WITH HAMZA ABOVE}) missing from current font.\n",
      "\n",
      "C:\\Users\\user\\AppData\\Roaming\\Python\\Python311\\site-packages\\IPython\\core\\pylabtools.py:170: UserWarning:\n",
      "\n",
      "Glyph 1603 (\\N{ARABIC LETTER KAF}) missing from current font.\n",
      "\n",
      "C:\\Users\\user\\AppData\\Roaming\\Python\\Python311\\site-packages\\IPython\\core\\pylabtools.py:170: UserWarning:\n",
      "\n",
      "Glyph 1572 (\\N{ARABIC LETTER WAW WITH HAMZA ABOVE}) missing from current font.\n",
      "\n"
     ]
    },
    {
     "data": {
      "image/png": "[encoded data removed]",
      "text/plain": [
       "<Figure size 1200x600 with 1 Axes>"
      ]
     },
     "metadata": {},
     "output_type": "display_data"
    }
   ],
   "source": [
    "# Calculate the correlation between 'area' and 'price'\n",
    "correlation = df[['area', 'price']].corr()\n",
    "print(\"Correlation between area and price:\")\n",
    "print(correlation)\n",
    "\n",
    "# Visualization of correlation\n",
    "sns.heatmap(correlation, annot=True, cmap='coolwarm')\n",
    "plt.title('Correlation between Area and Price')\n",
    "plt.show()\n",
    "\n",
    "# Analyzing by district\n",
    "# Group by 'district' and calculate average 'area' and 'price'\n",
    "district_analysis = df.groupby('district')[['area', 'price']].mean().reset_index()\n",
    "\n",
    "# Visualization of how 'area' and 'price' vary by 'district'\n",
    "plt.figure(figsize=(12, 6))\n",
    "sns.barplot(x='district', y='price', data=district_analysis.sort_values(by='price', ascending=False))\n",
    "plt.title('Average Price by District')\n",
    "plt.xticks(rotation=90)\n",
    "plt.show()\n",
    "\n",
    "plt.figure(figsize=(12, 6))\n",
    "sns.barplot(x='district', y='area', data=district_analysis.sort_values(by='area', ascending=False))\n",
    "plt.title('Average Area by District')\n",
    "plt.xticks(rotation=90)\n",
    "plt.show()"
   ]
  },
  {
   "cell_type": "markdown",
   "id": "d2641f0d-80f2-493b-99b7-15476379a1e2",
   "metadata": {},
   "source": [
    "#### II. Numerical Variables:\n",
    "\n",
    "we need to understand the central tendency and spread of the variable (Descriptive Analysis) using:\n",
    "   - Box plot\n",
    "   - Histogram"
   ]
  },
  {
   "cell_type": "code",
   "execution_count": null,
   "id": "5be16f08-a072-4a02-a3ee-6f9d57786fb4",
   "metadata": {},
   "outputs": [],
   "source": []
  },
  {
   "cell_type": "markdown",
   "id": "d66677d3-44ad-414f-9b39-f9c1995ad043",
   "metadata": {},
   "source": [
    "### 2. Univariate Non-Graphical analysis: \n",
    "\n",
    "- Where is the center of the data? (location) --> **Measures of central tendency**\n",
    "- How much does the data vary? (scale) --> **Measure of variability**\n",
    "- What is the shape of the data? (shape) --> **Measures of variation combined with an average (measure of center) gives a good picture of the distribution of the data.**"
   ]
  },
  {
   "cell_type": "code",
   "execution_count": null,
   "id": "f1058d84-e61e-4f5b-b66a-29931e77821b",
   "metadata": {},
   "outputs": [],
   "source": []
  },
  {
   "cell_type": "markdown",
   "id": "f09bb809-0edd-432b-bf23-abd0840b3e16",
   "metadata": {},
   "source": [
    "## 4. Bivariate/Multivariate Analysis:\n",
    "\n",
    "Here, you look at the relationships between two or more variables. This can involve looking for correlations, patterns, and trends that suggest a relationship or an association.\n",
    "\n",
    "We can perform bi-variate analysis for any combination of categorical and numerical variables. The combination can be:\n",
    "| bi-variate variables   | Plot type |\n",
    "| ------------- | ------------- |\n",
    "| Categorical & Categorical| Stacked Bar Chart |\n",
    "| Categorical & numerical  | scatter plot, histogram, box plot|\n",
    "| numerical  & numerical  | Scatter plot, line chart| \n",
    "\n",
    "\n",
    "Multivariate Analysis:\n",
    "- Heat map\n",
    "- Bar Chart\n",
    "- Scatter Chart\n",
    "- Line Chart"
   ]
  },
  {
   "cell_type": "markdown",
   "id": "838f2864-ce9e-4f15-99c8-052d053154a7",
   "metadata": {},
   "source": [
    "**Categorical & Categorical --> (Stacked Column Chart)**"
   ]
  },
  {
   "cell_type": "code",
   "execution_count": null,
   "id": "73f9f2ac-8477-49ea-9c68-4fe44d4395b6",
   "metadata": {},
   "outputs": [],
   "source": []
  },
  {
   "cell_type": "markdown",
   "id": "730e088f-fe13-40da-8fbb-686f5135fa4d",
   "metadata": {},
   "source": [
    "**Categorical & numerical --> (scatter plot, histogram, box plot)**"
   ]
  },
  {
   "cell_type": "code",
   "execution_count": null,
   "id": "3590e345-2051-4215-91ac-07d196b510ef",
   "metadata": {},
   "outputs": [],
   "source": []
  },
  {
   "cell_type": "markdown",
   "id": "20aed48d-b78e-46da-963f-e7f15e2f4dc7",
   "metadata": {},
   "source": [
    "**numerical & numerical --> (Scatter plot, line chart)**"
   ]
  },
  {
   "cell_type": "code",
   "execution_count": null,
   "id": "41023177-01cb-4f39-a750-12be71b13bda",
   "metadata": {},
   "outputs": [],
   "source": []
  },
  {
   "cell_type": "markdown",
   "id": "efb43b30-b1f0-48a4-a19c-195810cc8a0f",
   "metadata": {},
   "source": [
    "We could also use a correlation matrix to get more specific information about the relationship between these two variables."
   ]
  },
  {
   "cell_type": "code",
   "execution_count": null,
   "id": "8406f58f-b825-4a15-8f6e-c68ca66bd483",
   "metadata": {},
   "outputs": [],
   "source": []
  }
 ],
 "metadata": {
  "kernelspec": {
   "display_name": "Python 3",
   "language": "python",
   "name": "python3"
  },
  "language_info": {
   "codemirror_mode": {
    "name": "ipython",
    "version": 3
   },
   "file_extension": ".py",
   "mimetype": "text/x-python",
   "name": "python",
   "nbconvert_exporter": "python",
   "pygments_lexer": "ipython3",
   "version": "3.11.9"
  }
 },
 "nbformat": 4,
 "nbformat_minor": 5
}
