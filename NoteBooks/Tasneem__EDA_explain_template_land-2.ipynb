{
 "cells": [
  {
   "cell_type": "code",
   "execution_count": 5,
   "id": "e69c4ba1-85f3-4a02-ae37-c64347a01803",
   "metadata": {},
   "outputs": [],
   "source": [
    "#Import all relevant libraries\n",
    "import numpy as np\n",
    "import pandas as pd\n",
    "import matplotlib.pyplot as plt\n",
    "import seaborn as sns\n",
    "from scipy.stats import zscore\n",
    "import dtale as dt\n",
    "import plotly.express as px\n",
    "\n",
    "\n",
    "## This statement allows the visuals to render within your Jupyter Notebook.\n",
    "%matplotlib inline"
   ]
  },
  {
   "cell_type": "markdown",
   "id": "e395e8bf-b530-4720-8d0f-26811e927d6e",
   "metadata": {},
   "source": [
    "## Loading the data\n",
    "We can now load the dataset into pandas using the read_csv() function. This converts the CSV file into a Pandas dataframe."
   ]
  },
  {
   "cell_type": "code",
   "execution_count": 6,
   "id": "cf4030b0-aa7f-4bd7-8e9c-c1b7f4d202d0",
   "metadata": {},
   "outputs": [],
   "source": [
    "excel_file = 'Riyadh_Aqqar.xlsx'\n",
    "land = pd.read_excel(excel_file, sheet_name=\"Land (الاراضي)\")"
   ]
  },
  {
   "cell_type": "markdown",
   "id": "ca5ed983-0f72-43eb-8168-6fafd48c562e",
   "metadata": {},
   "source": [
    "### Viewing the dataframe\n",
    "We can get a quick sense of the size of our dataset by using the shape method. This returns a tuple with the number of rows and columns in the dataset."
   ]
  },
  {
   "cell_type": "code",
   "execution_count": 7,
   "id": "bfde0b69-613c-4dd1-8ebf-e4d2e570e653",
   "metadata": {},
   "outputs": [
    {
     "data": {
      "text/plain": [
       "نوع العقار         0\n",
       "الغرض             49\n",
       "المدينة            0\n",
       "الحي               0\n",
       "الواجهة            0\n",
       "المساحة            0\n",
       "سعر المتر          0\n",
       "السعر الإجمالي     0\n",
       "dtype: int64"
      ]
     },
     "execution_count": 7,
     "metadata": {},
     "output_type": "execute_result"
    }
   ],
   "source": [
    "land.isna().sum()\n"
   ]
  },
  {
   "cell_type": "code",
   "execution_count": 8,
   "id": "e65f79b4",
   "metadata": {},
   "outputs": [
    {
     "data": {
      "text/html": [
       "\n",
       "        <iframe\n",
       "            width=\"100%\"\n",
       "            height=\"475\"\n",
       "            src=\"http://tasneemjah:40000/dtale/iframe/1\"\n",
       "            frameborder=\"0\"\n",
       "            allowfullscreen\n",
       "            \n",
       "        ></iframe>\n",
       "        "
      ],
      "text/plain": [
       "<IPython.lib.display.IFrame at 0x2811fc791d0>"
      ]
     },
     "metadata": {},
     "output_type": "display_data"
    },
    {
     "data": {
      "text/plain": []
     },
     "execution_count": 8,
     "metadata": {},
     "output_type": "execute_result"
    }
   ],
   "source": [
    "dt.show(land)"
   ]
  },
  {
   "cell_type": "code",
   "execution_count": 9,
   "id": "4108e851",
   "metadata": {},
   "outputs": [
    {
     "name": "stdout",
     "output_type": "stream",
     "text": [
      "<class 'pandas.core.frame.DataFrame'>\n",
      "RangeIndex: 2155 entries, 0 to 2154\n",
      "Data columns (total 8 columns):\n",
      " #   Column          Non-Null Count  Dtype  \n",
      "---  ------          --------------  -----  \n",
      " 0   نوع العقار      2155 non-null   object \n",
      " 1   الغرض           2106 non-null   object \n",
      " 2   المدينة         2155 non-null   object \n",
      " 3   الحي            2155 non-null   object \n",
      " 4   الواجهة         2155 non-null   object \n",
      " 5   المساحة         2155 non-null   int64  \n",
      " 6   سعر المتر       2155 non-null   float64\n",
      " 7   السعر الإجمالي  2155 non-null   int64  \n",
      "dtypes: float64(1), int64(2), object(5)\n",
      "memory usage: 134.8+ KB\n"
     ]
    }
   ],
   "source": [
    "land.info()"
   ]
  },
  {
   "cell_type": "code",
   "execution_count": 37,
   "id": "716b4b0c",
   "metadata": {},
   "outputs": [
    {
     "name": "stdout",
     "output_type": "stream",
     "text": [
      "[' حي غرناطة ' ' حي اليرموك ' ' حي النسيم الغربي ' ' حي الرمال '\n",
      " ' حي الملك فيصل ' ' حي المعيزلة ' ' حي الشرق ' ' حي المشرق '\n",
      " ' حي الخليج ' ' حي الشهداء ' ' حي الحمراء ' ' حي البيان ' ' حي قرطبة '\n",
      " ' حي القادسية ' ' حي النهضة ' ' حي الصناعية القديمة ' ' حي العلا '\n",
      " ' حي الجنادرية ' ' حي المعيزيلة ' ' حي السعادة ' ' حي المونسية '\n",
      " ' حي خشم العان ' ' حي الصفا ' ' حي الروضة ' ' حي القدس ' ' حي الاندلس '\n",
      " ' حي اشبيلية ' ' حي الشعلة ' ' حي النسيم الشرقي ' ' حي المنار '\n",
      " ' حي السلام ' ' حي الندوة ' ' حي الزاهر ' ' حي الجزيرة ' ' حي النظيم '\n",
      " ' حي الازدهار ' ' حي الملز ' ' ' ' حي العارض ' ' حي النرجس '\n",
      " ' حي الملقا ' ' حي الغنامية ' ' حي عرقة ' ' حي المهدية '\n",
      " ' حي الدار البيضاء ' ' حي سلطانة ' ' حي الندى ' ' حي ظهرة لبن '\n",
      " ' حي حطين ' ' حي الهدا ' ' حي طويق ' ' حي المنصورة ' ' حي عريض '\n",
      " ' حي المناخ ' ' حي القيروان ' ' ضاحية نمار ' ' حي الخير ' ' حي الصحافة '\n",
      " ' حي العوالي ' ' حي الحزم ' ' حي ضاحية نمار ' ' حي عكاظ ' ' حي بنبان '\n",
      " ' حي السويدي ' ' حي البديعة ' ' حي الملك فهد ' ' حي المحمدية '\n",
      " ' حي منفوحة الجديدة ' ' حي الربيع ' ' حي العقيق ' ' حي النخيل '\n",
      " ' حي النفل ' ' حي البرية ' ' حي ظهرة نمار ' ' حي المروة ' ' حي العزيزية '\n",
      " ' حي شبرا ' ' حي الشفا ' ' حي المغرزات ' ' حي بدر ' ' حي السلي '\n",
      " ' حي المروج ' ' حي المشاعل ' ' حي العليا ' ' حي الفيحاء ' ' حي المصانع '\n",
      " ' حي الياسمين ' ' حي ثليم ' ' حي اليمامة ' ' حي طيبة '\n",
      " ' حي الملك عبدالله ' ' حي الرفيعة ' ' حي الناصرية '\n",
      " ' حي أم الحمام الغربي ' ' حي المصيف ' ' حي العريجاء الوسطى ' ' حي نمار '\n",
      " ' حي الزهرة ' ' حي الربوة ' ' حي الوزارات ' ' حي منفوحة ' ' حي الحائر '\n",
      " ' حي الفلاح ' ' حي الدفاع ' ' حي الزهراء ' ' حي المصفاة ' ' حي الوادي '\n",
      " ' حي عليشة ' ' حي المرسلات ' ' حي الريان ' ' حي الضباط ' ' حي المنصورية '\n",
      " ' حي الرحمانية ' ' حي ديراب ' ' حي الغدير ' ' حي ام سليم ' ' الرياض '\n",
      " ' حي مطار الملك خالد الدولي ' ' حي لبن ' ' حي الفاروق ' ' حي السليمانية '\n",
      " ' حي العريجاء الغربية ' ' حي العريجاء الغربي ']\n"
     ]
    }
   ],
   "source": [
    "print(landofriyad['الحي'].unique())"
   ]
  },
  {
   "cell_type": "code",
   "execution_count": 85,
   "id": "cb580ba8",
   "metadata": {},
   "outputs": [
    {
     "name": "stdout",
     "output_type": "stream",
     "text": [
      "['Granada' 'West Naseem' 'Al Rimal' 'King Faisal' 'Al Yarmouk'\n",
      " 'Al Muhaizila' 'Al Sharq' 'Al Mashreq' 'Al Khaleej' 'Al Shuhada'\n",
      " 'Al Hamra' 'Al Bayan' 'Cordoba' 'Al Qadisiyah' 'Al Nahda'\n",
      " 'Old Industrial Area' 'Al Ola' 'Al Saada' 'Khashm Al Aan' 'Al Safa'\n",
      " 'Al Quds' 'Al Andalus' 'Al Rawda' 'Al Shaula' 'East Naseem' 'Al Manar'\n",
      " 'Al Munsiyah' 'Al Salam' 'Al Nadwa' 'Al Zaher' 'Al Jazirah' 'Al Nazeem'\n",
      " 'Al Izdihar' 'Al Malaz' '' 'Seville' 'Al Janadriyah' 'Al Aardh'\n",
      " 'Al Narjis' 'Al Malqa' 'Al Ghanamiya' 'Irqah' 'Al Mahdia'\n",
      " 'Al Dar Al Baida' 'Sultanah' 'Al Nada' 'Dhahra Laban' 'Hittin' 'Al Hada'\n",
      " 'Areedh' 'Al Manakh' 'Al Qairawan' 'Dahiya Namar' 'Al Khair' 'Al Sahafa'\n",
      " 'Tuwaiq' 'Al Awali' 'Al Hazm' 'Okaz' 'Banban' 'Al Suwaidi' 'Al Badiyah'\n",
      " 'King Fahd' 'Al Muhammadiyah' 'New Manfuhah' 'Al Rabie' 'Al Aqeeq'\n",
      " 'Al Nafel' 'Al Barriyah' 'Dhahra Namar' 'Al Marwa' 'Shubra' 'Al Shifa'\n",
      " 'Badr' 'Al Sulay' 'Al Muruj' 'Al Aziziyah' 'Al Mughrizat' 'Al Olaya'\n",
      " 'Al Fayhaa' 'Thulaim' 'Al Yamama' 'Tayba' 'Al Rafi’ah' 'Al Nasiriyah'\n",
      " 'West Umm Al Hamam' 'Al Musif' 'Central Arija' 'Namar' 'Al Zahra'\n",
      " 'Al Rabwa' 'Ministries Area' 'Al Falah' 'Defense Area' 'Al Masfah'\n",
      " 'Al Wadi' 'Olayya' 'Al Mursalat' 'Al Rayyan' 'Officers Area'\n",
      " 'Al Rahmaniyah' 'Manfuhah' 'Al Yasmin' 'Dirab' 'Al Mansoura' 'Umm Sulaim'\n",
      " 'Riyadh' 'King Khalid Airport' 'Laban' 'Al Farooq' 'West Arija']\n"
     ]
    },
    {
     "name": "stderr",
     "output_type": "stream",
     "text": [
      "C:\\Users\\يزيد الجحدلي\\AppData\\Local\\Temp\\ipykernel_6856\\324795179.py:128: SettingWithCopyWarning:\n",
      "\n",
      "\n",
      "A value is trying to be set on a copy of a slice from a DataFrame.\n",
      "Try using .loc[row_indexer,col_indexer] = value instead\n",
      "\n",
      "See the caveats in the documentation: https://pandas.pydata.org/pandas-docs/stable/user_guide/indexing.html#returning-a-view-versus-a-copy\n",
      "\n"
     ]
    }
   ],
   "source": [
    "neighborhood_mapping = {\n",
    "    ' حي غرناطة ': 'Granada',\n",
    "    ' حي اليرموك ': 'Al Yarmouk',\n",
    "    ' حي النسيم الغربي ': 'West Naseem',\n",
    "    ' حي الرمال ': 'Al Rimal',\n",
    "    ' حي الملك فيصل ': 'King Faisal',\n",
    "    ' حي المعيزلة ': 'Al Muhaizila',\n",
    "    ' حي الشرق ': 'Al Sharq',\n",
    "    ' حي المشرق ': 'Al Mashreq',\n",
    "    ' حي الخليج ': 'Al Khaleej',\n",
    "    ' حي الشهداء ': 'Al Shuhada',\n",
    "    ' حي الحمراء ': 'Al Hamra',\n",
    "    ' حي البيان ': 'Al Bayan',\n",
    "    ' حي قرطبة ': 'Cordoba',\n",
    "    ' حي القادسية ': 'Al Qadisiyah',\n",
    "    ' حي النهضة ': 'Al Nahda',\n",
    "    ' حي الصناعية القديمة ': 'Old Industrial Area',\n",
    "    ' حي العلا ': 'Al Ola',\n",
    "    ' حي الجنادرية ': 'Al Janadriyah',\n",
    "    ' حي المعيزيلة ': 'Al Muhaizila',\n",
    "    ' حي السعادة ': 'Al Saada',\n",
    "    ' حي المونسية ': 'Al Munsiyah',\n",
    "    ' حي خشم العان ': 'Khashm Al Aan',\n",
    "    ' حي الصفا ': 'Al Safa',\n",
    "    ' حي الروضة ': 'Al Rawda',\n",
    "    ' حي القدس ': 'Al Quds',\n",
    "    ' حي الاندلس ': 'Al Andalus',\n",
    "    ' حي اشبيلية ': 'Seville',\n",
    "    ' حي الشعلة ': 'Al Shaula',\n",
    "    ' حي النسيم الشرقي ': 'East Naseem',\n",
    "    ' حي المنار ': 'Al Manar',\n",
    "    ' حي السلام ': 'Al Salam',\n",
    "    ' حي الندوة ': 'Al Nadwa',\n",
    "    ' حي الزاهر ': 'Al Zaher',\n",
    "    ' حي الجزيرة ': 'Al Jazirah',\n",
    "    ' حي النظيم ': 'Al Nazeem',\n",
    "    ' حي الازدهار ': 'Al Izdihar',\n",
    "    ' حي الملز ': 'Al Malaz',\n",
    "    ' ': '',\n",
    "    ' حي العارض ': 'Al Aardh',\n",
    "    ' حي النرجس ': 'Al Narjis',\n",
    "    ' حي الملقا ': 'Al Malqa',\n",
    "    ' حي الغنامية ': 'Al Ghanamiya',\n",
    "    ' حي عرقة ': 'Irqah',\n",
    "    ' حي المهدية ': 'Al Mahdia',\n",
    "    ' حي الدار البيضاء ': 'Al Dar Al Baida',\n",
    "    ' حي سلطانة ': 'Sultanah',\n",
    "    ' حي الندى ': 'Al Nada',\n",
    "    ' حي ظهرة لبن ': 'Dhahra Laban',\n",
    "    ' حي حطين ': 'Hittin',\n",
    "    ' حي الهدا ': 'Al Hada',\n",
    "    ' حي طويق ': 'Tuwaiq',\n",
    "    ' حي المنصورة ': 'Al Mansoura',\n",
    "    ' حي عريض ': 'Areedh',\n",
    "    ' حي المناخ ': 'Al Manakh',\n",
    "    ' حي القيروان ': 'Al Qairawan',\n",
    "    ' ضاحية نمار ': 'Dahiya Namar',\n",
    "    ' حي الخير ': 'Al Khair',\n",
    "    ' حي الصحافة ': 'Al Sahafa',\n",
    "    ' حي العوالي ': 'Al Awali',\n",
    "    ' حي الحزم ': 'Al Hazm',\n",
    "    ' حي ضاحية نمار ': 'Dahiya Namar',\n",
    "    ' حي عكاظ ': 'Okaz',\n",
    "    ' حي بنبان ': 'Banban',\n",
    "    ' حي السويدي ': 'Al Suwaidi',\n",
    "    ' حي البديعة ': 'Al Badiyah',\n",
    "    ' حي الملك فهد ': 'King Fahd',\n",
    "    ' حي المحمدية ': 'Al Muhammadiyah',\n",
    "    ' حي منفوحة الجديدة ': 'New Manfuhah',\n",
    "    ' حي الربيع ': 'Al Rabie',\n",
    "    ' حي العقيق ': 'Al Aqeeq',\n",
    "    ' حي النخيل ': 'Al Nakheel',\n",
    "    ' حي النفل ': 'Al Nafel',\n",
    "    ' حي البرية ': 'Al Barriyah',\n",
    "    ' حي ظهرة نمار ': 'Dhahra Namar',\n",
    "    ' حي المروة ': 'Al Marwa',\n",
    "    ' حي العزيزية ': 'Al Aziziyah',\n",
    "    ' حي شبرا ': 'Shubra',\n",
    "    ' حي الشفا ': 'Al Shifa',\n",
    "    ' حي المغرزات ': 'Al Mughrizat',\n",
    "    ' حي بدر ': 'Badr',\n",
    "    ' حي السلي ': 'Al Sulay',\n",
    "    ' حي المروج ': 'Al Muruj',\n",
    "    ' حي المشاعل ': 'Al Mashael',\n",
    "    ' حي العليا ': 'Al Olaya',\n",
    "    ' حي الفيحاء ': 'Al Fayhaa',\n",
    "    ' حي المصانع ': 'Al Masani',\n",
    "    ' حي الياسمين ': 'Al Yasmin',\n",
    "    ' حي ثليم ': 'Thulaim',\n",
    "    ' حي اليمامة ': 'Al Yamama',\n",
    "    ' حي طيبة ': 'Tayba',\n",
    "    ' حي الملك عبدالله ': 'King Abdullah',\n",
    "    ' حي الرفيعة ': 'Al Rafi’ah',\n",
    "    ' حي الناصرية ': 'Al Nasiriyah',\n",
    "    ' حي أم الحمام الغربي ': 'West Umm Al Hamam',\n",
    "    ' حي المصيف ': 'Al Musif',\n",
    "    ' حي العريجاء الوسطى ': 'Central Arija',\n",
    "    ' حي نمار ': 'Namar',\n",
    "    ' حي الزهرة ': 'Al Zahra',\n",
    "    ' حي الربوة ': 'Al Rabwa',\n",
    "    ' حي الوزارات ': 'Ministries Area',\n",
    "    ' حي منفوحة ': 'Manfuhah',\n",
    "    ' حي الحائر ': 'Al Ha’ir',\n",
    "    ' حي الفلاح ': 'Al Falah',\n",
    "    ' حي الدفاع ': 'Defense Area',\n",
    "    ' حي الزهراء ': 'Al Zahra',\n",
    "    ' حي المصفاة ': 'Al Masfah',\n",
    "    ' حي الوادي ': 'Al Wadi',\n",
    "    ' حي عليشة ': 'Olayya',\n",
    "    ' حي المرسلات ': 'Al Mursalat',\n",
    "    ' حي الريان ': 'Al Rayyan',\n",
    "    ' حي الضباط ': 'Officers Area',\n",
    "    ' حي المنصورية ': 'Al Mansouriyah',\n",
    "    ' حي الرحمانية ': 'Al Rahmaniyah',\n",
    "    ' حي ديراب ': 'Dirab',\n",
    "    ' حي الغدير ': 'Al Ghadeer',\n",
    "    ' حي ام سليم ': 'Umm Sulaim',\n",
    "    ' الرياض ': 'Riyadh',\n",
    "    ' حي مطار الملك خالد الدولي ': 'King Khalid Airport',\n",
    "    ' حي لبن ': 'Laban',\n",
    "    ' حي الفاروق ': 'Al Farooq',\n",
    "    ' حي السليمانية ': 'Al Sulaymaniyah',\n",
    "    ' حي العريجاء الغربية ': 'West Arija',\n",
    "    ' حي العريجاء الغربي ': 'West Arija'\n",
    "}\n",
    "\n",
    "# Replace Arabic neighborhood names with English names\n",
    "df['الحي'] = df['الحي'].replace(neighborhood_mapping)\n",
    "\n",
    "# Display the DataFrame to verify the changes\n",
    "print(df['الحي'].unique())"
   ]
  },
  {
   "cell_type": "code",
   "execution_count": 65,
   "id": "6876f1bd",
   "metadata": {},
   "outputs": [
    {
     "data": {
      "text/html": [
       "<div>\n",
       "<style scoped>\n",
       "    .dataframe tbody tr th:only-of-type {\n",
       "        vertical-align: middle;\n",
       "    }\n",
       "\n",
       "    .dataframe tbody tr th {\n",
       "        vertical-align: top;\n",
       "    }\n",
       "\n",
       "    .dataframe thead th {\n",
       "        text-align: right;\n",
       "    }\n",
       "</style>\n",
       "<table border=\"1\" class=\"dataframe\">\n",
       "  <thead>\n",
       "    <tr style=\"text-align: right;\">\n",
       "      <th></th>\n",
       "      <th>نوع العقار</th>\n",
       "      <th>الغرض</th>\n",
       "      <th>المدينة</th>\n",
       "      <th>الحي</th>\n",
       "      <th>الواجهة</th>\n",
       "      <th>المساحة</th>\n",
       "      <th>سعر المتر</th>\n",
       "      <th>السعر الإجمالي</th>\n",
       "    </tr>\n",
       "  </thead>\n",
       "  <tbody>\n",
       "    <tr>\n",
       "      <th>1</th>\n",
       "      <td>أرض</td>\n",
       "      <td>NaN</td>\n",
       "      <td>الرياض</td>\n",
       "      <td>حي غرناطة</td>\n",
       "      <td>شمالية</td>\n",
       "      <td>800</td>\n",
       "      <td>4800.0</td>\n",
       "      <td>3840000</td>\n",
       "    </tr>\n",
       "    <tr>\n",
       "      <th>2</th>\n",
       "      <td>أرض</td>\n",
       "      <td>سكني</td>\n",
       "      <td>الرياض</td>\n",
       "      <td>حي غرناطة</td>\n",
       "      <td>ثلاث شوارع</td>\n",
       "      <td>1650</td>\n",
       "      <td>4800.0</td>\n",
       "      <td>7920000</td>\n",
       "    </tr>\n",
       "    <tr>\n",
       "      <th>3</th>\n",
       "      <td>أرض</td>\n",
       "      <td>سكني</td>\n",
       "      <td>الرياض</td>\n",
       "      <td>حي اليرموك</td>\n",
       "      <td>ثلاث شوارع</td>\n",
       "      <td>1650</td>\n",
       "      <td>4800.0</td>\n",
       "      <td>7920000</td>\n",
       "    </tr>\n",
       "    <tr>\n",
       "      <th>4</th>\n",
       "      <td>أرض</td>\n",
       "      <td>سكني</td>\n",
       "      <td>الرياض</td>\n",
       "      <td>حي النسيم الغربي</td>\n",
       "      <td>غربية</td>\n",
       "      <td>750</td>\n",
       "      <td>3200.0</td>\n",
       "      <td>2400000</td>\n",
       "    </tr>\n",
       "    <tr>\n",
       "      <th>5</th>\n",
       "      <td>أرض</td>\n",
       "      <td>تجاري وسكني</td>\n",
       "      <td>الرياض</td>\n",
       "      <td>حي الرمال</td>\n",
       "      <td>جنوبية</td>\n",
       "      <td>2400</td>\n",
       "      <td>3300.0</td>\n",
       "      <td>7920000</td>\n",
       "    </tr>\n",
       "    <tr>\n",
       "      <th>...</th>\n",
       "      <td>...</td>\n",
       "      <td>...</td>\n",
       "      <td>...</td>\n",
       "      <td>...</td>\n",
       "      <td>...</td>\n",
       "      <td>...</td>\n",
       "      <td>...</td>\n",
       "      <td>...</td>\n",
       "    </tr>\n",
       "    <tr>\n",
       "      <th>2149</th>\n",
       "      <td>أرض</td>\n",
       "      <td>تجاري وسكني</td>\n",
       "      <td>الرياض</td>\n",
       "      <td>حي الدفاع</td>\n",
       "      <td>شمالية</td>\n",
       "      <td>1173</td>\n",
       "      <td>511.0</td>\n",
       "      <td>599403</td>\n",
       "    </tr>\n",
       "    <tr>\n",
       "      <th>2151</th>\n",
       "      <td>أرض</td>\n",
       "      <td>سكني</td>\n",
       "      <td>الرياض</td>\n",
       "      <td>حي العريجاء الغربية</td>\n",
       "      <td>جنوبية</td>\n",
       "      <td>400</td>\n",
       "      <td>1500.0</td>\n",
       "      <td>600000</td>\n",
       "    </tr>\n",
       "    <tr>\n",
       "      <th>2152</th>\n",
       "      <td>أرض</td>\n",
       "      <td>تجاري وسكني</td>\n",
       "      <td>الرياض</td>\n",
       "      <td>حي ظهرة لبن</td>\n",
       "      <td>جنوبية غربية</td>\n",
       "      <td>1050</td>\n",
       "      <td>2380.0</td>\n",
       "      <td>2499000</td>\n",
       "    </tr>\n",
       "    <tr>\n",
       "      <th>2153</th>\n",
       "      <td>أرض</td>\n",
       "      <td>تجاري وسكني</td>\n",
       "      <td>الرياض</td>\n",
       "      <td>حي العريجاء الغربي</td>\n",
       "      <td>غربية</td>\n",
       "      <td>313</td>\n",
       "      <td>2000.0</td>\n",
       "      <td>626000</td>\n",
       "    </tr>\n",
       "    <tr>\n",
       "      <th>2154</th>\n",
       "      <td>أرض</td>\n",
       "      <td>سكني</td>\n",
       "      <td>الرياض</td>\n",
       "      <td>حي العريجاء الغربي</td>\n",
       "      <td>جنوبية</td>\n",
       "      <td>472</td>\n",
       "      <td>1695.0</td>\n",
       "      <td>800040</td>\n",
       "    </tr>\n",
       "  </tbody>\n",
       "</table>\n",
       "<p>1331 rows × 8 columns</p>\n",
       "</div>"
      ],
      "text/plain": [
       "     نوع العقار        الغرض المدينة                   الحي       الواجهة  \\\n",
       "1           أرض          NaN  الرياض             حي غرناطة         شمالية   \n",
       "2           أرض         سكني  الرياض             حي غرناطة     ثلاث شوارع   \n",
       "3           أرض         سكني  الرياض            حي اليرموك     ثلاث شوارع   \n",
       "4           أرض         سكني  الرياض      حي النسيم الغربي          غربية   \n",
       "5           أرض  تجاري وسكني  الرياض             حي الرمال         جنوبية   \n",
       "...         ...          ...     ...                    ...           ...   \n",
       "2149        أرض  تجاري وسكني  الرياض             حي الدفاع         شمالية   \n",
       "2151        أرض         سكني  الرياض   حي العريجاء الغربية         جنوبية   \n",
       "2152        أرض  تجاري وسكني  الرياض           حي ظهرة لبن   جنوبية غربية   \n",
       "2153        أرض  تجاري وسكني  الرياض    حي العريجاء الغربي          غربية   \n",
       "2154        أرض         سكني  الرياض    حي العريجاء الغربي         جنوبية   \n",
       "\n",
       "      المساحة  سعر المتر  السعر الإجمالي  \n",
       "1         800     4800.0         3840000  \n",
       "2        1650     4800.0         7920000  \n",
       "3        1650     4800.0         7920000  \n",
       "4         750     3200.0         2400000  \n",
       "5        2400     3300.0         7920000  \n",
       "...       ...        ...             ...  \n",
       "2149     1173      511.0          599403  \n",
       "2151      400     1500.0          600000  \n",
       "2152     1050     2380.0         2499000  \n",
       "2153      313     2000.0          626000  \n",
       "2154      472     1695.0          800040  \n",
       "\n",
       "[1331 rows x 8 columns]"
      ]
     },
     "execution_count": 65,
     "metadata": {},
     "output_type": "execute_result"
    }
   ],
   "source": [
    "landofriyad"
   ]
  },
  {
   "cell_type": "code",
   "execution_count": 86,
   "id": "4c2608a5",
   "metadata": {},
   "outputs": [
    {
     "data": {
      "text/html": [
       "<div>\n",
       "<style scoped>\n",
       "    .dataframe tbody tr th:only-of-type {\n",
       "        vertical-align: middle;\n",
       "    }\n",
       "\n",
       "    .dataframe tbody tr th {\n",
       "        vertical-align: top;\n",
       "    }\n",
       "\n",
       "    .dataframe thead th {\n",
       "        text-align: right;\n",
       "    }\n",
       "</style>\n",
       "<table border=\"1\" class=\"dataframe\">\n",
       "  <thead>\n",
       "    <tr style=\"text-align: right;\">\n",
       "      <th></th>\n",
       "      <th>نوع العقار</th>\n",
       "      <th>الغرض</th>\n",
       "      <th>المدينة</th>\n",
       "      <th>الحي</th>\n",
       "      <th>الواجهة</th>\n",
       "      <th>المساحة</th>\n",
       "      <th>سعر المتر</th>\n",
       "      <th>السعر الإجمالي</th>\n",
       "    </tr>\n",
       "  </thead>\n",
       "  <tbody>\n",
       "    <tr>\n",
       "      <th>1</th>\n",
       "      <td>أرض</td>\n",
       "      <td>NaN</td>\n",
       "      <td>الرياض</td>\n",
       "      <td>حي غرناطة</td>\n",
       "      <td>شمالية</td>\n",
       "      <td>800</td>\n",
       "      <td>4800.0</td>\n",
       "      <td>3840000</td>\n",
       "    </tr>\n",
       "    <tr>\n",
       "      <th>2</th>\n",
       "      <td>أرض</td>\n",
       "      <td>سكني</td>\n",
       "      <td>الرياض</td>\n",
       "      <td>حي غرناطة</td>\n",
       "      <td>ثلاث شوارع</td>\n",
       "      <td>1650</td>\n",
       "      <td>4800.0</td>\n",
       "      <td>7920000</td>\n",
       "    </tr>\n",
       "    <tr>\n",
       "      <th>3</th>\n",
       "      <td>أرض</td>\n",
       "      <td>سكني</td>\n",
       "      <td>الرياض</td>\n",
       "      <td>حي اليرموك</td>\n",
       "      <td>ثلاث شوارع</td>\n",
       "      <td>1650</td>\n",
       "      <td>4800.0</td>\n",
       "      <td>7920000</td>\n",
       "    </tr>\n",
       "    <tr>\n",
       "      <th>4</th>\n",
       "      <td>أرض</td>\n",
       "      <td>سكني</td>\n",
       "      <td>الرياض</td>\n",
       "      <td>حي النسيم الغربي</td>\n",
       "      <td>غربية</td>\n",
       "      <td>750</td>\n",
       "      <td>3200.0</td>\n",
       "      <td>2400000</td>\n",
       "    </tr>\n",
       "    <tr>\n",
       "      <th>5</th>\n",
       "      <td>أرض</td>\n",
       "      <td>تجاري وسكني</td>\n",
       "      <td>الرياض</td>\n",
       "      <td>حي الرمال</td>\n",
       "      <td>جنوبية</td>\n",
       "      <td>2400</td>\n",
       "      <td>3300.0</td>\n",
       "      <td>7920000</td>\n",
       "    </tr>\n",
       "    <tr>\n",
       "      <th>...</th>\n",
       "      <td>...</td>\n",
       "      <td>...</td>\n",
       "      <td>...</td>\n",
       "      <td>...</td>\n",
       "      <td>...</td>\n",
       "      <td>...</td>\n",
       "      <td>...</td>\n",
       "      <td>...</td>\n",
       "    </tr>\n",
       "    <tr>\n",
       "      <th>2149</th>\n",
       "      <td>أرض</td>\n",
       "      <td>تجاري وسكني</td>\n",
       "      <td>الرياض</td>\n",
       "      <td>حي الدفاع</td>\n",
       "      <td>شمالية</td>\n",
       "      <td>1173</td>\n",
       "      <td>511.0</td>\n",
       "      <td>599403</td>\n",
       "    </tr>\n",
       "    <tr>\n",
       "      <th>2151</th>\n",
       "      <td>أرض</td>\n",
       "      <td>سكني</td>\n",
       "      <td>الرياض</td>\n",
       "      <td>حي العريجاء الغربية</td>\n",
       "      <td>جنوبية</td>\n",
       "      <td>400</td>\n",
       "      <td>1500.0</td>\n",
       "      <td>600000</td>\n",
       "    </tr>\n",
       "    <tr>\n",
       "      <th>2152</th>\n",
       "      <td>أرض</td>\n",
       "      <td>تجاري وسكني</td>\n",
       "      <td>الرياض</td>\n",
       "      <td>حي ظهرة لبن</td>\n",
       "      <td>جنوبية غربية</td>\n",
       "      <td>1050</td>\n",
       "      <td>2380.0</td>\n",
       "      <td>2499000</td>\n",
       "    </tr>\n",
       "    <tr>\n",
       "      <th>2153</th>\n",
       "      <td>أرض</td>\n",
       "      <td>تجاري وسكني</td>\n",
       "      <td>الرياض</td>\n",
       "      <td>حي العريجاء الغربي</td>\n",
       "      <td>غربية</td>\n",
       "      <td>313</td>\n",
       "      <td>2000.0</td>\n",
       "      <td>626000</td>\n",
       "    </tr>\n",
       "    <tr>\n",
       "      <th>2154</th>\n",
       "      <td>أرض</td>\n",
       "      <td>سكني</td>\n",
       "      <td>الرياض</td>\n",
       "      <td>حي العريجاء الغربي</td>\n",
       "      <td>جنوبية</td>\n",
       "      <td>472</td>\n",
       "      <td>1695.0</td>\n",
       "      <td>800040</td>\n",
       "    </tr>\n",
       "  </tbody>\n",
       "</table>\n",
       "<p>1331 rows × 8 columns</p>\n",
       "</div>"
      ],
      "text/plain": [
       "     نوع العقار        الغرض المدينة                   الحي       الواجهة  \\\n",
       "1           أرض          NaN  الرياض             حي غرناطة         شمالية   \n",
       "2           أرض         سكني  الرياض             حي غرناطة     ثلاث شوارع   \n",
       "3           أرض         سكني  الرياض            حي اليرموك     ثلاث شوارع   \n",
       "4           أرض         سكني  الرياض      حي النسيم الغربي          غربية   \n",
       "5           أرض  تجاري وسكني  الرياض             حي الرمال         جنوبية   \n",
       "...         ...          ...     ...                    ...           ...   \n",
       "2149        أرض  تجاري وسكني  الرياض             حي الدفاع         شمالية   \n",
       "2151        أرض         سكني  الرياض   حي العريجاء الغربية         جنوبية   \n",
       "2152        أرض  تجاري وسكني  الرياض           حي ظهرة لبن   جنوبية غربية   \n",
       "2153        أرض  تجاري وسكني  الرياض    حي العريجاء الغربي          غربية   \n",
       "2154        أرض         سكني  الرياض    حي العريجاء الغربي         جنوبية   \n",
       "\n",
       "      المساحة  سعر المتر  السعر الإجمالي  \n",
       "1         800     4800.0         3840000  \n",
       "2        1650     4800.0         7920000  \n",
       "3        1650     4800.0         7920000  \n",
       "4         750     3200.0         2400000  \n",
       "5        2400     3300.0         7920000  \n",
       "...       ...        ...             ...  \n",
       "2149     1173      511.0          599403  \n",
       "2151      400     1500.0          600000  \n",
       "2152     1050     2380.0         2499000  \n",
       "2153      313     2000.0          626000  \n",
       "2154      472     1695.0          800040  \n",
       "\n",
       "[1331 rows x 8 columns]"
      ]
     },
     "execution_count": 86,
     "metadata": {},
     "output_type": "execute_result"
    }
   ],
   "source": [
    "landofriyad = land.copy()\n",
    "\n",
    "#landofriyad.columns = landofriyad.columns.str.strip()\n",
    "landofriyad['المدينة'] = landofriyad['المدينة'].str.strip()\n",
    "landofriyad['الغرض'] = landofriyad['الغرض'].str.strip()\n",
    "\n",
    "#landofriyad = landofriyad.drop(land[land.iloc[:, 3] == ' الرياض '].index)\n",
    "\n",
    "#landofriyad = landofriyad.drop(land[land.iloc[:, 2] == ' حي قرطبة '].index)\n",
    "#landofriyad = landofriyad.drop(land[land.iloc[:, 2] == ' حي الرمال '].index)\n",
    "#landofriyad = landofriyad.drop(land[land.iloc[:, 2] == ' 13843 '].index)\n",
    "#landofriyad = landofriyad.drop(land[land.iloc[:, 2] == ' 13843 '].index)\n",
    "\n",
    "#landofriyad = landofriyad[landofriyad['المدينة'] == ' الرياض ') & (landofriyad['الغرض'] != 'تجاري')])\n",
    "\n",
    "landofriyad = landofriyad[(landofriyad['المدينة'] == 'الرياض') & (landofriyad['الغرض'] != 'تجاري')]\n",
    "\n",
    "#landofriyad = land.drop(land[land['الحي'] == ' الرياض ']).index\n",
    "#landofriyad.drop(landofriyad, inplace=True)\n",
    "\n",
    "landofriyad"
   ]
  },
  {
   "cell_type": "code",
   "execution_count": 63,
   "id": "ceb15862",
   "metadata": {},
   "outputs": [
    {
     "data": {
      "text/plain": [
       "نوع العقار        0\n",
       "الغرض             0\n",
       "المدينة           0\n",
       "الحي              0\n",
       "الواجهة           0\n",
       "المساحة           0\n",
       "سعر المتر         0\n",
       "السعر الإجمالي    0\n",
       "dtype: int64"
      ]
     },
     "execution_count": 63,
     "metadata": {},
     "output_type": "execute_result"
    }
   ],
   "source": [
    "landofriyad.isnull().sum()\n"
   ]
  },
  {
   "cell_type": "code",
   "execution_count": 87,
   "id": "daacc24e",
   "metadata": {},
   "outputs": [
    {
     "name": "stderr",
     "output_type": "stream",
     "text": [
      "C:\\Users\\يزيد الجحدلي\\AppData\\Local\\Temp\\ipykernel_6856\\3560223064.py:1: FutureWarning:\n",
      "\n",
      "A value is trying to be set on a copy of a DataFrame or Series through chained assignment using an inplace method.\n",
      "The behavior will change in pandas 3.0. This inplace method will never work because the intermediate object on which we are setting values always behaves as a copy.\n",
      "\n",
      "For example, when doing 'df[col].method(value, inplace=True)', try using 'df.method({col: value}, inplace=True)' or df[col] = df[col].method(value) instead, to perform the operation inplace on the original object.\n",
      "\n",
      "\n",
      "\n"
     ]
    }
   ],
   "source": [
    "landofriyad['الغرض'].fillna(\"غير معروف\", inplace=True)\n"
   ]
  },
  {
   "cell_type": "code",
   "execution_count": 90,
   "id": "cb0b969d",
   "metadata": {},
   "outputs": [
    {
     "data": {
      "text/plain": [
       "0"
      ]
     },
     "execution_count": 90,
     "metadata": {},
     "output_type": "execute_result"
    }
   ],
   "source": [
    "landofriyad.duplicated().sum()\n"
   ]
  },
  {
   "cell_type": "code",
   "execution_count": 60,
   "id": "a517a59d",
   "metadata": {},
   "outputs": [
    {
     "data": {
      "text/html": [
       "<div>\n",
       "<style scoped>\n",
       "    .dataframe tbody tr th:only-of-type {\n",
       "        vertical-align: middle;\n",
       "    }\n",
       "\n",
       "    .dataframe tbody tr th {\n",
       "        vertical-align: top;\n",
       "    }\n",
       "\n",
       "    .dataframe thead th {\n",
       "        text-align: right;\n",
       "    }\n",
       "</style>\n",
       "<table border=\"1\" class=\"dataframe\">\n",
       "  <thead>\n",
       "    <tr style=\"text-align: right;\">\n",
       "      <th></th>\n",
       "      <th>نوع العقار</th>\n",
       "      <th>الغرض</th>\n",
       "      <th>المدينة</th>\n",
       "      <th>الحي</th>\n",
       "      <th>الواجهة</th>\n",
       "      <th>المساحة</th>\n",
       "      <th>سعر المتر</th>\n",
       "      <th>السعر الإجمالي</th>\n",
       "    </tr>\n",
       "  </thead>\n",
       "  <tbody>\n",
       "  </tbody>\n",
       "</table>\n",
       "</div>"
      ],
      "text/plain": [
       "Empty DataFrame\n",
       "Columns: [نوع العقار, الغرض, المدينة, الحي, الواجهة, المساحة, سعر المتر, السعر الإجمالي]\n",
       "Index: []"
      ]
     },
     "execution_count": 60,
     "metadata": {},
     "output_type": "execute_result"
    }
   ],
   "source": [
    "duplicates = landofriyad[landofriyad.duplicated]\n",
    "duplicates\n"
   ]
  },
  {
   "cell_type": "code",
   "execution_count": 89,
   "id": "1cc8e08c",
   "metadata": {},
   "outputs": [],
   "source": [
    "landofriyad.drop_duplicates(inplace=True)\n"
   ]
  },
  {
   "cell_type": "code",
   "execution_count": 22,
   "id": "1b02a820",
   "metadata": {},
   "outputs": [
    {
     "data": {
      "text/plain": [
       "نوع العقار         object\n",
       "الغرض              object\n",
       "المدينة            object\n",
       "الحي               object\n",
       "الواجهة            object\n",
       "المساحة             int64\n",
       "سعر المتر         float64\n",
       "السعر الإجمالي      int64\n",
       "dtype: object"
      ]
     },
     "execution_count": 22,
     "metadata": {},
     "output_type": "execute_result"
    }
   ],
   "source": [
    "landofriyad.dtypes  \n"
   ]
  },
  {
   "cell_type": "code",
   "execution_count": 91,
   "id": "1480eafd",
   "metadata": {},
   "outputs": [
    {
     "data": {
      "text/html": [
       "<div>\n",
       "<style scoped>\n",
       "    .dataframe tbody tr th:only-of-type {\n",
       "        vertical-align: middle;\n",
       "    }\n",
       "\n",
       "    .dataframe tbody tr th {\n",
       "        vertical-align: top;\n",
       "    }\n",
       "\n",
       "    .dataframe thead th {\n",
       "        text-align: right;\n",
       "    }\n",
       "</style>\n",
       "<table border=\"1\" class=\"dataframe\">\n",
       "  <thead>\n",
       "    <tr style=\"text-align: right;\">\n",
       "      <th></th>\n",
       "      <th>نوع العقار</th>\n",
       "      <th>الغرض</th>\n",
       "      <th>المدينة</th>\n",
       "      <th>الحي</th>\n",
       "      <th>الواجهة</th>\n",
       "      <th>المساحة</th>\n",
       "      <th>سعر المتر</th>\n",
       "      <th>السعر الإجمالي</th>\n",
       "    </tr>\n",
       "  </thead>\n",
       "  <tbody>\n",
       "    <tr>\n",
       "      <th>1</th>\n",
       "      <td>أرض</td>\n",
       "      <td>غير معروف</td>\n",
       "      <td>الرياض</td>\n",
       "      <td>حي غرناطة</td>\n",
       "      <td>شمالية</td>\n",
       "      <td>800</td>\n",
       "      <td>4800.0</td>\n",
       "      <td>3840000</td>\n",
       "    </tr>\n",
       "    <tr>\n",
       "      <th>2</th>\n",
       "      <td>أرض</td>\n",
       "      <td>سكني</td>\n",
       "      <td>الرياض</td>\n",
       "      <td>حي غرناطة</td>\n",
       "      <td>ثلاث شوارع</td>\n",
       "      <td>1650</td>\n",
       "      <td>4800.0</td>\n",
       "      <td>7920000</td>\n",
       "    </tr>\n",
       "    <tr>\n",
       "      <th>3</th>\n",
       "      <td>أرض</td>\n",
       "      <td>سكني</td>\n",
       "      <td>الرياض</td>\n",
       "      <td>حي اليرموك</td>\n",
       "      <td>ثلاث شوارع</td>\n",
       "      <td>1650</td>\n",
       "      <td>4800.0</td>\n",
       "      <td>7920000</td>\n",
       "    </tr>\n",
       "    <tr>\n",
       "      <th>4</th>\n",
       "      <td>أرض</td>\n",
       "      <td>سكني</td>\n",
       "      <td>الرياض</td>\n",
       "      <td>حي النسيم الغربي</td>\n",
       "      <td>غربية</td>\n",
       "      <td>750</td>\n",
       "      <td>3200.0</td>\n",
       "      <td>2400000</td>\n",
       "    </tr>\n",
       "    <tr>\n",
       "      <th>5</th>\n",
       "      <td>أرض</td>\n",
       "      <td>تجاري وسكني</td>\n",
       "      <td>الرياض</td>\n",
       "      <td>حي الرمال</td>\n",
       "      <td>جنوبية</td>\n",
       "      <td>2400</td>\n",
       "      <td>3300.0</td>\n",
       "      <td>7920000</td>\n",
       "    </tr>\n",
       "    <tr>\n",
       "      <th>...</th>\n",
       "      <td>...</td>\n",
       "      <td>...</td>\n",
       "      <td>...</td>\n",
       "      <td>...</td>\n",
       "      <td>...</td>\n",
       "      <td>...</td>\n",
       "      <td>...</td>\n",
       "      <td>...</td>\n",
       "    </tr>\n",
       "    <tr>\n",
       "      <th>2149</th>\n",
       "      <td>أرض</td>\n",
       "      <td>تجاري وسكني</td>\n",
       "      <td>الرياض</td>\n",
       "      <td>حي الدفاع</td>\n",
       "      <td>شمالية</td>\n",
       "      <td>1173</td>\n",
       "      <td>511.0</td>\n",
       "      <td>599403</td>\n",
       "    </tr>\n",
       "    <tr>\n",
       "      <th>2151</th>\n",
       "      <td>أرض</td>\n",
       "      <td>سكني</td>\n",
       "      <td>الرياض</td>\n",
       "      <td>حي العريجاء الغربية</td>\n",
       "      <td>جنوبية</td>\n",
       "      <td>400</td>\n",
       "      <td>1500.0</td>\n",
       "      <td>600000</td>\n",
       "    </tr>\n",
       "    <tr>\n",
       "      <th>2152</th>\n",
       "      <td>أرض</td>\n",
       "      <td>تجاري وسكني</td>\n",
       "      <td>الرياض</td>\n",
       "      <td>حي ظهرة لبن</td>\n",
       "      <td>جنوبية غربية</td>\n",
       "      <td>1050</td>\n",
       "      <td>2380.0</td>\n",
       "      <td>2499000</td>\n",
       "    </tr>\n",
       "    <tr>\n",
       "      <th>2153</th>\n",
       "      <td>أرض</td>\n",
       "      <td>تجاري وسكني</td>\n",
       "      <td>الرياض</td>\n",
       "      <td>حي العريجاء الغربي</td>\n",
       "      <td>غربية</td>\n",
       "      <td>313</td>\n",
       "      <td>2000.0</td>\n",
       "      <td>626000</td>\n",
       "    </tr>\n",
       "    <tr>\n",
       "      <th>2154</th>\n",
       "      <td>أرض</td>\n",
       "      <td>سكني</td>\n",
       "      <td>الرياض</td>\n",
       "      <td>حي العريجاء الغربي</td>\n",
       "      <td>جنوبية</td>\n",
       "      <td>472</td>\n",
       "      <td>1695.0</td>\n",
       "      <td>800040</td>\n",
       "    </tr>\n",
       "  </tbody>\n",
       "</table>\n",
       "<p>1170 rows × 8 columns</p>\n",
       "</div>"
      ],
      "text/plain": [
       "     نوع العقار        الغرض المدينة                   الحي       الواجهة  \\\n",
       "1           أرض    غير معروف  الرياض             حي غرناطة         شمالية   \n",
       "2           أرض         سكني  الرياض             حي غرناطة     ثلاث شوارع   \n",
       "3           أرض         سكني  الرياض            حي اليرموك     ثلاث شوارع   \n",
       "4           أرض         سكني  الرياض      حي النسيم الغربي          غربية   \n",
       "5           أرض  تجاري وسكني  الرياض             حي الرمال         جنوبية   \n",
       "...         ...          ...     ...                    ...           ...   \n",
       "2149        أرض  تجاري وسكني  الرياض             حي الدفاع         شمالية   \n",
       "2151        أرض         سكني  الرياض   حي العريجاء الغربية         جنوبية   \n",
       "2152        أرض  تجاري وسكني  الرياض           حي ظهرة لبن   جنوبية غربية   \n",
       "2153        أرض  تجاري وسكني  الرياض    حي العريجاء الغربي          غربية   \n",
       "2154        أرض         سكني  الرياض    حي العريجاء الغربي         جنوبية   \n",
       "\n",
       "      المساحة  سعر المتر  السعر الإجمالي  \n",
       "1         800     4800.0         3840000  \n",
       "2        1650     4800.0         7920000  \n",
       "3        1650     4800.0         7920000  \n",
       "4         750     3200.0         2400000  \n",
       "5        2400     3300.0         7920000  \n",
       "...       ...        ...             ...  \n",
       "2149     1173      511.0          599403  \n",
       "2151      400     1500.0          600000  \n",
       "2152     1050     2380.0         2499000  \n",
       "2153      313     2000.0          626000  \n",
       "2154      472     1695.0          800040  \n",
       "\n",
       "[1170 rows x 8 columns]"
      ]
     },
     "execution_count": 91,
     "metadata": {},
     "output_type": "execute_result"
    }
   ],
   "source": [
    "landofriyad \n"
   ]
  },
  {
   "cell_type": "code",
   "execution_count": 58,
   "id": "48d50eb8",
   "metadata": {},
   "outputs": [
    {
     "data": {
      "text/plain": [
       "(1170, 8)"
      ]
     },
     "execution_count": 58,
     "metadata": {},
     "output_type": "execute_result"
    }
   ],
   "source": [
    "landofriyad.shape"
   ]
  },
  {
   "cell_type": "code",
   "execution_count": 341,
   "id": "dde347ee",
   "metadata": {},
   "outputs": [
    {
     "data": {
      "text/plain": [
       "نوع العقار        0\n",
       "الغرض             0\n",
       "المدينة           0\n",
       "الحي              0\n",
       "الواجهة           0\n",
       "المساحة           0\n",
       "سعر المتر         0\n",
       "السعر الإجمالي    0\n",
       "dtype: int64"
      ]
     },
     "execution_count": 341,
     "metadata": {},
     "output_type": "execute_result"
    }
   ],
   "source": []
  },
  {
   "cell_type": "code",
   "execution_count": 41,
   "id": "e0ad5e00",
   "metadata": {},
   "outputs": [
    {
     "data": {
      "text/html": [
       "\n",
       "        <iframe\n",
       "            width=\"100%\"\n",
       "            height=\"475\"\n",
       "            src=\"http://tasneemjah:40000/dtale/iframe/2\"\n",
       "            frameborder=\"0\"\n",
       "            allowfullscreen\n",
       "            \n",
       "        ></iframe>\n",
       "        "
      ],
      "text/plain": [
       "<IPython.lib.display.IFrame at 0x281228ea950>"
      ]
     },
     "metadata": {},
     "output_type": "display_data"
    },
    {
     "data": {
      "text/plain": []
     },
     "execution_count": 41,
     "metadata": {},
     "output_type": "execute_result"
    },
    {
     "name": "stderr",
     "output_type": "stream",
     "text": [
      "c:\\Users\\يزيد الجحدلي\\AppData\\Local\\Programs\\Python\\Python311\\Lib\\site-packages\\dtale\\column_analysis.py:402: FutureWarning:\n",
      "\n",
      "pandas.value_counts is deprecated and will be removed in a future version. Use pd.Series(obj).value_counts() instead.\n",
      "\n",
      "c:\\Users\\يزيد الجحدلي\\AppData\\Local\\Programs\\Python\\Python311\\Lib\\site-packages\\dtale\\column_analysis.py:402: FutureWarning:\n",
      "\n",
      "pandas.value_counts is deprecated and will be removed in a future version. Use pd.Series(obj).value_counts() instead.\n",
      "\n",
      "c:\\Users\\يزيد الجحدلي\\AppData\\Local\\Programs\\Python\\Python311\\Lib\\site-packages\\dtale\\column_analysis.py:402: FutureWarning:\n",
      "\n",
      "pandas.value_counts is deprecated and will be removed in a future version. Use pd.Series(obj).value_counts() instead.\n",
      "\n",
      "c:\\Users\\يزيد الجحدلي\\AppData\\Local\\Programs\\Python\\Python311\\Lib\\site-packages\\dtale\\column_analysis.py:402: FutureWarning:\n",
      "\n",
      "pandas.value_counts is deprecated and will be removed in a future version. Use pd.Series(obj).value_counts() instead.\n",
      "\n",
      "c:\\Users\\يزيد الجحدلي\\AppData\\Local\\Programs\\Python\\Python311\\Lib\\site-packages\\dtale\\column_analysis.py:402: FutureWarning:\n",
      "\n",
      "pandas.value_counts is deprecated and will be removed in a future version. Use pd.Series(obj).value_counts() instead.\n",
      "\n",
      "c:\\Users\\يزيد الجحدلي\\AppData\\Local\\Programs\\Python\\Python311\\Lib\\site-packages\\dtale\\column_analysis.py:402: FutureWarning:\n",
      "\n",
      "pandas.value_counts is deprecated and will be removed in a future version. Use pd.Series(obj).value_counts() instead.\n",
      "\n",
      "c:\\Users\\يزيد الجحدلي\\AppData\\Local\\Programs\\Python\\Python311\\Lib\\site-packages\\dtale\\column_analysis.py:402: FutureWarning:\n",
      "\n",
      "pandas.value_counts is deprecated and will be removed in a future version. Use pd.Series(obj).value_counts() instead.\n",
      "\n",
      "c:\\Users\\يزيد الجحدلي\\AppData\\Local\\Programs\\Python\\Python311\\Lib\\site-packages\\dtale\\column_analysis.py:402: FutureWarning:\n",
      "\n",
      "pandas.value_counts is deprecated and will be removed in a future version. Use pd.Series(obj).value_counts() instead.\n",
      "\n"
     ]
    }
   ],
   "source": [
    "dt.show(landofriyad)"
   ]
  },
  {
   "cell_type": "code",
   "execution_count": 94,
   "id": "2c4f7d8e",
   "metadata": {},
   "outputs": [
    {
     "data": {
      "application/vnd.plotly.v1+json": {
       "config": {
        "plotlyServerURL": "https://plot.ly"
       },
       "data": [
        {
         "alignmentgroup": "True",
         "hovertemplate": "Neighborhood=%{x}<br>Total Price=%{y}<extra></extra>",
         "legendgroup": "",
         "marker": {
          "color": "#636efa",
          "pattern": {
           "shape": ""
          }
         },
         "name": "",
         "offsetgroup": "",
         "orientation": "v",
         "showlegend": false,
         "textposition": "auto",
         "type": "bar",
         "x": [
          "Al Rimal",
          "Al Ghanamiya",
          "Al Ghanamiya",
          "New Manfuhah",
          "Al Mahdia"
         ],
         "xaxis": "x",
         "y": [
          93600,
          100000,
          106880,
          119000,
          127200
         ],
         "yaxis": "y"
        }
       ],
       "layout": {
        "barmode": "relative",
        "legend": {
         "tracegroupgap": 0
        },
        "template": {
         "data": {
          "bar": [
           {
            "error_x": {
             "color": "#2a3f5f"
            },
            "error_y": {
             "color": "#2a3f5f"
            },
            "marker": {
             "line": {
              "color": "#E5ECF6",
              "width": 0.5
             },
             "pattern": {
              "fillmode": "overlay",
              "size": 10,
              "solidity": 0.2
             }
            },
            "type": "bar"
           }
          ],
          "barpolar": [
           {
            "marker": {
             "line": {
              "color": "#E5ECF6",
              "width": 0.5
             },
             "pattern": {
              "fillmode": "overlay",
              "size": 10,
              "solidity": 0.2
             }
            },
            "type": "barpolar"
           }
          ],
          "carpet": [
           {
            "aaxis": {
             "endlinecolor": "#2a3f5f",
             "gridcolor": "white",
             "linecolor": "white",
             "minorgridcolor": "white",
             "startlinecolor": "#2a3f5f"
            },
            "baxis": {
             "endlinecolor": "#2a3f5f",
             "gridcolor": "white",
             "linecolor": "white",
             "minorgridcolor": "white",
             "startlinecolor": "#2a3f5f"
            },
            "type": "carpet"
           }
          ],
          "choropleth": [
           {
            "colorbar": {
             "outlinewidth": 0,
             "ticks": ""
            },
            "type": "choropleth"
           }
          ],
          "contour": [
           {
            "colorbar": {
             "outlinewidth": 0,
             "ticks": ""
            },
            "colorscale": [
             [
              0,
              "#0d0887"
             ],
             [
              0.1111111111111111,
              "#46039f"
             ],
             [
              0.2222222222222222,
              "#7201a8"
             ],
             [
              0.3333333333333333,
              "#9c179e"
             ],
             [
              0.4444444444444444,
              "#bd3786"
             ],
             [
              0.5555555555555556,
              "#d8576b"
             ],
             [
              0.6666666666666666,
              "#ed7953"
             ],
             [
              0.7777777777777778,
              "#fb9f3a"
             ],
             [
              0.8888888888888888,
              "#fdca26"
             ],
             [
              1,
              "#f0f921"
             ]
            ],
            "type": "contour"
           }
          ],
          "contourcarpet": [
           {
            "colorbar": {
             "outlinewidth": 0,
             "ticks": ""
            },
            "type": "contourcarpet"
           }
          ],
          "heatmap": [
           {
            "colorbar": {
             "outlinewidth": 0,
             "ticks": ""
            },
            "colorscale": [
             [
              0,
              "#0d0887"
             ],
             [
              0.1111111111111111,
              "#46039f"
             ],
             [
              0.2222222222222222,
              "#7201a8"
             ],
             [
              0.3333333333333333,
              "#9c179e"
             ],
             [
              0.4444444444444444,
              "#bd3786"
             ],
             [
              0.5555555555555556,
              "#d8576b"
             ],
             [
              0.6666666666666666,
              "#ed7953"
             ],
             [
              0.7777777777777778,
              "#fb9f3a"
             ],
             [
              0.8888888888888888,
              "#fdca26"
             ],
             [
              1,
              "#f0f921"
             ]
            ],
            "type": "heatmap"
           }
          ],
          "heatmapgl": [
           {
            "colorbar": {
             "outlinewidth": 0,
             "ticks": ""
            },
            "colorscale": [
             [
              0,
              "#0d0887"
             ],
             [
              0.1111111111111111,
              "#46039f"
             ],
             [
              0.2222222222222222,
              "#7201a8"
             ],
             [
              0.3333333333333333,
              "#9c179e"
             ],
             [
              0.4444444444444444,
              "#bd3786"
             ],
             [
              0.5555555555555556,
              "#d8576b"
             ],
             [
              0.6666666666666666,
              "#ed7953"
             ],
             [
              0.7777777777777778,
              "#fb9f3a"
             ],
             [
              0.8888888888888888,
              "#fdca26"
             ],
             [
              1,
              "#f0f921"
             ]
            ],
            "type": "heatmapgl"
           }
          ],
          "histogram": [
           {
            "marker": {
             "pattern": {
              "fillmode": "overlay",
              "size": 10,
              "solidity": 0.2
             }
            },
            "type": "histogram"
           }
          ],
          "histogram2d": [
           {
            "colorbar": {
             "outlinewidth": 0,
             "ticks": ""
            },
            "colorscale": [
             [
              0,
              "#0d0887"
             ],
             [
              0.1111111111111111,
              "#46039f"
             ],
             [
              0.2222222222222222,
              "#7201a8"
             ],
             [
              0.3333333333333333,
              "#9c179e"
             ],
             [
              0.4444444444444444,
              "#bd3786"
             ],
             [
              0.5555555555555556,
              "#d8576b"
             ],
             [
              0.6666666666666666,
              "#ed7953"
             ],
             [
              0.7777777777777778,
              "#fb9f3a"
             ],
             [
              0.8888888888888888,
              "#fdca26"
             ],
             [
              1,
              "#f0f921"
             ]
            ],
            "type": "histogram2d"
           }
          ],
          "histogram2dcontour": [
           {
            "colorbar": {
             "outlinewidth": 0,
             "ticks": ""
            },
            "colorscale": [
             [
              0,
              "#0d0887"
             ],
             [
              0.1111111111111111,
              "#46039f"
             ],
             [
              0.2222222222222222,
              "#7201a8"
             ],
             [
              0.3333333333333333,
              "#9c179e"
             ],
             [
              0.4444444444444444,
              "#bd3786"
             ],
             [
              0.5555555555555556,
              "#d8576b"
             ],
             [
              0.6666666666666666,
              "#ed7953"
             ],
             [
              0.7777777777777778,
              "#fb9f3a"
             ],
             [
              0.8888888888888888,
              "#fdca26"
             ],
             [
              1,
              "#f0f921"
             ]
            ],
            "type": "histogram2dcontour"
           }
          ],
          "mesh3d": [
           {
            "colorbar": {
             "outlinewidth": 0,
             "ticks": ""
            },
            "type": "mesh3d"
           }
          ],
          "parcoords": [
           {
            "line": {
             "colorbar": {
              "outlinewidth": 0,
              "ticks": ""
             }
            },
            "type": "parcoords"
           }
          ],
          "pie": [
           {
            "automargin": true,
            "type": "pie"
           }
          ],
          "scatter": [
           {
            "fillpattern": {
             "fillmode": "overlay",
             "size": 10,
             "solidity": 0.2
            },
            "type": "scatter"
           }
          ],
          "scatter3d": [
           {
            "line": {
             "colorbar": {
              "outlinewidth": 0,
              "ticks": ""
             }
            },
            "marker": {
             "colorbar": {
              "outlinewidth": 0,
              "ticks": ""
             }
            },
            "type": "scatter3d"
           }
          ],
          "scattercarpet": [
           {
            "marker": {
             "colorbar": {
              "outlinewidth": 0,
              "ticks": ""
             }
            },
            "type": "scattercarpet"
           }
          ],
          "scattergeo": [
           {
            "marker": {
             "colorbar": {
              "outlinewidth": 0,
              "ticks": ""
             }
            },
            "type": "scattergeo"
           }
          ],
          "scattergl": [
           {
            "marker": {
             "colorbar": {
              "outlinewidth": 0,
              "ticks": ""
             }
            },
            "type": "scattergl"
           }
          ],
          "scattermapbox": [
           {
            "marker": {
             "colorbar": {
              "outlinewidth": 0,
              "ticks": ""
             }
            },
            "type": "scattermapbox"
           }
          ],
          "scatterpolar": [
           {
            "marker": {
             "colorbar": {
              "outlinewidth": 0,
              "ticks": ""
             }
            },
            "type": "scatterpolar"
           }
          ],
          "scatterpolargl": [
           {
            "marker": {
             "colorbar": {
              "outlinewidth": 0,
              "ticks": ""
             }
            },
            "type": "scatterpolargl"
           }
          ],
          "scatterternary": [
           {
            "marker": {
             "colorbar": {
              "outlinewidth": 0,
              "ticks": ""
             }
            },
            "type": "scatterternary"
           }
          ],
          "surface": [
           {
            "colorbar": {
             "outlinewidth": 0,
             "ticks": ""
            },
            "colorscale": [
             [
              0,
              "#0d0887"
             ],
             [
              0.1111111111111111,
              "#46039f"
             ],
             [
              0.2222222222222222,
              "#7201a8"
             ],
             [
              0.3333333333333333,
              "#9c179e"
             ],
             [
              0.4444444444444444,
              "#bd3786"
             ],
             [
              0.5555555555555556,
              "#d8576b"
             ],
             [
              0.6666666666666666,
              "#ed7953"
             ],
             [
              0.7777777777777778,
              "#fb9f3a"
             ],
             [
              0.8888888888888888,
              "#fdca26"
             ],
             [
              1,
              "#f0f921"
             ]
            ],
            "type": "surface"
           }
          ],
          "table": [
           {
            "cells": {
             "fill": {
              "color": "#EBF0F8"
             },
             "line": {
              "color": "white"
             }
            },
            "header": {
             "fill": {
              "color": "#C8D4E3"
             },
             "line": {
              "color": "white"
             }
            },
            "type": "table"
           }
          ]
         },
         "layout": {
          "annotationdefaults": {
           "arrowcolor": "#2a3f5f",
           "arrowhead": 0,
           "arrowwidth": 1
          },
          "autotypenumbers": "strict",
          "coloraxis": {
           "colorbar": {
            "outlinewidth": 0,
            "ticks": ""
           }
          },
          "colorscale": {
           "diverging": [
            [
             0,
             "#8e0152"
            ],
            [
             0.1,
             "#c51b7d"
            ],
            [
             0.2,
             "#de77ae"
            ],
            [
             0.3,
             "#f1b6da"
            ],
            [
             0.4,
             "#fde0ef"
            ],
            [
             0.5,
             "#f7f7f7"
            ],
            [
             0.6,
             "#e6f5d0"
            ],
            [
             0.7,
             "#b8e186"
            ],
            [
             0.8,
             "#7fbc41"
            ],
            [
             0.9,
             "#4d9221"
            ],
            [
             1,
             "#276419"
            ]
           ],
           "sequential": [
            [
             0,
             "#0d0887"
            ],
            [
             0.1111111111111111,
             "#46039f"
            ],
            [
             0.2222222222222222,
             "#7201a8"
            ],
            [
             0.3333333333333333,
             "#9c179e"
            ],
            [
             0.4444444444444444,
             "#bd3786"
            ],
            [
             0.5555555555555556,
             "#d8576b"
            ],
            [
             0.6666666666666666,
             "#ed7953"
            ],
            [
             0.7777777777777778,
             "#fb9f3a"
            ],
            [
             0.8888888888888888,
             "#fdca26"
            ],
            [
             1,
             "#f0f921"
            ]
           ],
           "sequentialminus": [
            [
             0,
             "#0d0887"
            ],
            [
             0.1111111111111111,
             "#46039f"
            ],
            [
             0.2222222222222222,
             "#7201a8"
            ],
            [
             0.3333333333333333,
             "#9c179e"
            ],
            [
             0.4444444444444444,
             "#bd3786"
            ],
            [
             0.5555555555555556,
             "#d8576b"
            ],
            [
             0.6666666666666666,
             "#ed7953"
            ],
            [
             0.7777777777777778,
             "#fb9f3a"
            ],
            [
             0.8888888888888888,
             "#fdca26"
            ],
            [
             1,
             "#f0f921"
            ]
           ]
          },
          "colorway": [
           "#636efa",
           "#EF553B",
           "#00cc96",
           "#ab63fa",
           "#FFA15A",
           "#19d3f3",
           "#FF6692",
           "#B6E880",
           "#FF97FF",
           "#FECB52"
          ],
          "font": {
           "color": "#2a3f5f"
          },
          "geo": {
           "bgcolor": "white",
           "lakecolor": "white",
           "landcolor": "#E5ECF6",
           "showlakes": true,
           "showland": true,
           "subunitcolor": "white"
          },
          "hoverlabel": {
           "align": "left"
          },
          "hovermode": "closest",
          "mapbox": {
           "style": "light"
          },
          "paper_bgcolor": "white",
          "plot_bgcolor": "#E5ECF6",
          "polar": {
           "angularaxis": {
            "gridcolor": "white",
            "linecolor": "white",
            "ticks": ""
           },
           "bgcolor": "#E5ECF6",
           "radialaxis": {
            "gridcolor": "white",
            "linecolor": "white",
            "ticks": ""
           }
          },
          "scene": {
           "xaxis": {
            "backgroundcolor": "#E5ECF6",
            "gridcolor": "white",
            "gridwidth": 2,
            "linecolor": "white",
            "showbackground": true,
            "ticks": "",
            "zerolinecolor": "white"
           },
           "yaxis": {
            "backgroundcolor": "#E5ECF6",
            "gridcolor": "white",
            "gridwidth": 2,
            "linecolor": "white",
            "showbackground": true,
            "ticks": "",
            "zerolinecolor": "white"
           },
           "zaxis": {
            "backgroundcolor": "#E5ECF6",
            "gridcolor": "white",
            "gridwidth": 2,
            "linecolor": "white",
            "showbackground": true,
            "ticks": "",
            "zerolinecolor": "white"
           }
          },
          "shapedefaults": {
           "line": {
            "color": "#2a3f5f"
           }
          },
          "ternary": {
           "aaxis": {
            "gridcolor": "white",
            "linecolor": "white",
            "ticks": ""
           },
           "baxis": {
            "gridcolor": "white",
            "linecolor": "white",
            "ticks": ""
           },
           "bgcolor": "#E5ECF6",
           "caxis": {
            "gridcolor": "white",
            "linecolor": "white",
            "ticks": ""
           }
          },
          "title": {
           "x": 0.05
          },
          "xaxis": {
           "automargin": true,
           "gridcolor": "white",
           "linecolor": "white",
           "ticks": "",
           "title": {
            "standoff": 15
           },
           "zerolinecolor": "white",
           "zerolinewidth": 2
          },
          "yaxis": {
           "automargin": true,
           "gridcolor": "white",
           "linecolor": "white",
           "ticks": "",
           "title": {
            "standoff": 15
           },
           "zerolinecolor": "white",
           "zerolinewidth": 2
          }
         }
        },
        "title": {
         "text": "Top 5 Most Affordable Neighborhoods"
        },
        "xaxis": {
         "anchor": "y",
         "domain": [
          0,
          1
         ],
         "title": {
          "text": "Neighborhood"
         }
        },
        "yaxis": {
         "anchor": "x",
         "domain": [
          0,
          1
         ],
         "title": {
          "text": "Total Price"
         }
        }
       }
      }
     },
     "metadata": {},
     "output_type": "display_data"
    }
   ],
   "source": [
    "\n",
    "df = landofriyad_filtered\n",
    "\n",
    "# Sort the DataFrame by \"السعر الإجمالي\" in ascending order and select the top 5 rows\n",
    "bottom_5 = df.sort_values(by='السعر الإجمالي', ascending =True).head(5)\n",
    "\n",
    "\n",
    "\n",
    "# Create a bar chart with Plotly\n",
    "fig = px.bar(bottom_5, x='الحي', y='السعر الإجمالي', \n",
    "             title='Top 5 Most Affordable Neighborhoods', \n",
    "             labels={'الحي': 'Neighborhood', 'السعر الإجمالي': 'Total Price'})\n",
    "\n",
    "# Show the plot\n",
    "fig.show()"
   ]
  },
  {
   "cell_type": "code",
   "execution_count": 73,
   "id": "ed1379ef",
   "metadata": {},
   "outputs": [
    {
     "data": {
      "application/vnd.plotly.v1+json": {
       "config": {
        "plotlyServerURL": "https://plot.ly"
       },
       "data": [
        {
         "coloraxis": "coloraxis",
         "hovertemplate": "x: %{x}<br>y: %{y}<br>Correlation: %{z}<extra></extra>",
         "name": "0",
         "type": "heatmap",
         "x": [
          "المساحة",
          "سعر المتر",
          "السعر الإجمالي"
         ],
         "xaxis": "x",
         "y": [
          "المساحة",
          "سعر المتر",
          "السعر الإجمالي"
         ],
         "yaxis": "y",
         "z": [
          [
           1,
           -0.12100912110909119,
           0.23066313999153856
          ],
          [
           -0.12100912110909119,
           1,
           0.6341894658649674
          ],
          [
           0.23066313999153856,
           0.6341894658649674,
           1
          ]
         ]
        }
       ],
       "layout": {
        "coloraxis": {
         "colorbar": {
          "title": {
           "text": "Correlation"
          }
         },
         "colorscale": [
          [
           0,
           "rgb(247,251,255)"
          ],
          [
           0.125,
           "rgb(222,235,247)"
          ],
          [
           0.25,
           "rgb(198,219,239)"
          ],
          [
           0.375,
           "rgb(158,202,225)"
          ],
          [
           0.5,
           "rgb(107,174,214)"
          ],
          [
           0.625,
           "rgb(66,146,198)"
          ],
          [
           0.75,
           "rgb(33,113,181)"
          ],
          [
           0.875,
           "rgb(8,81,156)"
          ],
          [
           1,
           "rgb(8,48,107)"
          ]
         ]
        },
        "template": {
         "data": {
          "bar": [
           {
            "error_x": {
             "color": "#2a3f5f"
            },
            "error_y": {
             "color": "#2a3f5f"
            },
            "marker": {
             "line": {
              "color": "#E5ECF6",
              "width": 0.5
             },
             "pattern": {
              "fillmode": "overlay",
              "size": 10,
              "solidity": 0.2
             }
            },
            "type": "bar"
           }
          ],
          "barpolar": [
           {
            "marker": {
             "line": {
              "color": "#E5ECF6",
              "width": 0.5
             },
             "pattern": {
              "fillmode": "overlay",
              "size": 10,
              "solidity": 0.2
             }
            },
            "type": "barpolar"
           }
          ],
          "carpet": [
           {
            "aaxis": {
             "endlinecolor": "#2a3f5f",
             "gridcolor": "white",
             "linecolor": "white",
             "minorgridcolor": "white",
             "startlinecolor": "#2a3f5f"
            },
            "baxis": {
             "endlinecolor": "#2a3f5f",
             "gridcolor": "white",
             "linecolor": "white",
             "minorgridcolor": "white",
             "startlinecolor": "#2a3f5f"
            },
            "type": "carpet"
           }
          ],
          "choropleth": [
           {
            "colorbar": {
             "outlinewidth": 0,
             "ticks": ""
            },
            "type": "choropleth"
           }
          ],
          "contour": [
           {
            "colorbar": {
             "outlinewidth": 0,
             "ticks": ""
            },
            "colorscale": [
             [
              0,
              "#0d0887"
             ],
             [
              0.1111111111111111,
              "#46039f"
             ],
             [
              0.2222222222222222,
              "#7201a8"
             ],
             [
              0.3333333333333333,
              "#9c179e"
             ],
             [
              0.4444444444444444,
              "#bd3786"
             ],
             [
              0.5555555555555556,
              "#d8576b"
             ],
             [
              0.6666666666666666,
              "#ed7953"
             ],
             [
              0.7777777777777778,
              "#fb9f3a"
             ],
             [
              0.8888888888888888,
              "#fdca26"
             ],
             [
              1,
              "#f0f921"
             ]
            ],
            "type": "contour"
           }
          ],
          "contourcarpet": [
           {
            "colorbar": {
             "outlinewidth": 0,
             "ticks": ""
            },
            "type": "contourcarpet"
           }
          ],
          "heatmap": [
           {
            "colorbar": {
             "outlinewidth": 0,
             "ticks": ""
            },
            "colorscale": [
             [
              0,
              "#0d0887"
             ],
             [
              0.1111111111111111,
              "#46039f"
             ],
             [
              0.2222222222222222,
              "#7201a8"
             ],
             [
              0.3333333333333333,
              "#9c179e"
             ],
             [
              0.4444444444444444,
              "#bd3786"
             ],
             [
              0.5555555555555556,
              "#d8576b"
             ],
             [
              0.6666666666666666,
              "#ed7953"
             ],
             [
              0.7777777777777778,
              "#fb9f3a"
             ],
             [
              0.8888888888888888,
              "#fdca26"
             ],
             [
              1,
              "#f0f921"
             ]
            ],
            "type": "heatmap"
           }
          ],
          "heatmapgl": [
           {
            "colorbar": {
             "outlinewidth": 0,
             "ticks": ""
            },
            "colorscale": [
             [
              0,
              "#0d0887"
             ],
             [
              0.1111111111111111,
              "#46039f"
             ],
             [
              0.2222222222222222,
              "#7201a8"
             ],
             [
              0.3333333333333333,
              "#9c179e"
             ],
             [
              0.4444444444444444,
              "#bd3786"
             ],
             [
              0.5555555555555556,
              "#d8576b"
             ],
             [
              0.6666666666666666,
              "#ed7953"
             ],
             [
              0.7777777777777778,
              "#fb9f3a"
             ],
             [
              0.8888888888888888,
              "#fdca26"
             ],
             [
              1,
              "#f0f921"
             ]
            ],
            "type": "heatmapgl"
           }
          ],
          "histogram": [
           {
            "marker": {
             "pattern": {
              "fillmode": "overlay",
              "size": 10,
              "solidity": 0.2
             }
            },
            "type": "histogram"
           }
          ],
          "histogram2d": [
           {
            "colorbar": {
             "outlinewidth": 0,
             "ticks": ""
            },
            "colorscale": [
             [
              0,
              "#0d0887"
             ],
             [
              0.1111111111111111,
              "#46039f"
             ],
             [
              0.2222222222222222,
              "#7201a8"
             ],
             [
              0.3333333333333333,
              "#9c179e"
             ],
             [
              0.4444444444444444,
              "#bd3786"
             ],
             [
              0.5555555555555556,
              "#d8576b"
             ],
             [
              0.6666666666666666,
              "#ed7953"
             ],
             [
              0.7777777777777778,
              "#fb9f3a"
             ],
             [
              0.8888888888888888,
              "#fdca26"
             ],
             [
              1,
              "#f0f921"
             ]
            ],
            "type": "histogram2d"
           }
          ],
          "histogram2dcontour": [
           {
            "colorbar": {
             "outlinewidth": 0,
             "ticks": ""
            },
            "colorscale": [
             [
              0,
              "#0d0887"
             ],
             [
              0.1111111111111111,
              "#46039f"
             ],
             [
              0.2222222222222222,
              "#7201a8"
             ],
             [
              0.3333333333333333,
              "#9c179e"
             ],
             [
              0.4444444444444444,
              "#bd3786"
             ],
             [
              0.5555555555555556,
              "#d8576b"
             ],
             [
              0.6666666666666666,
              "#ed7953"
             ],
             [
              0.7777777777777778,
              "#fb9f3a"
             ],
             [
              0.8888888888888888,
              "#fdca26"
             ],
             [
              1,
              "#f0f921"
             ]
            ],
            "type": "histogram2dcontour"
           }
          ],
          "mesh3d": [
           {
            "colorbar": {
             "outlinewidth": 0,
             "ticks": ""
            },
            "type": "mesh3d"
           }
          ],
          "parcoords": [
           {
            "line": {
             "colorbar": {
              "outlinewidth": 0,
              "ticks": ""
             }
            },
            "type": "parcoords"
           }
          ],
          "pie": [
           {
            "automargin": true,
            "type": "pie"
           }
          ],
          "scatter": [
           {
            "fillpattern": {
             "fillmode": "overlay",
             "size": 10,
             "solidity": 0.2
            },
            "type": "scatter"
           }
          ],
          "scatter3d": [
           {
            "line": {
             "colorbar": {
              "outlinewidth": 0,
              "ticks": ""
             }
            },
            "marker": {
             "colorbar": {
              "outlinewidth": 0,
              "ticks": ""
             }
            },
            "type": "scatter3d"
           }
          ],
          "scattercarpet": [
           {
            "marker": {
             "colorbar": {
              "outlinewidth": 0,
              "ticks": ""
             }
            },
            "type": "scattercarpet"
           }
          ],
          "scattergeo": [
           {
            "marker": {
             "colorbar": {
              "outlinewidth": 0,
              "ticks": ""
             }
            },
            "type": "scattergeo"
           }
          ],
          "scattergl": [
           {
            "marker": {
             "colorbar": {
              "outlinewidth": 0,
              "ticks": ""
             }
            },
            "type": "scattergl"
           }
          ],
          "scattermapbox": [
           {
            "marker": {
             "colorbar": {
              "outlinewidth": 0,
              "ticks": ""
             }
            },
            "type": "scattermapbox"
           }
          ],
          "scatterpolar": [
           {
            "marker": {
             "colorbar": {
              "outlinewidth": 0,
              "ticks": ""
             }
            },
            "type": "scatterpolar"
           }
          ],
          "scatterpolargl": [
           {
            "marker": {
             "colorbar": {
              "outlinewidth": 0,
              "ticks": ""
             }
            },
            "type": "scatterpolargl"
           }
          ],
          "scatterternary": [
           {
            "marker": {
             "colorbar": {
              "outlinewidth": 0,
              "ticks": ""
             }
            },
            "type": "scatterternary"
           }
          ],
          "surface": [
           {
            "colorbar": {
             "outlinewidth": 0,
             "ticks": ""
            },
            "colorscale": [
             [
              0,
              "#0d0887"
             ],
             [
              0.1111111111111111,
              "#46039f"
             ],
             [
              0.2222222222222222,
              "#7201a8"
             ],
             [
              0.3333333333333333,
              "#9c179e"
             ],
             [
              0.4444444444444444,
              "#bd3786"
             ],
             [
              0.5555555555555556,
              "#d8576b"
             ],
             [
              0.6666666666666666,
              "#ed7953"
             ],
             [
              0.7777777777777778,
              "#fb9f3a"
             ],
             [
              0.8888888888888888,
              "#fdca26"
             ],
             [
              1,
              "#f0f921"
             ]
            ],
            "type": "surface"
           }
          ],
          "table": [
           {
            "cells": {
             "fill": {
              "color": "#EBF0F8"
             },
             "line": {
              "color": "white"
             }
            },
            "header": {
             "fill": {
              "color": "#C8D4E3"
             },
             "line": {
              "color": "white"
             }
            },
            "type": "table"
           }
          ]
         },
         "layout": {
          "annotationdefaults": {
           "arrowcolor": "#2a3f5f",
           "arrowhead": 0,
           "arrowwidth": 1
          },
          "autotypenumbers": "strict",
          "coloraxis": {
           "colorbar": {
            "outlinewidth": 0,
            "ticks": ""
           }
          },
          "colorscale": {
           "diverging": [
            [
             0,
             "#8e0152"
            ],
            [
             0.1,
             "#c51b7d"
            ],
            [
             0.2,
             "#de77ae"
            ],
            [
             0.3,
             "#f1b6da"
            ],
            [
             0.4,
             "#fde0ef"
            ],
            [
             0.5,
             "#f7f7f7"
            ],
            [
             0.6,
             "#e6f5d0"
            ],
            [
             0.7,
             "#b8e186"
            ],
            [
             0.8,
             "#7fbc41"
            ],
            [
             0.9,
             "#4d9221"
            ],
            [
             1,
             "#276419"
            ]
           ],
           "sequential": [
            [
             0,
             "#0d0887"
            ],
            [
             0.1111111111111111,
             "#46039f"
            ],
            [
             0.2222222222222222,
             "#7201a8"
            ],
            [
             0.3333333333333333,
             "#9c179e"
            ],
            [
             0.4444444444444444,
             "#bd3786"
            ],
            [
             0.5555555555555556,
             "#d8576b"
            ],
            [
             0.6666666666666666,
             "#ed7953"
            ],
            [
             0.7777777777777778,
             "#fb9f3a"
            ],
            [
             0.8888888888888888,
             "#fdca26"
            ],
            [
             1,
             "#f0f921"
            ]
           ],
           "sequentialminus": [
            [
             0,
             "#0d0887"
            ],
            [
             0.1111111111111111,
             "#46039f"
            ],
            [
             0.2222222222222222,
             "#7201a8"
            ],
            [
             0.3333333333333333,
             "#9c179e"
            ],
            [
             0.4444444444444444,
             "#bd3786"
            ],
            [
             0.5555555555555556,
             "#d8576b"
            ],
            [
             0.6666666666666666,
             "#ed7953"
            ],
            [
             0.7777777777777778,
             "#fb9f3a"
            ],
            [
             0.8888888888888888,
             "#fdca26"
            ],
            [
             1,
             "#f0f921"
            ]
           ]
          },
          "colorway": [
           "#636efa",
           "#EF553B",
           "#00cc96",
           "#ab63fa",
           "#FFA15A",
           "#19d3f3",
           "#FF6692",
           "#B6E880",
           "#FF97FF",
           "#FECB52"
          ],
          "font": {
           "color": "#2a3f5f"
          },
          "geo": {
           "bgcolor": "white",
           "lakecolor": "white",
           "landcolor": "#E5ECF6",
           "showlakes": true,
           "showland": true,
           "subunitcolor": "white"
          },
          "hoverlabel": {
           "align": "left"
          },
          "hovermode": "closest",
          "mapbox": {
           "style": "light"
          },
          "paper_bgcolor": "white",
          "plot_bgcolor": "#E5ECF6",
          "polar": {
           "angularaxis": {
            "gridcolor": "white",
            "linecolor": "white",
            "ticks": ""
           },
           "bgcolor": "#E5ECF6",
           "radialaxis": {
            "gridcolor": "white",
            "linecolor": "white",
            "ticks": ""
           }
          },
          "scene": {
           "xaxis": {
            "backgroundcolor": "#E5ECF6",
            "gridcolor": "white",
            "gridwidth": 2,
            "linecolor": "white",
            "showbackground": true,
            "ticks": "",
            "zerolinecolor": "white"
           },
           "yaxis": {
            "backgroundcolor": "#E5ECF6",
            "gridcolor": "white",
            "gridwidth": 2,
            "linecolor": "white",
            "showbackground": true,
            "ticks": "",
            "zerolinecolor": "white"
           },
           "zaxis": {
            "backgroundcolor": "#E5ECF6",
            "gridcolor": "white",
            "gridwidth": 2,
            "linecolor": "white",
            "showbackground": true,
            "ticks": "",
            "zerolinecolor": "white"
           }
          },
          "shapedefaults": {
           "line": {
            "color": "#2a3f5f"
           }
          },
          "ternary": {
           "aaxis": {
            "gridcolor": "white",
            "linecolor": "white",
            "ticks": ""
           },
           "baxis": {
            "gridcolor": "white",
            "linecolor": "white",
            "ticks": ""
           },
           "bgcolor": "#E5ECF6",
           "caxis": {
            "gridcolor": "white",
            "linecolor": "white",
            "ticks": ""
           }
          },
          "title": {
           "x": 0.05
          },
          "xaxis": {
           "automargin": true,
           "gridcolor": "white",
           "linecolor": "white",
           "ticks": "",
           "title": {
            "standoff": 15
           },
           "zerolinecolor": "white",
           "zerolinewidth": 2
          },
          "yaxis": {
           "automargin": true,
           "gridcolor": "white",
           "linecolor": "white",
           "ticks": "",
           "title": {
            "standoff": 15
           },
           "zerolinecolor": "white",
           "zerolinewidth": 2
          }
         }
        },
        "title": {
         "text": "Correlation Matrix"
        },
        "xaxis": {
         "anchor": "y",
         "constrain": "domain",
         "domain": [
          0,
          1
         ],
         "scaleanchor": "y"
        },
        "yaxis": {
         "anchor": "x",
         "autorange": "reversed",
         "constrain": "domain",
         "domain": [
          0,
          1
         ]
        }
       }
      }
     },
     "metadata": {},
     "output_type": "display_data"
    }
   ],
   "source": [
    "df = landofriyad\n",
    "\n",
    "# Select the specific columns\n",
    "selected_columns = [\"المساحة\", \"سعر المتر\", \"السعر الإجمالي\"]\n",
    "df_selected = df[selected_columns]\n",
    "\n",
    "# Calculate the correlation matrix\n",
    "correlation_matrix = df_selected.corr()\n",
    "\n",
    "# Plot the heatmap\n",
    "fig = px.imshow(correlation_matrix, \n",
    "                labels=dict(color=\"Correlation\"),\n",
    "                x=correlation_matrix.columns,\n",
    "                y=correlation_matrix.columns,\n",
    "                title=\"Correlation Matrix\",\n",
    "                color_continuous_scale='Blues')\n",
    "\n",
    "# Show the plot\n",
    "fig.show()"
   ]
  },
  {
   "cell_type": "code",
   "execution_count": 70,
   "id": "7058c81e",
   "metadata": {},
   "outputs": [
    {
     "data": {
      "application/vnd.plotly.v1+json": {
       "config": {
        "plotlyServerURL": "https://plot.ly"
       },
       "data": [
        {
         "alignmentgroup": "True",
         "hovertemplate": "السعر الإجمالي=%{y}<extra></extra>",
         "legendgroup": "",
         "marker": {
          "color": "#636efa"
         },
         "name": "",
         "notched": false,
         "offsetgroup": "",
         "orientation": "v",
         "showlegend": false,
         "type": "box",
         "x0": " ",
         "xaxis": "x",
         "y": [
          3840000,
          2400000,
          2970000,
          2512500,
          3593700,
          1575000,
          1575000,
          3593700,
          1375000,
          3484800,
          3539250,
          1650000,
          3484800,
          952500,
          902500,
          1277200,
          199920,
          2079000,
          1237500,
          2362500,
          780000,
          780000,
          1487200,
          3702600,
          1696000,
          6000000,
          6000000,
          2250000,
          2475000,
          5604500,
          1442000,
          1080000,
          5880000,
          1696000,
          5128200,
          319500,
          3840000,
          3840000,
          1140000,
          1140000,
          1140000,
          2325000,
          2325000,
          2325000,
          5731900,
          733200,
          881250,
          733200,
          379800,
          316500,
          1318400,
          1133000,
          700650,
          1730000,
          5250000,
          225000,
          562500,
          1764000,
          2100000,
          2625000,
          503100,
          1440000,
          495000,
          419650,
          345000,
          3335000,
          240345,
          630000,
          630000,
          630000,
          188055,
          2385000,
          3975000,
          5499750,
          2610000,
          450000,
          4000000,
          2778700,
          2778700,
          3000000,
          1134000,
          242634,
          754290,
          849600,
          866592,
          404976,
          1260000,
          1135000,
          1339200,
          2100000,
          1350000,
          3648150,
          864000,
          1320000,
          2049690,
          2100000,
          482040,
          1026950,
          1560000,
          1614600,
          1508000,
          1202040,
          3600000,
          900000,
          1500000,
          1029600,
          2970000,
          826200,
          729000,
          729000,
          4860000,
          725400,
          3484800,
          3702600,
          3500000,
          3500000,
          6508000,
          3103650,
          2360000,
          1600000,
          1575000,
          808450,
          1110000,
          1662500,
          1153200,
          1400000,
          3084000,
          1000000,
          1500000,
          2755200,
          1248900,
          4050000,
          4050000,
          4050000,
          3702600,
          499895,
          536800,
          301950,
          1021000,
          825000,
          816000,
          1372800,
          2970000,
          1295000,
          1400,
          5200200,
          4855500,
          682500,
          701610,
          701610,
          3150000,
          399600,
          287712,
          1243200,
          1243200,
          984753,
          984753,
          2199798,
          1299760,
          3216906,
          234360,
          1200353,
          1050000,
          855000,
          1147500,
          5850000,
          1438950,
          1144800,
          1979550,
          2116800,
          1176000,
          192000,
          192000,
          720000,
          1560000,
          4500000,
          2250000,
          3660000,
          3660000,
          750000,
          3134400,
          1417500,
          3134400,
          1790400,
          2065500,
          859350,
          1260000,
          1153600,
          1153600,
          2750000,
          2750000,
          4812500,
          3240000,
          1350000,
          3840000,
          3630000,
          2079000,
          1960000,
          2637500,
          1395280,
          1374750,
          2400000,
          7414400,
          6988800,
          750000,
          405600,
          1170000,
          2160000,
          2637500,
          5400000,
          5400000,
          5400000,
          2512500,
          1507500,
          759943,
          3593700,
          5603000,
          5603000,
          1170000,
          2262000,
          1950000,
          1950000,
          5400000,
          5850000,
          3250000,
          1575000,
          952500,
          416250,
          1277200,
          1395000,
          1602700,
          3500032,
          2205000,
          1935000,
          2116800,
          880000,
          2790000,
          1020000,
          7191000,
          2220200,
          2697000,
          3000000,
          1044000,
          1305000,
          1450000,
          5400000,
          1944000,
          720000,
          199920,
          186116,
          2079000,
          1400000,
          400200,
          1249920,
          735000,
          1152000,
          2650000,
          3750000,
          880000,
          899910,
          899910,
          106880,
          631400,
          1299480,
          199906,
          1382400,
          2500000,
          4500000,
          3000000,
          2304000,
          900000,
          631400,
          900000,
          900000,
          1700000,
          1593750,
          2362500,
          1108800,
          6250000,
          2174400,
          2073600,
          2418000,
          2418000,
          780000,
          1487200,
          3702600,
          2125000,
          1696000,
          1028000,
          6000000,
          4050000,
          267750,
          2475000,
          5604500,
          1199520,
          5959800,
          1442000,
          2700000,
          2700000,
          1080000,
          544320,
          5880000,
          1696000,
          5128200,
          119000,
          2025000,
          1311000,
          3840000,
          2008800,
          5250000,
          3150000,
          250200,
          1140000,
          2325000,
          2704000,
          999990,
          2195100,
          3593700,
          1500800,
          1230120,
          1230120,
          1809500,
          2100000,
          2396800,
          2100000,
          2200000,
          535500,
          1571650,
          733200,
          5664000,
          2760000,
          2250000,
          2250000,
          733200,
          5130000,
          720000,
          720000,
          3134400,
          5400000,
          379800,
          5000000,
          1399950,
          2254350,
          904000,
          390000,
          1318400,
          6400000,
          522000,
          1200000,
          276000,
          1200000,
          5400000,
          5400000,
          5400000,
          720000,
          1750000,
          5250000,
          2139000,
          2025000,
          562500,
          225000,
          562500,
          1764000,
          2100000,
          2079000,
          3360000,
          503100,
          1440000,
          1032500,
          2624600,
          925550,
          1557000,
          1638000,
          1814400,
          230000,
          438725,
          400158,
          637200,
          1080000,
          1318400,
          1465600,
          3810000,
          1331200,
          3493000,
          351000,
          4187000,
          3420000,
          2777800,
          977400,
          977400,
          1350000,
          810000,
          810000,
          155250,
          1260000,
          4320000,
          3456000,
          4950000,
          4928000,
          5400000,
          5400000,
          337500,
          5400000,
          5400000,
          1318400,
          1297800,
          2009700,
          2009700,
          1187460,
          1099500,
          1200000,
          524400,
          1080000,
          480000,
          1800000,
          1192500,
          1590000,
          1192500,
          1149750,
          240345,
          449880,
          2608000,
          2608000,
          1263576,
          4200000,
          880000,
          320000,
          320000,
          320000,
          2704000,
          3104400,
          2334150,
          2385000,
          2610000,
          1260000,
          1260000,
          2060800,
          2100000,
          4000000,
          800000,
          800000,
          1848800,
          1848800,
          468000,
          1998720,
          4913520,
          3600000,
          1599796,
          2778700,
          2778700,
          2775000,
          1357900,
          1134000,
          1350000,
          3000000,
          3000000,
          3000000,
          3000000,
          242634,
          250266,
          158682,
          127200,
          238500,
          1395000,
          394485,
          260100,
          728280,
          655452,
          3600000,
          1665000,
          3185700,
          1800000,
          3879000,
          900000,
          900000,
          2065500,
          675000,
          1937250,
          1899240,
          1921850,
          1982897,
          754880,
          754880,
          1019700,
          1019700,
          2835000,
          2835000,
          1417500,
          1200000,
          900000,
          1335000,
          925000,
          1260000,
          1350000,
          1135000,
          3000000,
          4450950,
          1393600,
          1393600,
          3780000,
          3685500,
          1339200,
          1339200,
          1128600,
          2025000,
          2314200,
          3500000,
          3500000,
          3500000,
          847800,
          337500,
          900000,
          2518400,
          900000,
          720000,
          900000,
          699300,
          1157730,
          935200,
          2049750,
          2120000,
          999900,
          650000,
          1170000,
          812500,
          648700,
          999900,
          2223111,
          999900,
          2000972,
          5307200,
          2756000,
          2520000,
          2467500,
          600000,
          2432000,
          600000,
          600000,
          2226300,
          1449600,
          2512500,
          1080000,
          1267300,
          2512500,
          399760,
          4914000,
          5404000,
          849762,
          2000000,
          849762,
          1800000,
          6586740,
          360000,
          240000,
          4080000,
          429624,
          499851,
          2100000,
          2120000,
          3600000,
          900000,
          900000,
          600000,
          3648150,
          2184000,
          4320000,
          4320000,
          1050000,
          999900,
          864000,
          618690,
          1320000,
          1215000,
          630000,
          2049690,
          482040,
          2100000,
          1050000,
          1496000,
          1900800,
          1980000,
          1998893,
          2184000,
          945000,
          1059750,
          907100,
          2050000,
          3216000,
          2700000,
          1393600,
          703800,
          665310,
          1560000,
          6210000,
          1350000,
          1800000,
          1160000,
          1202040,
          1111887,
          1111887,
          3600000,
          3600000,
          900000,
          900000,
          1500000,
          495000,
          6889000,
          1843000,
          1843000,
          360000,
          2250000,
          936000,
          2700000,
          4050000,
          826200,
          1188000,
          1440000,
          1806250,
          725400,
          1317500,
          499200,
          1008000,
          1049310,
          4340000,
          245700,
          204750,
          491400,
          2801400,
          2970000,
          3702600,
          3484800,
          3484800,
          3500000,
          2801400,
          5820000,
          2367285,
          2367285,
          3103650,
          420300,
          1650000,
          6240000,
          1600000,
          2768000,
          1395000,
          1829000,
          1575000,
          720000,
          600075,
          1600200,
          1200150,
          1600200,
          1600200,
          1153200,
          7440000,
          1662500,
          1395000,
          724500,
          999750,
          4428800,
          2112000,
          469700,
          817600,
          1800000,
          602610,
          715500,
          5715000,
          1400000,
          1000000,
          220900,
          724740,
          724740,
          1500000,
          5852000,
          1500000,
          1404054,
          700000,
          522000,
          1011375,
          1155700,
          1522500,
          587250,
          751800,
          1056160,
          869400,
          1100000,
          2232500,
          1173000,
          1173000,
          2142000,
          1983900,
          461400,
          1570000,
          1570000,
          3600000,
          1041300,
          2803500,
          2880000,
          6720000,
          2970000,
          3300000,
          5915000,
          4050000,
          2970000,
          682500,
          906500,
          3200000,
          686080,
          537600,
          1000000,
          992200,
          2852000,
          1610000,
          542500,
          542500,
          3702600,
          1130000,
          567000,
          590800,
          1680000,
          1680000,
          1064400,
          2245600,
          2245600,
          750329,
          499895,
          690000,
          600000,
          1100736,
          1100736,
          900288,
          2250000,
          576000,
          836000,
          1549800,
          1742400,
          3242200,
          1021000,
          2250000,
          894000,
          1399950,
          816000,
          405000,
          405000,
          2097600,
          681720,
          2018800,
          1149750,
          2000400,
          693472,
          846000,
          1099800,
          1295000,
          3143700,
          3402000,
          369900,
          308250,
          2835000,
          1876000,
          2430000,
          1099800,
          1620000,
          1400,
          1680000,
          2169600,
          441000,
          5200200,
          303490,
          534000,
          1001250,
          1168125,
          1393600,
          2600000,
          1449660,
          1665000,
          1665000,
          500175,
          1000500,
          3054860,
          1000500,
          750375,
          2124000,
          1512000,
          701610,
          1512000,
          682500,
          1307810,
          383500,
          1008000,
          995670,
          3150000,
          399600,
          1115376,
          1585008,
          1230000,
          2656800,
          1030200,
          1122000,
          1800000,
          509250,
          2200000,
          1449600,
          2268000,
          1417500,
          1087500,
          405000,
          819900,
          984753,
          984753,
          2052000,
          750000,
          5200000,
          2844000,
          1550160,
          2450000,
          1748000,
          1748000,
          750000,
          750000,
          598000,
          1299760,
          450000,
          1306800,
          3000000,
          1345500,
          4275000,
          234360,
          1550250,
          3870750,
          2193750,
          2902500,
          1806000,
          400000,
          480000,
          500000,
          2535750,
          1200353,
          1408500,
          1050000,
          6160000,
          1620000,
          2592000,
          1632000,
          100000,
          281250,
          1350000,
          1350000,
          2250000,
          1890000,
          2925000,
          5850000,
          1200000,
          670000,
          385920,
          1920450,
          2304000,
          2499780,
          4000000,
          568100,
          1099800,
          2334150,
          379950,
          1251200,
          300375,
          971613,
          3702600,
          5403125,
          2164500,
          3702600,
          2098080,
          1449600,
          1687500,
          1350000,
          1813500,
          3600000,
          1250000,
          1250000,
          4500000,
          3500000,
          3600589,
          675000,
          2587500,
          845625,
          903350,
          1438000,
          3216000,
          548800,
          548800,
          5775000,
          3528000,
          3465000,
          150000,
          3004000,
          1500000,
          928000,
          2000000,
          440000,
          4499955,
          4680000,
          419400,
          270280,
          378000,
          1125000,
          1815000,
          1132600,
          360000,
          1350000,
          137904,
          724438,
          1500000,
          2500000,
          3600000,
          2240250,
          4635000,
          2633400,
          3437500,
          3480000,
          1200000,
          93600,
          1250000,
          1040000,
          2272400,
          1684800,
          1149750,
          765000,
          765000,
          1149750,
          766500,
          2222850,
          1149750,
          2700000,
          1098300,
          524800,
          720000,
          321750,
          702000,
          953496,
          1328400,
          859500,
          1661700,
          2231250,
          2058000,
          4050000,
          1722000,
          4248000,
          2764800,
          2177100,
          2187500,
          806850,
          696200,
          2812500,
          2610000,
          1500000,
          2812500,
          476100,
          276000,
          1400250,
          1755000,
          2490000,
          838750,
          999900,
          1513400,
          2728000,
          2728000,
          2800000,
          649819,
          945000,
          1125000,
          1099800,
          3276000,
          1539000,
          358050,
          1305000,
          1099693,
          555000,
          4999500,
          581250,
          4999500,
          4999500,
          4999500,
          4999500,
          2160000,
          1665000,
          1627500,
          900000,
          900000,
          2082500,
          3600000,
          682500,
          3430000,
          588750,
          900000,
          877500,
          2610000,
          5862500,
          2400000,
          543750,
          1740000,
          759800,
          2700000,
          1104675,
          2625000,
          2700000,
          1063920,
          1305000,
          2826000,
          499875,
          1786200,
          358200,
          5331550,
          5331550,
          1120000,
          2184500,
          920000,
          3645000,
          280000,
          900000,
          2512500,
          2430000,
          3600000,
          1305000,
          581250,
          649944,
          975000,
          1500000,
          1087500,
          549900,
          4390500,
          3744000,
          1644000,
          689760,
          1342500,
          1209000,
          1100000,
          1062000,
          2763000,
          685100,
          1500000,
          1110000,
          1736000,
          1600000,
          4776300,
          5000000,
          1760000,
          4199400,
          2100000,
          2437500,
          349405,
          2745000,
          1000200,
          3145000,
          2160000,
          2169600,
          1753500,
          3025000,
          3570000,
          2008600,
          1837500,
          7425000,
          2000000,
          2000000,
          2244200,
          3960000,
          2380000,
          2380000,
          3600000,
          3225000,
          3988400,
          3599500,
          469875,
          2394000,
          254940,
          3840000,
          4320000,
          2575000,
          4590000,
          2769350,
          7000136,
          599400,
          749088,
          4680000,
          1025280,
          459000,
          5130000,
          1950000,
          899442,
          500256,
          1500000,
          600000,
          799890,
          6000000,
          6000000,
          1096800,
          2340000,
          1349930,
          1890000,
          4375000,
          762500,
          2310000,
          1920000,
          4125000,
          6000000,
          264600,
          406400,
          1199440,
          543750,
          1584000,
          900000,
          284256,
          499944,
          4875000,
          1980000,
          1085400,
          5880000,
          5880000,
          531300,
          3135000,
          649728,
          6737500,
          799200,
          360000,
          1730400,
          2625000,
          2400000,
          4370000,
          749580,
          1149962,
          2475000,
          5346000,
          399330,
          499824,
          3500000,
          2579200,
          2633400,
          4725000,
          675000,
          318750,
          5580000,
          885000,
          419000,
          937500,
          999700,
          862500,
          900000,
          430200,
          749736,
          333000,
          825000,
          925000,
          2029300,
          400032,
          4499628,
          1550400,
          1512000,
          349896,
          1214400,
          2106000,
          3000600,
          2899800,
          450000,
          4452000,
          5625000,
          1999289,
          5000000,
          959700,
          959700,
          599403,
          600000,
          2499000,
          626000,
          800040
         ],
         "y0": " ",
         "yaxis": "y"
        }
       ],
       "layout": {
        "boxmode": "group",
        "legend": {
         "tracegroupgap": 0
        },
        "margin": {
         "t": 60
        },
        "template": {
         "data": {
          "bar": [
           {
            "error_x": {
             "color": "#2a3f5f"
            },
            "error_y": {
             "color": "#2a3f5f"
            },
            "marker": {
             "line": {
              "color": "#E5ECF6",
              "width": 0.5
             },
             "pattern": {
              "fillmode": "overlay",
              "size": 10,
              "solidity": 0.2
             }
            },
            "type": "bar"
           }
          ],
          "barpolar": [
           {
            "marker": {
             "line": {
              "color": "#E5ECF6",
              "width": 0.5
             },
             "pattern": {
              "fillmode": "overlay",
              "size": 10,
              "solidity": 0.2
             }
            },
            "type": "barpolar"
           }
          ],
          "carpet": [
           {
            "aaxis": {
             "endlinecolor": "#2a3f5f",
             "gridcolor": "white",
             "linecolor": "white",
             "minorgridcolor": "white",
             "startlinecolor": "#2a3f5f"
            },
            "baxis": {
             "endlinecolor": "#2a3f5f",
             "gridcolor": "white",
             "linecolor": "white",
             "minorgridcolor": "white",
             "startlinecolor": "#2a3f5f"
            },
            "type": "carpet"
           }
          ],
          "choropleth": [
           {
            "colorbar": {
             "outlinewidth": 0,
             "ticks": ""
            },
            "type": "choropleth"
           }
          ],
          "contour": [
           {
            "colorbar": {
             "outlinewidth": 0,
             "ticks": ""
            },
            "colorscale": [
             [
              0,
              "#0d0887"
             ],
             [
              0.1111111111111111,
              "#46039f"
             ],
             [
              0.2222222222222222,
              "#7201a8"
             ],
             [
              0.3333333333333333,
              "#9c179e"
             ],
             [
              0.4444444444444444,
              "#bd3786"
             ],
             [
              0.5555555555555556,
              "#d8576b"
             ],
             [
              0.6666666666666666,
              "#ed7953"
             ],
             [
              0.7777777777777778,
              "#fb9f3a"
             ],
             [
              0.8888888888888888,
              "#fdca26"
             ],
             [
              1,
              "#f0f921"
             ]
            ],
            "type": "contour"
           }
          ],
          "contourcarpet": [
           {
            "colorbar": {
             "outlinewidth": 0,
             "ticks": ""
            },
            "type": "contourcarpet"
           }
          ],
          "heatmap": [
           {
            "colorbar": {
             "outlinewidth": 0,
             "ticks": ""
            },
            "colorscale": [
             [
              0,
              "#0d0887"
             ],
             [
              0.1111111111111111,
              "#46039f"
             ],
             [
              0.2222222222222222,
              "#7201a8"
             ],
             [
              0.3333333333333333,
              "#9c179e"
             ],
             [
              0.4444444444444444,
              "#bd3786"
             ],
             [
              0.5555555555555556,
              "#d8576b"
             ],
             [
              0.6666666666666666,
              "#ed7953"
             ],
             [
              0.7777777777777778,
              "#fb9f3a"
             ],
             [
              0.8888888888888888,
              "#fdca26"
             ],
             [
              1,
              "#f0f921"
             ]
            ],
            "type": "heatmap"
           }
          ],
          "heatmapgl": [
           {
            "colorbar": {
             "outlinewidth": 0,
             "ticks": ""
            },
            "colorscale": [
             [
              0,
              "#0d0887"
             ],
             [
              0.1111111111111111,
              "#46039f"
             ],
             [
              0.2222222222222222,
              "#7201a8"
             ],
             [
              0.3333333333333333,
              "#9c179e"
             ],
             [
              0.4444444444444444,
              "#bd3786"
             ],
             [
              0.5555555555555556,
              "#d8576b"
             ],
             [
              0.6666666666666666,
              "#ed7953"
             ],
             [
              0.7777777777777778,
              "#fb9f3a"
             ],
             [
              0.8888888888888888,
              "#fdca26"
             ],
             [
              1,
              "#f0f921"
             ]
            ],
            "type": "heatmapgl"
           }
          ],
          "histogram": [
           {
            "marker": {
             "pattern": {
              "fillmode": "overlay",
              "size": 10,
              "solidity": 0.2
             }
            },
            "type": "histogram"
           }
          ],
          "histogram2d": [
           {
            "colorbar": {
             "outlinewidth": 0,
             "ticks": ""
            },
            "colorscale": [
             [
              0,
              "#0d0887"
             ],
             [
              0.1111111111111111,
              "#46039f"
             ],
             [
              0.2222222222222222,
              "#7201a8"
             ],
             [
              0.3333333333333333,
              "#9c179e"
             ],
             [
              0.4444444444444444,
              "#bd3786"
             ],
             [
              0.5555555555555556,
              "#d8576b"
             ],
             [
              0.6666666666666666,
              "#ed7953"
             ],
             [
              0.7777777777777778,
              "#fb9f3a"
             ],
             [
              0.8888888888888888,
              "#fdca26"
             ],
             [
              1,
              "#f0f921"
             ]
            ],
            "type": "histogram2d"
           }
          ],
          "histogram2dcontour": [
           {
            "colorbar": {
             "outlinewidth": 0,
             "ticks": ""
            },
            "colorscale": [
             [
              0,
              "#0d0887"
             ],
             [
              0.1111111111111111,
              "#46039f"
             ],
             [
              0.2222222222222222,
              "#7201a8"
             ],
             [
              0.3333333333333333,
              "#9c179e"
             ],
             [
              0.4444444444444444,
              "#bd3786"
             ],
             [
              0.5555555555555556,
              "#d8576b"
             ],
             [
              0.6666666666666666,
              "#ed7953"
             ],
             [
              0.7777777777777778,
              "#fb9f3a"
             ],
             [
              0.8888888888888888,
              "#fdca26"
             ],
             [
              1,
              "#f0f921"
             ]
            ],
            "type": "histogram2dcontour"
           }
          ],
          "mesh3d": [
           {
            "colorbar": {
             "outlinewidth": 0,
             "ticks": ""
            },
            "type": "mesh3d"
           }
          ],
          "parcoords": [
           {
            "line": {
             "colorbar": {
              "outlinewidth": 0,
              "ticks": ""
             }
            },
            "type": "parcoords"
           }
          ],
          "pie": [
           {
            "automargin": true,
            "type": "pie"
           }
          ],
          "scatter": [
           {
            "fillpattern": {
             "fillmode": "overlay",
             "size": 10,
             "solidity": 0.2
            },
            "type": "scatter"
           }
          ],
          "scatter3d": [
           {
            "line": {
             "colorbar": {
              "outlinewidth": 0,
              "ticks": ""
             }
            },
            "marker": {
             "colorbar": {
              "outlinewidth": 0,
              "ticks": ""
             }
            },
            "type": "scatter3d"
           }
          ],
          "scattercarpet": [
           {
            "marker": {
             "colorbar": {
              "outlinewidth": 0,
              "ticks": ""
             }
            },
            "type": "scattercarpet"
           }
          ],
          "scattergeo": [
           {
            "marker": {
             "colorbar": {
              "outlinewidth": 0,
              "ticks": ""
             }
            },
            "type": "scattergeo"
           }
          ],
          "scattergl": [
           {
            "marker": {
             "colorbar": {
              "outlinewidth": 0,
              "ticks": ""
             }
            },
            "type": "scattergl"
           }
          ],
          "scattermapbox": [
           {
            "marker": {
             "colorbar": {
              "outlinewidth": 0,
              "ticks": ""
             }
            },
            "type": "scattermapbox"
           }
          ],
          "scatterpolar": [
           {
            "marker": {
             "colorbar": {
              "outlinewidth": 0,
              "ticks": ""
             }
            },
            "type": "scatterpolar"
           }
          ],
          "scatterpolargl": [
           {
            "marker": {
             "colorbar": {
              "outlinewidth": 0,
              "ticks": ""
             }
            },
            "type": "scatterpolargl"
           }
          ],
          "scatterternary": [
           {
            "marker": {
             "colorbar": {
              "outlinewidth": 0,
              "ticks": ""
             }
            },
            "type": "scatterternary"
           }
          ],
          "surface": [
           {
            "colorbar": {
             "outlinewidth": 0,
             "ticks": ""
            },
            "colorscale": [
             [
              0,
              "#0d0887"
             ],
             [
              0.1111111111111111,
              "#46039f"
             ],
             [
              0.2222222222222222,
              "#7201a8"
             ],
             [
              0.3333333333333333,
              "#9c179e"
             ],
             [
              0.4444444444444444,
              "#bd3786"
             ],
             [
              0.5555555555555556,
              "#d8576b"
             ],
             [
              0.6666666666666666,
              "#ed7953"
             ],
             [
              0.7777777777777778,
              "#fb9f3a"
             ],
             [
              0.8888888888888888,
              "#fdca26"
             ],
             [
              1,
              "#f0f921"
             ]
            ],
            "type": "surface"
           }
          ],
          "table": [
           {
            "cells": {
             "fill": {
              "color": "#EBF0F8"
             },
             "line": {
              "color": "white"
             }
            },
            "header": {
             "fill": {
              "color": "#C8D4E3"
             },
             "line": {
              "color": "white"
             }
            },
            "type": "table"
           }
          ]
         },
         "layout": {
          "annotationdefaults": {
           "arrowcolor": "#2a3f5f",
           "arrowhead": 0,
           "arrowwidth": 1
          },
          "autotypenumbers": "strict",
          "coloraxis": {
           "colorbar": {
            "outlinewidth": 0,
            "ticks": ""
           }
          },
          "colorscale": {
           "diverging": [
            [
             0,
             "#8e0152"
            ],
            [
             0.1,
             "#c51b7d"
            ],
            [
             0.2,
             "#de77ae"
            ],
            [
             0.3,
             "#f1b6da"
            ],
            [
             0.4,
             "#fde0ef"
            ],
            [
             0.5,
             "#f7f7f7"
            ],
            [
             0.6,
             "#e6f5d0"
            ],
            [
             0.7,
             "#b8e186"
            ],
            [
             0.8,
             "#7fbc41"
            ],
            [
             0.9,
             "#4d9221"
            ],
            [
             1,
             "#276419"
            ]
           ],
           "sequential": [
            [
             0,
             "#0d0887"
            ],
            [
             0.1111111111111111,
             "#46039f"
            ],
            [
             0.2222222222222222,
             "#7201a8"
            ],
            [
             0.3333333333333333,
             "#9c179e"
            ],
            [
             0.4444444444444444,
             "#bd3786"
            ],
            [
             0.5555555555555556,
             "#d8576b"
            ],
            [
             0.6666666666666666,
             "#ed7953"
            ],
            [
             0.7777777777777778,
             "#fb9f3a"
            ],
            [
             0.8888888888888888,
             "#fdca26"
            ],
            [
             1,
             "#f0f921"
            ]
           ],
           "sequentialminus": [
            [
             0,
             "#0d0887"
            ],
            [
             0.1111111111111111,
             "#46039f"
            ],
            [
             0.2222222222222222,
             "#7201a8"
            ],
            [
             0.3333333333333333,
             "#9c179e"
            ],
            [
             0.4444444444444444,
             "#bd3786"
            ],
            [
             0.5555555555555556,
             "#d8576b"
            ],
            [
             0.6666666666666666,
             "#ed7953"
            ],
            [
             0.7777777777777778,
             "#fb9f3a"
            ],
            [
             0.8888888888888888,
             "#fdca26"
            ],
            [
             1,
             "#f0f921"
            ]
           ]
          },
          "colorway": [
           "#636efa",
           "#EF553B",
           "#00cc96",
           "#ab63fa",
           "#FFA15A",
           "#19d3f3",
           "#FF6692",
           "#B6E880",
           "#FF97FF",
           "#FECB52"
          ],
          "font": {
           "color": "#2a3f5f"
          },
          "geo": {
           "bgcolor": "white",
           "lakecolor": "white",
           "landcolor": "#E5ECF6",
           "showlakes": true,
           "showland": true,
           "subunitcolor": "white"
          },
          "hoverlabel": {
           "align": "left"
          },
          "hovermode": "closest",
          "mapbox": {
           "style": "light"
          },
          "paper_bgcolor": "white",
          "plot_bgcolor": "#E5ECF6",
          "polar": {
           "angularaxis": {
            "gridcolor": "white",
            "linecolor": "white",
            "ticks": ""
           },
           "bgcolor": "#E5ECF6",
           "radialaxis": {
            "gridcolor": "white",
            "linecolor": "white",
            "ticks": ""
           }
          },
          "scene": {
           "xaxis": {
            "backgroundcolor": "#E5ECF6",
            "gridcolor": "white",
            "gridwidth": 2,
            "linecolor": "white",
            "showbackground": true,
            "ticks": "",
            "zerolinecolor": "white"
           },
           "yaxis": {
            "backgroundcolor": "#E5ECF6",
            "gridcolor": "white",
            "gridwidth": 2,
            "linecolor": "white",
            "showbackground": true,
            "ticks": "",
            "zerolinecolor": "white"
           },
           "zaxis": {
            "backgroundcolor": "#E5ECF6",
            "gridcolor": "white",
            "gridwidth": 2,
            "linecolor": "white",
            "showbackground": true,
            "ticks": "",
            "zerolinecolor": "white"
           }
          },
          "shapedefaults": {
           "line": {
            "color": "#2a3f5f"
           }
          },
          "ternary": {
           "aaxis": {
            "gridcolor": "white",
            "linecolor": "white",
            "ticks": ""
           },
           "baxis": {
            "gridcolor": "white",
            "linecolor": "white",
            "ticks": ""
           },
           "bgcolor": "#E5ECF6",
           "caxis": {
            "gridcolor": "white",
            "linecolor": "white",
            "ticks": ""
           }
          },
          "title": {
           "x": 0.05
          },
          "xaxis": {
           "automargin": true,
           "gridcolor": "white",
           "linecolor": "white",
           "ticks": "",
           "title": {
            "standoff": 15
           },
           "zerolinecolor": "white",
           "zerolinewidth": 2
          },
          "yaxis": {
           "automargin": true,
           "gridcolor": "white",
           "linecolor": "white",
           "ticks": "",
           "title": {
            "standoff": 15
           },
           "zerolinecolor": "white",
           "zerolinewidth": 2
          }
         }
        },
        "xaxis": {
         "anchor": "y",
         "domain": [
          0,
          1
         ]
        },
        "yaxis": {
         "anchor": "x",
         "domain": [
          0,
          1
         ],
         "title": {
          "text": "السعر الإجمالي"
         }
        }
       }
      }
     },
     "metadata": {},
     "output_type": "display_data"
    }
   ],
   "source": [
    "fullprice"
   ]
  },
  {
   "cell_type": "code",
   "execution_count": 326,
   "id": "18c03074",
   "metadata": {},
   "outputs": [
    {
     "data": {
      "application/vnd.plotly.v1+json": {
       "config": {
        "plotlyServerURL": "https://plot.ly"
       },
       "data": [
        {
         "alignmentgroup": "True",
         "hovertemplate": "السعر الإجمالي=%{y}<extra></extra>",
         "legendgroup": "",
         "marker": {
          "color": "#636efa"
         },
         "name": "",
         "notched": false,
         "offsetgroup": "",
         "orientation": "v",
         "showlegend": false,
         "type": "box",
         "x0": " ",
         "xaxis": "x",
         "y": [
          3840000,
          7920000,
          7920000,
          2400000,
          7920000,
          2970000,
          2512500,
          3593700,
          1575000,
          1575000,
          1375000,
          3484800,
          3539250,
          1650000,
          9894400,
          952500,
          902500,
          1277200,
          199920,
          2079000,
          1237500,
          2362500,
          780000,
          1487200,
          3702600,
          1696000,
          6000000,
          2250000,
          2475000,
          5604500,
          1442000,
          1080000,
          5880000,
          5128200,
          319500,
          3840000,
          1140000,
          1140000,
          2325000,
          2325000,
          5731900,
          733200,
          881250,
          733200,
          379800,
          316500,
          1318400,
          11042200,
          1133000,
          700650,
          1730000,
          5250000,
          12430000,
          11088000,
          17182000,
          225000,
          562500,
          60210000,
          1764000,
          2100000,
          2625000,
          24000000,
          503100,
          1440000,
          495000,
          419650,
          345000,
          3335000,
          44550000,
          25350000,
          240345,
          630000,
          630000,
          188055,
          2385000,
          3975000,
          5499750,
          2610000,
          450000,
          4000000,
          8028000,
          2778700,
          3000000,
          1134000,
          242634,
          754290,
          849600,
          866592,
          404976,
          1260000,
          1135000,
          1339200,
          2100000,
          1350000,
          3648150,
          864000,
          1320000,
          2049690,
          2100000,
          482040,
          1026950,
          1560000,
          1614600,
          1508000,
          1202040,
          26100000,
          3600000,
          900000,
          1500000,
          1029600,
          2970000,
          826200,
          729000,
          4860000,
          725400,
          9240000,
          3702600,
          3500000,
          6508000,
          3103650,
          2360000,
          1600000,
          1575000,
          808450,
          1110000,
          1662500,
          1153200,
          72000000,
          26890500,
          1400000,
          3084000,
          1000000,
          1500000,
          2755200,
          1248900,
          4050000,
          4050000,
          499895,
          536800,
          301950,
          1021000,
          825000,
          816000,
          1372800,
          2970000,
          8984000,
          1295000,
          1400,
          5200200,
          8125000,
          8125000,
          4855500,
          682500,
          701610,
          701610,
          3150000,
          399600,
          287712,
          1243200,
          984753,
          984753,
          2199798,
          1299760,
          3216906,
          234360,
          1200353,
          1050000,
          855000,
          1147500,
          5850000,
          1438950,
          1144800,
          1979550,
          2116800,
          1176000,
          192000,
          720000,
          1560000,
          4500000,
          2250000,
          3660000,
          3660000,
          750000,
          3134400,
          1417500,
          1790400,
          8800000,
          2065500,
          859350,
          1260000,
          1153600,
          1153600,
          21656600,
          2750000,
          2750000,
          4812500,
          3240000,
          1350000,
          3630000,
          1960000,
          2637500,
          1395280,
          1374750,
          7414400,
          6988800,
          47190000,
          8500000,
          13000000,
          750000,
          26246000,
          54996732,
          8250000,
          405600,
          1170000,
          2160000,
          2637500,
          5400000,
          5400000,
          1507500,
          759943,
          5603000,
          1170000,
          2262000,
          1950000,
          5400000,
          5850000,
          3250000,
          416250,
          1395000,
          1602700,
          3500032,
          7989575,
          2205000,
          1935000,
          9594000,
          2116800,
          880000,
          2790000,
          1020000,
          7191000,
          2220200,
          2697000,
          7875000,
          3000000,
          1044000,
          1305000,
          1450000,
          5400000,
          18000000,
          1944000,
          720000,
          199920,
          186116,
          1400000,
          400200,
          1249920,
          735000,
          1152000,
          7660800,
          2650000,
          20000000,
          3750000,
          899910,
          106880,
          631400,
          1299480,
          199906,
          1382400,
          2500000,
          4500000,
          3000000,
          2304000,
          900000,
          1700000,
          1593750,
          1108800,
          9280000,
          28160000,
          6250000,
          2174400,
          2073600,
          2418000,
          780000,
          1487200,
          2125000,
          1028000,
          11200000,
          4050000,
          15120000,
          267750,
          14999460,
          1199520,
          5959800,
          2700000,
          544320,
          119000,
          2025000,
          1311000,
          2008800,
          5250000,
          3150000,
          250200,
          2704000,
          999990,
          2195100,
          3593700,
          19500000,
          19870000,
          1500800,
          1230120,
          1809500,
          2100000,
          2396800,
          2200000,
          535500,
          1571650,
          5664000,
          2760000,
          2250000,
          2250000,
          5130000,
          720000,
          720000,
          13520032,
          3134400,
          379800,
          5000000,
          1399950,
          2254350,
          904000,
          390000,
          6400000,
          522000,
          1200000,
          26966000,
          276000,
          5400000,
          1750000,
          2139000,
          2025000,
          562500,
          60210000,
          2079000,
          24000000,
          24000000,
          3360000,
          503100,
          1440000,
          15300000,
          1032500,
          2624600,
          925550,
          1557000,
          1638000,
          1814400,
          230000,
          438725,
          400158,
          637200,
          1080000,
          1318400,
          1465600,
          7875000,
          3810000,
          1331200,
          3493000,
          351000,
          4187000,
          3420000,
          2777800,
          17000000,
          977400,
          1350000,
          810000,
          810000,
          27783000,
          155250,
          1260000,
          4320000,
          3456000,
          4950000,
          4928000,
          5400000,
          337500,
          1297800,
          2009700,
          1187460,
          1099500,
          1200000,
          44505000,
          524400,
          1080000,
          480000,
          1800000,
          1192500,
          1590000,
          24000000,
          1149750,
          449880,
          2608000,
          2608000,
          1263576,
          4200000,
          320000,
          320000,
          3104400,
          2334150,
          58500000,
          2385000,
          2610000,
          1260000,
          1260000,
          2060800,
          2100000,
          800000,
          1848800,
          468000,
          1998720,
          4913520,
          3600000,
          1599796,
          2775000,
          1357900,
          1350000,
          3000000,
          3000000,
          3000000,
          3000000,
          250266,
          158682,
          127200,
          238500,
          1395000,
          394485,
          260100,
          728280,
          655452,
          3600000,
          1665000,
          9357300,
          3185700,
          1800000,
          3879000,
          900000,
          2065500,
          675000,
          1937250,
          1899240,
          1921850,
          1982897,
          754880,
          754880,
          1019700,
          1019700,
          2835000,
          2835000,
          1417500,
          1200000,
          900000,
          1335000,
          925000,
          1350000,
          1135000,
          3000000,
          4450950,
          8400000,
          8400000,
          1393600,
          1393600,
          3780000,
          3685500,
          1339200,
          1339200,
          1128600,
          2025000,
          2314200,
          3500000,
          3500000,
          847800,
          337500,
          900000,
          2518400,
          900000,
          720000,
          900000,
          699300,
          1157730,
          935200,
          2049750,
          2120000,
          999900,
          650000,
          1170000,
          812500,
          648700,
          999900,
          2223111,
          999900,
          2000972,
          5307200,
          12604600,
          12604600,
          12555000,
          2756000,
          2520000,
          2467500,
          9686700,
          31080000,
          41965000,
          600000,
          2432000,
          600000,
          2226300,
          1449600,
          2512500,
          1080000,
          11365200,
          1267300,
          399760,
          4914000,
          5404000,
          849762,
          2000000,
          1800000,
          17999800,
          42962160,
          6586740,
          44050060,
          44050060,
          43812700,
          43516000,
          43516000,
          44050060,
          360000,
          240000,
          10446000,
          4080000,
          429624,
          499851,
          2120000,
          3600000,
          900000,
          600000,
          2184000,
          1050000,
          999900,
          618690,
          1215000,
          630000,
          1050000,
          1496000,
          1900800,
          1980000,
          1998893,
          10050000,
          2184000,
          945000,
          1059750,
          907100,
          10000500,
          2050000,
          3216000,
          2700000,
          703800,
          665310,
          7805973,
          12000000,
          12000000,
          18000000,
          6210000,
          1800000,
          1160000,
          1111887,
          3600000,
          8960000,
          900000,
          495000,
          6889000,
          1843000,
          1843000,
          360000,
          24651000,
          2250000,
          936000,
          2700000,
          11812500,
          4050000,
          1188000,
          1440000,
          1806250,
          7650000,
          725400,
          1317500,
          499200,
          1008000,
          9240000,
          1049310,
          4340000,
          245700,
          204750,
          491400,
          2801400,
          2970000,
          3484800,
          3484800,
          3500000,
          5820000,
          2367285,
          2367285,
          3103650,
          420300,
          1650000,
          6240000,
          36212000,
          1600000,
          2768000,
          1395000,
          1829000,
          1575000,
          720000,
          600075,
          1600200,
          1200150,
          1600200,
          1153200,
          7440000,
          1662500,
          724500,
          12600000,
          999750,
          4428800,
          2112000,
          70022400,
          469700,
          817600,
          8199800,
          29680000,
          1800000,
          602610,
          715500,
          5715000,
          1400000,
          40000000,
          1000000,
          220900,
          724740,
          5852000,
          1404054,
          700000,
          522000,
          1011375,
          1155700,
          1522500,
          587250,
          751800,
          1056160,
          869400,
          1100000,
          2232500,
          1173000,
          1173000,
          2142000,
          1983900,
          461400,
          1570000,
          1570000,
          3600000,
          1041300,
          2803500,
          2880000,
          6720000,
          2970000,
          3300000,
          5915000,
          2970000,
          682500,
          8750000,
          906500,
          3200000,
          686080,
          537600,
          1000000,
          992200,
          2852000,
          1610000,
          542500,
          1130000,
          567000,
          590800,
          1680000,
          1064400,
          2245600,
          2245600,
          750329,
          499895,
          690000,
          600000,
          1100736,
          900288,
          2250000,
          576000,
          836000,
          1549800,
          1742400,
          3242200,
          7963400,
          1021000,
          2250000,
          894000,
          1399950,
          816000,
          405000,
          2097600,
          681720,
          2018800,
          20874000,
          1149750,
          2000400,
          693472,
          17000000,
          8984000,
          9669600,
          846000,
          1099800,
          8649940,
          1295000,
          3143700,
          3402000,
          369900,
          308250,
          2835000,
          1876000,
          2430000,
          1099800,
          1620000,
          1400,
          1680000,
          2169600,
          441000,
          5200200,
          303490,
          534000,
          1001250,
          1168125,
          12836025,
          2600000,
          1449660,
          8125000,
          1665000,
          500175,
          1000500,
          3054860,
          1000500,
          750375,
          2124000,
          1512000,
          701610,
          1512000,
          682500,
          1307810,
          383500,
          1008000,
          995670,
          9530400,
          9530400,
          3150000,
          399600,
          1115376,
          1585008,
          1230000,
          2656800,
          1030200,
          1122000,
          1800000,
          509250,
          29315000,
          18200000,
          2200000,
          1449600,
          2268000,
          1417500,
          1087500,
          405000,
          819900,
          984753,
          984753,
          21298500,
          2052000,
          750000,
          5200000,
          2844000,
          1550160,
          2450000,
          1748000,
          750000,
          750000,
          598000,
          450000,
          1306800,
          3000000,
          1345500,
          850500000,
          4275000,
          1550250,
          3870750,
          2193750,
          2902500,
          1806000,
          400000,
          480000,
          500000,
          2535750,
          1408500,
          1050000,
          6160000,
          1620000,
          2592000,
          1632000,
          100000,
          281250,
          1350000,
          2250000,
          1890000,
          2925000,
          670000,
          385920,
          1920450,
          2304000,
          2499780,
          4000000,
          568100,
          1099800,
          2334150,
          379950,
          48000000,
          1251200,
          300375,
          971613,
          9780000,
          5403125,
          2164500,
          2098080,
          1449600,
          1687500,
          1350000,
          1813500,
          3600000,
          1250000,
          4500000,
          3500000,
          11999700,
          3600589,
          675000,
          2587500,
          845625,
          903350,
          1438000,
          3216000,
          548800,
          548800,
          5775000,
          3528000,
          3465000,
          150000,
          9000600,
          3004000,
          1500000,
          928000,
          2000000,
          440000,
          4499955,
          4680000,
          419400,
          270280,
          378000,
          1125000,
          1815000,
          22022000,
          1132600,
          360000,
          1350000,
          24500000,
          137904,
          724438,
          1500000,
          33856000,
          2500000,
          2240250,
          4635000,
          49440000,
          2633400,
          3437500,
          3480000,
          1200000,
          93600,
          1250000,
          1040000,
          2272400,
          12480000,
          1684800,
          7800000,
          7800000,
          765000,
          765000,
          766500,
          2222850,
          1149750,
          2700000,
          1098300,
          524800,
          720000,
          321750,
          702000,
          953496,
          1328400,
          859500,
          1661700,
          2231250,
          2058000,
          4050000,
          1722000,
          4248000,
          2764800,
          2177100,
          2187500,
          806850,
          696200,
          2812500,
          2610000,
          1500000,
          2812500,
          476100,
          276000,
          1400250,
          1755000,
          2490000,
          838750,
          31500000,
          999900,
          1513400,
          2728000,
          2728000,
          2800000,
          649819,
          945000,
          1125000,
          1099800,
          3276000,
          1539000,
          358050,
          1305000,
          1099693,
          19998735,
          555000,
          4999500,
          581250,
          4999500,
          4999500,
          2160000,
          1665000,
          1627500,
          900000,
          900000,
          2082500,
          3600000,
          682500,
          3430000,
          588750,
          10163900,
          900000,
          877500,
          5862500,
          2400000,
          543750,
          1740000,
          759800,
          2700000,
          1104675,
          2625000,
          1063920,
          1305000,
          2826000,
          499875,
          1786200,
          358200,
          5331550,
          5331550,
          1120000,
          2184500,
          920000,
          3645000,
          280000,
          900000,
          2512500,
          2430000,
          19450000,
          3600000,
          1305000,
          581250,
          649944,
          975000,
          1500000,
          1087500,
          549900,
          4390500,
          3744000,
          1644000,
          689760,
          1342500,
          1209000,
          1100000,
          1062000,
          10500000,
          2763000,
          685100,
          1500000,
          1110000,
          1736000,
          7802000,
          12500000,
          12500000,
          1600000,
          4776300,
          8405600,
          16640000,
          16640000,
          5000000,
          24000600,
          1760000,
          4199400,
          2100000,
          2437500,
          349405,
          2745000,
          15600000,
          1000200,
          3145000,
          2160000,
          2169600,
          1753500,
          3025000,
          3570000,
          2008600,
          1837500,
          7425000,
          2000000,
          2000000,
          2244200,
          3960000,
          2380000,
          3600000,
          3225000,
          3988400,
          3599500,
          469875,
          2394000,
          254940,
          3840000,
          2575000,
          9408000,
          4590000,
          2769350,
          7000136,
          599400,
          749088,
          4680000,
          1025280,
          459000,
          5130000,
          1950000,
          899442,
          500256,
          1500000,
          600000,
          799890,
          6000000,
          6000000,
          1096800,
          2340000,
          7875000,
          1349930,
          1890000,
          4375000,
          762500,
          2310000,
          1920000,
          4125000,
          6000000,
          264600,
          406400,
          1199440,
          543750,
          70000000,
          1584000,
          8144300,
          900000,
          11507200,
          284256,
          499944,
          10000000,
          4875000,
          1980000,
          1085400,
          5880000,
          531300,
          3135000,
          649728,
          6737500,
          799200,
          360000,
          1730400,
          2625000,
          2400000,
          4370000,
          749580,
          13250000,
          1149962,
          2475000,
          5346000,
          399330,
          434541800,
          434541800,
          499824,
          8778000,
          16205000,
          16205000,
          3500000,
          2579200,
          4725000,
          675000,
          318750,
          5580000,
          885000,
          419000,
          937500,
          999700,
          8400000,
          20655000,
          862500,
          900000,
          430200,
          25070000,
          749736,
          333000,
          825000,
          925000,
          2029300,
          400032,
          4499628,
          1550400,
          96755000,
          1512000,
          349896,
          1214400,
          2106000,
          3000600,
          2899800,
          450000,
          4452000,
          10000000,
          5625000,
          1999289,
          5000000,
          959700,
          959700,
          599403,
          600000,
          2499000,
          626000,
          800040
         ],
         "y0": " ",
         "yaxis": "y"
        }
       ],
       "layout": {
        "boxmode": "group",
        "legend": {
         "tracegroupgap": 0
        },
        "margin": {
         "t": 60
        },
        "template": {
         "data": {
          "bar": [
           {
            "error_x": {
             "color": "#2a3f5f"
            },
            "error_y": {
             "color": "#2a3f5f"
            },
            "marker": {
             "line": {
              "color": "#E5ECF6",
              "width": 0.5
             },
             "pattern": {
              "fillmode": "overlay",
              "size": 10,
              "solidity": 0.2
             }
            },
            "type": "bar"
           }
          ],
          "barpolar": [
           {
            "marker": {
             "line": {
              "color": "#E5ECF6",
              "width": 0.5
             },
             "pattern": {
              "fillmode": "overlay",
              "size": 10,
              "solidity": 0.2
             }
            },
            "type": "barpolar"
           }
          ],
          "carpet": [
           {
            "aaxis": {
             "endlinecolor": "#2a3f5f",
             "gridcolor": "white",
             "linecolor": "white",
             "minorgridcolor": "white",
             "startlinecolor": "#2a3f5f"
            },
            "baxis": {
             "endlinecolor": "#2a3f5f",
             "gridcolor": "white",
             "linecolor": "white",
             "minorgridcolor": "white",
             "startlinecolor": "#2a3f5f"
            },
            "type": "carpet"
           }
          ],
          "choropleth": [
           {
            "colorbar": {
             "outlinewidth": 0,
             "ticks": ""
            },
            "type": "choropleth"
           }
          ],
          "contour": [
           {
            "colorbar": {
             "outlinewidth": 0,
             "ticks": ""
            },
            "colorscale": [
             [
              0,
              "#0d0887"
             ],
             [
              0.1111111111111111,
              "#46039f"
             ],
             [
              0.2222222222222222,
              "#7201a8"
             ],
             [
              0.3333333333333333,
              "#9c179e"
             ],
             [
              0.4444444444444444,
              "#bd3786"
             ],
             [
              0.5555555555555556,
              "#d8576b"
             ],
             [
              0.6666666666666666,
              "#ed7953"
             ],
             [
              0.7777777777777778,
              "#fb9f3a"
             ],
             [
              0.8888888888888888,
              "#fdca26"
             ],
             [
              1,
              "#f0f921"
             ]
            ],
            "type": "contour"
           }
          ],
          "contourcarpet": [
           {
            "colorbar": {
             "outlinewidth": 0,
             "ticks": ""
            },
            "type": "contourcarpet"
           }
          ],
          "heatmap": [
           {
            "colorbar": {
             "outlinewidth": 0,
             "ticks": ""
            },
            "colorscale": [
             [
              0,
              "#0d0887"
             ],
             [
              0.1111111111111111,
              "#46039f"
             ],
             [
              0.2222222222222222,
              "#7201a8"
             ],
             [
              0.3333333333333333,
              "#9c179e"
             ],
             [
              0.4444444444444444,
              "#bd3786"
             ],
             [
              0.5555555555555556,
              "#d8576b"
             ],
             [
              0.6666666666666666,
              "#ed7953"
             ],
             [
              0.7777777777777778,
              "#fb9f3a"
             ],
             [
              0.8888888888888888,
              "#fdca26"
             ],
             [
              1,
              "#f0f921"
             ]
            ],
            "type": "heatmap"
           }
          ],
          "heatmapgl": [
           {
            "colorbar": {
             "outlinewidth": 0,
             "ticks": ""
            },
            "colorscale": [
             [
              0,
              "#0d0887"
             ],
             [
              0.1111111111111111,
              "#46039f"
             ],
             [
              0.2222222222222222,
              "#7201a8"
             ],
             [
              0.3333333333333333,
              "#9c179e"
             ],
             [
              0.4444444444444444,
              "#bd3786"
             ],
             [
              0.5555555555555556,
              "#d8576b"
             ],
             [
              0.6666666666666666,
              "#ed7953"
             ],
             [
              0.7777777777777778,
              "#fb9f3a"
             ],
             [
              0.8888888888888888,
              "#fdca26"
             ],
             [
              1,
              "#f0f921"
             ]
            ],
            "type": "heatmapgl"
           }
          ],
          "histogram": [
           {
            "marker": {
             "pattern": {
              "fillmode": "overlay",
              "size": 10,
              "solidity": 0.2
             }
            },
            "type": "histogram"
           }
          ],
          "histogram2d": [
           {
            "colorbar": {
             "outlinewidth": 0,
             "ticks": ""
            },
            "colorscale": [
             [
              0,
              "#0d0887"
             ],
             [
              0.1111111111111111,
              "#46039f"
             ],
             [
              0.2222222222222222,
              "#7201a8"
             ],
             [
              0.3333333333333333,
              "#9c179e"
             ],
             [
              0.4444444444444444,
              "#bd3786"
             ],
             [
              0.5555555555555556,
              "#d8576b"
             ],
             [
              0.6666666666666666,
              "#ed7953"
             ],
             [
              0.7777777777777778,
              "#fb9f3a"
             ],
             [
              0.8888888888888888,
              "#fdca26"
             ],
             [
              1,
              "#f0f921"
             ]
            ],
            "type": "histogram2d"
           }
          ],
          "histogram2dcontour": [
           {
            "colorbar": {
             "outlinewidth": 0,
             "ticks": ""
            },
            "colorscale": [
             [
              0,
              "#0d0887"
             ],
             [
              0.1111111111111111,
              "#46039f"
             ],
             [
              0.2222222222222222,
              "#7201a8"
             ],
             [
              0.3333333333333333,
              "#9c179e"
             ],
             [
              0.4444444444444444,
              "#bd3786"
             ],
             [
              0.5555555555555556,
              "#d8576b"
             ],
             [
              0.6666666666666666,
              "#ed7953"
             ],
             [
              0.7777777777777778,
              "#fb9f3a"
             ],
             [
              0.8888888888888888,
              "#fdca26"
             ],
             [
              1,
              "#f0f921"
             ]
            ],
            "type": "histogram2dcontour"
           }
          ],
          "mesh3d": [
           {
            "colorbar": {
             "outlinewidth": 0,
             "ticks": ""
            },
            "type": "mesh3d"
           }
          ],
          "parcoords": [
           {
            "line": {
             "colorbar": {
              "outlinewidth": 0,
              "ticks": ""
             }
            },
            "type": "parcoords"
           }
          ],
          "pie": [
           {
            "automargin": true,
            "type": "pie"
           }
          ],
          "scatter": [
           {
            "fillpattern": {
             "fillmode": "overlay",
             "size": 10,
             "solidity": 0.2
            },
            "type": "scatter"
           }
          ],
          "scatter3d": [
           {
            "line": {
             "colorbar": {
              "outlinewidth": 0,
              "ticks": ""
             }
            },
            "marker": {
             "colorbar": {
              "outlinewidth": 0,
              "ticks": ""
             }
            },
            "type": "scatter3d"
           }
          ],
          "scattercarpet": [
           {
            "marker": {
             "colorbar": {
              "outlinewidth": 0,
              "ticks": ""
             }
            },
            "type": "scattercarpet"
           }
          ],
          "scattergeo": [
           {
            "marker": {
             "colorbar": {
              "outlinewidth": 0,
              "ticks": ""
             }
            },
            "type": "scattergeo"
           }
          ],
          "scattergl": [
           {
            "marker": {
             "colorbar": {
              "outlinewidth": 0,
              "ticks": ""
             }
            },
            "type": "scattergl"
           }
          ],
          "scattermapbox": [
           {
            "marker": {
             "colorbar": {
              "outlinewidth": 0,
              "ticks": ""
             }
            },
            "type": "scattermapbox"
           }
          ],
          "scatterpolar": [
           {
            "marker": {
             "colorbar": {
              "outlinewidth": 0,
              "ticks": ""
             }
            },
            "type": "scatterpolar"
           }
          ],
          "scatterpolargl": [
           {
            "marker": {
             "colorbar": {
              "outlinewidth": 0,
              "ticks": ""
             }
            },
            "type": "scatterpolargl"
           }
          ],
          "scatterternary": [
           {
            "marker": {
             "colorbar": {
              "outlinewidth": 0,
              "ticks": ""
             }
            },
            "type": "scatterternary"
           }
          ],
          "surface": [
           {
            "colorbar": {
             "outlinewidth": 0,
             "ticks": ""
            },
            "colorscale": [
             [
              0,
              "#0d0887"
             ],
             [
              0.1111111111111111,
              "#46039f"
             ],
             [
              0.2222222222222222,
              "#7201a8"
             ],
             [
              0.3333333333333333,
              "#9c179e"
             ],
             [
              0.4444444444444444,
              "#bd3786"
             ],
             [
              0.5555555555555556,
              "#d8576b"
             ],
             [
              0.6666666666666666,
              "#ed7953"
             ],
             [
              0.7777777777777778,
              "#fb9f3a"
             ],
             [
              0.8888888888888888,
              "#fdca26"
             ],
             [
              1,
              "#f0f921"
             ]
            ],
            "type": "surface"
           }
          ],
          "table": [
           {
            "cells": {
             "fill": {
              "color": "#EBF0F8"
             },
             "line": {
              "color": "white"
             }
            },
            "header": {
             "fill": {
              "color": "#C8D4E3"
             },
             "line": {
              "color": "white"
             }
            },
            "type": "table"
           }
          ]
         },
         "layout": {
          "annotationdefaults": {
           "arrowcolor": "#2a3f5f",
           "arrowhead": 0,
           "arrowwidth": 1
          },
          "autotypenumbers": "strict",
          "coloraxis": {
           "colorbar": {
            "outlinewidth": 0,
            "ticks": ""
           }
          },
          "colorscale": {
           "diverging": [
            [
             0,
             "#8e0152"
            ],
            [
             0.1,
             "#c51b7d"
            ],
            [
             0.2,
             "#de77ae"
            ],
            [
             0.3,
             "#f1b6da"
            ],
            [
             0.4,
             "#fde0ef"
            ],
            [
             0.5,
             "#f7f7f7"
            ],
            [
             0.6,
             "#e6f5d0"
            ],
            [
             0.7,
             "#b8e186"
            ],
            [
             0.8,
             "#7fbc41"
            ],
            [
             0.9,
             "#4d9221"
            ],
            [
             1,
             "#276419"
            ]
           ],
           "sequential": [
            [
             0,
             "#0d0887"
            ],
            [
             0.1111111111111111,
             "#46039f"
            ],
            [
             0.2222222222222222,
             "#7201a8"
            ],
            [
             0.3333333333333333,
             "#9c179e"
            ],
            [
             0.4444444444444444,
             "#bd3786"
            ],
            [
             0.5555555555555556,
             "#d8576b"
            ],
            [
             0.6666666666666666,
             "#ed7953"
            ],
            [
             0.7777777777777778,
             "#fb9f3a"
            ],
            [
             0.8888888888888888,
             "#fdca26"
            ],
            [
             1,
             "#f0f921"
            ]
           ],
           "sequentialminus": [
            [
             0,
             "#0d0887"
            ],
            [
             0.1111111111111111,
             "#46039f"
            ],
            [
             0.2222222222222222,
             "#7201a8"
            ],
            [
             0.3333333333333333,
             "#9c179e"
            ],
            [
             0.4444444444444444,
             "#bd3786"
            ],
            [
             0.5555555555555556,
             "#d8576b"
            ],
            [
             0.6666666666666666,
             "#ed7953"
            ],
            [
             0.7777777777777778,
             "#fb9f3a"
            ],
            [
             0.8888888888888888,
             "#fdca26"
            ],
            [
             1,
             "#f0f921"
            ]
           ]
          },
          "colorway": [
           "#636efa",
           "#EF553B",
           "#00cc96",
           "#ab63fa",
           "#FFA15A",
           "#19d3f3",
           "#FF6692",
           "#B6E880",
           "#FF97FF",
           "#FECB52"
          ],
          "font": {
           "color": "#2a3f5f"
          },
          "geo": {
           "bgcolor": "white",
           "lakecolor": "white",
           "landcolor": "#E5ECF6",
           "showlakes": true,
           "showland": true,
           "subunitcolor": "white"
          },
          "hoverlabel": {
           "align": "left"
          },
          "hovermode": "closest",
          "mapbox": {
           "style": "light"
          },
          "paper_bgcolor": "white",
          "plot_bgcolor": "#E5ECF6",
          "polar": {
           "angularaxis": {
            "gridcolor": "white",
            "linecolor": "white",
            "ticks": ""
           },
           "bgcolor": "#E5ECF6",
           "radialaxis": {
            "gridcolor": "white",
            "linecolor": "white",
            "ticks": ""
           }
          },
          "scene": {
           "xaxis": {
            "backgroundcolor": "#E5ECF6",
            "gridcolor": "white",
            "gridwidth": 2,
            "linecolor": "white",
            "showbackground": true,
            "ticks": "",
            "zerolinecolor": "white"
           },
           "yaxis": {
            "backgroundcolor": "#E5ECF6",
            "gridcolor": "white",
            "gridwidth": 2,
            "linecolor": "white",
            "showbackground": true,
            "ticks": "",
            "zerolinecolor": "white"
           },
           "zaxis": {
            "backgroundcolor": "#E5ECF6",
            "gridcolor": "white",
            "gridwidth": 2,
            "linecolor": "white",
            "showbackground": true,
            "ticks": "",
            "zerolinecolor": "white"
           }
          },
          "shapedefaults": {
           "line": {
            "color": "#2a3f5f"
           }
          },
          "ternary": {
           "aaxis": {
            "gridcolor": "white",
            "linecolor": "white",
            "ticks": ""
           },
           "baxis": {
            "gridcolor": "white",
            "linecolor": "white",
            "ticks": ""
           },
           "bgcolor": "#E5ECF6",
           "caxis": {
            "gridcolor": "white",
            "linecolor": "white",
            "ticks": ""
           }
          },
          "title": {
           "x": 0.05
          },
          "xaxis": {
           "automargin": true,
           "gridcolor": "white",
           "linecolor": "white",
           "ticks": "",
           "title": {
            "standoff": 15
           },
           "zerolinecolor": "white",
           "zerolinewidth": 2
          },
          "yaxis": {
           "automargin": true,
           "gridcolor": "white",
           "linecolor": "white",
           "ticks": "",
           "title": {
            "standoff": 15
           },
           "zerolinecolor": "white",
           "zerolinewidth": 2
          }
         }
        },
        "xaxis": {
         "anchor": "y",
         "domain": [
          0,
          1
         ]
        },
        "yaxis": {
         "anchor": "x",
         "domain": [
          0,
          1
         ],
         "title": {
          "text": "السعر الإجمالي"
         }
        }
       }
      }
     },
     "metadata": {},
     "output_type": "display_data"
    }
   ],
   "source": [
    "fullprice = px.box(landofriyad, y='السعر الإجمالي')\n",
    "\n",
    "fullprice.show()"
   ]
  },
  {
   "cell_type": "code",
   "execution_count": 322,
   "id": "6ff223f4",
   "metadata": {},
   "outputs": [
    {
     "name": "stdout",
     "output_type": "stream",
     "text": [
      "Lower whisker: 1400\n",
      "Upper whisker: 7395931.25\n"
     ]
    }
   ],
   "source": [
    "q1 = landofriyad['السعر الإجمالي'].quantile(0.25)\n",
    "q3 = landofriyad['السعر الإجمالي'].quantile(0.75)\n",
    "iqr = q3 - q1\n",
    "\n",
    "# Calculate whiskers\n",
    "lower_whisker = max(q1 - 1.5 * iqr, landofriyad['السعر الإجمالي'].min())\n",
    "upper_whisker = min(q3 + 1.5 * iqr, landofriyad['السعر الإجمالي'].max())\n",
    "\n",
    "print(f\"Lower whisker: {lower_whisker}\")\n",
    "print(f\"Upper whisker: {upper_whisker}\")"
   ]
  },
  {
   "cell_type": "code",
   "execution_count": 82,
   "id": "9bcd28a6",
   "metadata": {},
   "outputs": [
    {
     "data": {
      "application/vnd.plotly.v1+json": {
       "config": {
        "plotlyServerURL": "https://plot.ly"
       },
       "data": [
        {
         "alignmentgroup": "True",
         "hovertemplate": "السعر الإجمالي=%{y}<extra></extra>",
         "legendgroup": "",
         "marker": {
          "color": "#636efa"
         },
         "name": "",
         "notched": false,
         "offsetgroup": "",
         "orientation": "v",
         "showlegend": false,
         "type": "box",
         "x0": " ",
         "xaxis": "x",
         "y": [
          3840000,
          2400000,
          2970000,
          2512500,
          3593700,
          1575000,
          1575000,
          3593700,
          1375000,
          3484800,
          3539250,
          1650000,
          3484800,
          952500,
          902500,
          1277200,
          199920,
          2079000,
          1237500,
          2362500,
          780000,
          780000,
          1487200,
          3702600,
          1696000,
          6000000,
          6000000,
          2250000,
          2475000,
          5604500,
          1442000,
          1080000,
          5880000,
          1696000,
          5128200,
          319500,
          3840000,
          3840000,
          1140000,
          1140000,
          1140000,
          2325000,
          2325000,
          2325000,
          5731900,
          733200,
          881250,
          733200,
          379800,
          316500,
          1318400,
          1133000,
          700650,
          1730000,
          5250000,
          225000,
          562500,
          1764000,
          2100000,
          2625000,
          503100,
          1440000,
          495000,
          419650,
          345000,
          3335000,
          240345,
          630000,
          630000,
          630000,
          188055,
          2385000,
          3975000,
          5499750,
          2610000,
          450000,
          4000000,
          2778700,
          2778700,
          3000000,
          1134000,
          242634,
          754290,
          849600,
          866592,
          404976,
          1260000,
          1135000,
          1339200,
          2100000,
          1350000,
          3648150,
          864000,
          1320000,
          2049690,
          2100000,
          482040,
          1026950,
          1560000,
          1614600,
          1508000,
          1202040,
          3600000,
          900000,
          1500000,
          1029600,
          2970000,
          826200,
          729000,
          729000,
          4860000,
          725400,
          3484800,
          3702600,
          3500000,
          3500000,
          6508000,
          3103650,
          2360000,
          1600000,
          1575000,
          808450,
          1110000,
          1662500,
          1153200,
          1400000,
          3084000,
          1000000,
          1500000,
          2755200,
          1248900,
          4050000,
          4050000,
          4050000,
          3702600,
          499895,
          536800,
          301950,
          1021000,
          825000,
          816000,
          1372800,
          2970000,
          1295000,
          5200200,
          4855500,
          682500,
          701610,
          701610,
          3150000,
          399600,
          287712,
          1243200,
          1243200,
          984753,
          984753,
          2199798,
          1299760,
          3216906,
          234360,
          1200353,
          1050000,
          855000,
          1147500,
          5850000,
          1438950,
          1144800,
          1979550,
          2116800,
          1176000,
          192000,
          192000,
          720000,
          1560000,
          4500000,
          2250000,
          3660000,
          3660000,
          750000,
          3134400,
          1417500,
          3134400,
          1790400,
          2065500,
          859350,
          1260000,
          1153600,
          1153600,
          2750000,
          2750000,
          4812500,
          3240000,
          1350000,
          3840000,
          3630000,
          2079000,
          1960000,
          2637500,
          1395280,
          1374750,
          2400000,
          7414400,
          6988800,
          750000,
          405600,
          1170000,
          2160000,
          2637500,
          5400000,
          5400000,
          5400000,
          2512500,
          1507500,
          759943,
          3593700,
          5603000,
          5603000,
          1170000,
          2262000,
          1950000,
          1950000,
          5400000,
          5850000,
          3250000,
          1575000,
          952500,
          416250,
          1277200,
          1395000,
          1602700,
          3500032,
          2205000,
          1935000,
          2116800,
          880000,
          2790000,
          1020000,
          7191000,
          2220200,
          2697000,
          3000000,
          1044000,
          1305000,
          1450000,
          5400000,
          1944000,
          720000,
          199920,
          186116,
          2079000,
          1400000,
          400200,
          1249920,
          735000,
          1152000,
          2650000,
          3750000,
          880000,
          899910,
          899910,
          106880,
          631400,
          1299480,
          199906,
          1382400,
          2500000,
          4500000,
          3000000,
          2304000,
          900000,
          631400,
          900000,
          900000,
          1700000,
          1593750,
          2362500,
          1108800,
          6250000,
          2174400,
          2073600,
          2418000,
          2418000,
          780000,
          1487200,
          3702600,
          2125000,
          1696000,
          1028000,
          6000000,
          4050000,
          267750,
          2475000,
          5604500,
          1199520,
          5959800,
          1442000,
          2700000,
          2700000,
          1080000,
          544320,
          5880000,
          1696000,
          5128200,
          119000,
          2025000,
          1311000,
          3840000,
          2008800,
          5250000,
          3150000,
          250200,
          1140000,
          2325000,
          2704000,
          999990,
          2195100,
          3593700,
          1500800,
          1230120,
          1230120,
          1809500,
          2100000,
          2396800,
          2100000,
          2200000,
          535500,
          1571650,
          733200,
          5664000,
          2760000,
          2250000,
          2250000,
          733200,
          5130000,
          720000,
          720000,
          3134400,
          5400000,
          379800,
          5000000,
          1399950,
          2254350,
          904000,
          390000,
          1318400,
          6400000,
          522000,
          1200000,
          276000,
          1200000,
          5400000,
          5400000,
          5400000,
          720000,
          1750000,
          5250000,
          2139000,
          2025000,
          562500,
          225000,
          562500,
          1764000,
          2100000,
          2079000,
          3360000,
          503100,
          1440000,
          1032500,
          2624600,
          925550,
          1557000,
          1638000,
          1814400,
          230000,
          438725,
          400158,
          637200,
          1080000,
          1318400,
          1465600,
          3810000,
          1331200,
          3493000,
          351000,
          4187000,
          3420000,
          2777800,
          977400,
          977400,
          1350000,
          810000,
          810000,
          155250,
          1260000,
          4320000,
          3456000,
          4950000,
          4928000,
          5400000,
          5400000,
          337500,
          5400000,
          5400000,
          1318400,
          1297800,
          2009700,
          2009700,
          1187460,
          1099500,
          1200000,
          524400,
          1080000,
          480000,
          1800000,
          1192500,
          1590000,
          1192500,
          1149750,
          240345,
          449880,
          2608000,
          2608000,
          1263576,
          4200000,
          880000,
          320000,
          320000,
          320000,
          2704000,
          3104400,
          2334150,
          2385000,
          2610000,
          1260000,
          1260000,
          2060800,
          2100000,
          4000000,
          800000,
          800000,
          1848800,
          1848800,
          468000,
          1998720,
          4913520,
          3600000,
          1599796,
          2778700,
          2778700,
          2775000,
          1357900,
          1134000,
          1350000,
          3000000,
          3000000,
          3000000,
          3000000,
          242634,
          250266,
          158682,
          127200,
          238500,
          1395000,
          394485,
          260100,
          728280,
          655452,
          3600000,
          1665000,
          3185700,
          1800000,
          3879000,
          900000,
          900000,
          2065500,
          675000,
          1937250,
          1899240,
          1921850,
          1982897,
          754880,
          754880,
          1019700,
          1019700,
          2835000,
          2835000,
          1417500,
          1200000,
          900000,
          1335000,
          925000,
          1260000,
          1350000,
          1135000,
          3000000,
          4450950,
          1393600,
          1393600,
          3780000,
          3685500,
          1339200,
          1339200,
          1128600,
          2025000,
          2314200,
          3500000,
          3500000,
          3500000,
          847800,
          337500,
          900000,
          2518400,
          900000,
          720000,
          900000,
          699300,
          1157730,
          935200,
          2049750,
          2120000,
          999900,
          650000,
          1170000,
          812500,
          648700,
          999900,
          2223111,
          999900,
          2000972,
          5307200,
          2756000,
          2520000,
          2467500,
          600000,
          2432000,
          600000,
          600000,
          2226300,
          1449600,
          2512500,
          1080000,
          1267300,
          2512500,
          399760,
          4914000,
          5404000,
          849762,
          2000000,
          849762,
          1800000,
          6586740,
          360000,
          240000,
          4080000,
          429624,
          499851,
          2100000,
          2120000,
          3600000,
          900000,
          900000,
          600000,
          3648150,
          2184000,
          4320000,
          4320000,
          1050000,
          999900,
          864000,
          618690,
          1320000,
          1215000,
          630000,
          2049690,
          482040,
          2100000,
          1050000,
          1496000,
          1900800,
          1980000,
          1998893,
          2184000,
          945000,
          1059750,
          907100,
          2050000,
          3216000,
          2700000,
          1393600,
          703800,
          665310,
          1560000,
          6210000,
          1350000,
          1800000,
          1160000,
          1202040,
          1111887,
          1111887,
          3600000,
          3600000,
          900000,
          900000,
          1500000,
          495000,
          6889000,
          1843000,
          1843000,
          360000,
          2250000,
          936000,
          2700000,
          4050000,
          826200,
          1188000,
          1440000,
          1806250,
          725400,
          1317500,
          499200,
          1008000,
          1049310,
          4340000,
          245700,
          204750,
          491400,
          2801400,
          2970000,
          3702600,
          3484800,
          3484800,
          3500000,
          2801400,
          5820000,
          2367285,
          2367285,
          3103650,
          420300,
          1650000,
          6240000,
          1600000,
          2768000,
          1395000,
          1829000,
          1575000,
          720000,
          600075,
          1600200,
          1200150,
          1600200,
          1600200,
          1153200,
          7440000,
          1662500,
          1395000,
          724500,
          999750,
          4428800,
          2112000,
          469700,
          817600,
          1800000,
          602610,
          715500,
          5715000,
          1400000,
          1000000,
          220900,
          724740,
          724740,
          1500000,
          5852000,
          1500000,
          1404054,
          700000,
          522000,
          1011375,
          1155700,
          1522500,
          587250,
          751800,
          1056160,
          869400,
          1100000,
          2232500,
          1173000,
          1173000,
          2142000,
          1983900,
          461400,
          1570000,
          1570000,
          3600000,
          1041300,
          2803500,
          2880000,
          6720000,
          2970000,
          3300000,
          5915000,
          4050000,
          2970000,
          682500,
          906500,
          3200000,
          686080,
          537600,
          1000000,
          992200,
          2852000,
          1610000,
          542500,
          542500,
          3702600,
          1130000,
          567000,
          590800,
          1680000,
          1680000,
          1064400,
          2245600,
          2245600,
          750329,
          499895,
          690000,
          600000,
          1100736,
          1100736,
          900288,
          2250000,
          576000,
          836000,
          1549800,
          1742400,
          3242200,
          1021000,
          2250000,
          894000,
          1399950,
          816000,
          405000,
          405000,
          2097600,
          681720,
          2018800,
          1149750,
          2000400,
          693472,
          846000,
          1099800,
          1295000,
          3143700,
          3402000,
          369900,
          308250,
          2835000,
          1876000,
          2430000,
          1099800,
          1620000,
          1680000,
          2169600,
          441000,
          5200200,
          303490,
          534000,
          1001250,
          1168125,
          1393600,
          2600000,
          1449660,
          1665000,
          1665000,
          500175,
          1000500,
          3054860,
          1000500,
          750375,
          2124000,
          1512000,
          701610,
          1512000,
          682500,
          1307810,
          383500,
          1008000,
          995670,
          3150000,
          399600,
          1115376,
          1585008,
          1230000,
          2656800,
          1030200,
          1122000,
          1800000,
          509250,
          2200000,
          1449600,
          2268000,
          1417500,
          1087500,
          405000,
          819900,
          984753,
          984753,
          2052000,
          750000,
          5200000,
          2844000,
          1550160,
          2450000,
          1748000,
          1748000,
          750000,
          750000,
          598000,
          1299760,
          450000,
          1306800,
          3000000,
          1345500,
          4275000,
          234360,
          1550250,
          3870750,
          2193750,
          2902500,
          1806000,
          400000,
          480000,
          500000,
          2535750,
          1200353,
          1408500,
          1050000,
          6160000,
          1620000,
          2592000,
          1632000,
          100000,
          281250,
          1350000,
          1350000,
          2250000,
          1890000,
          2925000,
          5850000,
          1200000,
          670000,
          385920,
          1920450,
          2304000,
          2499780,
          4000000,
          568100,
          1099800,
          2334150,
          379950,
          1251200,
          300375,
          971613,
          3702600,
          5403125,
          2164500,
          3702600,
          2098080,
          1449600,
          1687500,
          1350000,
          1813500,
          3600000,
          1250000,
          1250000,
          4500000,
          3500000,
          3600589,
          675000,
          2587500,
          845625,
          903350,
          1438000,
          3216000,
          548800,
          548800,
          5775000,
          3528000,
          3465000,
          150000,
          3004000,
          1500000,
          928000,
          2000000,
          440000,
          4499955,
          4680000,
          419400,
          270280,
          378000,
          1125000,
          1815000,
          1132600,
          360000,
          1350000,
          137904,
          724438,
          1500000,
          2500000,
          3600000,
          2240250,
          4635000,
          2633400,
          3437500,
          3480000,
          1200000,
          93600,
          1250000,
          1040000,
          2272400,
          1684800,
          1149750,
          765000,
          765000,
          1149750,
          766500,
          2222850,
          1149750,
          2700000,
          1098300,
          524800,
          720000,
          321750,
          702000,
          953496,
          1328400,
          859500,
          1661700,
          2231250,
          2058000,
          4050000,
          1722000,
          4248000,
          2764800,
          2177100,
          2187500,
          806850,
          696200,
          2812500,
          2610000,
          1500000,
          2812500,
          476100,
          276000,
          1400250,
          1755000,
          2490000,
          838750,
          999900,
          1513400,
          2728000,
          2728000,
          2800000,
          649819,
          945000,
          1125000,
          1099800,
          3276000,
          1539000,
          358050,
          1305000,
          1099693,
          555000,
          4999500,
          581250,
          4999500,
          4999500,
          4999500,
          4999500,
          2160000,
          1665000,
          1627500,
          900000,
          900000,
          2082500,
          3600000,
          682500,
          3430000,
          588750,
          900000,
          877500,
          2610000,
          5862500,
          2400000,
          543750,
          1740000,
          759800,
          2700000,
          1104675,
          2625000,
          2700000,
          1063920,
          1305000,
          2826000,
          499875,
          1786200,
          358200,
          5331550,
          5331550,
          1120000,
          2184500,
          920000,
          3645000,
          280000,
          900000,
          2512500,
          2430000,
          3600000,
          1305000,
          581250,
          649944,
          975000,
          1500000,
          1087500,
          549900,
          4390500,
          3744000,
          1644000,
          689760,
          1342500,
          1209000,
          1100000,
          1062000,
          2763000,
          685100,
          1500000,
          1110000,
          1736000,
          1600000,
          4776300,
          5000000,
          1760000,
          4199400,
          2100000,
          2437500,
          349405,
          2745000,
          1000200,
          3145000,
          2160000,
          2169600,
          1753500,
          3025000,
          3570000,
          2008600,
          1837500,
          7425000,
          2000000,
          2000000,
          2244200,
          3960000,
          2380000,
          2380000,
          3600000,
          3225000,
          3988400,
          3599500,
          469875,
          2394000,
          254940,
          3840000,
          4320000,
          2575000,
          4590000,
          2769350,
          7000136,
          599400,
          749088,
          4680000,
          1025280,
          459000,
          5130000,
          1950000,
          899442,
          500256,
          1500000,
          600000,
          799890,
          6000000,
          6000000,
          1096800,
          2340000,
          1349930,
          1890000,
          4375000,
          762500,
          2310000,
          1920000,
          4125000,
          6000000,
          264600,
          406400,
          1199440,
          543750,
          1584000,
          900000,
          284256,
          499944,
          4875000,
          1980000,
          1085400,
          5880000,
          5880000,
          531300,
          3135000,
          649728,
          6737500,
          799200,
          360000,
          1730400,
          2625000,
          2400000,
          4370000,
          749580,
          1149962,
          2475000,
          5346000,
          399330,
          499824,
          3500000,
          2579200,
          2633400,
          4725000,
          675000,
          318750,
          5580000,
          885000,
          419000,
          937500,
          999700,
          862500,
          900000,
          430200,
          749736,
          333000,
          825000,
          925000,
          2029300,
          400032,
          4499628,
          1550400,
          1512000,
          349896,
          1214400,
          2106000,
          3000600,
          2899800,
          450000,
          4452000,
          5625000,
          1999289,
          5000000,
          959700,
          959700,
          599403,
          600000,
          2499000,
          626000,
          800040
         ],
         "y0": " ",
         "yaxis": "y"
        }
       ],
       "layout": {
        "boxmode": "group",
        "legend": {
         "tracegroupgap": 0
        },
        "margin": {
         "t": 60
        },
        "template": {
         "data": {
          "bar": [
           {
            "error_x": {
             "color": "#2a3f5f"
            },
            "error_y": {
             "color": "#2a3f5f"
            },
            "marker": {
             "line": {
              "color": "#E5ECF6",
              "width": 0.5
             },
             "pattern": {
              "fillmode": "overlay",
              "size": 10,
              "solidity": 0.2
             }
            },
            "type": "bar"
           }
          ],
          "barpolar": [
           {
            "marker": {
             "line": {
              "color": "#E5ECF6",
              "width": 0.5
             },
             "pattern": {
              "fillmode": "overlay",
              "size": 10,
              "solidity": 0.2
             }
            },
            "type": "barpolar"
           }
          ],
          "carpet": [
           {
            "aaxis": {
             "endlinecolor": "#2a3f5f",
             "gridcolor": "white",
             "linecolor": "white",
             "minorgridcolor": "white",
             "startlinecolor": "#2a3f5f"
            },
            "baxis": {
             "endlinecolor": "#2a3f5f",
             "gridcolor": "white",
             "linecolor": "white",
             "minorgridcolor": "white",
             "startlinecolor": "#2a3f5f"
            },
            "type": "carpet"
           }
          ],
          "choropleth": [
           {
            "colorbar": {
             "outlinewidth": 0,
             "ticks": ""
            },
            "type": "choropleth"
           }
          ],
          "contour": [
           {
            "colorbar": {
             "outlinewidth": 0,
             "ticks": ""
            },
            "colorscale": [
             [
              0,
              "#0d0887"
             ],
             [
              0.1111111111111111,
              "#46039f"
             ],
             [
              0.2222222222222222,
              "#7201a8"
             ],
             [
              0.3333333333333333,
              "#9c179e"
             ],
             [
              0.4444444444444444,
              "#bd3786"
             ],
             [
              0.5555555555555556,
              "#d8576b"
             ],
             [
              0.6666666666666666,
              "#ed7953"
             ],
             [
              0.7777777777777778,
              "#fb9f3a"
             ],
             [
              0.8888888888888888,
              "#fdca26"
             ],
             [
              1,
              "#f0f921"
             ]
            ],
            "type": "contour"
           }
          ],
          "contourcarpet": [
           {
            "colorbar": {
             "outlinewidth": 0,
             "ticks": ""
            },
            "type": "contourcarpet"
           }
          ],
          "heatmap": [
           {
            "colorbar": {
             "outlinewidth": 0,
             "ticks": ""
            },
            "colorscale": [
             [
              0,
              "#0d0887"
             ],
             [
              0.1111111111111111,
              "#46039f"
             ],
             [
              0.2222222222222222,
              "#7201a8"
             ],
             [
              0.3333333333333333,
              "#9c179e"
             ],
             [
              0.4444444444444444,
              "#bd3786"
             ],
             [
              0.5555555555555556,
              "#d8576b"
             ],
             [
              0.6666666666666666,
              "#ed7953"
             ],
             [
              0.7777777777777778,
              "#fb9f3a"
             ],
             [
              0.8888888888888888,
              "#fdca26"
             ],
             [
              1,
              "#f0f921"
             ]
            ],
            "type": "heatmap"
           }
          ],
          "heatmapgl": [
           {
            "colorbar": {
             "outlinewidth": 0,
             "ticks": ""
            },
            "colorscale": [
             [
              0,
              "#0d0887"
             ],
             [
              0.1111111111111111,
              "#46039f"
             ],
             [
              0.2222222222222222,
              "#7201a8"
             ],
             [
              0.3333333333333333,
              "#9c179e"
             ],
             [
              0.4444444444444444,
              "#bd3786"
             ],
             [
              0.5555555555555556,
              "#d8576b"
             ],
             [
              0.6666666666666666,
              "#ed7953"
             ],
             [
              0.7777777777777778,
              "#fb9f3a"
             ],
             [
              0.8888888888888888,
              "#fdca26"
             ],
             [
              1,
              "#f0f921"
             ]
            ],
            "type": "heatmapgl"
           }
          ],
          "histogram": [
           {
            "marker": {
             "pattern": {
              "fillmode": "overlay",
              "size": 10,
              "solidity": 0.2
             }
            },
            "type": "histogram"
           }
          ],
          "histogram2d": [
           {
            "colorbar": {
             "outlinewidth": 0,
             "ticks": ""
            },
            "colorscale": [
             [
              0,
              "#0d0887"
             ],
             [
              0.1111111111111111,
              "#46039f"
             ],
             [
              0.2222222222222222,
              "#7201a8"
             ],
             [
              0.3333333333333333,
              "#9c179e"
             ],
             [
              0.4444444444444444,
              "#bd3786"
             ],
             [
              0.5555555555555556,
              "#d8576b"
             ],
             [
              0.6666666666666666,
              "#ed7953"
             ],
             [
              0.7777777777777778,
              "#fb9f3a"
             ],
             [
              0.8888888888888888,
              "#fdca26"
             ],
             [
              1,
              "#f0f921"
             ]
            ],
            "type": "histogram2d"
           }
          ],
          "histogram2dcontour": [
           {
            "colorbar": {
             "outlinewidth": 0,
             "ticks": ""
            },
            "colorscale": [
             [
              0,
              "#0d0887"
             ],
             [
              0.1111111111111111,
              "#46039f"
             ],
             [
              0.2222222222222222,
              "#7201a8"
             ],
             [
              0.3333333333333333,
              "#9c179e"
             ],
             [
              0.4444444444444444,
              "#bd3786"
             ],
             [
              0.5555555555555556,
              "#d8576b"
             ],
             [
              0.6666666666666666,
              "#ed7953"
             ],
             [
              0.7777777777777778,
              "#fb9f3a"
             ],
             [
              0.8888888888888888,
              "#fdca26"
             ],
             [
              1,
              "#f0f921"
             ]
            ],
            "type": "histogram2dcontour"
           }
          ],
          "mesh3d": [
           {
            "colorbar": {
             "outlinewidth": 0,
             "ticks": ""
            },
            "type": "mesh3d"
           }
          ],
          "parcoords": [
           {
            "line": {
             "colorbar": {
              "outlinewidth": 0,
              "ticks": ""
             }
            },
            "type": "parcoords"
           }
          ],
          "pie": [
           {
            "automargin": true,
            "type": "pie"
           }
          ],
          "scatter": [
           {
            "fillpattern": {
             "fillmode": "overlay",
             "size": 10,
             "solidity": 0.2
            },
            "type": "scatter"
           }
          ],
          "scatter3d": [
           {
            "line": {
             "colorbar": {
              "outlinewidth": 0,
              "ticks": ""
             }
            },
            "marker": {
             "colorbar": {
              "outlinewidth": 0,
              "ticks": ""
             }
            },
            "type": "scatter3d"
           }
          ],
          "scattercarpet": [
           {
            "marker": {
             "colorbar": {
              "outlinewidth": 0,
              "ticks": ""
             }
            },
            "type": "scattercarpet"
           }
          ],
          "scattergeo": [
           {
            "marker": {
             "colorbar": {
              "outlinewidth": 0,
              "ticks": ""
             }
            },
            "type": "scattergeo"
           }
          ],
          "scattergl": [
           {
            "marker": {
             "colorbar": {
              "outlinewidth": 0,
              "ticks": ""
             }
            },
            "type": "scattergl"
           }
          ],
          "scattermapbox": [
           {
            "marker": {
             "colorbar": {
              "outlinewidth": 0,
              "ticks": ""
             }
            },
            "type": "scattermapbox"
           }
          ],
          "scatterpolar": [
           {
            "marker": {
             "colorbar": {
              "outlinewidth": 0,
              "ticks": ""
             }
            },
            "type": "scatterpolar"
           }
          ],
          "scatterpolargl": [
           {
            "marker": {
             "colorbar": {
              "outlinewidth": 0,
              "ticks": ""
             }
            },
            "type": "scatterpolargl"
           }
          ],
          "scatterternary": [
           {
            "marker": {
             "colorbar": {
              "outlinewidth": 0,
              "ticks": ""
             }
            },
            "type": "scatterternary"
           }
          ],
          "surface": [
           {
            "colorbar": {
             "outlinewidth": 0,
             "ticks": ""
            },
            "colorscale": [
             [
              0,
              "#0d0887"
             ],
             [
              0.1111111111111111,
              "#46039f"
             ],
             [
              0.2222222222222222,
              "#7201a8"
             ],
             [
              0.3333333333333333,
              "#9c179e"
             ],
             [
              0.4444444444444444,
              "#bd3786"
             ],
             [
              0.5555555555555556,
              "#d8576b"
             ],
             [
              0.6666666666666666,
              "#ed7953"
             ],
             [
              0.7777777777777778,
              "#fb9f3a"
             ],
             [
              0.8888888888888888,
              "#fdca26"
             ],
             [
              1,
              "#f0f921"
             ]
            ],
            "type": "surface"
           }
          ],
          "table": [
           {
            "cells": {
             "fill": {
              "color": "#EBF0F8"
             },
             "line": {
              "color": "white"
             }
            },
            "header": {
             "fill": {
              "color": "#C8D4E3"
             },
             "line": {
              "color": "white"
             }
            },
            "type": "table"
           }
          ]
         },
         "layout": {
          "annotationdefaults": {
           "arrowcolor": "#2a3f5f",
           "arrowhead": 0,
           "arrowwidth": 1
          },
          "autotypenumbers": "strict",
          "coloraxis": {
           "colorbar": {
            "outlinewidth": 0,
            "ticks": ""
           }
          },
          "colorscale": {
           "diverging": [
            [
             0,
             "#8e0152"
            ],
            [
             0.1,
             "#c51b7d"
            ],
            [
             0.2,
             "#de77ae"
            ],
            [
             0.3,
             "#f1b6da"
            ],
            [
             0.4,
             "#fde0ef"
            ],
            [
             0.5,
             "#f7f7f7"
            ],
            [
             0.6,
             "#e6f5d0"
            ],
            [
             0.7,
             "#b8e186"
            ],
            [
             0.8,
             "#7fbc41"
            ],
            [
             0.9,
             "#4d9221"
            ],
            [
             1,
             "#276419"
            ]
           ],
           "sequential": [
            [
             0,
             "#0d0887"
            ],
            [
             0.1111111111111111,
             "#46039f"
            ],
            [
             0.2222222222222222,
             "#7201a8"
            ],
            [
             0.3333333333333333,
             "#9c179e"
            ],
            [
             0.4444444444444444,
             "#bd3786"
            ],
            [
             0.5555555555555556,
             "#d8576b"
            ],
            [
             0.6666666666666666,
             "#ed7953"
            ],
            [
             0.7777777777777778,
             "#fb9f3a"
            ],
            [
             0.8888888888888888,
             "#fdca26"
            ],
            [
             1,
             "#f0f921"
            ]
           ],
           "sequentialminus": [
            [
             0,
             "#0d0887"
            ],
            [
             0.1111111111111111,
             "#46039f"
            ],
            [
             0.2222222222222222,
             "#7201a8"
            ],
            [
             0.3333333333333333,
             "#9c179e"
            ],
            [
             0.4444444444444444,
             "#bd3786"
            ],
            [
             0.5555555555555556,
             "#d8576b"
            ],
            [
             0.6666666666666666,
             "#ed7953"
            ],
            [
             0.7777777777777778,
             "#fb9f3a"
            ],
            [
             0.8888888888888888,
             "#fdca26"
            ],
            [
             1,
             "#f0f921"
            ]
           ]
          },
          "colorway": [
           "#636efa",
           "#EF553B",
           "#00cc96",
           "#ab63fa",
           "#FFA15A",
           "#19d3f3",
           "#FF6692",
           "#B6E880",
           "#FF97FF",
           "#FECB52"
          ],
          "font": {
           "color": "#2a3f5f"
          },
          "geo": {
           "bgcolor": "white",
           "lakecolor": "white",
           "landcolor": "#E5ECF6",
           "showlakes": true,
           "showland": true,
           "subunitcolor": "white"
          },
          "hoverlabel": {
           "align": "left"
          },
          "hovermode": "closest",
          "mapbox": {
           "style": "light"
          },
          "paper_bgcolor": "white",
          "plot_bgcolor": "#E5ECF6",
          "polar": {
           "angularaxis": {
            "gridcolor": "white",
            "linecolor": "white",
            "ticks": ""
           },
           "bgcolor": "#E5ECF6",
           "radialaxis": {
            "gridcolor": "white",
            "linecolor": "white",
            "ticks": ""
           }
          },
          "scene": {
           "xaxis": {
            "backgroundcolor": "#E5ECF6",
            "gridcolor": "white",
            "gridwidth": 2,
            "linecolor": "white",
            "showbackground": true,
            "ticks": "",
            "zerolinecolor": "white"
           },
           "yaxis": {
            "backgroundcolor": "#E5ECF6",
            "gridcolor": "white",
            "gridwidth": 2,
            "linecolor": "white",
            "showbackground": true,
            "ticks": "",
            "zerolinecolor": "white"
           },
           "zaxis": {
            "backgroundcolor": "#E5ECF6",
            "gridcolor": "white",
            "gridwidth": 2,
            "linecolor": "white",
            "showbackground": true,
            "ticks": "",
            "zerolinecolor": "white"
           }
          },
          "shapedefaults": {
           "line": {
            "color": "#2a3f5f"
           }
          },
          "ternary": {
           "aaxis": {
            "gridcolor": "white",
            "linecolor": "white",
            "ticks": ""
           },
           "baxis": {
            "gridcolor": "white",
            "linecolor": "white",
            "ticks": ""
           },
           "bgcolor": "#E5ECF6",
           "caxis": {
            "gridcolor": "white",
            "linecolor": "white",
            "ticks": ""
           }
          },
          "title": {
           "x": 0.05
          },
          "xaxis": {
           "automargin": true,
           "gridcolor": "white",
           "linecolor": "white",
           "ticks": "",
           "title": {
            "standoff": 15
           },
           "zerolinecolor": "white",
           "zerolinewidth": 2
          },
          "yaxis": {
           "automargin": true,
           "gridcolor": "white",
           "linecolor": "white",
           "ticks": "",
           "title": {
            "standoff": 15
           },
           "zerolinecolor": "white",
           "zerolinewidth": 2
          }
         }
        },
        "xaxis": {
         "anchor": "y",
         "domain": [
          0,
          1
         ]
        },
        "yaxis": {
         "anchor": "x",
         "domain": [
          0,
          1
         ],
         "title": {
          "text": "السعر الإجمالي"
         }
        }
       }
      }
     },
     "metadata": {},
     "output_type": "display_data"
    }
   ],
   "source": [
    "landofriyad_filtered = landofriyad[(landofriyad['السعر الإجمالي'] <= 7553457.625) & (landofriyad['السعر الإجمالي'] > 1400)]\n",
    "\n",
    "fullprice = px.box(landofriyad_filtered, y='السعر الإجمالي')\n",
    "\n",
    "fullprice.show()"
   ]
  },
  {
   "cell_type": "code",
   "execution_count": 329,
   "id": "a81fa3f3",
   "metadata": {},
   "outputs": [
    {
     "data": {
      "application/vnd.plotly.v1+json": {
       "config": {
        "plotlyServerURL": "https://plot.ly"
       },
       "data": [
        {
         "alignmentgroup": "True",
         "hovertemplate": "سعر المتر=%{y}<extra></extra>",
         "legendgroup": "",
         "marker": {
          "color": "#636efa"
         },
         "name": "",
         "notched": false,
         "offsetgroup": "",
         "orientation": "v",
         "showlegend": false,
         "type": "box",
         "x0": " ",
         "xaxis": "x",
         "y": [
          4800,
          4800,
          4800,
          3200,
          3300,
          3300,
          3350,
          3300,
          3500,
          3500,
          2500,
          3200,
          3250,
          3000,
          3200,
          2500,
          2500,
          3100,
          476,
          3500,
          1650,
          3150,
          2600,
          2600,
          3400,
          5300,
          6000,
          6000,
          5500,
          5500,
          3500,
          2500,
          2000,
          1400,
          426,
          4800,
          3800,
          3800,
          3100,
          3100,
          3100,
          2350,
          2350,
          2350,
          422,
          422,
          3200,
          3100,
          2750,
          865,
          865,
          2500,
          4400,
          4400,
          4400,
          2500,
          1500,
          2700,
          4200,
          4200,
          2500,
          2400,
          559,
          3600,
          550,
          550,
          460,
          5800,
          4500,
          6500,
          315,
          315,
          315,
          315,
          5300,
          5300,
          7333,
          2900,
          1000,
          4000,
          4000,
          3700,
          4000,
          1800,
          318,
          867,
          944,
          944,
          944,
          3000,
          2500,
          1800,
          2500,
          2500,
          3350,
          2400,
          4400,
          4019,
          4200,
          515,
          2350,
          2600,
          2600,
          2600,
          3339,
          6000,
          3000,
          1000,
          1000,
          3300,
          3300,
          2700,
          2700,
          2700,
          3100,
          3080,
          3400,
          4000,
          4000,
          2850,
          4000,
          4000,
          1800,
          1850,
          1850,
          1900,
          3100,
          3000,
          1500,
          4000,
          4000,
          500,
          2400,
          2400,
          2300,
          4500,
          4500,
          671,
          671,
          671,
          1000,
          1000,
          800,
          3300,
          3300,
          4000,
          3700,
          1400,
          5778,
          6500,
          6500,
          6500,
          2500,
          2570,
          2570,
          4200,
          444,
          444,
          444,
          2871,
          2871,
          2202,
          2954,
          2954,
          310,
          1441,
          525,
          950,
          2500,
          5000,
          2650,
          2650,
          2650,
          4900,
          4900,
          800,
          800,
          5000,
          5000,
          5000,
          1000,
          1000,
          1000,
          4800,
          3150,
          1600,
          2200,
          2550,
          2550,
          5000,
          2800,
          2800,
          6200,
          5500,
          5500,
          5500,
          3000,
          3000,
          5000,
          4900,
          2500,
          1630,
          1833,
          3200,
          3200,
          3000,
          8500,
          2600,
          1000,
          2200,
          8631,
          3300,
          1300,
          1300,
          3600,
          2500,
          6000,
          6000,
          3350,
          1739,
          6500,
          2600,
          2600,
          2600,
          6000,
          6500,
          6500,
          925,
          3100,
          3100,
          1709,
          1709,
          4900,
          4300,
          6150,
          4900,
          2200,
          3100,
          3400,
          3400,
          3400,
          1500,
          7500,
          7500,
          2900,
          2900,
          2900,
          6000,
          6000,
          6000,
          800,
          476,
          476,
          3500,
          1150,
          3472,
          1750,
          3200,
          3200,
          5300,
          10000,
          10000,
          909,
          668,
          1400,
          1547,
          1834,
          1600,
          5000,
          5000,
          5000,
          4800,
          2500,
          2125,
          2125,
          3150,
          10000,
          10000,
          10000,
          4800,
          4800,
          2600,
          2600,
          2600,
          3400,
          2570,
          8000,
          6000,
          6000,
          714,
          3521,
          1632,
          4200,
          7500,
          1260,
          1400,
          3000,
          3000,
          4650,
          7000,
          7000,
          834,
          5200,
          2439,
          2439,
          3300,
          10000,
          10000,
          2680,
          2680,
          4700,
          5600,
          5600,
          4400,
          850,
          850,
          6000,
          6000,
          6000,
          6000,
          5700,
          1800,
          1800,
          7888,
          4800,
          422,
          5000,
          3111,
          5650,
          5650,
          1200,
          6400,
          1160,
          1600,
          1000,
          1000,
          6000,
          2500,
          6200,
          4500,
          1500,
          2700,
          4200,
          2400,
          2400,
          2400,
          559,
          3600,
          3600,
          2950,
          550,
          1730,
          1730,
          4200,
          4200,
          575,
          575,
          774,
          1800,
          1800,
          3200,
          3200,
          7500,
          6350,
          3200,
          1000,
          1000,
          1000,
          3800,
          3800,
          6800,
          2700,
          1800,
          1800,
          1800,
          4900,
          414,
          3000,
          4800,
          4800,
          5500,
          5500,
          4800,
          900,
          3150,
          3150,
          1466,
          1466,
          3000,
          3000,
          1200,
          1200,
          1200,
          4500,
          2650,
          2650,
          5000,
          2555,
          1304,
          1304,
          1304,
          1304,
          2100,
          800,
          800,
          5200,
          5850,
          5850,
          5300,
          2900,
          2800,
          2800,
          2800,
          2800,
          2000,
          800,
          800,
          1388,
          1388,
          4000,
          2266,
          3700,
          3700,
          1800,
          4000,
          4000,
          4000,
          4000,
          318,
          318,
          318,
          318,
          3100,
          867,
          867,
          867,
          867,
          4000,
          3700,
          3700,
          3700,
          4500,
          4500,
          2250,
          2250,
          2250,
          2250,
          2261,
          2261,
          2261,
          2240,
          2240,
          1133,
          1133,
          3150,
          3150,
          3150,
          3000,
          2250,
          3000,
          1850,
          3000,
          2500,
          2500,
          9891,
          8000,
          8000,
          2600,
          2600,
          6300,
          6300,
          1800,
          1800,
          2700,
          2700,
          5800,
          2800,
          2800,
          1413,
          900,
          1000,
          3200,
          1000,
          1000,
          1000,
          777,
          777,
          2338,
          4555,
          2000,
          1111,
          1300,
          1300,
          1300,
          1300,
          1111,
          1111,
          1111,
          1004,
          6200,
          6200,
          6200,
          6200,
          5300,
          4800,
          4700,
          4700,
          7000,
          7000,
          1600,
          4000,
          1500,
          4100,
          2416,
          3350,
          3600,
          3600,
          2900,
          526,
          9000,
          2800,
          2777,
          5000,
          3000,
          19780,
          19780,
          19780,
          19780,
          19780,
          19780,
          19780,
          19780,
          19780,
          480,
          480,
          6000,
          3400,
          459,
          459,
          2000,
          4000,
          2000,
          2000,
          4800,
          3500,
          3333,
          1230,
          2700,
          1400,
          2625,
          4400,
          4400,
          4400,
          859,
          6700,
          4800,
          1350,
          1350,
          2350,
          6667,
          4100,
          6000,
          6000,
          1800,
          993,
          993,
          10000,
          10000,
          10000,
          10000,
          2000,
          2000,
          3339,
          4000,
          6400,
          1000,
          1000,
          1000,
          1000,
          1000,
          1000,
          3000,
          3000,
          3000,
          3000,
          4500,
          4500,
          1320,
          1600,
          4250,
          4250,
          3100,
          3100,
          1600,
          1600,
          3080,
          1179,
          3100,
          546,
          546,
          546,
          5800,
          5000,
          3200,
          3200,
          4000,
          1455,
          1455,
          1455,
          2850,
          467,
          5500,
          2400,
          4000,
          4000,
          4000,
          3100,
          3100,
          1800,
          1800,
          2667,
          2667,
          2667,
          2667,
          3100,
          3100,
          1900,
          1500,
          3500,
          2666,
          6400,
          6400,
          6400,
          700,
          1600,
          5857,
          4000,
          4000,
          1590,
          1590,
          4500,
          4000,
          1000,
          500,
          940,
          940,
          5500,
          2889,
          1750,
          1450,
          1305,
          1270,
          1450,
          1450,
          1400,
          920,
          1380,
          2750,
          4700,
          2550,
          2550,
          2550,
          2550,
          600,
          5000,
          5000,
          3000,
          1335,
          1335,
          3200,
          3200,
          3300,
          3300,
          6500,
          4500,
          1300,
          3500,
          3500,
          1280,
          1280,
          1280,
          2000,
          2200,
          4000,
          4600,
          1250,
          2500,
          1400,
          1400,
          1400,
          1200,
          1604,
          1604,
          1717,
          671,
          1000,
          1000,
          1274,
          1042,
          2500,
          1280,
          1900,
          3444,
          4800,
          5800,
          5800,
          1000,
          5000,
          2000,
          3111,
          800,
          900,
          2185,
          2185,
          4900,
          10500,
          2555,
          1667,
          1667,
          8500,
          4000,
          1200,
          1200,
          1222,
          6695,
          3700,
          6300,
          4200,
          822,
          822,
          4500,
          2000,
          5400,
          1222,
          4500,
          1400,
          1400,
          2712,
          1050,
          5778,
          890,
          890,
          2225,
          2225,
          2225,
          2600,
          1306,
          6500,
          4500,
          2223,
          3335,
          3335,
          3335,
          3335,
          5900,
          4500,
          2570,
          4500,
          2500,
          1570,
          1300,
          2800,
          3330,
          1100,
          1100,
          4200,
          444,
          2446,
          2446,
          4100,
          4100,
          1700,
          1700,
          5000,
          1358,
          6500,
          6500,
          2750,
          1812,
          3500,
          3500,
          1450,
          1000,
          1822,
          2871,
          2871,
          4500,
          4500,
          2000,
          6500,
          7900,
          2153,
          2000,
          2000,
          2000,
          2000,
          2000,
          1200,
          1200,
          7500,
          2990,
          945000,
          7500,
          4875,
          4875,
          4875,
          4300,
          4300,
          800,
          800,
          1000,
          1150,
          3130,
          525,
          7000,
          6000,
          6000,
          1700,
          625,
          625,
          3000,
          3000,
          3000,
          6500,
          1340,
          1340,
          1829,
          4800,
          2732,
          5000,
          1300,
          2444,
          5850,
          510,
          1600,
          1600,
          801,
          801,
          3000,
          6175,
          6500,
          1880,
          2416,
          4500,
          4500,
          4500,
          4000,
          5000,
          5000,
          5000,
          13333,
          6011,
          1800,
          3450,
          2255,
          1450,
          2000,
          4800,
          1400,
          1400,
          11000,
          2450,
          3750,
          750,
          8572,
          4000,
          4000,
          4000,
          4000,
          1100,
          7317,
          6000,
          466,
          466,
          1000,
          1500,
          1500,
          1400,
          1400,
          900,
          3000,
          7000,
          442,
          442,
          4000,
          4000,
          4000,
          5150,
          5150,
          5150,
          4200,
          5500,
          6000,
          3000,
          2600,
          3125,
          1300,
          5200,
          5200,
          4800,
          6500,
          6500,
          1700,
          1700,
          2555,
          2555,
          2555,
          3000,
          523,
          1600,
          1600,
          390,
          3000,
          1476,
          1476,
          1146,
          1146,
          1785,
          2100,
          4500,
          4100,
          7200,
          7200,
          2050,
          3500,
          1793,
          1475,
          4500,
          5800,
          3750,
          3750,
          690,
          690,
          1867,
          4500,
          2500,
          3050,
          9000,
          2222,
          4600,
          5500,
          5500,
          3200,
          1487,
          900,
          5000,
          3666,
          4500,
          2700,
          1550,
          2900,
          1237,
          13395,
          1480,
          5555,
          1550,
          5555,
          5555,
          4800,
          5550,
          1750,
          1200,
          1200,
          4900,
          4000,
          1300,
          5000,
          1570,
          6700,
          2250,
          1170,
          6700,
          3200,
          1450,
          1450,
          1450,
          3600,
          1133,
          3500,
          1430,
          1450,
          1413,
          1333,
          3900,
          1800,
          350,
          350,
          2800,
          850,
          2875,
          9000,
          700,
          1200,
          6700,
          2700,
          5000,
          4000,
          1450,
          1550,
          708,
          1300,
          2000,
          1450,
          611,
          1500,
          6000,
          4000,
          958,
          2500,
          3100,
          2750,
          1000,
          1400,
          3000,
          1300,
          5000,
          3700,
          4000,
          8300,
          5000,
          5000,
          1000,
          2900,
          2800,
          8000,
          8000,
          8000,
          6154,
          2500,
          4666,
          2625,
          6500,
          469,
          6100,
          5200,
          3334,
          2500,
          2400,
          2400,
          3500,
          5500,
          3400,
          4150,
          1750,
          4500,
          5000,
          5000,
          4900,
          4400,
          5000,
          4000,
          4300,
          338,
          6260,
          1253,
          950,
          607,
          6400,
          6250,
          6720,
          5100,
          4850,
          6119,
          666,
          816,
          5200,
          1780,
          900,
          90,
          2600,
          963,
          1158,
          2400,
          1600,
          1758,
          2500,
          2500,
          2400,
          6500,
          7500,
          2213,
          2100,
          3500,
          2500,
          3300,
          3000,
          1500,
          5000,
          588,
          800,
          1595,
          1450,
          7000,
          2200,
          2300,
          2250,
          1450,
          376,
          1126,
          10000,
          6500,
          2200,
          2700,
          2400,
          700,
          1650,
          1504,
          4900,
          888,
          800,
          2100,
          3500,
          4000,
          2300,
          806,
          2500,
          1837,
          3300,
          6000,
          986,
          1450,
          1450,
          1157,
          3500,
          5000,
          5000,
          3500,
          5200,
          4500,
          750,
          850,
          2000,
          2950,
          500,
          1500,
          1538,
          3500,
          2550,
          2300,
          2250,
          956,
          4600,
          801,
          555,
          1100,
          500,
          1300,
          926,
          6987,
          3400,
          1000,
          1800,
          1434,
          1380,
          2600,
          3334,
          4296,
          1125,
          7000,
          1000,
          5000,
          2059,
          2000,
          2100,
          2100,
          511,
          1500,
          2380,
          2000,
          1695
         ],
         "y0": " ",
         "yaxis": "y"
        }
       ],
       "layout": {
        "boxmode": "group",
        "legend": {
         "tracegroupgap": 0
        },
        "margin": {
         "t": 60
        },
        "template": {
         "data": {
          "bar": [
           {
            "error_x": {
             "color": "#2a3f5f"
            },
            "error_y": {
             "color": "#2a3f5f"
            },
            "marker": {
             "line": {
              "color": "#E5ECF6",
              "width": 0.5
             },
             "pattern": {
              "fillmode": "overlay",
              "size": 10,
              "solidity": 0.2
             }
            },
            "type": "bar"
           }
          ],
          "barpolar": [
           {
            "marker": {
             "line": {
              "color": "#E5ECF6",
              "width": 0.5
             },
             "pattern": {
              "fillmode": "overlay",
              "size": 10,
              "solidity": 0.2
             }
            },
            "type": "barpolar"
           }
          ],
          "carpet": [
           {
            "aaxis": {
             "endlinecolor": "#2a3f5f",
             "gridcolor": "white",
             "linecolor": "white",
             "minorgridcolor": "white",
             "startlinecolor": "#2a3f5f"
            },
            "baxis": {
             "endlinecolor": "#2a3f5f",
             "gridcolor": "white",
             "linecolor": "white",
             "minorgridcolor": "white",
             "startlinecolor": "#2a3f5f"
            },
            "type": "carpet"
           }
          ],
          "choropleth": [
           {
            "colorbar": {
             "outlinewidth": 0,
             "ticks": ""
            },
            "type": "choropleth"
           }
          ],
          "contour": [
           {
            "colorbar": {
             "outlinewidth": 0,
             "ticks": ""
            },
            "colorscale": [
             [
              0,
              "#0d0887"
             ],
             [
              0.1111111111111111,
              "#46039f"
             ],
             [
              0.2222222222222222,
              "#7201a8"
             ],
             [
              0.3333333333333333,
              "#9c179e"
             ],
             [
              0.4444444444444444,
              "#bd3786"
             ],
             [
              0.5555555555555556,
              "#d8576b"
             ],
             [
              0.6666666666666666,
              "#ed7953"
             ],
             [
              0.7777777777777778,
              "#fb9f3a"
             ],
             [
              0.8888888888888888,
              "#fdca26"
             ],
             [
              1,
              "#f0f921"
             ]
            ],
            "type": "contour"
           }
          ],
          "contourcarpet": [
           {
            "colorbar": {
             "outlinewidth": 0,
             "ticks": ""
            },
            "type": "contourcarpet"
           }
          ],
          "heatmap": [
           {
            "colorbar": {
             "outlinewidth": 0,
             "ticks": ""
            },
            "colorscale": [
             [
              0,
              "#0d0887"
             ],
             [
              0.1111111111111111,
              "#46039f"
             ],
             [
              0.2222222222222222,
              "#7201a8"
             ],
             [
              0.3333333333333333,
              "#9c179e"
             ],
             [
              0.4444444444444444,
              "#bd3786"
             ],
             [
              0.5555555555555556,
              "#d8576b"
             ],
             [
              0.6666666666666666,
              "#ed7953"
             ],
             [
              0.7777777777777778,
              "#fb9f3a"
             ],
             [
              0.8888888888888888,
              "#fdca26"
             ],
             [
              1,
              "#f0f921"
             ]
            ],
            "type": "heatmap"
           }
          ],
          "heatmapgl": [
           {
            "colorbar": {
             "outlinewidth": 0,
             "ticks": ""
            },
            "colorscale": [
             [
              0,
              "#0d0887"
             ],
             [
              0.1111111111111111,
              "#46039f"
             ],
             [
              0.2222222222222222,
              "#7201a8"
             ],
             [
              0.3333333333333333,
              "#9c179e"
             ],
             [
              0.4444444444444444,
              "#bd3786"
             ],
             [
              0.5555555555555556,
              "#d8576b"
             ],
             [
              0.6666666666666666,
              "#ed7953"
             ],
             [
              0.7777777777777778,
              "#fb9f3a"
             ],
             [
              0.8888888888888888,
              "#fdca26"
             ],
             [
              1,
              "#f0f921"
             ]
            ],
            "type": "heatmapgl"
           }
          ],
          "histogram": [
           {
            "marker": {
             "pattern": {
              "fillmode": "overlay",
              "size": 10,
              "solidity": 0.2
             }
            },
            "type": "histogram"
           }
          ],
          "histogram2d": [
           {
            "colorbar": {
             "outlinewidth": 0,
             "ticks": ""
            },
            "colorscale": [
             [
              0,
              "#0d0887"
             ],
             [
              0.1111111111111111,
              "#46039f"
             ],
             [
              0.2222222222222222,
              "#7201a8"
             ],
             [
              0.3333333333333333,
              "#9c179e"
             ],
             [
              0.4444444444444444,
              "#bd3786"
             ],
             [
              0.5555555555555556,
              "#d8576b"
             ],
             [
              0.6666666666666666,
              "#ed7953"
             ],
             [
              0.7777777777777778,
              "#fb9f3a"
             ],
             [
              0.8888888888888888,
              "#fdca26"
             ],
             [
              1,
              "#f0f921"
             ]
            ],
            "type": "histogram2d"
           }
          ],
          "histogram2dcontour": [
           {
            "colorbar": {
             "outlinewidth": 0,
             "ticks": ""
            },
            "colorscale": [
             [
              0,
              "#0d0887"
             ],
             [
              0.1111111111111111,
              "#46039f"
             ],
             [
              0.2222222222222222,
              "#7201a8"
             ],
             [
              0.3333333333333333,
              "#9c179e"
             ],
             [
              0.4444444444444444,
              "#bd3786"
             ],
             [
              0.5555555555555556,
              "#d8576b"
             ],
             [
              0.6666666666666666,
              "#ed7953"
             ],
             [
              0.7777777777777778,
              "#fb9f3a"
             ],
             [
              0.8888888888888888,
              "#fdca26"
             ],
             [
              1,
              "#f0f921"
             ]
            ],
            "type": "histogram2dcontour"
           }
          ],
          "mesh3d": [
           {
            "colorbar": {
             "outlinewidth": 0,
             "ticks": ""
            },
            "type": "mesh3d"
           }
          ],
          "parcoords": [
           {
            "line": {
             "colorbar": {
              "outlinewidth": 0,
              "ticks": ""
             }
            },
            "type": "parcoords"
           }
          ],
          "pie": [
           {
            "automargin": true,
            "type": "pie"
           }
          ],
          "scatter": [
           {
            "fillpattern": {
             "fillmode": "overlay",
             "size": 10,
             "solidity": 0.2
            },
            "type": "scatter"
           }
          ],
          "scatter3d": [
           {
            "line": {
             "colorbar": {
              "outlinewidth": 0,
              "ticks": ""
             }
            },
            "marker": {
             "colorbar": {
              "outlinewidth": 0,
              "ticks": ""
             }
            },
            "type": "scatter3d"
           }
          ],
          "scattercarpet": [
           {
            "marker": {
             "colorbar": {
              "outlinewidth": 0,
              "ticks": ""
             }
            },
            "type": "scattercarpet"
           }
          ],
          "scattergeo": [
           {
            "marker": {
             "colorbar": {
              "outlinewidth": 0,
              "ticks": ""
             }
            },
            "type": "scattergeo"
           }
          ],
          "scattergl": [
           {
            "marker": {
             "colorbar": {
              "outlinewidth": 0,
              "ticks": ""
             }
            },
            "type": "scattergl"
           }
          ],
          "scattermapbox": [
           {
            "marker": {
             "colorbar": {
              "outlinewidth": 0,
              "ticks": ""
             }
            },
            "type": "scattermapbox"
           }
          ],
          "scatterpolar": [
           {
            "marker": {
             "colorbar": {
              "outlinewidth": 0,
              "ticks": ""
             }
            },
            "type": "scatterpolar"
           }
          ],
          "scatterpolargl": [
           {
            "marker": {
             "colorbar": {
              "outlinewidth": 0,
              "ticks": ""
             }
            },
            "type": "scatterpolargl"
           }
          ],
          "scatterternary": [
           {
            "marker": {
             "colorbar": {
              "outlinewidth": 0,
              "ticks": ""
             }
            },
            "type": "scatterternary"
           }
          ],
          "surface": [
           {
            "colorbar": {
             "outlinewidth": 0,
             "ticks": ""
            },
            "colorscale": [
             [
              0,
              "#0d0887"
             ],
             [
              0.1111111111111111,
              "#46039f"
             ],
             [
              0.2222222222222222,
              "#7201a8"
             ],
             [
              0.3333333333333333,
              "#9c179e"
             ],
             [
              0.4444444444444444,
              "#bd3786"
             ],
             [
              0.5555555555555556,
              "#d8576b"
             ],
             [
              0.6666666666666666,
              "#ed7953"
             ],
             [
              0.7777777777777778,
              "#fb9f3a"
             ],
             [
              0.8888888888888888,
              "#fdca26"
             ],
             [
              1,
              "#f0f921"
             ]
            ],
            "type": "surface"
           }
          ],
          "table": [
           {
            "cells": {
             "fill": {
              "color": "#EBF0F8"
             },
             "line": {
              "color": "white"
             }
            },
            "header": {
             "fill": {
              "color": "#C8D4E3"
             },
             "line": {
              "color": "white"
             }
            },
            "type": "table"
           }
          ]
         },
         "layout": {
          "annotationdefaults": {
           "arrowcolor": "#2a3f5f",
           "arrowhead": 0,
           "arrowwidth": 1
          },
          "autotypenumbers": "strict",
          "coloraxis": {
           "colorbar": {
            "outlinewidth": 0,
            "ticks": ""
           }
          },
          "colorscale": {
           "diverging": [
            [
             0,
             "#8e0152"
            ],
            [
             0.1,
             "#c51b7d"
            ],
            [
             0.2,
             "#de77ae"
            ],
            [
             0.3,
             "#f1b6da"
            ],
            [
             0.4,
             "#fde0ef"
            ],
            [
             0.5,
             "#f7f7f7"
            ],
            [
             0.6,
             "#e6f5d0"
            ],
            [
             0.7,
             "#b8e186"
            ],
            [
             0.8,
             "#7fbc41"
            ],
            [
             0.9,
             "#4d9221"
            ],
            [
             1,
             "#276419"
            ]
           ],
           "sequential": [
            [
             0,
             "#0d0887"
            ],
            [
             0.1111111111111111,
             "#46039f"
            ],
            [
             0.2222222222222222,
             "#7201a8"
            ],
            [
             0.3333333333333333,
             "#9c179e"
            ],
            [
             0.4444444444444444,
             "#bd3786"
            ],
            [
             0.5555555555555556,
             "#d8576b"
            ],
            [
             0.6666666666666666,
             "#ed7953"
            ],
            [
             0.7777777777777778,
             "#fb9f3a"
            ],
            [
             0.8888888888888888,
             "#fdca26"
            ],
            [
             1,
             "#f0f921"
            ]
           ],
           "sequentialminus": [
            [
             0,
             "#0d0887"
            ],
            [
             0.1111111111111111,
             "#46039f"
            ],
            [
             0.2222222222222222,
             "#7201a8"
            ],
            [
             0.3333333333333333,
             "#9c179e"
            ],
            [
             0.4444444444444444,
             "#bd3786"
            ],
            [
             0.5555555555555556,
             "#d8576b"
            ],
            [
             0.6666666666666666,
             "#ed7953"
            ],
            [
             0.7777777777777778,
             "#fb9f3a"
            ],
            [
             0.8888888888888888,
             "#fdca26"
            ],
            [
             1,
             "#f0f921"
            ]
           ]
          },
          "colorway": [
           "#636efa",
           "#EF553B",
           "#00cc96",
           "#ab63fa",
           "#FFA15A",
           "#19d3f3",
           "#FF6692",
           "#B6E880",
           "#FF97FF",
           "#FECB52"
          ],
          "font": {
           "color": "#2a3f5f"
          },
          "geo": {
           "bgcolor": "white",
           "lakecolor": "white",
           "landcolor": "#E5ECF6",
           "showlakes": true,
           "showland": true,
           "subunitcolor": "white"
          },
          "hoverlabel": {
           "align": "left"
          },
          "hovermode": "closest",
          "mapbox": {
           "style": "light"
          },
          "paper_bgcolor": "white",
          "plot_bgcolor": "#E5ECF6",
          "polar": {
           "angularaxis": {
            "gridcolor": "white",
            "linecolor": "white",
            "ticks": ""
           },
           "bgcolor": "#E5ECF6",
           "radialaxis": {
            "gridcolor": "white",
            "linecolor": "white",
            "ticks": ""
           }
          },
          "scene": {
           "xaxis": {
            "backgroundcolor": "#E5ECF6",
            "gridcolor": "white",
            "gridwidth": 2,
            "linecolor": "white",
            "showbackground": true,
            "ticks": "",
            "zerolinecolor": "white"
           },
           "yaxis": {
            "backgroundcolor": "#E5ECF6",
            "gridcolor": "white",
            "gridwidth": 2,
            "linecolor": "white",
            "showbackground": true,
            "ticks": "",
            "zerolinecolor": "white"
           },
           "zaxis": {
            "backgroundcolor": "#E5ECF6",
            "gridcolor": "white",
            "gridwidth": 2,
            "linecolor": "white",
            "showbackground": true,
            "ticks": "",
            "zerolinecolor": "white"
           }
          },
          "shapedefaults": {
           "line": {
            "color": "#2a3f5f"
           }
          },
          "ternary": {
           "aaxis": {
            "gridcolor": "white",
            "linecolor": "white",
            "ticks": ""
           },
           "baxis": {
            "gridcolor": "white",
            "linecolor": "white",
            "ticks": ""
           },
           "bgcolor": "#E5ECF6",
           "caxis": {
            "gridcolor": "white",
            "linecolor": "white",
            "ticks": ""
           }
          },
          "title": {
           "x": 0.05
          },
          "xaxis": {
           "automargin": true,
           "gridcolor": "white",
           "linecolor": "white",
           "ticks": "",
           "title": {
            "standoff": 15
           },
           "zerolinecolor": "white",
           "zerolinewidth": 2
          },
          "yaxis": {
           "automargin": true,
           "gridcolor": "white",
           "linecolor": "white",
           "ticks": "",
           "title": {
            "standoff": 15
           },
           "zerolinecolor": "white",
           "zerolinewidth": 2
          }
         }
        },
        "xaxis": {
         "anchor": "y",
         "domain": [
          0,
          1
         ]
        },
        "yaxis": {
         "anchor": "x",
         "domain": [
          0,
          1
         ],
         "title": {
          "text": "سعر المتر"
         }
        }
       }
      }
     },
     "metadata": {},
     "output_type": "display_data"
    }
   ],
   "source": [
    "fig1 = px.box(landofriyad, y='سعر المتر')\n",
    "\n",
    "fig1.show()"
   ]
  },
  {
   "cell_type": "code",
   "execution_count": 334,
   "id": "cab11c85",
   "metadata": {},
   "outputs": [
    {
     "name": "stdout",
     "output_type": "stream",
     "text": [
      "Lower whisker: 90.0\n",
      "Upper whisker: 9075.0\n"
     ]
    }
   ],
   "source": [
    "q1 = landofriyad['سعر المتر'].quantile(0.25)\n",
    "q3 = landofriyad['سعر المتر'].quantile(0.75)\n",
    "iqr = q3 - q1\n",
    "\n",
    "# Calculate whiskers\n",
    "lower_whisker = max(q1 - 1.5 * iqr, landofriyad['سعر المتر'].min())\n",
    "upper_whisker = min(q3 + 1.5 * iqr, landofriyad['سعر المتر'].max())\n",
    "\n",
    "print(f\"Lower whisker: {lower_whisker}\")\n",
    "print(f\"Upper whisker: {upper_whisker}\")"
   ]
  },
  {
   "cell_type": "code",
   "execution_count": 335,
   "id": "28db1a6b",
   "metadata": {},
   "outputs": [
    {
     "data": {
      "application/vnd.plotly.v1+json": {
       "config": {
        "plotlyServerURL": "https://plot.ly"
       },
       "data": [
        {
         "alignmentgroup": "True",
         "hovertemplate": "سعر المتر=%{y}<extra></extra>",
         "legendgroup": "",
         "marker": {
          "color": "#636efa"
         },
         "name": "",
         "notched": false,
         "offsetgroup": "",
         "orientation": "v",
         "showlegend": false,
         "type": "box",
         "x0": " ",
         "xaxis": "x",
         "y": [
          4800,
          3200,
          3300,
          3350,
          3300,
          3500,
          3500,
          2500,
          3200,
          3250,
          3000,
          2500,
          2500,
          3100,
          476,
          3500,
          1650,
          3150,
          2600,
          2600,
          3400,
          5300,
          6000,
          6000,
          5500,
          5500,
          3500,
          2500,
          2000,
          1400,
          426,
          4800,
          3800,
          3800,
          3100,
          3100,
          3100,
          2350,
          2350,
          2350,
          422,
          422,
          3200,
          2750,
          865,
          865,
          2500,
          2500,
          1500,
          4200,
          4200,
          2500,
          559,
          3600,
          550,
          550,
          460,
          5800,
          315,
          315,
          315,
          315,
          5300,
          5300,
          7333,
          2900,
          1000,
          4000,
          3700,
          4000,
          1800,
          318,
          867,
          944,
          944,
          944,
          3000,
          2500,
          1800,
          2500,
          2500,
          3350,
          2400,
          4400,
          4019,
          4200,
          515,
          2350,
          2600,
          2600,
          2600,
          3339,
          3000,
          1000,
          1000,
          3300,
          3300,
          2700,
          2700,
          2700,
          3100,
          3400,
          4000,
          4000,
          2850,
          4000,
          4000,
          1800,
          1850,
          1850,
          1900,
          3100,
          4000,
          4000,
          500,
          2400,
          2400,
          2300,
          4500,
          4500,
          671,
          671,
          671,
          1000,
          1000,
          800,
          3300,
          3300,
          3700,
          1400,
          5778,
          6500,
          2500,
          2570,
          2570,
          4200,
          444,
          444,
          444,
          2871,
          2871,
          2202,
          2954,
          2954,
          310,
          1441,
          525,
          950,
          2500,
          5000,
          2650,
          2650,
          2650,
          4900,
          4900,
          800,
          800,
          5000,
          5000,
          5000,
          1000,
          1000,
          1000,
          4800,
          3150,
          1600,
          2550,
          2550,
          5000,
          2800,
          2800,
          5500,
          5500,
          5500,
          3000,
          3000,
          5000,
          4900,
          2500,
          1630,
          1833,
          3200,
          3200,
          1000,
          1300,
          1300,
          3600,
          2500,
          6000,
          6000,
          3350,
          1739,
          6500,
          2600,
          2600,
          2600,
          6000,
          6500,
          6500,
          925,
          3100,
          3100,
          1709,
          4900,
          4300,
          4900,
          2200,
          3100,
          3400,
          3400,
          3400,
          1500,
          7500,
          2900,
          2900,
          2900,
          6000,
          6000,
          800,
          476,
          476,
          3500,
          1150,
          3472,
          1750,
          3200,
          5300,
          10000,
          909,
          668,
          1400,
          1547,
          1834,
          1600,
          5000,
          5000,
          5000,
          4800,
          2500,
          2125,
          2125,
          3150,
          10000,
          4800,
          4800,
          2600,
          2600,
          2600,
          3400,
          2570,
          6000,
          714,
          1632,
          4200,
          7500,
          1260,
          1400,
          3000,
          3000,
          4650,
          7000,
          7000,
          834,
          5200,
          2439,
          2439,
          3300,
          2680,
          2680,
          4700,
          5600,
          5600,
          4400,
          850,
          850,
          6000,
          6000,
          6000,
          6000,
          5700,
          1800,
          1800,
          4800,
          422,
          5000,
          3111,
          5650,
          5650,
          1200,
          6400,
          1160,
          1600,
          1000,
          6000,
          2500,
          6200,
          4500,
          1500,
          4200,
          2400,
          559,
          3600,
          2950,
          550,
          1730,
          1730,
          4200,
          4200,
          575,
          575,
          774,
          1800,
          1800,
          3200,
          3200,
          6350,
          3200,
          1000,
          1000,
          1000,
          3800,
          3800,
          2700,
          1800,
          1800,
          1800,
          414,
          3000,
          4800,
          4800,
          5500,
          5500,
          4800,
          900,
          3150,
          3150,
          1466,
          1466,
          3000,
          1200,
          1200,
          1200,
          4500,
          2650,
          2650,
          2555,
          1304,
          1304,
          1304,
          1304,
          2100,
          800,
          800,
          5200,
          5850,
          5300,
          2900,
          2800,
          2800,
          2800,
          2800,
          2000,
          800,
          800,
          1388,
          1388,
          4000,
          2266,
          3700,
          3700,
          1800,
          4000,
          4000,
          4000,
          4000,
          318,
          318,
          318,
          318,
          3100,
          867,
          867,
          867,
          867,
          4000,
          3700,
          3700,
          4500,
          4500,
          2250,
          2250,
          2250,
          2250,
          2261,
          2261,
          2261,
          2240,
          2240,
          1133,
          1133,
          3150,
          3150,
          3150,
          3000,
          2250,
          3000,
          1850,
          3000,
          2500,
          2500,
          9891,
          2600,
          2600,
          6300,
          6300,
          1800,
          1800,
          2700,
          2700,
          5800,
          2800,
          2800,
          1413,
          900,
          1000,
          3200,
          1000,
          1000,
          1000,
          777,
          777,
          2338,
          4555,
          2000,
          1111,
          1300,
          1300,
          1300,
          1300,
          1111,
          1111,
          1111,
          1004,
          6200,
          5300,
          4800,
          4700,
          1600,
          4000,
          1500,
          4100,
          2416,
          3350,
          3600,
          2900,
          526,
          9000,
          2800,
          2777,
          5000,
          3000,
          19780,
          480,
          480,
          3400,
          459,
          459,
          2000,
          4000,
          2000,
          2000,
          4800,
          3500,
          3333,
          1230,
          2700,
          1400,
          2625,
          4400,
          4400,
          4400,
          859,
          4800,
          1350,
          1350,
          2350,
          4100,
          6000,
          6000,
          1800,
          993,
          10000,
          2000,
          2000,
          3339,
          4000,
          1000,
          1000,
          1000,
          1000,
          1000,
          1000,
          3000,
          3000,
          3000,
          4500,
          1320,
          1600,
          4250,
          3100,
          3100,
          1600,
          1600,
          1179,
          3100,
          546,
          546,
          546,
          5800,
          5000,
          3200,
          3200,
          4000,
          1455,
          1455,
          1455,
          2850,
          467,
          5500,
          2400,
          4000,
          4000,
          3100,
          3100,
          1800,
          1800,
          2667,
          2667,
          2667,
          2667,
          3100,
          3100,
          1900,
          1500,
          2666,
          6400,
          6400,
          700,
          1600,
          4000,
          1590,
          1590,
          4500,
          4000,
          500,
          940,
          940,
          5500,
          2889,
          1750,
          1450,
          1305,
          1270,
          1450,
          1450,
          1400,
          920,
          1380,
          2750,
          4700,
          2550,
          2550,
          2550,
          2550,
          600,
          5000,
          5000,
          3000,
          1335,
          1335,
          3200,
          3200,
          3300,
          3300,
          6500,
          4500,
          1300,
          3500,
          1280,
          1280,
          1280,
          2000,
          2200,
          4000,
          4600,
          1250,
          2500,
          1400,
          1400,
          1400,
          1200,
          1604,
          1604,
          1717,
          671,
          1000,
          1000,
          1274,
          1042,
          2500,
          1280,
          1900,
          3444,
          4800,
          5800,
          1000,
          5000,
          2000,
          3111,
          800,
          900,
          2185,
          2185,
          4900,
          2555,
          1667,
          1667,
          1200,
          1222,
          3700,
          6300,
          4200,
          822,
          822,
          4500,
          2000,
          5400,
          1222,
          4500,
          1400,
          1400,
          2712,
          1050,
          5778,
          890,
          890,
          2225,
          2225,
          2600,
          1306,
          4500,
          2223,
          3335,
          3335,
          3335,
          3335,
          5900,
          4500,
          2570,
          4500,
          2500,
          1570,
          1300,
          2800,
          3330,
          4200,
          444,
          2446,
          2446,
          4100,
          4100,
          1700,
          1700,
          5000,
          1358,
          2750,
          1812,
          3500,
          3500,
          1450,
          1000,
          1822,
          2871,
          2871,
          4500,
          2000,
          6500,
          7900,
          2153,
          2000,
          2000,
          2000,
          2000,
          2000,
          1200,
          1200,
          7500,
          2990,
          7500,
          4875,
          4875,
          4875,
          4300,
          4300,
          800,
          800,
          1000,
          1150,
          3130,
          525,
          7000,
          6000,
          6000,
          1700,
          625,
          625,
          3000,
          3000,
          3000,
          6500,
          1340,
          1340,
          1829,
          4800,
          2732,
          5000,
          1300,
          2444,
          5850,
          510,
          1600,
          801,
          801,
          6175,
          6500,
          1880,
          2416,
          4500,
          4500,
          4500,
          4000,
          5000,
          5000,
          5000,
          6011,
          1800,
          3450,
          2255,
          1450,
          2000,
          4800,
          1400,
          1400,
          11000,
          2450,
          3750,
          750,
          4000,
          4000,
          4000,
          4000,
          1100,
          7317,
          6000,
          466,
          466,
          1000,
          1500,
          1500,
          1400,
          900,
          3000,
          442,
          442,
          4000,
          4000,
          5150,
          5150,
          4200,
          5500,
          6000,
          3000,
          2600,
          3125,
          1300,
          5200,
          4800,
          1700,
          1700,
          2555,
          2555,
          2555,
          3000,
          523,
          1600,
          1600,
          390,
          3000,
          1476,
          1476,
          1146,
          1146,
          1785,
          2100,
          4500,
          4100,
          7200,
          7200,
          2050,
          3500,
          1793,
          1475,
          4500,
          5800,
          3750,
          3750,
          690,
          690,
          1867,
          4500,
          2500,
          3050,
          2222,
          4600,
          5500,
          5500,
          3200,
          1487,
          900,
          5000,
          3666,
          4500,
          2700,
          1550,
          2900,
          1237,
          1480,
          5555,
          1550,
          5555,
          5555,
          4800,
          5550,
          1750,
          1200,
          1200,
          4900,
          4000,
          1300,
          5000,
          1570,
          2250,
          1170,
          6700,
          3200,
          1450,
          1450,
          1450,
          3600,
          1133,
          3500,
          1430,
          1450,
          1413,
          1333,
          3900,
          1800,
          350,
          350,
          2800,
          850,
          2875,
          9000,
          700,
          1200,
          6700,
          2700,
          4000,
          1450,
          1550,
          708,
          1300,
          2000,
          1450,
          611,
          1500,
          6000,
          4000,
          958,
          2500,
          3100,
          2750,
          1000,
          3000,
          1300,
          5000,
          3700,
          4000,
          1000,
          2900,
          8000,
          2500,
          4666,
          2625,
          6500,
          469,
          6100,
          3334,
          2500,
          2400,
          2400,
          3500,
          5500,
          3400,
          4150,
          1750,
          4500,
          5000,
          5000,
          4900,
          4400,
          5000,
          4000,
          4300,
          338,
          6260,
          1253,
          950,
          607,
          6400,
          6250,
          5100,
          4850,
          6119,
          666,
          816,
          5200,
          1780,
          900,
          90,
          2600,
          963,
          1158,
          2400,
          1600,
          1758,
          2500,
          2500,
          2400,
          6500,
          2213,
          2100,
          3500,
          2500,
          3300,
          3000,
          1500,
          5000,
          588,
          800,
          1595,
          1450,
          2200,
          2250,
          376,
          1126,
          6500,
          2200,
          2700,
          2400,
          700,
          1650,
          1504,
          4900,
          888,
          800,
          2100,
          3500,
          4000,
          2300,
          806,
          1837,
          3300,
          6000,
          986,
          1157,
          3500,
          5200,
          4500,
          750,
          850,
          2000,
          2950,
          500,
          1500,
          1538,
          2300,
          2250,
          956,
          801,
          555,
          1100,
          500,
          1300,
          926,
          6987,
          3400,
          1800,
          1434,
          1380,
          2600,
          3334,
          4296,
          1125,
          7000,
          5000,
          2059,
          2000,
          2100,
          2100,
          511,
          1500,
          2380,
          2000,
          1695
         ],
         "y0": " ",
         "yaxis": "y"
        }
       ],
       "layout": {
        "boxmode": "group",
        "legend": {
         "tracegroupgap": 0
        },
        "margin": {
         "t": 60
        },
        "template": {
         "data": {
          "bar": [
           {
            "error_x": {
             "color": "#2a3f5f"
            },
            "error_y": {
             "color": "#2a3f5f"
            },
            "marker": {
             "line": {
              "color": "#E5ECF6",
              "width": 0.5
             },
             "pattern": {
              "fillmode": "overlay",
              "size": 10,
              "solidity": 0.2
             }
            },
            "type": "bar"
           }
          ],
          "barpolar": [
           {
            "marker": {
             "line": {
              "color": "#E5ECF6",
              "width": 0.5
             },
             "pattern": {
              "fillmode": "overlay",
              "size": 10,
              "solidity": 0.2
             }
            },
            "type": "barpolar"
           }
          ],
          "carpet": [
           {
            "aaxis": {
             "endlinecolor": "#2a3f5f",
             "gridcolor": "white",
             "linecolor": "white",
             "minorgridcolor": "white",
             "startlinecolor": "#2a3f5f"
            },
            "baxis": {
             "endlinecolor": "#2a3f5f",
             "gridcolor": "white",
             "linecolor": "white",
             "minorgridcolor": "white",
             "startlinecolor": "#2a3f5f"
            },
            "type": "carpet"
           }
          ],
          "choropleth": [
           {
            "colorbar": {
             "outlinewidth": 0,
             "ticks": ""
            },
            "type": "choropleth"
           }
          ],
          "contour": [
           {
            "colorbar": {
             "outlinewidth": 0,
             "ticks": ""
            },
            "colorscale": [
             [
              0,
              "#0d0887"
             ],
             [
              0.1111111111111111,
              "#46039f"
             ],
             [
              0.2222222222222222,
              "#7201a8"
             ],
             [
              0.3333333333333333,
              "#9c179e"
             ],
             [
              0.4444444444444444,
              "#bd3786"
             ],
             [
              0.5555555555555556,
              "#d8576b"
             ],
             [
              0.6666666666666666,
              "#ed7953"
             ],
             [
              0.7777777777777778,
              "#fb9f3a"
             ],
             [
              0.8888888888888888,
              "#fdca26"
             ],
             [
              1,
              "#f0f921"
             ]
            ],
            "type": "contour"
           }
          ],
          "contourcarpet": [
           {
            "colorbar": {
             "outlinewidth": 0,
             "ticks": ""
            },
            "type": "contourcarpet"
           }
          ],
          "heatmap": [
           {
            "colorbar": {
             "outlinewidth": 0,
             "ticks": ""
            },
            "colorscale": [
             [
              0,
              "#0d0887"
             ],
             [
              0.1111111111111111,
              "#46039f"
             ],
             [
              0.2222222222222222,
              "#7201a8"
             ],
             [
              0.3333333333333333,
              "#9c179e"
             ],
             [
              0.4444444444444444,
              "#bd3786"
             ],
             [
              0.5555555555555556,
              "#d8576b"
             ],
             [
              0.6666666666666666,
              "#ed7953"
             ],
             [
              0.7777777777777778,
              "#fb9f3a"
             ],
             [
              0.8888888888888888,
              "#fdca26"
             ],
             [
              1,
              "#f0f921"
             ]
            ],
            "type": "heatmap"
           }
          ],
          "heatmapgl": [
           {
            "colorbar": {
             "outlinewidth": 0,
             "ticks": ""
            },
            "colorscale": [
             [
              0,
              "#0d0887"
             ],
             [
              0.1111111111111111,
              "#46039f"
             ],
             [
              0.2222222222222222,
              "#7201a8"
             ],
             [
              0.3333333333333333,
              "#9c179e"
             ],
             [
              0.4444444444444444,
              "#bd3786"
             ],
             [
              0.5555555555555556,
              "#d8576b"
             ],
             [
              0.6666666666666666,
              "#ed7953"
             ],
             [
              0.7777777777777778,
              "#fb9f3a"
             ],
             [
              0.8888888888888888,
              "#fdca26"
             ],
             [
              1,
              "#f0f921"
             ]
            ],
            "type": "heatmapgl"
           }
          ],
          "histogram": [
           {
            "marker": {
             "pattern": {
              "fillmode": "overlay",
              "size": 10,
              "solidity": 0.2
             }
            },
            "type": "histogram"
           }
          ],
          "histogram2d": [
           {
            "colorbar": {
             "outlinewidth": 0,
             "ticks": ""
            },
            "colorscale": [
             [
              0,
              "#0d0887"
             ],
             [
              0.1111111111111111,
              "#46039f"
             ],
             [
              0.2222222222222222,
              "#7201a8"
             ],
             [
              0.3333333333333333,
              "#9c179e"
             ],
             [
              0.4444444444444444,
              "#bd3786"
             ],
             [
              0.5555555555555556,
              "#d8576b"
             ],
             [
              0.6666666666666666,
              "#ed7953"
             ],
             [
              0.7777777777777778,
              "#fb9f3a"
             ],
             [
              0.8888888888888888,
              "#fdca26"
             ],
             [
              1,
              "#f0f921"
             ]
            ],
            "type": "histogram2d"
           }
          ],
          "histogram2dcontour": [
           {
            "colorbar": {
             "outlinewidth": 0,
             "ticks": ""
            },
            "colorscale": [
             [
              0,
              "#0d0887"
             ],
             [
              0.1111111111111111,
              "#46039f"
             ],
             [
              0.2222222222222222,
              "#7201a8"
             ],
             [
              0.3333333333333333,
              "#9c179e"
             ],
             [
              0.4444444444444444,
              "#bd3786"
             ],
             [
              0.5555555555555556,
              "#d8576b"
             ],
             [
              0.6666666666666666,
              "#ed7953"
             ],
             [
              0.7777777777777778,
              "#fb9f3a"
             ],
             [
              0.8888888888888888,
              "#fdca26"
             ],
             [
              1,
              "#f0f921"
             ]
            ],
            "type": "histogram2dcontour"
           }
          ],
          "mesh3d": [
           {
            "colorbar": {
             "outlinewidth": 0,
             "ticks": ""
            },
            "type": "mesh3d"
           }
          ],
          "parcoords": [
           {
            "line": {
             "colorbar": {
              "outlinewidth": 0,
              "ticks": ""
             }
            },
            "type": "parcoords"
           }
          ],
          "pie": [
           {
            "automargin": true,
            "type": "pie"
           }
          ],
          "scatter": [
           {
            "fillpattern": {
             "fillmode": "overlay",
             "size": 10,
             "solidity": 0.2
            },
            "type": "scatter"
           }
          ],
          "scatter3d": [
           {
            "line": {
             "colorbar": {
              "outlinewidth": 0,
              "ticks": ""
             }
            },
            "marker": {
             "colorbar": {
              "outlinewidth": 0,
              "ticks": ""
             }
            },
            "type": "scatter3d"
           }
          ],
          "scattercarpet": [
           {
            "marker": {
             "colorbar": {
              "outlinewidth": 0,
              "ticks": ""
             }
            },
            "type": "scattercarpet"
           }
          ],
          "scattergeo": [
           {
            "marker": {
             "colorbar": {
              "outlinewidth": 0,
              "ticks": ""
             }
            },
            "type": "scattergeo"
           }
          ],
          "scattergl": [
           {
            "marker": {
             "colorbar": {
              "outlinewidth": 0,
              "ticks": ""
             }
            },
            "type": "scattergl"
           }
          ],
          "scattermapbox": [
           {
            "marker": {
             "colorbar": {
              "outlinewidth": 0,
              "ticks": ""
             }
            },
            "type": "scattermapbox"
           }
          ],
          "scatterpolar": [
           {
            "marker": {
             "colorbar": {
              "outlinewidth": 0,
              "ticks": ""
             }
            },
            "type": "scatterpolar"
           }
          ],
          "scatterpolargl": [
           {
            "marker": {
             "colorbar": {
              "outlinewidth": 0,
              "ticks": ""
             }
            },
            "type": "scatterpolargl"
           }
          ],
          "scatterternary": [
           {
            "marker": {
             "colorbar": {
              "outlinewidth": 0,
              "ticks": ""
             }
            },
            "type": "scatterternary"
           }
          ],
          "surface": [
           {
            "colorbar": {
             "outlinewidth": 0,
             "ticks": ""
            },
            "colorscale": [
             [
              0,
              "#0d0887"
             ],
             [
              0.1111111111111111,
              "#46039f"
             ],
             [
              0.2222222222222222,
              "#7201a8"
             ],
             [
              0.3333333333333333,
              "#9c179e"
             ],
             [
              0.4444444444444444,
              "#bd3786"
             ],
             [
              0.5555555555555556,
              "#d8576b"
             ],
             [
              0.6666666666666666,
              "#ed7953"
             ],
             [
              0.7777777777777778,
              "#fb9f3a"
             ],
             [
              0.8888888888888888,
              "#fdca26"
             ],
             [
              1,
              "#f0f921"
             ]
            ],
            "type": "surface"
           }
          ],
          "table": [
           {
            "cells": {
             "fill": {
              "color": "#EBF0F8"
             },
             "line": {
              "color": "white"
             }
            },
            "header": {
             "fill": {
              "color": "#C8D4E3"
             },
             "line": {
              "color": "white"
             }
            },
            "type": "table"
           }
          ]
         },
         "layout": {
          "annotationdefaults": {
           "arrowcolor": "#2a3f5f",
           "arrowhead": 0,
           "arrowwidth": 1
          },
          "autotypenumbers": "strict",
          "coloraxis": {
           "colorbar": {
            "outlinewidth": 0,
            "ticks": ""
           }
          },
          "colorscale": {
           "diverging": [
            [
             0,
             "#8e0152"
            ],
            [
             0.1,
             "#c51b7d"
            ],
            [
             0.2,
             "#de77ae"
            ],
            [
             0.3,
             "#f1b6da"
            ],
            [
             0.4,
             "#fde0ef"
            ],
            [
             0.5,
             "#f7f7f7"
            ],
            [
             0.6,
             "#e6f5d0"
            ],
            [
             0.7,
             "#b8e186"
            ],
            [
             0.8,
             "#7fbc41"
            ],
            [
             0.9,
             "#4d9221"
            ],
            [
             1,
             "#276419"
            ]
           ],
           "sequential": [
            [
             0,
             "#0d0887"
            ],
            [
             0.1111111111111111,
             "#46039f"
            ],
            [
             0.2222222222222222,
             "#7201a8"
            ],
            [
             0.3333333333333333,
             "#9c179e"
            ],
            [
             0.4444444444444444,
             "#bd3786"
            ],
            [
             0.5555555555555556,
             "#d8576b"
            ],
            [
             0.6666666666666666,
             "#ed7953"
            ],
            [
             0.7777777777777778,
             "#fb9f3a"
            ],
            [
             0.8888888888888888,
             "#fdca26"
            ],
            [
             1,
             "#f0f921"
            ]
           ],
           "sequentialminus": [
            [
             0,
             "#0d0887"
            ],
            [
             0.1111111111111111,
             "#46039f"
            ],
            [
             0.2222222222222222,
             "#7201a8"
            ],
            [
             0.3333333333333333,
             "#9c179e"
            ],
            [
             0.4444444444444444,
             "#bd3786"
            ],
            [
             0.5555555555555556,
             "#d8576b"
            ],
            [
             0.6666666666666666,
             "#ed7953"
            ],
            [
             0.7777777777777778,
             "#fb9f3a"
            ],
            [
             0.8888888888888888,
             "#fdca26"
            ],
            [
             1,
             "#f0f921"
            ]
           ]
          },
          "colorway": [
           "#636efa",
           "#EF553B",
           "#00cc96",
           "#ab63fa",
           "#FFA15A",
           "#19d3f3",
           "#FF6692",
           "#B6E880",
           "#FF97FF",
           "#FECB52"
          ],
          "font": {
           "color": "#2a3f5f"
          },
          "geo": {
           "bgcolor": "white",
           "lakecolor": "white",
           "landcolor": "#E5ECF6",
           "showlakes": true,
           "showland": true,
           "subunitcolor": "white"
          },
          "hoverlabel": {
           "align": "left"
          },
          "hovermode": "closest",
          "mapbox": {
           "style": "light"
          },
          "paper_bgcolor": "white",
          "plot_bgcolor": "#E5ECF6",
          "polar": {
           "angularaxis": {
            "gridcolor": "white",
            "linecolor": "white",
            "ticks": ""
           },
           "bgcolor": "#E5ECF6",
           "radialaxis": {
            "gridcolor": "white",
            "linecolor": "white",
            "ticks": ""
           }
          },
          "scene": {
           "xaxis": {
            "backgroundcolor": "#E5ECF6",
            "gridcolor": "white",
            "gridwidth": 2,
            "linecolor": "white",
            "showbackground": true,
            "ticks": "",
            "zerolinecolor": "white"
           },
           "yaxis": {
            "backgroundcolor": "#E5ECF6",
            "gridcolor": "white",
            "gridwidth": 2,
            "linecolor": "white",
            "showbackground": true,
            "ticks": "",
            "zerolinecolor": "white"
           },
           "zaxis": {
            "backgroundcolor": "#E5ECF6",
            "gridcolor": "white",
            "gridwidth": 2,
            "linecolor": "white",
            "showbackground": true,
            "ticks": "",
            "zerolinecolor": "white"
           }
          },
          "shapedefaults": {
           "line": {
            "color": "#2a3f5f"
           }
          },
          "ternary": {
           "aaxis": {
            "gridcolor": "white",
            "linecolor": "white",
            "ticks": ""
           },
           "baxis": {
            "gridcolor": "white",
            "linecolor": "white",
            "ticks": ""
           },
           "bgcolor": "#E5ECF6",
           "caxis": {
            "gridcolor": "white",
            "linecolor": "white",
            "ticks": ""
           }
          },
          "title": {
           "x": 0.05
          },
          "xaxis": {
           "automargin": true,
           "gridcolor": "white",
           "linecolor": "white",
           "ticks": "",
           "title": {
            "standoff": 15
           },
           "zerolinecolor": "white",
           "zerolinewidth": 2
          },
          "yaxis": {
           "automargin": true,
           "gridcolor": "white",
           "linecolor": "white",
           "ticks": "",
           "title": {
            "standoff": 15
           },
           "zerolinecolor": "white",
           "zerolinewidth": 2
          }
         }
        },
        "xaxis": {
         "anchor": "y",
         "domain": [
          0,
          1
         ]
        },
        "yaxis": {
         "anchor": "x",
         "domain": [
          0,
          1
         ],
         "title": {
          "text": "سعر المتر"
         }
        }
       }
      }
     },
     "metadata": {},
     "output_type": "display_data"
    }
   ],
   "source": [
    "landofriyad_filtered1 = landofriyad[landofriyad['سعر المتر'] <= 9075.0]\n",
    "\n",
    "price1 = px.box(landofriyad_filtered, y='سعر المتر')\n",
    "\n",
    "price1.show()"
   ]
  },
  {
   "cell_type": "code",
   "execution_count": 336,
   "id": "0b1b646c",
   "metadata": {},
   "outputs": [
    {
     "data": {
      "application/vnd.plotly.v1+json": {
       "config": {
        "plotlyServerURL": "https://plot.ly"
       },
       "data": [
        {
         "alignmentgroup": "True",
         "hovertemplate": "المساحة=%{y}<extra></extra>",
         "legendgroup": "",
         "marker": {
          "color": "#636efa"
         },
         "name": "",
         "notched": false,
         "offsetgroup": "",
         "orientation": "v",
         "showlegend": false,
         "type": "box",
         "x0": " ",
         "xaxis": "x",
         "y": [
          800,
          1650,
          1650,
          750,
          2400,
          900,
          750,
          1089,
          450,
          450,
          550,
          1089,
          1089,
          550,
          3092,
          381,
          361,
          412,
          420,
          594,
          750,
          750,
          300,
          572,
          1089,
          320,
          1000,
          375,
          450,
          1019,
          412,
          432,
          2940,
          3663,
          750,
          800,
          300,
          300,
          750,
          750,
          1849,
          312,
          375,
          312,
          900,
          750,
          412,
          3562,
          412,
          810,
          2000,
          2100,
          2825,
          2520,
          3905,
          90,
          375,
          22300,
          420,
          500,
          1050,
          10000,
          900,
          400,
          900,
          763,
          750,
          575,
          9900,
          3900,
          763,
          2000,
          2000,
          597,
          450,
          750,
          750,
          900,
          450,
          1000,
          2007,
          751,
          750,
          630,
          763,
          870,
          900,
          918,
          429,
          420,
          454,
          744,
          840,
          540,
          1089,
          360,
          300,
          510,
          500,
          936,
          437,
          600,
          621,
          580,
          360,
          4350,
          1200,
          900,
          1500,
          312,
          900,
          306,
          270,
          1800,
          234,
          3000,
          1089,
          875,
          1627,
          1089,
          590,
          400,
          875,
          437,
          600,
          875,
          372,
          24000,
          17927,
          350,
          771,
          2000,
          625,
          1148,
          543,
          900,
          900,
          745,
          800,
          450,
          1021,
          825,
          1020,
          416,
          900,
          2246,
          350,
          1,
          900,
          1250,
          1250,
          747,
          273,
          273,
          273,
          750,
          900,
          648,
          2800,
          343,
          343,
          999,
          440,
          1089,
          756,
          833,
          2000,
          900,
          459,
          1170,
          543,
          432,
          747,
          432,
          240,
          240,
          900,
          312,
          900,
          450,
          3660,
          3660,
          750,
          653,
          450,
          1119,
          4000,
          810,
          337,
          252,
          412,
          412,
          3493,
          500,
          500,
          875,
          1080,
          450,
          726,
          400,
          1055,
          856,
          750,
          2317,
          2184,
          15730,
          1000,
          5000,
          750,
          11930,
          6372,
          2500,
          312,
          900,
          600,
          1055,
          900,
          900,
          450,
          437,
          862,
          450,
          870,
          750,
          900,
          900,
          500,
          450,
          450,
          517,
          2048,
          4675,
          450,
          450,
          1560,
          432,
          400,
          900,
          300,
          2115,
          653,
          1798,
          1050,
          400,
          360,
          450,
          500,
          900,
          3000,
          324,
          900,
          420,
          391,
          400,
          348,
          360,
          420,
          360,
          2394,
          500,
          2000,
          375,
          990,
          160,
          451,
          840,
          109,
          864,
          500,
          900,
          600,
          480,
          360,
          800,
          750,
          352,
          928,
          2816,
          625,
          453,
          432,
          930,
          300,
          572,
          625,
          400,
          1400,
          675,
          2520,
          375,
          4260,
          735,
          1419,
          360,
          432,
          85,
          675,
          437,
          432,
          750,
          450,
          300,
          520,
          410,
          900,
          1089,
          1950,
          1987,
          560,
          459,
          385,
          375,
          428,
          500,
          630,
          1849,
          944,
          460,
          375,
          375,
          900,
          400,
          400,
          1714,
          653,
          900,
          1000,
          450,
          399,
          160,
          325,
          1000,
          450,
          750,
          26966,
          276,
          900,
          700,
          345,
          450,
          375,
          22300,
          495,
          10000,
          10000,
          1400,
          900,
          400,
          4250,
          350,
          4772,
          535,
          900,
          390,
          432,
          400,
          763,
          517,
          354,
          600,
          412,
          458,
          1050,
          600,
          416,
          3493,
          351,
          4187,
          900,
          731,
          2500,
          362,
          750,
          450,
          450,
          5670,
          375,
          420,
          900,
          720,
          900,
          896,
          1125,
          375,
          412,
          638,
          810,
          750,
          400,
          14835,
          437,
          900,
          400,
          400,
          450,
          600,
          4800,
          450,
          345,
          2000,
          2000,
          969,
          2000,
          400,
          400,
          597,
          399,
          10000,
          450,
          900,
          450,
          450,
          736,
          750,
          400,
          2311,
          585,
          1440,
          3540,
          900,
          706,
          750,
          367,
          750,
          750,
          750,
          750,
          750,
          787,
          499,
          400,
          750,
          450,
          455,
          300,
          840,
          756,
          900,
          450,
          2529,
          861,
          400,
          862,
          400,
          918,
          300,
          861,
          840,
          850,
          877,
          337,
          337,
          900,
          900,
          900,
          900,
          450,
          400,
          400,
          445,
          500,
          450,
          454,
          1200,
          450,
          1050,
          1050,
          536,
          536,
          600,
          585,
          744,
          744,
          418,
          750,
          399,
          1250,
          1250,
          600,
          375,
          900,
          787,
          900,
          720,
          900,
          900,
          1490,
          400,
          450,
          1060,
          900,
          500,
          900,
          625,
          499,
          900,
          2001,
          900,
          1993,
          856,
          2033,
          2033,
          2025,
          520,
          525,
          525,
          2061,
          4440,
          5995,
          375,
          608,
          400,
          543,
          600,
          750,
          300,
          3157,
          437,
          760,
          546,
          1930,
          306,
          400,
          600,
          910,
          2172,
          333,
          2227,
          2227,
          2215,
          2200,
          2200,
          2227,
          750,
          500,
          1741,
          1200,
          936,
          1089,
          1060,
          900,
          450,
          300,
          455,
          300,
          300,
          503,
          450,
          450,
          400,
          340,
          432,
          450,
          2327,
          1500,
          455,
          700,
          785,
          386,
          1500,
          500,
          536,
          450,
          391,
          670,
          7861,
          1200,
          1200,
          1800,
          621,
          900,
          580,
          333,
          900,
          1400,
          900,
          495,
          6889,
          1843,
          1843,
          360,
          8217,
          750,
          312,
          900,
          2625,
          900,
          900,
          900,
          425,
          1800,
          234,
          425,
          312,
          630,
          3000,
          890,
          1400,
          450,
          375,
          900,
          483,
          594,
          1089,
          1089,
          875,
          4000,
          1627,
          1627,
          1089,
          900,
          300,
          2600,
          9053,
          400,
          692,
          450,
          590,
          875,
          400,
          225,
          600,
          450,
          600,
          372,
          2400,
          875,
          483,
          3600,
          375,
          692,
          330,
          10941,
          671,
          511,
          1400,
          7420,
          450,
          379,
          450,
          1270,
          350,
          40000,
          2000,
          235,
          771,
          1064,
          486,
          400,
          360,
          775,
          910,
          1050,
          405,
          537,
          1148,
          630,
          400,
          475,
          460,
          460,
          840,
          778,
          769,
          314,
          314,
          1200,
          780,
          2100,
          900,
          2100,
          900,
          1000,
          910,
          660,
          525,
          2500,
          259,
          2500,
          536,
          420,
          500,
          451,
          713,
          350,
          434,
          452,
          405,
          422,
          1200,
          887,
          1400,
          1400,
          437,
          745,
          690,
          600,
          864,
          864,
          900,
          450,
          440,
          450,
          363,
          559,
          1373,
          1021,
          450,
          447,
          450,
          1020,
          450,
          960,
          312,
          412,
          1988,
          450,
          1200,
          416,
          2000,
          2246,
          8058,
          705,
          900,
          1292,
          350,
          499,
          810,
          450,
          375,
          630,
          938,
          450,
          900,
          360,
          1,
          1200,
          800,
          420,
          900,
          341,
          600,
          450,
          525,
          5769,
          1000,
          1110,
          1250,
          370,
          225,
          300,
          916,
          300,
          225,
          360,
          336,
          273,
          336,
          273,
          833,
          295,
          360,
          299,
          8664,
          8664,
          750,
          900,
          456,
          648,
          300,
          648,
          606,
          660,
          360,
          375,
          4510,
          2800,
          800,
          800,
          648,
          405,
          750,
          405,
          450,
          343,
          343,
          4733,
          456,
          375,
          800,
          360,
          720,
          1225,
          874,
          375,
          375,
          299,
          375,
          1089,
          400,
          450,
          900,
          570,
          318,
          794,
          450,
          675,
          420,
          500,
          600,
          500,
          2205,
          450,
          2000,
          880,
          270,
          432,
          960,
          160,
          450,
          450,
          750,
          630,
          450,
          500,
          288,
          1050,
          480,
          915,
          800,
          437,
          450,
          399,
          745,
          30000,
          782,
          375,
          1213,
          3260,
          875,
          333,
          1116,
          600,
          375,
          300,
          403,
          900,
          250,
          900,
          700,
          900,
          599,
          375,
          750,
          375,
          623,
          719,
          670,
          392,
          392,
          525,
          1440,
          924,
          200,
          1050,
          751,
          375,
          232,
          500,
          400,
          615,
          780,
          900,
          580,
          378,
          750,
          1210,
          15730,
          809,
          400,
          450,
          3500,
          312,
          1639,
          375,
          8464,
          625,
          435,
          900,
          9600,
          627,
          625,
          580,
          400,
          36,
          400,
          800,
          437,
          2400,
          351,
          1200,
          1200,
          450,
          450,
          300,
          870,
          450,
          900,
          2100,
          328,
          450,
          825,
          234,
          646,
          900,
          750,
          1450,
          1250,
          980,
          900,
          420,
          590,
          384,
          1062,
          625,
          450,
          472,
          625,
          450,
          400,
          750,
          690,
          400,
          750,
          390,
          996,
          275,
          3500,
          450,
          329,
          496,
          496,
          875,
          437,
          1050,
          225,
          300,
          728,
          570,
          231,
          450,
          889,
          1493,
          375,
          900,
          375,
          900,
          900,
          450,
          300,
          930,
          750,
          750,
          425,
          900,
          525,
          686,
          375,
          1517,
          400,
          750,
          875,
          750,
          375,
          1200,
          524,
          750,
          975,
          750,
          744,
          900,
          2000,
          375,
          458,
          199,
          15233,
          15233,
          400,
          2570,
          320,
          405,
          400,
          750,
          375,
          900,
          3890,
          900,
          900,
          375,
          918,
          750,
          750,
          750,
          900,
          2927,
          624,
          411,
          720,
          537,
          390,
          400,
          1062,
          7500,
          921,
          527,
          300,
          300,
          434,
          940,
          2500,
          2500,
          1600,
          1647,
          3002,
          2080,
          2080,
          625,
          3900,
          704,
          900,
          800,
          375,
          745,
          450,
          3000,
          300,
          1258,
          900,
          904,
          501,
          550,
          1050,
          484,
          1050,
          1650,
          400,
          400,
          458,
          900,
          476,
          900,
          750,
          11800,
          575,
          375,
          2520,
          420,
          600,
          412,
          1400,
          900,
          571,
          1144,
          900,
          918,
          900,
          576,
          510,
          57000,
          750,
          934,
          432,
          625,
          375,
          455,
          2400,
          2400,
          457,
          360,
          1050,
          610,
          900,
          1250,
          305,
          700,
          640,
          2750,
          1200,
          450,
          508,
          752,
          375,
          10000,
          720,
          3541,
          400,
          7936,
          756,
          444,
          1000,
          750,
          900,
          402,
          2450,
          759,
          1900,
          432,
          1375,
          900,
          450,
          824,
          750,
          600,
          1900,
          930,
          5300,
          626,
          750,
          891,
          405,
          299684,
          299684,
          432,
          2508,
          3241,
          3241,
          1000,
          496,
          1050,
          900,
          375,
          2790,
          300,
          838,
          625,
          650,
          2400,
          8100,
          375,
          400,
          450,
          5450,
          936,
          600,
          750,
          1850,
          1561,
          432,
          644,
          456,
          96755,
          840,
          244,
          880,
          810,
          900,
          675,
          400,
          636,
          10000,
          1125,
          971,
          2500,
          457,
          457,
          1173,
          400,
          1050,
          313,
          472
         ],
         "y0": " ",
         "yaxis": "y"
        }
       ],
       "layout": {
        "boxmode": "group",
        "legend": {
         "tracegroupgap": 0
        },
        "margin": {
         "t": 60
        },
        "template": {
         "data": {
          "bar": [
           {
            "error_x": {
             "color": "#2a3f5f"
            },
            "error_y": {
             "color": "#2a3f5f"
            },
            "marker": {
             "line": {
              "color": "#E5ECF6",
              "width": 0.5
             },
             "pattern": {
              "fillmode": "overlay",
              "size": 10,
              "solidity": 0.2
             }
            },
            "type": "bar"
           }
          ],
          "barpolar": [
           {
            "marker": {
             "line": {
              "color": "#E5ECF6",
              "width": 0.5
             },
             "pattern": {
              "fillmode": "overlay",
              "size": 10,
              "solidity": 0.2
             }
            },
            "type": "barpolar"
           }
          ],
          "carpet": [
           {
            "aaxis": {
             "endlinecolor": "#2a3f5f",
             "gridcolor": "white",
             "linecolor": "white",
             "minorgridcolor": "white",
             "startlinecolor": "#2a3f5f"
            },
            "baxis": {
             "endlinecolor": "#2a3f5f",
             "gridcolor": "white",
             "linecolor": "white",
             "minorgridcolor": "white",
             "startlinecolor": "#2a3f5f"
            },
            "type": "carpet"
           }
          ],
          "choropleth": [
           {
            "colorbar": {
             "outlinewidth": 0,
             "ticks": ""
            },
            "type": "choropleth"
           }
          ],
          "contour": [
           {
            "colorbar": {
             "outlinewidth": 0,
             "ticks": ""
            },
            "colorscale": [
             [
              0,
              "#0d0887"
             ],
             [
              0.1111111111111111,
              "#46039f"
             ],
             [
              0.2222222222222222,
              "#7201a8"
             ],
             [
              0.3333333333333333,
              "#9c179e"
             ],
             [
              0.4444444444444444,
              "#bd3786"
             ],
             [
              0.5555555555555556,
              "#d8576b"
             ],
             [
              0.6666666666666666,
              "#ed7953"
             ],
             [
              0.7777777777777778,
              "#fb9f3a"
             ],
             [
              0.8888888888888888,
              "#fdca26"
             ],
             [
              1,
              "#f0f921"
             ]
            ],
            "type": "contour"
           }
          ],
          "contourcarpet": [
           {
            "colorbar": {
             "outlinewidth": 0,
             "ticks": ""
            },
            "type": "contourcarpet"
           }
          ],
          "heatmap": [
           {
            "colorbar": {
             "outlinewidth": 0,
             "ticks": ""
            },
            "colorscale": [
             [
              0,
              "#0d0887"
             ],
             [
              0.1111111111111111,
              "#46039f"
             ],
             [
              0.2222222222222222,
              "#7201a8"
             ],
             [
              0.3333333333333333,
              "#9c179e"
             ],
             [
              0.4444444444444444,
              "#bd3786"
             ],
             [
              0.5555555555555556,
              "#d8576b"
             ],
             [
              0.6666666666666666,
              "#ed7953"
             ],
             [
              0.7777777777777778,
              "#fb9f3a"
             ],
             [
              0.8888888888888888,
              "#fdca26"
             ],
             [
              1,
              "#f0f921"
             ]
            ],
            "type": "heatmap"
           }
          ],
          "heatmapgl": [
           {
            "colorbar": {
             "outlinewidth": 0,
             "ticks": ""
            },
            "colorscale": [
             [
              0,
              "#0d0887"
             ],
             [
              0.1111111111111111,
              "#46039f"
             ],
             [
              0.2222222222222222,
              "#7201a8"
             ],
             [
              0.3333333333333333,
              "#9c179e"
             ],
             [
              0.4444444444444444,
              "#bd3786"
             ],
             [
              0.5555555555555556,
              "#d8576b"
             ],
             [
              0.6666666666666666,
              "#ed7953"
             ],
             [
              0.7777777777777778,
              "#fb9f3a"
             ],
             [
              0.8888888888888888,
              "#fdca26"
             ],
             [
              1,
              "#f0f921"
             ]
            ],
            "type": "heatmapgl"
           }
          ],
          "histogram": [
           {
            "marker": {
             "pattern": {
              "fillmode": "overlay",
              "size": 10,
              "solidity": 0.2
             }
            },
            "type": "histogram"
           }
          ],
          "histogram2d": [
           {
            "colorbar": {
             "outlinewidth": 0,
             "ticks": ""
            },
            "colorscale": [
             [
              0,
              "#0d0887"
             ],
             [
              0.1111111111111111,
              "#46039f"
             ],
             [
              0.2222222222222222,
              "#7201a8"
             ],
             [
              0.3333333333333333,
              "#9c179e"
             ],
             [
              0.4444444444444444,
              "#bd3786"
             ],
             [
              0.5555555555555556,
              "#d8576b"
             ],
             [
              0.6666666666666666,
              "#ed7953"
             ],
             [
              0.7777777777777778,
              "#fb9f3a"
             ],
             [
              0.8888888888888888,
              "#fdca26"
             ],
             [
              1,
              "#f0f921"
             ]
            ],
            "type": "histogram2d"
           }
          ],
          "histogram2dcontour": [
           {
            "colorbar": {
             "outlinewidth": 0,
             "ticks": ""
            },
            "colorscale": [
             [
              0,
              "#0d0887"
             ],
             [
              0.1111111111111111,
              "#46039f"
             ],
             [
              0.2222222222222222,
              "#7201a8"
             ],
             [
              0.3333333333333333,
              "#9c179e"
             ],
             [
              0.4444444444444444,
              "#bd3786"
             ],
             [
              0.5555555555555556,
              "#d8576b"
             ],
             [
              0.6666666666666666,
              "#ed7953"
             ],
             [
              0.7777777777777778,
              "#fb9f3a"
             ],
             [
              0.8888888888888888,
              "#fdca26"
             ],
             [
              1,
              "#f0f921"
             ]
            ],
            "type": "histogram2dcontour"
           }
          ],
          "mesh3d": [
           {
            "colorbar": {
             "outlinewidth": 0,
             "ticks": ""
            },
            "type": "mesh3d"
           }
          ],
          "parcoords": [
           {
            "line": {
             "colorbar": {
              "outlinewidth": 0,
              "ticks": ""
             }
            },
            "type": "parcoords"
           }
          ],
          "pie": [
           {
            "automargin": true,
            "type": "pie"
           }
          ],
          "scatter": [
           {
            "fillpattern": {
             "fillmode": "overlay",
             "size": 10,
             "solidity": 0.2
            },
            "type": "scatter"
           }
          ],
          "scatter3d": [
           {
            "line": {
             "colorbar": {
              "outlinewidth": 0,
              "ticks": ""
             }
            },
            "marker": {
             "colorbar": {
              "outlinewidth": 0,
              "ticks": ""
             }
            },
            "type": "scatter3d"
           }
          ],
          "scattercarpet": [
           {
            "marker": {
             "colorbar": {
              "outlinewidth": 0,
              "ticks": ""
             }
            },
            "type": "scattercarpet"
           }
          ],
          "scattergeo": [
           {
            "marker": {
             "colorbar": {
              "outlinewidth": 0,
              "ticks": ""
             }
            },
            "type": "scattergeo"
           }
          ],
          "scattergl": [
           {
            "marker": {
             "colorbar": {
              "outlinewidth": 0,
              "ticks": ""
             }
            },
            "type": "scattergl"
           }
          ],
          "scattermapbox": [
           {
            "marker": {
             "colorbar": {
              "outlinewidth": 0,
              "ticks": ""
             }
            },
            "type": "scattermapbox"
           }
          ],
          "scatterpolar": [
           {
            "marker": {
             "colorbar": {
              "outlinewidth": 0,
              "ticks": ""
             }
            },
            "type": "scatterpolar"
           }
          ],
          "scatterpolargl": [
           {
            "marker": {
             "colorbar": {
              "outlinewidth": 0,
              "ticks": ""
             }
            },
            "type": "scatterpolargl"
           }
          ],
          "scatterternary": [
           {
            "marker": {
             "colorbar": {
              "outlinewidth": 0,
              "ticks": ""
             }
            },
            "type": "scatterternary"
           }
          ],
          "surface": [
           {
            "colorbar": {
             "outlinewidth": 0,
             "ticks": ""
            },
            "colorscale": [
             [
              0,
              "#0d0887"
             ],
             [
              0.1111111111111111,
              "#46039f"
             ],
             [
              0.2222222222222222,
              "#7201a8"
             ],
             [
              0.3333333333333333,
              "#9c179e"
             ],
             [
              0.4444444444444444,
              "#bd3786"
             ],
             [
              0.5555555555555556,
              "#d8576b"
             ],
             [
              0.6666666666666666,
              "#ed7953"
             ],
             [
              0.7777777777777778,
              "#fb9f3a"
             ],
             [
              0.8888888888888888,
              "#fdca26"
             ],
             [
              1,
              "#f0f921"
             ]
            ],
            "type": "surface"
           }
          ],
          "table": [
           {
            "cells": {
             "fill": {
              "color": "#EBF0F8"
             },
             "line": {
              "color": "white"
             }
            },
            "header": {
             "fill": {
              "color": "#C8D4E3"
             },
             "line": {
              "color": "white"
             }
            },
            "type": "table"
           }
          ]
         },
         "layout": {
          "annotationdefaults": {
           "arrowcolor": "#2a3f5f",
           "arrowhead": 0,
           "arrowwidth": 1
          },
          "autotypenumbers": "strict",
          "coloraxis": {
           "colorbar": {
            "outlinewidth": 0,
            "ticks": ""
           }
          },
          "colorscale": {
           "diverging": [
            [
             0,
             "#8e0152"
            ],
            [
             0.1,
             "#c51b7d"
            ],
            [
             0.2,
             "#de77ae"
            ],
            [
             0.3,
             "#f1b6da"
            ],
            [
             0.4,
             "#fde0ef"
            ],
            [
             0.5,
             "#f7f7f7"
            ],
            [
             0.6,
             "#e6f5d0"
            ],
            [
             0.7,
             "#b8e186"
            ],
            [
             0.8,
             "#7fbc41"
            ],
            [
             0.9,
             "#4d9221"
            ],
            [
             1,
             "#276419"
            ]
           ],
           "sequential": [
            [
             0,
             "#0d0887"
            ],
            [
             0.1111111111111111,
             "#46039f"
            ],
            [
             0.2222222222222222,
             "#7201a8"
            ],
            [
             0.3333333333333333,
             "#9c179e"
            ],
            [
             0.4444444444444444,
             "#bd3786"
            ],
            [
             0.5555555555555556,
             "#d8576b"
            ],
            [
             0.6666666666666666,
             "#ed7953"
            ],
            [
             0.7777777777777778,
             "#fb9f3a"
            ],
            [
             0.8888888888888888,
             "#fdca26"
            ],
            [
             1,
             "#f0f921"
            ]
           ],
           "sequentialminus": [
            [
             0,
             "#0d0887"
            ],
            [
             0.1111111111111111,
             "#46039f"
            ],
            [
             0.2222222222222222,
             "#7201a8"
            ],
            [
             0.3333333333333333,
             "#9c179e"
            ],
            [
             0.4444444444444444,
             "#bd3786"
            ],
            [
             0.5555555555555556,
             "#d8576b"
            ],
            [
             0.6666666666666666,
             "#ed7953"
            ],
            [
             0.7777777777777778,
             "#fb9f3a"
            ],
            [
             0.8888888888888888,
             "#fdca26"
            ],
            [
             1,
             "#f0f921"
            ]
           ]
          },
          "colorway": [
           "#636efa",
           "#EF553B",
           "#00cc96",
           "#ab63fa",
           "#FFA15A",
           "#19d3f3",
           "#FF6692",
           "#B6E880",
           "#FF97FF",
           "#FECB52"
          ],
          "font": {
           "color": "#2a3f5f"
          },
          "geo": {
           "bgcolor": "white",
           "lakecolor": "white",
           "landcolor": "#E5ECF6",
           "showlakes": true,
           "showland": true,
           "subunitcolor": "white"
          },
          "hoverlabel": {
           "align": "left"
          },
          "hovermode": "closest",
          "mapbox": {
           "style": "light"
          },
          "paper_bgcolor": "white",
          "plot_bgcolor": "#E5ECF6",
          "polar": {
           "angularaxis": {
            "gridcolor": "white",
            "linecolor": "white",
            "ticks": ""
           },
           "bgcolor": "#E5ECF6",
           "radialaxis": {
            "gridcolor": "white",
            "linecolor": "white",
            "ticks": ""
           }
          },
          "scene": {
           "xaxis": {
            "backgroundcolor": "#E5ECF6",
            "gridcolor": "white",
            "gridwidth": 2,
            "linecolor": "white",
            "showbackground": true,
            "ticks": "",
            "zerolinecolor": "white"
           },
           "yaxis": {
            "backgroundcolor": "#E5ECF6",
            "gridcolor": "white",
            "gridwidth": 2,
            "linecolor": "white",
            "showbackground": true,
            "ticks": "",
            "zerolinecolor": "white"
           },
           "zaxis": {
            "backgroundcolor": "#E5ECF6",
            "gridcolor": "white",
            "gridwidth": 2,
            "linecolor": "white",
            "showbackground": true,
            "ticks": "",
            "zerolinecolor": "white"
           }
          },
          "shapedefaults": {
           "line": {
            "color": "#2a3f5f"
           }
          },
          "ternary": {
           "aaxis": {
            "gridcolor": "white",
            "linecolor": "white",
            "ticks": ""
           },
           "baxis": {
            "gridcolor": "white",
            "linecolor": "white",
            "ticks": ""
           },
           "bgcolor": "#E5ECF6",
           "caxis": {
            "gridcolor": "white",
            "linecolor": "white",
            "ticks": ""
           }
          },
          "title": {
           "x": 0.05
          },
          "xaxis": {
           "automargin": true,
           "gridcolor": "white",
           "linecolor": "white",
           "ticks": "",
           "title": {
            "standoff": 15
           },
           "zerolinecolor": "white",
           "zerolinewidth": 2
          },
          "yaxis": {
           "automargin": true,
           "gridcolor": "white",
           "linecolor": "white",
           "ticks": "",
           "title": {
            "standoff": 15
           },
           "zerolinecolor": "white",
           "zerolinewidth": 2
          }
         }
        },
        "xaxis": {
         "anchor": "y",
         "domain": [
          0,
          1
         ]
        },
        "yaxis": {
         "anchor": "x",
         "domain": [
          0,
          1
         ],
         "title": {
          "text": "المساحة"
         }
        }
       }
      }
     },
     "metadata": {},
     "output_type": "display_data"
    }
   ],
   "source": [
    "fig2 = px.box(landofriyad, y='المساحة')\n",
    "\n",
    "fig2.show()"
   ]
  },
  {
   "cell_type": "code",
   "execution_count": 337,
   "id": "dedcd541",
   "metadata": {},
   "outputs": [
    {
     "name": "stdout",
     "output_type": "stream",
     "text": [
      "Lower whisker: 1\n",
      "Upper whisker: 1820.75\n"
     ]
    }
   ],
   "source": [
    "q1 = landofriyad['المساحة'].quantile(0.25)\n",
    "q3 = landofriyad['المساحة'].quantile(0.75)\n",
    "iqr = q3 - q1\n",
    "\n",
    "# Calculate whiskers\n",
    "lower_whisker = max(q1 - 1.5 * iqr, landofriyad['المساحة'].min())\n",
    "upper_whisker = min(q3 + 1.5 * iqr, landofriyad['المساحة'].max())\n",
    "\n",
    "print(f\"Lower whisker: {lower_whisker}\")\n",
    "print(f\"Upper whisker: {upper_whisker}\")"
   ]
  },
  {
   "cell_type": "code",
   "execution_count": 339,
   "id": "692340c1",
   "metadata": {},
   "outputs": [
    {
     "data": {
      "application/vnd.plotly.v1+json": {
       "config": {
        "plotlyServerURL": "https://plot.ly"
       },
       "data": [
        {
         "alignmentgroup": "True",
         "hovertemplate": "المساحة=%{y}<extra></extra>",
         "legendgroup": "",
         "marker": {
          "color": "#636efa"
         },
         "name": "",
         "notched": false,
         "offsetgroup": "",
         "orientation": "v",
         "showlegend": false,
         "type": "box",
         "x0": " ",
         "xaxis": "x",
         "y": [
          800,
          750,
          900,
          750,
          1089,
          450,
          450,
          550,
          1089,
          1089,
          550,
          381,
          361,
          412,
          420,
          594,
          750,
          750,
          300,
          572,
          1089,
          320,
          1000,
          375,
          450,
          1019,
          412,
          432,
          2940,
          3663,
          750,
          800,
          300,
          300,
          750,
          750,
          1849,
          312,
          375,
          312,
          900,
          750,
          412,
          412,
          810,
          2000,
          2100,
          90,
          375,
          420,
          500,
          1050,
          900,
          400,
          900,
          763,
          750,
          575,
          763,
          2000,
          2000,
          597,
          450,
          750,
          750,
          900,
          450,
          1000,
          751,
          750,
          630,
          763,
          870,
          900,
          918,
          429,
          420,
          454,
          744,
          840,
          540,
          1089,
          360,
          300,
          510,
          500,
          936,
          437,
          600,
          621,
          580,
          360,
          1200,
          900,
          1500,
          312,
          900,
          306,
          270,
          1800,
          234,
          1089,
          875,
          1627,
          1089,
          590,
          400,
          875,
          437,
          600,
          875,
          372,
          350,
          771,
          2000,
          625,
          1148,
          543,
          900,
          900,
          745,
          800,
          450,
          1021,
          825,
          1020,
          416,
          900,
          350,
          1,
          900,
          747,
          273,
          273,
          273,
          750,
          900,
          648,
          2800,
          343,
          343,
          999,
          440,
          1089,
          756,
          833,
          2000,
          900,
          459,
          1170,
          543,
          432,
          747,
          432,
          240,
          240,
          900,
          312,
          900,
          450,
          3660,
          3660,
          750,
          653,
          450,
          1119,
          810,
          337,
          252,
          412,
          412,
          500,
          500,
          875,
          1080,
          450,
          726,
          400,
          1055,
          856,
          750,
          2317,
          2184,
          750,
          312,
          900,
          600,
          1055,
          900,
          900,
          450,
          437,
          862,
          450,
          870,
          750,
          900,
          900,
          500,
          450,
          450,
          517,
          2048,
          450,
          450,
          432,
          400,
          900,
          300,
          2115,
          653,
          1798,
          400,
          360,
          450,
          500,
          900,
          324,
          900,
          420,
          391,
          400,
          348,
          360,
          420,
          360,
          500,
          375,
          990,
          160,
          451,
          840,
          109,
          864,
          500,
          900,
          600,
          480,
          360,
          800,
          750,
          352,
          625,
          453,
          432,
          930,
          300,
          572,
          625,
          400,
          675,
          375,
          735,
          1419,
          360,
          432,
          85,
          675,
          437,
          432,
          750,
          450,
          300,
          520,
          410,
          900,
          1089,
          560,
          459,
          385,
          375,
          428,
          500,
          630,
          1849,
          944,
          460,
          375,
          375,
          900,
          400,
          400,
          653,
          900,
          1000,
          450,
          399,
          160,
          325,
          1000,
          450,
          750,
          276,
          900,
          700,
          345,
          450,
          375,
          495,
          1400,
          900,
          400,
          350,
          4772,
          535,
          900,
          390,
          432,
          400,
          763,
          517,
          354,
          600,
          412,
          458,
          600,
          416,
          3493,
          351,
          4187,
          900,
          731,
          362,
          750,
          450,
          450,
          375,
          420,
          900,
          720,
          900,
          896,
          1125,
          375,
          412,
          638,
          810,
          750,
          400,
          437,
          900,
          400,
          400,
          450,
          600,
          450,
          345,
          2000,
          2000,
          969,
          2000,
          400,
          400,
          597,
          399,
          450,
          900,
          450,
          450,
          736,
          750,
          400,
          2311,
          585,
          1440,
          3540,
          900,
          706,
          750,
          367,
          750,
          750,
          750,
          750,
          750,
          787,
          499,
          400,
          750,
          450,
          455,
          300,
          840,
          756,
          900,
          450,
          861,
          400,
          862,
          400,
          918,
          300,
          861,
          840,
          850,
          877,
          337,
          337,
          900,
          900,
          900,
          900,
          450,
          400,
          400,
          445,
          500,
          450,
          454,
          1200,
          450,
          536,
          536,
          600,
          585,
          744,
          744,
          418,
          750,
          399,
          1250,
          1250,
          600,
          375,
          900,
          787,
          900,
          720,
          900,
          900,
          1490,
          400,
          450,
          1060,
          900,
          500,
          900,
          625,
          499,
          900,
          2001,
          900,
          1993,
          856,
          520,
          525,
          525,
          375,
          608,
          400,
          543,
          600,
          750,
          300,
          437,
          760,
          546,
          1930,
          306,
          400,
          600,
          333,
          750,
          500,
          1200,
          936,
          1089,
          1060,
          900,
          450,
          300,
          455,
          300,
          300,
          503,
          450,
          450,
          400,
          340,
          432,
          450,
          2327,
          455,
          700,
          785,
          386,
          500,
          536,
          450,
          391,
          670,
          621,
          900,
          580,
          333,
          900,
          900,
          495,
          6889,
          1843,
          1843,
          360,
          750,
          312,
          900,
          900,
          900,
          900,
          425,
          234,
          425,
          312,
          630,
          890,
          1400,
          450,
          375,
          900,
          483,
          594,
          1089,
          1089,
          875,
          4000,
          1627,
          1627,
          1089,
          900,
          300,
          2600,
          400,
          692,
          450,
          590,
          875,
          400,
          225,
          600,
          450,
          600,
          372,
          2400,
          875,
          483,
          375,
          692,
          330,
          671,
          511,
          450,
          379,
          450,
          1270,
          350,
          2000,
          235,
          771,
          1064,
          486,
          400,
          360,
          775,
          910,
          1050,
          405,
          537,
          1148,
          630,
          400,
          475,
          460,
          460,
          840,
          778,
          769,
          314,
          314,
          1200,
          780,
          2100,
          900,
          2100,
          900,
          1000,
          910,
          660,
          525,
          259,
          2500,
          536,
          420,
          500,
          451,
          713,
          350,
          434,
          452,
          405,
          422,
          1200,
          887,
          1400,
          1400,
          437,
          745,
          690,
          600,
          864,
          864,
          900,
          450,
          440,
          450,
          363,
          559,
          1021,
          450,
          447,
          450,
          1020,
          450,
          960,
          312,
          412,
          450,
          1200,
          416,
          705,
          900,
          350,
          499,
          810,
          450,
          375,
          630,
          938,
          450,
          900,
          360,
          1,
          1200,
          800,
          420,
          900,
          341,
          600,
          450,
          525,
          1000,
          1110,
          370,
          225,
          300,
          916,
          300,
          225,
          360,
          336,
          273,
          336,
          273,
          833,
          295,
          360,
          299,
          750,
          900,
          456,
          648,
          300,
          648,
          606,
          660,
          360,
          375,
          800,
          800,
          648,
          405,
          750,
          405,
          450,
          343,
          343,
          456,
          375,
          800,
          360,
          720,
          1225,
          874,
          375,
          375,
          299,
          375,
          1089,
          400,
          450,
          570,
          318,
          794,
          450,
          675,
          420,
          500,
          600,
          500,
          2205,
          450,
          2000,
          880,
          270,
          432,
          960,
          160,
          450,
          450,
          750,
          630,
          450,
          500,
          288,
          1050,
          480,
          915,
          800,
          437,
          450,
          399,
          745,
          782,
          375,
          1213,
          875,
          333,
          1116,
          600,
          375,
          300,
          403,
          900,
          250,
          900,
          700,
          599,
          375,
          750,
          375,
          623,
          719,
          670,
          392,
          392,
          525,
          1440,
          924,
          200,
          751,
          375,
          232,
          500,
          400,
          615,
          780,
          900,
          580,
          378,
          750,
          1210,
          809,
          400,
          450,
          312,
          1639,
          375,
          625,
          435,
          900,
          627,
          625,
          580,
          400,
          36,
          400,
          800,
          437,
          351,
          450,
          450,
          300,
          870,
          450,
          900,
          2100,
          328,
          450,
          825,
          234,
          646,
          900,
          750,
          1450,
          1250,
          980,
          900,
          420,
          590,
          384,
          1062,
          625,
          450,
          472,
          625,
          450,
          400,
          750,
          690,
          400,
          750,
          390,
          996,
          275,
          450,
          329,
          496,
          496,
          875,
          437,
          1050,
          225,
          300,
          728,
          570,
          231,
          450,
          889,
          375,
          900,
          375,
          900,
          900,
          450,
          300,
          930,
          750,
          750,
          425,
          900,
          525,
          686,
          375,
          400,
          750,
          875,
          750,
          375,
          1200,
          524,
          750,
          975,
          750,
          744,
          900,
          2000,
          375,
          458,
          199,
          15233,
          15233,
          400,
          2570,
          320,
          405,
          400,
          750,
          375,
          900,
          900,
          900,
          375,
          918,
          750,
          750,
          750,
          900,
          2927,
          624,
          411,
          720,
          537,
          390,
          400,
          1062,
          921,
          527,
          300,
          300,
          434,
          1600,
          1647,
          625,
          704,
          900,
          800,
          375,
          745,
          450,
          300,
          1258,
          900,
          904,
          501,
          550,
          1050,
          484,
          1050,
          1650,
          400,
          400,
          458,
          900,
          476,
          900,
          750,
          11800,
          575,
          375,
          2520,
          420,
          600,
          412,
          900,
          571,
          1144,
          900,
          918,
          900,
          576,
          510,
          57000,
          750,
          934,
          432,
          625,
          375,
          455,
          2400,
          2400,
          457,
          360,
          610,
          900,
          1250,
          305,
          700,
          640,
          2750,
          1200,
          450,
          508,
          752,
          375,
          720,
          400,
          756,
          444,
          750,
          900,
          402,
          2450,
          759,
          1900,
          432,
          1375,
          900,
          450,
          824,
          750,
          600,
          1900,
          930,
          626,
          750,
          891,
          405,
          432,
          1000,
          496,
          1050,
          900,
          375,
          2790,
          300,
          838,
          625,
          650,
          375,
          400,
          450,
          936,
          600,
          750,
          1850,
          1561,
          432,
          644,
          456,
          840,
          244,
          880,
          810,
          900,
          675,
          400,
          636,
          1125,
          971,
          2500,
          457,
          457,
          1173,
          400,
          1050,
          313,
          472
         ],
         "y0": " ",
         "yaxis": "y"
        }
       ],
       "layout": {
        "boxmode": "group",
        "legend": {
         "tracegroupgap": 0
        },
        "margin": {
         "t": 60
        },
        "template": {
         "data": {
          "bar": [
           {
            "error_x": {
             "color": "#2a3f5f"
            },
            "error_y": {
             "color": "#2a3f5f"
            },
            "marker": {
             "line": {
              "color": "#E5ECF6",
              "width": 0.5
             },
             "pattern": {
              "fillmode": "overlay",
              "size": 10,
              "solidity": 0.2
             }
            },
            "type": "bar"
           }
          ],
          "barpolar": [
           {
            "marker": {
             "line": {
              "color": "#E5ECF6",
              "width": 0.5
             },
             "pattern": {
              "fillmode": "overlay",
              "size": 10,
              "solidity": 0.2
             }
            },
            "type": "barpolar"
           }
          ],
          "carpet": [
           {
            "aaxis": {
             "endlinecolor": "#2a3f5f",
             "gridcolor": "white",
             "linecolor": "white",
             "minorgridcolor": "white",
             "startlinecolor": "#2a3f5f"
            },
            "baxis": {
             "endlinecolor": "#2a3f5f",
             "gridcolor": "white",
             "linecolor": "white",
             "minorgridcolor": "white",
             "startlinecolor": "#2a3f5f"
            },
            "type": "carpet"
           }
          ],
          "choropleth": [
           {
            "colorbar": {
             "outlinewidth": 0,
             "ticks": ""
            },
            "type": "choropleth"
           }
          ],
          "contour": [
           {
            "colorbar": {
             "outlinewidth": 0,
             "ticks": ""
            },
            "colorscale": [
             [
              0,
              "#0d0887"
             ],
             [
              0.1111111111111111,
              "#46039f"
             ],
             [
              0.2222222222222222,
              "#7201a8"
             ],
             [
              0.3333333333333333,
              "#9c179e"
             ],
             [
              0.4444444444444444,
              "#bd3786"
             ],
             [
              0.5555555555555556,
              "#d8576b"
             ],
             [
              0.6666666666666666,
              "#ed7953"
             ],
             [
              0.7777777777777778,
              "#fb9f3a"
             ],
             [
              0.8888888888888888,
              "#fdca26"
             ],
             [
              1,
              "#f0f921"
             ]
            ],
            "type": "contour"
           }
          ],
          "contourcarpet": [
           {
            "colorbar": {
             "outlinewidth": 0,
             "ticks": ""
            },
            "type": "contourcarpet"
           }
          ],
          "heatmap": [
           {
            "colorbar": {
             "outlinewidth": 0,
             "ticks": ""
            },
            "colorscale": [
             [
              0,
              "#0d0887"
             ],
             [
              0.1111111111111111,
              "#46039f"
             ],
             [
              0.2222222222222222,
              "#7201a8"
             ],
             [
              0.3333333333333333,
              "#9c179e"
             ],
             [
              0.4444444444444444,
              "#bd3786"
             ],
             [
              0.5555555555555556,
              "#d8576b"
             ],
             [
              0.6666666666666666,
              "#ed7953"
             ],
             [
              0.7777777777777778,
              "#fb9f3a"
             ],
             [
              0.8888888888888888,
              "#fdca26"
             ],
             [
              1,
              "#f0f921"
             ]
            ],
            "type": "heatmap"
           }
          ],
          "heatmapgl": [
           {
            "colorbar": {
             "outlinewidth": 0,
             "ticks": ""
            },
            "colorscale": [
             [
              0,
              "#0d0887"
             ],
             [
              0.1111111111111111,
              "#46039f"
             ],
             [
              0.2222222222222222,
              "#7201a8"
             ],
             [
              0.3333333333333333,
              "#9c179e"
             ],
             [
              0.4444444444444444,
              "#bd3786"
             ],
             [
              0.5555555555555556,
              "#d8576b"
             ],
             [
              0.6666666666666666,
              "#ed7953"
             ],
             [
              0.7777777777777778,
              "#fb9f3a"
             ],
             [
              0.8888888888888888,
              "#fdca26"
             ],
             [
              1,
              "#f0f921"
             ]
            ],
            "type": "heatmapgl"
           }
          ],
          "histogram": [
           {
            "marker": {
             "pattern": {
              "fillmode": "overlay",
              "size": 10,
              "solidity": 0.2
             }
            },
            "type": "histogram"
           }
          ],
          "histogram2d": [
           {
            "colorbar": {
             "outlinewidth": 0,
             "ticks": ""
            },
            "colorscale": [
             [
              0,
              "#0d0887"
             ],
             [
              0.1111111111111111,
              "#46039f"
             ],
             [
              0.2222222222222222,
              "#7201a8"
             ],
             [
              0.3333333333333333,
              "#9c179e"
             ],
             [
              0.4444444444444444,
              "#bd3786"
             ],
             [
              0.5555555555555556,
              "#d8576b"
             ],
             [
              0.6666666666666666,
              "#ed7953"
             ],
             [
              0.7777777777777778,
              "#fb9f3a"
             ],
             [
              0.8888888888888888,
              "#fdca26"
             ],
             [
              1,
              "#f0f921"
             ]
            ],
            "type": "histogram2d"
           }
          ],
          "histogram2dcontour": [
           {
            "colorbar": {
             "outlinewidth": 0,
             "ticks": ""
            },
            "colorscale": [
             [
              0,
              "#0d0887"
             ],
             [
              0.1111111111111111,
              "#46039f"
             ],
             [
              0.2222222222222222,
              "#7201a8"
             ],
             [
              0.3333333333333333,
              "#9c179e"
             ],
             [
              0.4444444444444444,
              "#bd3786"
             ],
             [
              0.5555555555555556,
              "#d8576b"
             ],
             [
              0.6666666666666666,
              "#ed7953"
             ],
             [
              0.7777777777777778,
              "#fb9f3a"
             ],
             [
              0.8888888888888888,
              "#fdca26"
             ],
             [
              1,
              "#f0f921"
             ]
            ],
            "type": "histogram2dcontour"
           }
          ],
          "mesh3d": [
           {
            "colorbar": {
             "outlinewidth": 0,
             "ticks": ""
            },
            "type": "mesh3d"
           }
          ],
          "parcoords": [
           {
            "line": {
             "colorbar": {
              "outlinewidth": 0,
              "ticks": ""
             }
            },
            "type": "parcoords"
           }
          ],
          "pie": [
           {
            "automargin": true,
            "type": "pie"
           }
          ],
          "scatter": [
           {
            "fillpattern": {
             "fillmode": "overlay",
             "size": 10,
             "solidity": 0.2
            },
            "type": "scatter"
           }
          ],
          "scatter3d": [
           {
            "line": {
             "colorbar": {
              "outlinewidth": 0,
              "ticks": ""
             }
            },
            "marker": {
             "colorbar": {
              "outlinewidth": 0,
              "ticks": ""
             }
            },
            "type": "scatter3d"
           }
          ],
          "scattercarpet": [
           {
            "marker": {
             "colorbar": {
              "outlinewidth": 0,
              "ticks": ""
             }
            },
            "type": "scattercarpet"
           }
          ],
          "scattergeo": [
           {
            "marker": {
             "colorbar": {
              "outlinewidth": 0,
              "ticks": ""
             }
            },
            "type": "scattergeo"
           }
          ],
          "scattergl": [
           {
            "marker": {
             "colorbar": {
              "outlinewidth": 0,
              "ticks": ""
             }
            },
            "type": "scattergl"
           }
          ],
          "scattermapbox": [
           {
            "marker": {
             "colorbar": {
              "outlinewidth": 0,
              "ticks": ""
             }
            },
            "type": "scattermapbox"
           }
          ],
          "scatterpolar": [
           {
            "marker": {
             "colorbar": {
              "outlinewidth": 0,
              "ticks": ""
             }
            },
            "type": "scatterpolar"
           }
          ],
          "scatterpolargl": [
           {
            "marker": {
             "colorbar": {
              "outlinewidth": 0,
              "ticks": ""
             }
            },
            "type": "scatterpolargl"
           }
          ],
          "scatterternary": [
           {
            "marker": {
             "colorbar": {
              "outlinewidth": 0,
              "ticks": ""
             }
            },
            "type": "scatterternary"
           }
          ],
          "surface": [
           {
            "colorbar": {
             "outlinewidth": 0,
             "ticks": ""
            },
            "colorscale": [
             [
              0,
              "#0d0887"
             ],
             [
              0.1111111111111111,
              "#46039f"
             ],
             [
              0.2222222222222222,
              "#7201a8"
             ],
             [
              0.3333333333333333,
              "#9c179e"
             ],
             [
              0.4444444444444444,
              "#bd3786"
             ],
             [
              0.5555555555555556,
              "#d8576b"
             ],
             [
              0.6666666666666666,
              "#ed7953"
             ],
             [
              0.7777777777777778,
              "#fb9f3a"
             ],
             [
              0.8888888888888888,
              "#fdca26"
             ],
             [
              1,
              "#f0f921"
             ]
            ],
            "type": "surface"
           }
          ],
          "table": [
           {
            "cells": {
             "fill": {
              "color": "#EBF0F8"
             },
             "line": {
              "color": "white"
             }
            },
            "header": {
             "fill": {
              "color": "#C8D4E3"
             },
             "line": {
              "color": "white"
             }
            },
            "type": "table"
           }
          ]
         },
         "layout": {
          "annotationdefaults": {
           "arrowcolor": "#2a3f5f",
           "arrowhead": 0,
           "arrowwidth": 1
          },
          "autotypenumbers": "strict",
          "coloraxis": {
           "colorbar": {
            "outlinewidth": 0,
            "ticks": ""
           }
          },
          "colorscale": {
           "diverging": [
            [
             0,
             "#8e0152"
            ],
            [
             0.1,
             "#c51b7d"
            ],
            [
             0.2,
             "#de77ae"
            ],
            [
             0.3,
             "#f1b6da"
            ],
            [
             0.4,
             "#fde0ef"
            ],
            [
             0.5,
             "#f7f7f7"
            ],
            [
             0.6,
             "#e6f5d0"
            ],
            [
             0.7,
             "#b8e186"
            ],
            [
             0.8,
             "#7fbc41"
            ],
            [
             0.9,
             "#4d9221"
            ],
            [
             1,
             "#276419"
            ]
           ],
           "sequential": [
            [
             0,
             "#0d0887"
            ],
            [
             0.1111111111111111,
             "#46039f"
            ],
            [
             0.2222222222222222,
             "#7201a8"
            ],
            [
             0.3333333333333333,
             "#9c179e"
            ],
            [
             0.4444444444444444,
             "#bd3786"
            ],
            [
             0.5555555555555556,
             "#d8576b"
            ],
            [
             0.6666666666666666,
             "#ed7953"
            ],
            [
             0.7777777777777778,
             "#fb9f3a"
            ],
            [
             0.8888888888888888,
             "#fdca26"
            ],
            [
             1,
             "#f0f921"
            ]
           ],
           "sequentialminus": [
            [
             0,
             "#0d0887"
            ],
            [
             0.1111111111111111,
             "#46039f"
            ],
            [
             0.2222222222222222,
             "#7201a8"
            ],
            [
             0.3333333333333333,
             "#9c179e"
            ],
            [
             0.4444444444444444,
             "#bd3786"
            ],
            [
             0.5555555555555556,
             "#d8576b"
            ],
            [
             0.6666666666666666,
             "#ed7953"
            ],
            [
             0.7777777777777778,
             "#fb9f3a"
            ],
            [
             0.8888888888888888,
             "#fdca26"
            ],
            [
             1,
             "#f0f921"
            ]
           ]
          },
          "colorway": [
           "#636efa",
           "#EF553B",
           "#00cc96",
           "#ab63fa",
           "#FFA15A",
           "#19d3f3",
           "#FF6692",
           "#B6E880",
           "#FF97FF",
           "#FECB52"
          ],
          "font": {
           "color": "#2a3f5f"
          },
          "geo": {
           "bgcolor": "white",
           "lakecolor": "white",
           "landcolor": "#E5ECF6",
           "showlakes": true,
           "showland": true,
           "subunitcolor": "white"
          },
          "hoverlabel": {
           "align": "left"
          },
          "hovermode": "closest",
          "mapbox": {
           "style": "light"
          },
          "paper_bgcolor": "white",
          "plot_bgcolor": "#E5ECF6",
          "polar": {
           "angularaxis": {
            "gridcolor": "white",
            "linecolor": "white",
            "ticks": ""
           },
           "bgcolor": "#E5ECF6",
           "radialaxis": {
            "gridcolor": "white",
            "linecolor": "white",
            "ticks": ""
           }
          },
          "scene": {
           "xaxis": {
            "backgroundcolor": "#E5ECF6",
            "gridcolor": "white",
            "gridwidth": 2,
            "linecolor": "white",
            "showbackground": true,
            "ticks": "",
            "zerolinecolor": "white"
           },
           "yaxis": {
            "backgroundcolor": "#E5ECF6",
            "gridcolor": "white",
            "gridwidth": 2,
            "linecolor": "white",
            "showbackground": true,
            "ticks": "",
            "zerolinecolor": "white"
           },
           "zaxis": {
            "backgroundcolor": "#E5ECF6",
            "gridcolor": "white",
            "gridwidth": 2,
            "linecolor": "white",
            "showbackground": true,
            "ticks": "",
            "zerolinecolor": "white"
           }
          },
          "shapedefaults": {
           "line": {
            "color": "#2a3f5f"
           }
          },
          "ternary": {
           "aaxis": {
            "gridcolor": "white",
            "linecolor": "white",
            "ticks": ""
           },
           "baxis": {
            "gridcolor": "white",
            "linecolor": "white",
            "ticks": ""
           },
           "bgcolor": "#E5ECF6",
           "caxis": {
            "gridcolor": "white",
            "linecolor": "white",
            "ticks": ""
           }
          },
          "title": {
           "x": 0.05
          },
          "xaxis": {
           "automargin": true,
           "gridcolor": "white",
           "linecolor": "white",
           "ticks": "",
           "title": {
            "standoff": 15
           },
           "zerolinecolor": "white",
           "zerolinewidth": 2
          },
          "yaxis": {
           "automargin": true,
           "gridcolor": "white",
           "linecolor": "white",
           "ticks": "",
           "title": {
            "standoff": 15
           },
           "zerolinecolor": "white",
           "zerolinewidth": 2
          }
         }
        },
        "xaxis": {
         "anchor": "y",
         "domain": [
          0,
          1
         ]
        },
        "yaxis": {
         "anchor": "x",
         "domain": [
          0,
          1
         ],
         "title": {
          "text": "المساحة"
         }
        }
       }
      }
     },
     "metadata": {},
     "output_type": "display_data"
    },
    {
     "name": "stderr",
     "output_type": "stream",
     "text": [
      "c:\\Users\\يزيد الجحدلي\\AppData\\Local\\Programs\\Python\\Python311\\Lib\\site-packages\\dtale\\column_analysis.py:511: FutureWarning:\n",
      "\n",
      "pandas.value_counts is deprecated and will be removed in a future version. Use pd.Series(obj).value_counts() instead.\n",
      "\n",
      "c:\\Users\\يزيد الجحدلي\\AppData\\Local\\Programs\\Python\\Python311\\Lib\\site-packages\\dtale\\column_analysis.py:402: FutureWarning:\n",
      "\n",
      "pandas.value_counts is deprecated and will be removed in a future version. Use pd.Series(obj).value_counts() instead.\n",
      "\n",
      "c:\\Users\\يزيد الجحدلي\\AppData\\Local\\Programs\\Python\\Python311\\Lib\\site-packages\\dtale\\column_analysis.py:402: FutureWarning:\n",
      "\n",
      "pandas.value_counts is deprecated and will be removed in a future version. Use pd.Series(obj).value_counts() instead.\n",
      "\n",
      "c:\\Users\\يزيد الجحدلي\\AppData\\Local\\Programs\\Python\\Python311\\Lib\\site-packages\\dtale\\column_analysis.py:402: FutureWarning:\n",
      "\n",
      "pandas.value_counts is deprecated and will be removed in a future version. Use pd.Series(obj).value_counts() instead.\n",
      "\n",
      "c:\\Users\\يزيد الجحدلي\\AppData\\Local\\Programs\\Python\\Python311\\Lib\\site-packages\\dtale\\column_analysis.py:402: FutureWarning:\n",
      "\n",
      "pandas.value_counts is deprecated and will be removed in a future version. Use pd.Series(obj).value_counts() instead.\n",
      "\n",
      "c:\\Users\\يزيد الجحدلي\\AppData\\Local\\Programs\\Python\\Python311\\Lib\\site-packages\\dtale\\column_analysis.py:402: FutureWarning:\n",
      "\n",
      "pandas.value_counts is deprecated and will be removed in a future version. Use pd.Series(obj).value_counts() instead.\n",
      "\n",
      "c:\\Users\\يزيد الجحدلي\\AppData\\Local\\Programs\\Python\\Python311\\Lib\\site-packages\\dtale\\column_analysis.py:402: FutureWarning:\n",
      "\n",
      "pandas.value_counts is deprecated and will be removed in a future version. Use pd.Series(obj).value_counts() instead.\n",
      "\n",
      "c:\\Users\\يزيد الجحدلي\\AppData\\Local\\Programs\\Python\\Python311\\Lib\\site-packages\\dtale\\column_analysis.py:402: FutureWarning:\n",
      "\n",
      "pandas.value_counts is deprecated and will be removed in a future version. Use pd.Series(obj).value_counts() instead.\n",
      "\n",
      "c:\\Users\\يزيد الجحدلي\\AppData\\Local\\Programs\\Python\\Python311\\Lib\\site-packages\\dtale\\column_analysis.py:511: FutureWarning:\n",
      "\n",
      "pandas.value_counts is deprecated and will be removed in a future version. Use pd.Series(obj).value_counts() instead.\n",
      "\n"
     ]
    }
   ],
   "source": [
    "landofriyad_filtered1 = landofriyad[landofriyad['المساحة'] <= 1820.75]\n",
    "\n",
    "price1 = px.box(landofriyad_filtered, y='المساحة')\n",
    "\n",
    "price1.show()"
   ]
  },
  {
   "cell_type": "markdown",
   "id": "bd2b5bc4-db37-4432-b666-0714afd0c4ca",
   "metadata": {},
   "source": [
    "## 1. Data Profiling:\n",
    "Data profiling is a comprehensive process of examining the data available in an existing dataset and collecting statistics and information about that data. "
   ]
  },
  {
   "cell_type": "code",
   "execution_count": null,
   "id": "672f2081-5a2c-4908-8cbd-29519fb3cac5",
   "metadata": {},
   "outputs": [],
   "source": []
  },
  {
   "cell_type": "markdown",
   "id": "834929aa-fd6a-4ec5-84d4-77c4b3c1a506",
   "metadata": {},
   "source": [
    "The process of profiling differs slightly for categorical and numerical variables due to their inherent differences.\n",
    "\n",
    "**The two main types of data are:**\n",
    "- Quantitative (numerical) data\n",
    "- Qualitative (categorical) data"
   ]
  },
  {
   "cell_type": "markdown",
   "id": "3a9954f5-6fbc-45b4-ad86-3e21b6e0ca2d",
   "metadata": {},
   "source": [
    "### Data Quality Checks\n",
    "Data quality checks involve the process of ensuring that the data is accurate, complete, consistent, relevant, and reliable. \n",
    "\n",
    "\n",
    "**Here are typical steps involved in checking data quality:**"
   ]
  },
  {
   "cell_type": "markdown",
   "id": "4818c876-173d-4e56-9e7d-b4334d2def25",
   "metadata": {},
   "source": [
    "#### 1. Reliability:\n",
    "Evaluate the data's source and collection process to determine its trustworthiness."
   ]
  },
  {
   "cell_type": "code",
   "execution_count": 58,
   "id": "9034ae7b-dc1d-4cba-8f9e-bb499d021cde",
   "metadata": {},
   "outputs": [],
   "source": []
  },
  {
   "cell_type": "markdown",
   "id": "2ce0cc59-8c92-4acc-8d07-c40764e1a86b",
   "metadata": {},
   "source": [
    "#### 2. Timeliness: \n",
    "Ensure the data is up-to-date and reflective of the current situation or the period of interest for the analysis."
   ]
  },
  {
   "cell_type": "code",
   "execution_count": null,
   "id": "4b78ae35-7226-4cb6-b8b2-a46c2ed17cf9",
   "metadata": {},
   "outputs": [],
   "source": []
  },
  {
   "cell_type": "markdown",
   "id": "7fab0fe2-6624-4615-b9d8-3c3669056bf8",
   "metadata": {},
   "source": [
    "#### 3. Consistency: \n",
    "\n",
    "Confirm that the data is consistent within the dataset and across multiple data sources. For example, the same data point should not have different values in different places.\n"
   ]
  },
  {
   "cell_type": "code",
   "execution_count": 59,
   "id": "7fecc573-959f-4800-8ddd-a67985c68b18",
   "metadata": {},
   "outputs": [],
   "source": []
  },
  {
   "cell_type": "markdown",
   "id": "bec3d183-bba0-4b12-b963-487daab1e876",
   "metadata": {},
   "source": [
    "#### 4. Relevance: \n",
    "Assess whether the data is appropriate and applicable for the intended analysis. Data that is not relevant can skew results and lead to incorrect conclusions.\n",
    "\n",
    "**Key considerations for relevance include:**\n",
    "\n",
    "> 1. Sample Appropriateness: Confirm that your data sample aligns with your analysis objectives. For instance, utilizing data from the Northern region will not yield accurate insights for the Western region of the Kingdom.\n",
    ">\n",
    "> 2. Variable Selection: Any column will not be relevant for our analysis, we can get rid of these using the drop() method. We will set the “axis” argument to 1 since we’re dealing with columns, and set the “inplace” argument to True to make the change permanent.\n"
   ]
  },
  {
   "cell_type": "code",
   "execution_count": null,
   "id": "50a934b7-a0cd-443f-8a27-f10e9a6e8647",
   "metadata": {
    "scrolled": true
   },
   "outputs": [],
   "source": []
  },
  {
   "cell_type": "markdown",
   "id": "0f5e3a2a-bbb7-4d06-8220-c93277b70146",
   "metadata": {},
   "source": [
    "#### 5. Uniqueness: \n",
    "Check for and remove duplicate records to prevent skewed analysis results.\n"
   ]
  },
  {
   "cell_type": "code",
   "execution_count": null,
   "id": "a509a7aa-58f4-4d39-8eb8-e8298a21f2a7",
   "metadata": {},
   "outputs": [],
   "source": []
  },
  {
   "cell_type": "code",
   "execution_count": 66,
   "id": "04c62559-3b48-48cf-a4e9-857e2e0ff416",
   "metadata": {},
   "outputs": [],
   "source": [
    "# go to delete duplicates columns"
   ]
  },
  {
   "cell_type": "markdown",
   "id": "c7724ac2-4ea2-4cf4-a9e0-e64368f87b92",
   "metadata": {},
   "source": [
    "#### 6. Completeness: \n",
    "Ensure that no critical data is missing. This might mean checking for null values or required fields that are empty.\n",
    "\n",
    "We will start by checking the dataset for missing or null values. For this, we can use the isna() method which returns a dataframe of boolean values indicating if a field is null or not. To group all missing values by column, we can include the sum() method."
   ]
  },
  {
   "cell_type": "code",
   "execution_count": 1,
   "id": "48a4de54-a344-4b94-9908-9528c15c13f7",
   "metadata": {},
   "outputs": [],
   "source": [
    "#Display number missing values per column"
   ]
  },
  {
   "cell_type": "code",
   "execution_count": 68,
   "id": "abec31c4-0904-4b73-8cee-b7bc14ab1e67",
   "metadata": {},
   "outputs": [],
   "source": [
    "# go to clean them "
   ]
  },
  {
   "cell_type": "markdown",
   "id": "b40de63c-5a1d-49ed-a87e-c5229ee08bbe",
   "metadata": {},
   "source": [
    "#### 7. Check Accuracy:\n",
    "\n",
    "Verify that the data is correct and precise. This could involve comparing data samples with known sources or using validation rules.\n",
    "\n",
    "**The process includes:**\n",
    "1. Validating the appropriateness of data types for the dataset.\n",
    "2. Identifying outliers  using established validation  rule"
   ]
  },
  {
   "cell_type": "code",
   "execution_count": 2,
   "id": "68be5334-ae10-4abd-8097-3259fe5e72c8",
   "metadata": {},
   "outputs": [],
   "source": [
    "# check columns types "
   ]
  },
  {
   "cell_type": "code",
   "execution_count": 33,
   "id": "2ee790ba-dcc0-45f1-b6f8-0133e913e149",
   "metadata": {},
   "outputs": [],
   "source": [
    "# go to clean them "
   ]
  },
  {
   "cell_type": "code",
   "execution_count": 3,
   "id": "c69b303a-5459-45f9-a28e-fcee45c21c05",
   "metadata": {},
   "outputs": [],
   "source": [
    "# check outliers "
   ]
  },
  {
   "cell_type": "markdown",
   "id": "4aca9d42-add6-45db-92cf-1f6dae5f277b",
   "metadata": {},
   "source": [
    "**What is an Outlier?** \n",
    "Outlier is an row/observation that appears far away and diverges from an overall pattern in a sample.\n",
    "\n",
    "**What are the types of Outliers?**\n",
    "1. Univariate: These outliers can be found when we look at distribution of a single variable\n",
    "2. Multivariate: are outliers in an n-dimensional space. In order to find them, you have to look at distributions in multi-dimensions. example (hight=100, weight=100) for a person\n",
    "\n",
    "**What causes Outliers?**\n",
    "Whenever we come across outliers, the ideal way to tackle them is to find out the reason of having these outliers. The method to deal with them would then depend on the reason of their occurrence.\n",
    "\n",
    "Let’s understand various types of outliers:\n",
    "\n",
    "1. Data Entry Errors:- Human errors such as errors caused during data collection, recording, or entry can cause outliers in data.\n",
    "2. Measurement Error: It is the most common source of outliers. This is caused when the measurement instrument used turns out to be faulty.\n",
    "3. Data Processing Error: Whenever we perform data mining, we extract data from multiple sources. It is possible that some manipulation or extraction errors may lead to outliers in the dataset.\n",
    "4. Sampling error: For instance, we have to measure the height of athletes. By mistake, we include a few basketball players in the sample. This inclusion is likely to cause outliers in the dataset.\n",
    "5. Natural Outlier: When an outlier is not artificial (due to error), it is a natural outlier. For instance: In my last assignment with one of the renowned insurance company, I noticed that the performance of top 50 financial advisors was far higher than rest of the population. Surprisingly, it was not due to any error. Hence, whenever we perform any data mining activity with advisors, we used to treat this segment separately.\n",
    "\n",
    "\n",
    "**What is the impact of Outliers on a dataset?**\n",
    "\n",
    "\n",
    "![image.png](https://www.analyticsvidhya.com/wp-content/uploads/2015/02/Outlier_31.png)\n",
    "\n",
    "\n",
    "\n",
    "**How to detect Outliers?**\n",
    "\n",
    "1. Most commonly used method to detect outliers is visualization (Univariate Graphical Analysis).\n",
    "\n",
    "We use 3 common visualization methods:\n",
    ">- Box-plot: A box plot is a method for graphically depicting groups of numerical data through their quartiles. The box extends from the Q1 to Q3 quartile values of the data, with a line at the median (Q2). The whiskers extend from the edges of the box to show the range of the data. Outlier points are those past the end of the whiskers. Box plots show robust measures of location and spread as well as providing information about symmetry and outliers.\n",
    ">\n",
    ">  \n",
    ">![image.png](https://miro.medium.com/v2/resize:fit:698/format:webp/1*VK5iHA2AB28HSZwWwUbNYg.png)\n",
    ">\n",
    ">\n",
    ">- Histogram\n",
    ">- Scatter Plot: A scatter plot is a mathematical diagram using Cartesian coordinates to display values for two variables for a set of data. The data are displayed as a collection of points, each having the value of one variable determining the position on the horizontal axis and the value of the other variable determining the position on the vertical axis. The points that are far from the population can be termed as an outlier.\n",
    ">\n",
    ">  \n",
    ">![image.png](https://miro.medium.com/v2/resize:fit:4800/format:webp/1*Ov6aH-8yIwNoUxtMFwgx4g.png)\n",
    ">\n",
    ">\n",
    "\n",
    "2. Using statistical method (Univariate Non-Graphical analysis):\n",
    ">- Any value, which is beyond the range of -1.5 x IQR to 1.5 x IQR\n",
    " \n",
    "![image.png](https://www.whatissixsigma.net/wp-content/uploads/2015/07/Box-Plot-Diagram-to-identify-Outliers-figure-1.png)\n",
    "\n",
    ">- Use capping methods. Any value which out of range of 5th and 95th percentile can be considered as outlier\n",
    ">- Data points, three or more standard deviation away from mean are considered outlier: The Z-score is the signed number of standard deviations by which the value of an observation or data point is above the mean value of what is being observed or measured. While calculating the Z-score we re-scale and center the data and look for data points that are too far from zero. These data points which are way too far from zero will be treated as the outliers. In most of the cases, a threshold of 3 or -3 is used i.e if the Z-score value is greater than or less than 3 or -3 respectively, that data point will be identified as outliers.\n",
    "> - Outlier detection is merely a special case of the examination of data for influential data points and it also depends on the business understanding\n"
   ]
  },
  {
   "cell_type": "code",
   "execution_count": 23,
   "id": "74ea6194-cc01-45d8-be38-c4543eb1714e",
   "metadata": {},
   "outputs": [],
   "source": [
    "# go to univariate graphical analysis\n",
    "# go to lesson : data visualisation 1 - chart type section\n",
    "# then go to univariate graphical analysis\n",
    "# detect outliers using graphs varbaly"
   ]
  },
  {
   "cell_type": "code",
   "execution_count": 24,
   "id": "48ecf77b-480c-4f64-9485-95be805bc357",
   "metadata": {},
   "outputs": [],
   "source": [
    "# go to lesson: statistics 1 then statistics 3\n",
    "# then go to univariate Non graphical analysis\n",
    "# detect outliers using numerical statistics "
   ]
  },
  {
   "cell_type": "code",
   "execution_count": null,
   "id": "ee200da8-62b0-492d-b118-f4d665a1fb16",
   "metadata": {},
   "outputs": [],
   "source": []
  },
  {
   "cell_type": "code",
   "execution_count": 25,
   "id": "4e66d611-6958-4860-8522-9ada7fce40b0",
   "metadata": {},
   "outputs": [],
   "source": [
    "# go to delete ouliers"
   ]
  },
  {
   "attachments": {},
   "cell_type": "markdown",
   "id": "4e886ec7-388c-414b-ada7-803c2fb1f2cb",
   "metadata": {},
   "source": [
    "## 2. Data Cleaning: \n",
    "\n",
    "Preliminary findings from data profiling can lead to cleaning the data by:\n",
    "- Handling missing values\n",
    "- Correcting errors.\n",
    "- Dealing with outliers.\n",
    "\n",
    "-------------------\n",
    "\n"
   ]
  },
  {
   "cell_type": "markdown",
   "id": "21876b48-f5ec-4970-85a9-0520d45d8841",
   "metadata": {},
   "source": [
    "### Handling missing values:"
   ]
  },
  {
   "cell_type": "markdown",
   "id": "c890d5a2-2a65-4090-9427-f89c0f011d3f",
   "metadata": {},
   "source": [
    "**Why my data has missing values?**\n",
    "They may occur at two stages:\n",
    "1. Data Extraction: It is possible that there are problems with extraction process. Errors at data extraction stage are typically easy to find and can be corrected easily as well.\n",
    "2. Data collection: These errors occur at time of data collection and are harder to correct.\n",
    "\n",
    "**Why do we need to handle the missing data?**\n",
    "To avoid:\n",
    "- Bias the conclusions.\n",
    "- Leading the business to make wrong decisions.\n",
    "\n",
    "**Which are the methods to treat missing values ?**\n",
    "1. Deletion: we delete rows where any of the variable is missing. Simplicity is one of the major advantage of this method, but this method reduces the power of model because it reduces the sample size.\n",
    "\n",
    "2. Imputation: is a method to fill in the missing values with estimated ones. This imputation is one of the most frequently used methods.\n",
    "\n",
    "    2.1. Mean/ Mode/ Median Imputation: It consists of replacing the missing data for a given attribute by the mean or median (quantitative attribute) or mode (qualitative attribute) of all known values of that variable.\n",
    "    > It can be of two types:\n",
    "    > - Generalized Imputation: In this case, we calculate the mean or median for all non missing values of that variable then replace missing value with mean or median.\n",
    "    > - Similar case Imputation: In this case, we calculate average for each group individually of non missing values then replace the missing value based on the group.\n",
    "\n",
    "    2.2. Constant Value\n",
    "   \n",
    "    2.3. Forward Filling\n",
    "   \n",
    "    2.4. Backward Filling\n",
    "\n",
    "6. Prediction Model:  Prediction model is one of the sophisticated method for handling missing data. Here, we create a predictive model to estimate values that will substitute the missing data.  In this case, we divide our data set into two sets: One set with no missing values for the variable and another one with missing values. First data set become training data set of the model while second data set with missing values is test data set and variable with missing values is treated as target variable. Next, we create a model to predict target variable based on other attributes of the training data set and populate missing values of test data set.\n",
    "\n",
    "> There are 2 drawbacks for this approach:\n",
    "> - The model estimated values are usually more well-behaved than the true values\n",
    "> - If there are no relationships with attributes in the data set and the attribute with missing values, then the model will not be precise for estimating missing values.\n",
    "\n",
    "9. KNN Imputation: In this method of imputation, the missing values of an attribute are imputed using the given number of attributes that are most similar to the attribute whose values are missing. The similarity of two attributes is determined using a distance function. It is also known to have certain advantage & disadvantages.\n",
    "\n",
    "   > **Advantages:**\n",
    "   > - k-nearest neighbour can predict both qualitative & quantitative attributes\n",
    "   > - Creation of predictive model for each attribute with missing data is not required\n",
    "   > - Attributes with multiple missing values can be easily treated\n",
    "   > - Correlation structure of the data is taken into consideration\n",
    "\n",
    "   > **Disadvantage:**\n",
    "   > - KNN algorithm is very time-consuming in analyzing large database. It searches through all the dataset looking for the most similar instances.\n",
    "   > - Choice of k-value is very critical. Higher value of k would include attributes which are significantly different from what we need whereas lower value of k implies missing out of significant attributes.\n",
    "\n",
    "--------------------\n"
   ]
  },
  {
   "cell_type": "code",
   "execution_count": null,
   "id": "57e741fb-71c1-46ad-a526-d8f0b1564dc3",
   "metadata": {},
   "outputs": [],
   "source": []
  },
  {
   "cell_type": "code",
   "execution_count": 80,
   "id": "01287962-8077-4c01-8d1d-5f8aed6cb37a",
   "metadata": {},
   "outputs": [],
   "source": [
    "# go back to 6th dimention --> Completeness"
   ]
  },
  {
   "cell_type": "markdown",
   "id": "f7cee10f-0af8-44e5-b595-8e965294daad",
   "metadata": {},
   "source": [
    "### Correcting errors\n",
    "\n",
    "-------------------"
   ]
  },
  {
   "cell_type": "code",
   "execution_count": null,
   "id": "06273b88-a169-42e8-81f5-5d71cb3f9c21",
   "metadata": {},
   "outputs": [],
   "source": []
  },
  {
   "cell_type": "code",
   "execution_count": null,
   "id": "f1d95da5-a3ba-473a-8243-aa177cadae20",
   "metadata": {},
   "outputs": [],
   "source": [
    "# go back to 7th dimension Accuracy "
   ]
  },
  {
   "cell_type": "markdown",
   "id": "5ecc7dbb-6867-44cf-8f99-1b969a80be40",
   "metadata": {},
   "source": [
    "### Dealing with outliers:"
   ]
  },
  {
   "attachments": {},
   "cell_type": "markdown",
   "id": "88347887-4bdf-48af-9486-cb8fe80c97af",
   "metadata": {},
   "source": [
    "**How to remove Outliers?**\n",
    "Most of the ways to deal with outliers are similar to the methods of missing values like deleting rows, transforming them, binning them, treat them as a separate group, imputing values and other statistical methods. Here, we will discuss the common techniques used to deal with outliers:\n",
    "\n",
    "1. Deleting rows: We delete outlier values if it is due to data entry error, data processing error or outlier rows are very small in numbers. We can also use trimming at both ends to remove outliers.\n",
    "\n",
    "2. Imputing: Like imputation of missing values, we can also impute outliers. We can use mean, median, mode imputation methods. Before imputing values, we should analyse if it is natural outlier or artificial. If it is artificial, we can go with imputing values. We can also use statistical model to predict values of outlier rows and after that we can impute it with predicted values.\n",
    "\n",
    "3. Treat separately: If there are significant number of outliers, we should treat them separately in the statistical model. One of the approach is to treat both groups as two different groups and build individual model for both groups and then combine the output.\n"
   ]
  },
  {
   "cell_type": "code",
   "execution_count": null,
   "id": "25a585f0-2b9c-42fa-bf21-cacc6aa3be3f",
   "metadata": {},
   "outputs": [],
   "source": []
  },
  {
   "cell_type": "markdown",
   "id": "98548b66-e309-4eb8-a5dc-65fe0abbf1e8",
   "metadata": {},
   "source": [
    "## 3. Univariate Analysis: \n",
    "\n",
    "This involves examining single variables to understand their characteristics (distribution, central tendency, dispersion, and shape).\n",
    "\n",
    "We calculate **numerical values** about the data that tells us about the distribution of the data. We also **draw graphs** showing visually how the data is distributed. **To answer the following questions about Features/characteristics of Data:**\n",
    "- Where is the center of the data? (location)\n",
    "- How much does the data vary? (scale)\n",
    "- What is the shape of the data? (shape)\n",
    "\n",
    "**The benefits of this analysis:**\n",
    "Statistics summary gives a high-level idea to identify whether the data has any outliers, data entry error, distribution of data such as the data is normally distributed or left/right skewed\n",
    "\n",
    "**In this step, we will explore variables one by one using following approaches:**"
   ]
  },
  {
   "cell_type": "markdown",
   "id": "d6718111-7ac2-4fff-9851-654655b62e0b",
   "metadata": {},
   "source": [
    "### 1. Univariate Graphical Analysis:\n",
    "Method to perform uni-variate analysis will depend on whether the variable type is categorical or numerical."
   ]
  },
  {
   "cell_type": "code",
   "execution_count": null,
   "id": "db79d803-b75c-4686-a623-e8420321a90f",
   "metadata": {},
   "outputs": [],
   "source": []
  },
  {
   "cell_type": "markdown",
   "id": "0d57c4b9-9bb3-494d-85dd-b8d39afda139",
   "metadata": {},
   "source": [
    "#### I. Categorical Variables:\n",
    "\n",
    "we’ll use frequency table to understand distribution of each category\n",
    "- Bar Chart (Ordinal) - Orderd\n",
    "- Pie Chart (Nominal) - non Orderd"
   ]
  },
  {
   "cell_type": "code",
   "execution_count": null,
   "id": "72ece4b7-5508-403a-8fb0-f519fc74272a",
   "metadata": {},
   "outputs": [],
   "source": []
  },
  {
   "cell_type": "markdown",
   "id": "d2641f0d-80f2-493b-99b7-15476379a1e2",
   "metadata": {},
   "source": [
    "#### II. Numerical Variables:\n",
    "\n",
    "we need to understand the central tendency and spread of the variable (Descriptive Analysis) using:\n",
    "   - Box plot\n",
    "   - Histogram"
   ]
  },
  {
   "cell_type": "code",
   "execution_count": null,
   "id": "5be16f08-a072-4a02-a3ee-6f9d57786fb4",
   "metadata": {},
   "outputs": [],
   "source": []
  },
  {
   "cell_type": "markdown",
   "id": "d66677d3-44ad-414f-9b39-f9c1995ad043",
   "metadata": {},
   "source": [
    "### 2. Univariate Non-Graphical analysis: \n",
    "\n",
    "- Where is the center of the data? (location) --> **Measures of central tendency**\n",
    "- How much does the data vary? (scale) --> **Measure of variability**\n",
    "- What is the shape of the data? (shape) --> **Measures of variation combined with an average (measure of center) gives a good picture of the distribution of the data.**"
   ]
  },
  {
   "cell_type": "code",
   "execution_count": null,
   "id": "f1058d84-e61e-4f5b-b66a-29931e77821b",
   "metadata": {},
   "outputs": [],
   "source": []
  },
  {
   "cell_type": "markdown",
   "id": "f09bb809-0edd-432b-bf23-abd0840b3e16",
   "metadata": {},
   "source": [
    "## 4. Bivariate/Multivariate Analysis:\n",
    "\n",
    "Here, you look at the relationships between two or more variables. This can involve looking for correlations, patterns, and trends that suggest a relationship or an association.\n",
    "\n",
    "We can perform bi-variate analysis for any combination of categorical and numerical variables. The combination can be:\n",
    "| bi-variate variables   | Plot type |\n",
    "| ------------- | ------------- |\n",
    "| Categorical & Categorical| Stacked Bar Chart |\n",
    "| Categorical & numerical  | scatter plot, histogram, box plot|\n",
    "| numerical  & numerical  | Scatter plot, line chart| \n",
    "\n",
    "\n",
    "Multivariate Analysis:\n",
    "- Heat map\n",
    "- Bar Chart\n",
    "- Scatter Chart\n",
    "- Line Chart"
   ]
  },
  {
   "cell_type": "markdown",
   "id": "838f2864-ce9e-4f15-99c8-052d053154a7",
   "metadata": {},
   "source": [
    "**Categorical & Categorical --> (Stacked Column Chart)**"
   ]
  },
  {
   "cell_type": "code",
   "execution_count": null,
   "id": "73f9f2ac-8477-49ea-9c68-4fe44d4395b6",
   "metadata": {},
   "outputs": [],
   "source": []
  },
  {
   "cell_type": "markdown",
   "id": "730e088f-fe13-40da-8fbb-686f5135fa4d",
   "metadata": {},
   "source": [
    "**Categorical & numerical --> (scatter plot, histogram, box plot)**"
   ]
  },
  {
   "cell_type": "code",
   "execution_count": null,
   "id": "3590e345-2051-4215-91ac-07d196b510ef",
   "metadata": {},
   "outputs": [],
   "source": []
  },
  {
   "cell_type": "markdown",
   "id": "20aed48d-b78e-46da-963f-e7f15e2f4dc7",
   "metadata": {},
   "source": [
    "**numerical & numerical --> (Scatter plot, line chart)**"
   ]
  },
  {
   "cell_type": "code",
   "execution_count": null,
   "id": "41023177-01cb-4f39-a750-12be71b13bda",
   "metadata": {},
   "outputs": [],
   "source": []
  },
  {
   "cell_type": "markdown",
   "id": "efb43b30-b1f0-48a4-a19c-195810cc8a0f",
   "metadata": {},
   "source": [
    "We could also use a correlation matrix to get more specific information about the relationship between these two variables."
   ]
  },
  {
   "cell_type": "code",
   "execution_count": null,
   "id": "8406f58f-b825-4a15-8f6e-c68ca66bd483",
   "metadata": {},
   "outputs": [],
   "source": []
  }
 ],
 "metadata": {
  "kernelspec": {
   "display_name": "Python 3",
   "language": "python",
   "name": "python3"
  },
  "language_info": {
   "codemirror_mode": {
    "name": "ipython",
    "version": 3
   },
   "file_extension": ".py",
   "mimetype": "text/x-python",
   "name": "python",
   "nbconvert_exporter": "python",
   "pygments_lexer": "ipython3",
   "version": "3.11.1"
  }
 },
 "nbformat": 4,
 "nbformat_minor": 5
}
